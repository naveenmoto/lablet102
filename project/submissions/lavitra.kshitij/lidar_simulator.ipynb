{
  "nbformat": 4,
  "nbformat_minor": 0,
  "metadata": {
    "kernelspec": {
      "display_name": "Python 3",
      "language": "python",
      "name": "python3"
    },
    "language_info": {
      "codemirror_mode": {
        "name": "ipython",
        "version": 3
      },
      "file_extension": ".py",
      "mimetype": "text/x-python",
      "name": "python",
      "nbconvert_exporter": "python",
      "pygments_lexer": "ipython3",
      "version": "3.9.1"
    },
    "varInspector": {
      "cols": {
        "lenName": 16,
        "lenType": 16,
        "lenVar": 40
      },
      "kernels_config": {
        "python": {
          "delete_cmd_postfix": "",
          "delete_cmd_prefix": "del ",
          "library": "var_list.py",
          "varRefreshCmd": "print(var_dic_list())"
        },
        "r": {
          "delete_cmd_postfix": ") ",
          "delete_cmd_prefix": "rm(",
          "library": "var_list.r",
          "varRefreshCmd": "cat(var_dic_list()) "
        }
      },
      "types_to_exclude": [
        "module",
        "function",
        "builtin_function_or_method",
        "instance",
        "_Feature"
      ],
      "window_display": true
    },
    "colab": {
      "name": "lidar_simulator.ipynb",
      "provenance": []
    }
  },
  "cells": [
    {
      "cell_type": "code",
      "metadata": {
        "id": "EbgdSZl8epfJ"
      },
      "source": [
        "import numpy as np\n",
        "import matplotlib.pyplot as plt"
      ],
      "execution_count": null,
      "outputs": []
    },
    {
      "cell_type": "markdown",
      "metadata": {
        "id": "C8leNfOYepfN"
      },
      "source": [
        "### Lidar sensor"
      ]
    },
    {
      "cell_type": "code",
      "metadata": {
        "id": "T6gd4Au0epfP"
      },
      "source": [
        "class Lidar(object):\n",
        "    def __init__(self, nbeams=7, fov=60, max_dist=5.0, sampling_pts=20):\n",
        "        #nbeams = number of sensing beams\n",
        "        #FOV = field-of-view of Lidar/ coverage in degrees\n",
        "        #max_dist = maximum distance Lidar can sense\n",
        "        #sampling_pts = num pts on a given beam for obstacle check\n",
        "        self.beam_angles = np.deg2rad(np.linspace(-fov/2+np.pi/2,fov/2+np.pi/2,num=nbeams))\n",
        "        self.line_sampler = max_dist * np.linspace(0, 1, num=sampling_pts)\n",
        "    \n",
        "    def set_env(self, grid, grid_res=0.05):\n",
        "        #2-D occupancy grid and grid_resolution\n",
        "        self.grid = grid\n",
        "        self.grid_res = grid_res\n",
        "    \n",
        "    def sense_obstacles(self, pose):\n",
        "        xc, yc, theta = pose\n",
        "        beam_data = []\n",
        "        for b in self.beam_angles:\n",
        "            direction = np.array([np.cos(theta+b), np.sin(theta+b)])\n",
        "            for d in self.line_sampler:\n",
        "                beam_x, beam_y = np.array([xc, yc]) + d * direction\n",
        "                i, j = int(beam_x/self.grid_res), int(beam_y/self.grid_res)\n",
        "                if self.grid[i][j] == 1:\n",
        "                    break\n",
        "            beam_data.append(d)\n",
        "        return beam_data"
      ],
      "execution_count": null,
      "outputs": []
    },
    {
      "cell_type": "markdown",
      "metadata": {
        "id": "sdc0iGJGepfQ"
      },
      "source": [
        "### Load grid data"
      ]
    },
    {
      "cell_type": "code",
      "metadata": {
        "id": "d-hrgpJ_epfR"
      },
      "source": [
        "#custom grid\n",
        "#choose resolution and dimensions\n",
        "grid_res = 0.05\n",
        "grid_span =  50 # square circuit dimensions in m\n",
        "\n",
        "#calculate grid_shape from grid\n",
        "# dimensions have to be integers\n",
        "grid_shape = (np.array([grid_span]*2)/grid_res).astype('int')\n",
        "#Initialize \n",
        "grid_data = np.zeros(grid_shape)\n",
        "\n",
        "#Create rectangular obstacles in world co-ordinates\n",
        "#xmin, xmax, ymin, ymax\n",
        "obstacles = np.array([[25, 26, 10, 40],\n",
        "                       [2, 8, 16, 20]]) \n",
        "for obs in obstacles:\n",
        "    # calculate obstacles extent in pixel coords\n",
        "    xmin, xmax, ymin, ymax = (obs/grid_res).astype('int')\n",
        "    # mark them as occupied\n",
        "    grid_data[xmin:xmax ,ymin:ymax ] = 1.0"
      ],
      "execution_count": null,
      "outputs": []
    },
    {
      "cell_type": "markdown",
      "metadata": {
        "id": "twD1v6uCepfS"
      },
      "source": [
        "### Testing and plotting"
      ]
    },
    {
      "cell_type": "code",
      "metadata": {
        "id": "GmZujYD4epfT",
        "outputId": "fbe81601-265e-4d59-8669-74ea109c3f4b"
      },
      "source": [
        "curr_pose = (10, 12, np.pi/2)\n",
        "lidar = Lidar(max_dist=10.0)\n",
        "lidar.set_env(grid_data)\n",
        "dist = lidar.sense_obstacles(pose=curr_pose)\n",
        "print(f\"Beam distances are {dist}\")"
      ],
      "execution_count": null,
      "outputs": [
        {
          "output_type": "stream",
          "text": [
            "Beam distances are [10.0, 10.0, 10.0, 10.0, 10.0, 5.7894736842105265, 4.7368421052631575]\n"
          ],
          "name": "stdout"
        }
      ]
    },
    {
      "cell_type": "code",
      "metadata": {
        "id": "95gCwZDVepfX",
        "outputId": "7f91db65-08b6-459c-f348-fc404d57b898"
      },
      "source": [
        "#calculate the extents    \n",
        "x1, y1 = 0, 0\n",
        "x2, y2 = grid_span, grid_span\n",
        "plt.figure()\n",
        "plt.imshow(1-grid_data.T, origin='lower', cmap=plt.cm.gray, extent=[x1,x2,y1,y2] )\n",
        "x, y, theta = curr_pose\n",
        "for b, tprime in zip(dist, lidar.beam_angles):\n",
        "    t = tprime+theta\n",
        "    plt.plot((x, x+b*np.cos(t)),(y, y+b*np.sin(t)),'r-')"
      ],
      "execution_count": null,
      "outputs": [
        {
          "output_type": "display_data",
          "data": {
            "image/png": "[encoded data removed]",
            "text/plain": [
              "<Figure size 432x288 with 1 Axes>"
            ]
          },
          "metadata": {
            "tags": [],
            "needs_background": "light"
          }
        }
      ]
    },
    {
      "cell_type": "code",
      "metadata": {
        "id": "ma322URBepfY"
      },
      "source": [
        ""
      ],
      "execution_count": null,
      "outputs": []
    }
  ]
}