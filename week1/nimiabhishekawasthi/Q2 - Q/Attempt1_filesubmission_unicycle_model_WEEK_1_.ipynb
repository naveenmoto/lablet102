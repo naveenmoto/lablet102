{
  "nbformat": 4,
  "nbformat_minor": 0,
  "metadata": {
    "colab": {
      "name": "week1.ipynb",
      "provenance": []
    },
    "kernelspec": {
      "name": "python3",
      "display_name": "Python 3"
    },
    "language_info": {
      "name": "python"
    }
  },
  "cells": [
    {
      "cell_type": "code",
      "metadata": {
        "id": "BZB5kaDXSEcf"
      },
      "source": [
        "import pandas as pd\n",
        "import numpy as np\n",
        "import matplotlib.pyplot as plt\n",
        "%matplotlib notebook\n",
        "import doctest\n",
        "import copy"
      ],
      "execution_count": 1,
      "outputs": []
    },
    {
      "cell_type": "code",
      "metadata": {
        "id": "NIxVBKEhSHP2"
      },
      "source": [
        "#https://stackoverflow.com/questions/40137950/possible-to-run-python-doctest-on-a-jupyter-cell-function\n",
        "def test(func):\n",
        "    '''\n",
        "    Use test as a decorator to a function with doctests in Jupyter notebook. \n",
        "    Run the cell to see the results of the doctests.\n",
        "    '''\n",
        "    globs = copy.copy(globals())\n",
        "    globs.update({func.__name__:func})\n",
        "    doctest.run_docstring_examples(func, globs, verbose=True, name=func.__name__)\n",
        "    return func"
      ],
      "execution_count": 2,
      "outputs": []
    },
    {
      "cell_type": "code",
      "metadata": {
        "colab": {
          "base_uri": "https://localhost:8080/"
        },
        "id": "77KS2lVQSOAx",
        "outputId": "ce3f06be-97aa-4844-eb0e-f82a8f910f7c"
      },
      "source": [
        "@test \n",
        "def unicycle_model(curr_pose, v, w, dt=1.0):\n",
        "    '''\n",
        "    >>> unicycle_model((0.0,0.0,0.0), 1.0, 0.0)\n",
        "    (1.0, 0.0, 0.0)\n",
        "    >>> unicycle_model((0.0,0.0,0.0), 0.0, 1.0)\n",
        "    (0.0, 0.0, 1.0)\n",
        "    >>> unicycle_model((0.0, 0.0, 0.0), 1.0, 1.0)\n",
        "    (1.0, 0.0, 1.0)\n",
        "    '''\n",
        "    ## write code to calculate next_pose\n",
        "    # refer to the kinematic equations of a unicycle model\n",
        "    x, y, theta = curr_pose\n",
        "    x += v*np.cos(theta)*dt\n",
        "    y += v*np.sin(theta)*dt\n",
        "    theta += w*dt\n",
        "    \n",
        "    # Keep theta bounded between [-pi, pi]\n",
        "    theta = np.arctan2(np.sin(theta), np.cos(theta))\n",
        "    # return calculated (x, y, theta)\n",
        "    return x, y, theta"
      ],
      "execution_count": 3,
      "outputs": [
        {
          "output_type": "stream",
          "text": [
            "\n",
            "PYDEV DEBUGGER WARNING:\n",
            "sys.settrace() should not be used when the debugger is being used.\n",
            "This may cause the debugger to stop working correctly.\n",
            "If this is needed, please check: \n",
            "http://pydev.blogspot.com/2007/06/why-cant-pydev-debugger-work-with.html\n",
            "to see how to restore the debug tracing back correctly.\n",
            "Call Location:\n",
            "  File \"/usr/lib/python3.7/doctest.py\", line 1487, in run\n",
            "    sys.settrace(save_trace)\n",
            "\n"
          ],
          "name": "stderr"
        },
        {
          "output_type": "stream",
          "text": [
            "Finding tests in unicycle_model\n",
            "Trying:\n",
            "    unicycle_model((0.0,0.0,0.0), 1.0, 0.0)\n",
            "Expecting:\n",
            "    (1.0, 0.0, 0.0)\n",
            "ok\n",
            "Trying:\n",
            "    unicycle_model((0.0,0.0,0.0), 0.0, 1.0)\n",
            "Expecting:\n",
            "    (0.0, 0.0, 1.0)\n",
            "ok\n",
            "Trying:\n",
            "    unicycle_model((0.0, 0.0, 0.0), 1.0, 1.0)\n",
            "Expecting:\n",
            "    (1.0, 0.0, 1.0)\n",
            "ok\n"
          ],
          "name": "stdout"
        }
      ]
    },
    {
      "cell_type": "code",
      "metadata": {
        "id": "AmCD9N47SQuN"
      },
      "source": [
        "#straight line\n",
        "straight_trajectory = []\n",
        "pose = (0, 0, np.pi/2)\n",
        "steps = 10\n",
        "#fill in v and omega values\n",
        "all_v = np.ones(steps)\n",
        "all_w = np.zeros(steps)\n",
        "for v, w in zip(all_v, all_w):\n",
        "  straight_trajectory.append(pose)\n",
        "  #instruction to take v, w and compute new pose    \n",
        "  pose = unicycle_model(pose, v, w)\n",
        "straight_trajectory = np.array(straight_trajectory)"
      ],
      "execution_count": 4,
      "outputs": []
    },
    {
      "cell_type": "code",
      "metadata": {
        "colab": {
          "base_uri": "https://localhost:8080/",
          "height": 282
        },
        "id": "dzQZgl0uSTgq",
        "outputId": "08d1060d-d6d3-44a4-8a01-a0f9d46918d2"
      },
      "source": [
        "plt.figure()\n",
        "plt.axes().set_aspect(\"equal\",\"datalim\")\n",
        "plt.plot(straight_trajectory[:,0], straight_trajectory[:,1])"
      ],
      "execution_count": 5,
      "outputs": [
        {
          "output_type": "execute_result",
          "data": {
            "text/plain": [
              "[<matplotlib.lines.Line2D at 0x7f56880f4bd0>]"
            ]
          },
          "metadata": {
            "tags": []
          },
          "execution_count": 5
        },
        {
          "output_type": "display_data",
          "data": {
            "image/png": "[encoded data removed]",
            "text/plain": [
              "<Figure size 432x288 with 1 Axes>"
            ]
          },
          "metadata": {
            "tags": [],
            "needs_background": "light"
          }
        }
      ]
    },
    {
      "cell_type": "code",
      "metadata": {
        "id": "euY1b_AVSqd3"
      },
      "source": [
        "circular_trajectory = []\n",
        "pose = (0, 0, np.pi/2)\n",
        "steps = 10\n",
        "#fill in v and omega values\n",
        "all_v = np.ones(steps*100)\n",
        "all_w = np.ones(steps*100)\n",
        "for v, w in zip(all_v, all_w):\n",
        "   # store pose\n",
        "   circular_trajectory.append(pose)\n",
        "   #instruction to take v, w and compute new pose    \n",
        "   pose = unicycle_model(pose, v, w, 0.1)\n",
        "circular_trajectory = np.array(circular_trajectory)"
      ],
      "execution_count": 6,
      "outputs": []
    },
    {
      "cell_type": "code",
      "metadata": {
        "colab": {
          "base_uri": "https://localhost:8080/",
          "height": 282
        },
        "id": "KbvXER-bTDbs",
        "outputId": "598b9f11-71d5-4bed-e919-22fafc907037"
      },
      "source": [
        "### Plot straight and circular trajectories\n",
        "# plt.figure()\n",
        "# plt.axes().set_aspect(\"equal\",\"datalim\")\n",
        "# plt.plot(straight_trajectory[:,0], straight_trajectory[:,1])\n",
        "\n",
        "### Plot straight and circular trajectories\n",
        "plt.figure()\n",
        "plt.axes().set_aspect(\"equal\",\"datalim\")\n",
        "plt.plot(circular_trajectory[:,0], circular_trajectory[:,1])"
      ],
      "execution_count": 7,
      "outputs": [
        {
          "output_type": "execute_result",
          "data": {
            "text/plain": [
              "[<matplotlib.lines.Line2D at 0x7f5687ff7ad0>]"
            ]
          },
          "metadata": {
            "tags": []
          },
          "execution_count": 7
        },
        {
          "output_type": "display_data",
          "data": {
            "image/png": "[encoded data removed]",
            "text/plain": [
              "<Figure size 432x288 with 1 Axes>"
            ]
          },
          "metadata": {
            "tags": [],
            "needs_background": "light"
          }
        }
      ]
    },
    {
      "cell_type": "markdown",
      "metadata": {
        "id": "awW009gNaW6-"
      },
      "source": [
        "### Simulate Unicycle model with Open Loop control\n",
        "\n",
        "We want the robot to follow these instructions\n",
        "\n",
        "**straight 10m, right turn, straight 5m, left turn, straight 8m, right turn**\n",
        "\n",
        "It is in open loop; control commands have to be calculated upfront. How do we do it?\n",
        "\n",
        "To keep things simple in the first iteration, we can fix $v = v_c$ and change only $\\omega$. To make it even simpler, $\\omega$ can take only 2 values \n",
        "+ 0 when the vehicle is going straight \n",
        "+ $\\omega = \\omega_c$ when turning\n",
        "\n",
        "This leaves only 2 questions to be answered\n",
        "* What should be $v_c$ and $\\omega_c$?\n",
        "* When should $\\omega$ change from 0 and back?"
      ]
    },
    {
      "cell_type": "code",
      "metadata": {
        "id": "-NIJVQasTI-9"
      },
      "source": [
        "vc = 1 #m/s\n",
        "wc = np.pi/6 #rad/s\n",
        "\n",
        "#calculate time taken to finish a quarter turn (pi/2)\n",
        "t_turn = int(np.pi/2/wc)\n",
        "\n",
        "#calculate the time taken to finish straight segments\n",
        "# omega array is to be padded with equivalent zeros\n",
        "\n",
        "t_straight1, t_straight2, t_straight3 = int(10/vc), int(5/vc), int(8/ vc)\n",
        "\n",
        "all_w = [0]*t_straight1 + [wc]*t_turn + \\\n",
        "        [0]*t_straight2 + [wc]*t_turn + \\\n",
        "        [0]*t_straight3 + [-wc]*t_turn\n",
        "\n",
        "all_v = vc*np.ones_like(all_w)"
      ],
      "execution_count": 8,
      "outputs": []
    },
    {
      "cell_type": "markdown",
      "metadata": {
        "id": "8j9S1Dy8aW7B"
      },
      "source": [
        "Let us make a cool function out of this!\n",
        "\n",
        "Take in as input a generic route and convert it into open-loop commands\n",
        "\n",
        "Input format: [(\"straight\", 5), (\"right\", 90), (\"straight\", 6), (\"left\", 85)]\n",
        "\n",
        "Output: all_v, all_w"
      ]
    },
    {
      "cell_type": "code",
      "metadata": {
        "id": "pU0zemiWT6Jb"
      },
      "source": [
        "def get_open_loop_commands(route,vc=1, wc=np.pi/12):\n",
        "    all_w = []\n",
        "    for manoeuvre, command in route:\n",
        "      if manoeuvre == 'straight':\n",
        "        all_w += [0]*int (command/vc)\n",
        "      elif manoeuvre == 'right':\n",
        "        all_w += [-wc]*int(np.deg2rad(command)/wc)\n",
        "      else:\n",
        "        all_w += [wc]*int(np.deg2rad(command)/wc)\n",
        "    all_v = vc*np.ones_like(all_w)\n",
        "    return all_v, all_w"
      ],
      "execution_count": 11,
      "outputs": []
    },
    {
      "cell_type": "markdown",
      "metadata": {
        "id": "u9ymrP75aW7D"
      },
      "source": [
        "### Unit test your function with the following inputs\n",
        "\n",
        "+ [(\"straight\", 5), (\"right\", 90), (\"straight\", 6), (\"left\", 85)]\n",
        "+ $v_c = 1$\n",
        "+ $w_c = \\pi/12$"
      ]
    },
    {
      "cell_type": "code",
      "metadata": {
        "id": "KXRdbrKAV1Ss"
      },
      "source": [
        "v, w = get_open_loop_commands([(\"straight\", 5), (\"right\", 90), (\"straight\", 6), (\"left\", 85)])"
      ],
      "execution_count": 14,
      "outputs": []
    },
    {
      "cell_type": "code",
      "metadata": {
        "colab": {
          "base_uri": "https://localhost:8080/"
        },
        "id": "l4GYZjaWWKJa",
        "outputId": "1b3435b1-a4e1-4bce-93c3-9316600b6b6a"
      },
      "source": [
        "len(w)"
      ],
      "execution_count": 15,
      "outputs": [
        {
          "output_type": "execute_result",
          "data": {
            "text/plain": [
              "22"
            ]
          },
          "metadata": {
            "tags": []
          },
          "execution_count": 15
        }
      ]
    },
    {
      "cell_type": "code",
      "metadata": {
        "id": "pdzWxemKWSj5"
      },
      "source": [
        "robot_trajectory = []\n",
        "all_v, all_w = get_open_loop_commands([(\"straight\", 5), (\"right\", 90), (\"straight\", 6), (\"left\", 85)])\n",
        "pose = (0, 0, np.pi/2)\n",
        "for v, w in zip(all_v, all_w):\n",
        "  robot_trajectory.append(pose)\n",
        "  #instruction to take v, w and compute new pose    \n",
        "  pose = unicycle_model(pose, v, w, 0.1)\n",
        "robot_trajectory = np.array(robot_trajectory)"
      ],
      "execution_count": 16,
      "outputs": []
    },
    {
      "cell_type": "code",
      "metadata": {
        "colab": {
          "base_uri": "https://localhost:8080/",
          "height": 282
        },
        "id": "XhUsAp12YuF3",
        "outputId": "643c1374-5de8-4365-8cf3-a2aabc292ddc"
      },
      "source": [
        "plt.figure()\n",
        "plt.grid()\n",
        "plt.plot(robot_trajectory[:,0], robot_trajectory[:,1])\n",
        "\n",
        "#show first and last robot positions with + markers\n",
        "xi, yi, _ = robot_trajectory[0]\n",
        "xf, yf, _ = robot_trajectory[-1]\n",
        "plt.plot(xi, yi, 'r+', ms=10)\n",
        "xi, yi, _ = robot_trajectory[-1]\n",
        "xf, yf, _ = robot_trajectory[0]\n",
        "plt.plot(xi, yi, 'r+', ms=10)\n"
      ],
      "execution_count": 26,
      "outputs": [
        {
          "output_type": "execute_result",
          "data": {
            "text/plain": [
              "[<matplotlib.lines.Line2D at 0x7f568384b290>]"
            ]
          },
          "metadata": {
            "tags": []
          },
          "execution_count": 26
        },
        {
          "output_type": "display_data",
          "data": {
            "image/png": "[encoded data removed]",
            "text/plain": [
              "<Figure size 432x288 with 1 Axes>"
            ]
          },
          "metadata": {
            "tags": [],
            "needs_background": "light"
          }
        }
      ]
    },
    {
      "cell_type": "code",
      "metadata": {
        "id": "oMk85q5YY3J4"
      },
      "source": [
        ""
      ],
      "execution_count": null,
      "outputs": []
    }
  ]
}