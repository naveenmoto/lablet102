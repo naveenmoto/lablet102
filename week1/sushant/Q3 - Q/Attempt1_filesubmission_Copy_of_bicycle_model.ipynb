{
  "nbformat": 4,
  "nbformat_minor": 0,
  "metadata": {
    "kernelspec": {
      "display_name": "Python 3",
      "language": "python",
      "name": "python3"
    },
    "language_info": {
      "codemirror_mode": {
        "name": "ipython",
        "version": 3
      },
      "file_extension": ".py",
      "mimetype": "text/x-python",
      "name": "python",
      "nbconvert_exporter": "python",
      "pygments_lexer": "ipython3",
      "version": "3.9.1"
    },
    "varInspector": {
      "cols": {
        "lenName": 16,
        "lenType": 16,
        "lenVar": 40
      },
      "kernels_config": {
        "python": {
          "delete_cmd_postfix": "",
          "delete_cmd_prefix": "del ",
          "library": "var_list.py",
          "varRefreshCmd": "print(var_dic_list())"
        },
        "r": {
          "delete_cmd_postfix": ") ",
          "delete_cmd_prefix": "rm(",
          "library": "var_list.r",
          "varRefreshCmd": "cat(var_dic_list()) "
        }
      },
      "position": {
        "height": "144px",
        "left": "1090px",
        "right": "20px",
        "top": "13px",
        "width": "350px"
      },
      "types_to_exclude": [
        "module",
        "function",
        "builtin_function_or_method",
        "instance",
        "_Feature"
      ],
      "window_display": true
    },
    "colab": {
      "name": "Copy of bicycle_model.ipynb",
      "provenance": [],
      "collapsed_sections": []
    }
  },
  "cells": [
    {
      "cell_type": "code",
      "metadata": {
        "id": "gpGPl3rxD5bt"
      },
      "source": [
        "import pandas as pd\n",
        "import numpy as np\n",
        "import matplotlib.pyplot as plt\n",
        "%matplotlib inline\n",
        "import doctest\n",
        "import copy\n",
        "import math"
      ],
      "execution_count": 25,
      "outputs": []
    },
    {
      "cell_type": "code",
      "metadata": {
        "id": "Cy-IHdN_D5bv"
      },
      "source": [
        "#https://stackoverflow.com/questions/40137950/possible-to-run-python-doctest-on-a-jupyter-cell-function\n",
        "def test(func):\n",
        "    '''\n",
        "    Use test as a decorator to a function with doctests in Jupyter notebook. \n",
        "    Run the cell to see the results of the doctests.\n",
        "    '''\n",
        "    globs = copy.copy(globals())\n",
        "    globs.update({func.__name__:func})\n",
        "    doctest.run_docstring_examples(func, globs, verbose=True, name=func.__name__)\n",
        "    return func"
      ],
      "execution_count": 2,
      "outputs": []
    },
    {
      "cell_type": "markdown",
      "metadata": {
        "id": "wItZX1gwD5bw"
      },
      "source": [
        "### Simulate straight line and circular movements with Bicycle model\n",
        "\n",
        "Robot is at the origin (0, 0) and facing North, i.e, $\\theta = \\pi/2$. Assume the wheelbase of the vehicle $L$ = 0.9 m"
      ]
    },
    {
      "cell_type": "code",
      "metadata": {
        "id": "Zeb2OgYeD5bx",
        "colab": {
          "base_uri": "https://localhost:8080/"
        },
        "outputId": "074fdf19-6d93-45a6-8b68-0b3d1ace935b"
      },
      "source": [
        "@test \n",
        "def bicycle_model(curr_pose, v, delta, dt=1):\n",
        "    '''\n",
        "    >>> bicycle_model((0.0,0.0,0.0), 1.0, 0.0)\n",
        "    (1.0, 0.0, 0.0)\n",
        "    >>> bicycle_model((0.0,0.0,0.0), 0.0, np.pi/4)\n",
        "    (0.0, 0.0, 0.0) \n",
        "    >>> bicycle_model((0.0, 0.0, 0.0), 1.0, np.pi/4)\n",
        "    (1.0, 0.0, 1.11) \n",
        "    '''\n",
        "    # write code to calculate next_pose\n",
        "    # refer to the kinematic equations of a bicycle model\n",
        "    L = 0.9\n",
        "    x, y, theta = curr_pose\n",
        "    x += v*np.cos(theta)*dt\n",
        "    y += v*np.sin(theta)*dt\n",
        "    theta += v/L*np.tan(delta)\n",
        "    \n",
        "    # Keep theta bounded between [-pi, pi]\n",
        "    theta = np.arctan2(np.sin(theta), np.cos(theta))\n",
        "    # return calculated (x, y, theta)\n",
        "    return x, y, theta\n",
        "\n",
        "# Here the code ran correctly\n",
        "# and also got the values as expected \n",
        "#still its not matching the expected output"
      ],
      "execution_count": 3,
      "outputs": [
        {
          "output_type": "stream",
          "text": [
            "\n",
            "PYDEV DEBUGGER WARNING:\n",
            "sys.settrace() should not be used when the debugger is being used.\n",
            "This may cause the debugger to stop working correctly.\n",
            "If this is needed, please check: \n",
            "http://pydev.blogspot.com/2007/06/why-cant-pydev-debugger-work-with.html\n",
            "to see how to restore the debug tracing back correctly.\n",
            "Call Location:\n",
            "  File \"/usr/lib/python3.7/doctest.py\", line 1487, in run\n",
            "    sys.settrace(save_trace)\n",
            "\n"
          ],
          "name": "stderr"
        },
        {
          "output_type": "stream",
          "text": [
            "Finding tests in bicycle_model\n",
            "Trying:\n",
            "    bicycle_model((0.0,0.0,0.0), 1.0, 0.0)\n",
            "Expecting:\n",
            "    (1.0, 0.0, 0.0)\n",
            "ok\n",
            "Trying:\n",
            "    bicycle_model((0.0,0.0,0.0), 0.0, np.pi/4)\n",
            "Expecting:\n",
            "    (0.0, 0.0, 0.0) \n",
            "**********************************************************************\n",
            "File \"__main__\", line 6, in bicycle_model\n",
            "Failed example:\n",
            "    bicycle_model((0.0,0.0,0.0), 0.0, np.pi/4)\n",
            "Expected:\n",
            "    (0.0, 0.0, 0.0) \n",
            "Got:\n",
            "    (0.0, 0.0, 0.0)\n",
            "Trying:\n",
            "    bicycle_model((0.0, 0.0, 0.0), 1.0, np.pi/4)\n",
            "Expecting:\n",
            "    (1.0, 0.0, 1.11) \n",
            "**********************************************************************\n",
            "File \"__main__\", line 8, in bicycle_model\n",
            "Failed example:\n",
            "    bicycle_model((0.0, 0.0, 0.0), 1.0, np.pi/4)\n",
            "Expected:\n",
            "    (1.0, 0.0, 1.11) \n",
            "Got:\n",
            "    (1.0, 0.0, 1.111111111111111)\n"
          ],
          "name": "stdout"
        }
      ]
    },
    {
      "cell_type": "code",
      "metadata": {
        "id": "rkAm7KZ5D5by",
        "colab": {
          "base_uri": "https://localhost:8080/"
        },
        "outputId": "741dbe8a-310e-4633-86a9-404b3b29a743"
      },
      "source": [
        "#straight line\n",
        "straight_trajectory = []\n",
        "pose = (0, 0, np.pi/2)\n",
        "steps = 10\n",
        "#fill in v and delta values\n",
        "all_v = np.ones(steps)\n",
        "all_delta = np.zeros(steps)\n",
        "for i in range(steps):\n",
        "   # store new pose\n",
        "   straight_trajectory.append(pose)\n",
        "   #instruction to take v, delta and compute new pose    \n",
        "   pose = bicycle_model(pose, all_v[i], all_delta[i])\n",
        "straight_trajectory = np.array(straight_trajectory)\n",
        "straight_trajectory"
      ],
      "execution_count": 4,
      "outputs": [
        {
          "output_type": "execute_result",
          "data": {
            "text/plain": [
              "array([[0.00000000e+00, 0.00000000e+00, 1.57079633e+00],\n",
              "       [6.12323400e-17, 1.00000000e+00, 1.57079633e+00],\n",
              "       [1.22464680e-16, 2.00000000e+00, 1.57079633e+00],\n",
              "       [1.83697020e-16, 3.00000000e+00, 1.57079633e+00],\n",
              "       [2.44929360e-16, 4.00000000e+00, 1.57079633e+00],\n",
              "       [3.06161700e-16, 5.00000000e+00, 1.57079633e+00],\n",
              "       [3.67394040e-16, 6.00000000e+00, 1.57079633e+00],\n",
              "       [4.28626380e-16, 7.00000000e+00, 1.57079633e+00],\n",
              "       [4.89858720e-16, 8.00000000e+00, 1.57079633e+00],\n",
              "       [5.51091060e-16, 9.00000000e+00, 1.57079633e+00]])"
            ]
          },
          "metadata": {
            "tags": []
          },
          "execution_count": 4
        }
      ]
    },
    {
      "cell_type": "code",
      "metadata": {
        "colab": {
          "base_uri": "https://localhost:8080/",
          "height": 265
        },
        "id": "BKWMqRWxTVG2",
        "outputId": "9b38ae4f-81c0-426a-8c6f-dde5793ac2c6"
      },
      "source": [
        "### Plot straight and circular trajectories\n",
        "#plt.figure()\n",
        "#plt.plot()\n",
        "plt.figure()\n",
        "plt.axes().set_aspect(\"equal\",\"datalim\")\n",
        "plt.plot(straight_trajectory[:,0], straight_trajectory[:,1])\n",
        "plt.show()"
      ],
      "execution_count": 32,
      "outputs": [
        {
          "output_type": "display_data",
          "data": {
            "image/png": "[encoded data removed]",
            "text/plain": [
              "<Figure size 432x288 with 1 Axes>"
            ]
          },
          "metadata": {
            "tags": [],
            "needs_background": "light"
          }
        }
      ]
    },
    {
      "cell_type": "code",
      "metadata": {
        "id": "9fNbts6TD5bz",
        "colab": {
          "base_uri": "https://localhost:8080/"
        },
        "outputId": "81ccbe81-e3c7-46a8-c5a1-233bfa5cb9a0"
      },
      "source": [
        "#circle\n",
        "circle_trajectory = []\n",
        "pose = (0, 0, np.pi/2)\n",
        "steps = 10\n",
        "#fill in v and delta values\n",
        "all_v = np.ones(steps*100)\n",
        "all_delta = np.full(shape=steps*100, fill_value=np.pi/12)\n",
        "for v, delta in zip(all_v, all_delta):\n",
        "    # store new pose\n",
        "    circle_trajectory.append(pose)\n",
        "    #instruction to take v, delta and compute new pose    \n",
        "    pose = bicycle_model(pose, v, delta, 0.1)\n",
        "circle_trajectory = np.array(circle_trajectory)\n",
        "circle_trajectory\n",
        "\n"
      ],
      "execution_count": 5,
      "outputs": [
        {
          "output_type": "execute_result",
          "data": {
            "text/plain": [
              "array([[ 0.00000000e+00,  0.00000000e+00,  1.57079633e+00],\n",
              "       [ 6.12323400e-18,  1.00000000e-01,  1.86851765e+00],\n",
              "       [-2.93342540e-02,  1.95600740e-01,  2.16623898e+00],\n",
              "       ...,\n",
              "       [-2.66024585e-01,  3.80327193e-01,  3.08924784e+00],\n",
              "       [-3.65887618e-01,  3.85559284e-01, -2.89621614e+00],\n",
              "       [-4.62892211e-01,  3.61267127e-01, -2.59849482e+00]])"
            ]
          },
          "metadata": {
            "tags": []
          },
          "execution_count": 5
        }
      ]
    },
    {
      "cell_type": "code",
      "metadata": {
        "id": "RS90vnzYD5b0",
        "colab": {
          "base_uri": "https://localhost:8080/",
          "height": 265
        },
        "outputId": "19fc749a-7850-4b65-dd01-d99fd9f9e264"
      },
      "source": [
        "### Plot straight and circular trajectories\n",
        "#plt.figure()\n",
        "#plt.plot()\n",
        "plt.figure()\n",
        "plt.axes().set_aspect(\"equal\",\"datalim\")\n",
        "plt.plot(circle_trajectory[:,0], circle_trajectory[:,1], \".\")\n",
        "plt.show()"
      ],
      "execution_count": 6,
      "outputs": [
        {
          "output_type": "display_data",
          "data": {
            "image/png": "[encoded data removed]",
            "text/plain": [
              "<Figure size 432x288 with 1 Axes>"
            ]
          },
          "metadata": {
            "tags": [],
            "needs_background": "light"
          }
        }
      ]
    },
    {
      "cell_type": "markdown",
      "metadata": {
        "id": "KPMhUJJBD5b1"
      },
      "source": [
        "### Simulate Bicycle model with Open Loop control\n",
        "\n",
        "We want the robot to follow these instructions\n",
        "\n",
        "**straight 10m, right turn, straight 5m, left turn, straight 8m, right turn**\n",
        "\n",
        "It is in open loop; control commands have to be calculated upfront. How do we do it?\n",
        "\n",
        "To keep things simple in the first iteration, we can fix $v = v_c$ and change only $\\delta$. To make it even simpler, $\\delta$ can take only 2 values \n",
        "+ 0 when the vehicle is going straight \n",
        "+ $\\delta = \\delta_c$ when turning\n",
        "\n",
        "This leaves only 2 questions to be answered\n",
        "* What should be $v_c$ and $\\delta_c$?\n",
        "* When should $\\delta$ change from 0 and back?"
      ]
    },
    {
      "cell_type": "code",
      "metadata": {
        "id": "-U-6NqIoD5b2"
      },
      "source": [
        "v_c = 1 # m/s\n",
        "delta_c = np.pi/12 \n",
        "L = 0.9\n",
        "#calculate time taken to finish a quarter turn (pi/2)\n",
        "# unlike you would need to take into account v_c and L of the vehicle as well\n",
        "w_c = v_c/L*np.tan(delta_c)\n",
        "t_turn = int(np.pi/2/w_c)\n",
        "\n",
        "#calculate the time taken to finish straight segments\n",
        "# omega array is to be padded with equivalent zeros\n",
        "\n",
        "t_straight1, t_straight2, t_straight3 = int(10/v_c), int(5/v_c), int(8/v_c)\n",
        "\n",
        "all_delta = [0]*t_straight1 + [-delta_c]*t_turn + \\\n",
        "            [0]*t_straight2 + [delta_c]*t_turn + \\\n",
        "            [0]*t_straight3 + [-delta_c]*t_turn\n",
        "all_v = v_c*np.ones_like(all_delta)\n"
      ],
      "execution_count": 7,
      "outputs": []
    },
    {
      "cell_type": "markdown",
      "metadata": {
        "id": "lI-eXKo9D5b3"
      },
      "source": [
        "Let us make a cool function out of this!\n",
        "\n",
        "Take in as input a generic route and convert it into open-loop commands\n",
        "\n",
        "Input format: [(\"straight\", 5), (\"right\", 90), (\"straight\", 6), (\"left\", 85)]\n",
        "\n",
        "Output: all_v, all_delta"
      ]
    },
    {
      "cell_type": "markdown",
      "metadata": {
        "id": "wPg13GHQD5b5"
      },
      "source": [
        "### Unit test your function with the following inputs\n",
        "\n",
        "+ [(\"straight\", 5), (\"right\", 90), (\"straight\", 6), (\"left\", 85)]\n",
        "+ $v_c = 1$\n",
        "+ $delta_c = \\pi/12$"
      ]
    },
    {
      "cell_type": "code",
      "metadata": {
        "colab": {
          "base_uri": "https://localhost:8080/"
        },
        "id": "0elzLPUAc66V",
        "outputId": "4ac6e411-e2dc-40af-b6f8-f91e155c04c1"
      },
      "source": [
        "def get_open_loop_commands(route, v_c_slow = 0.5, v_c_fast = 1, delta_c = np.pi/12, dt = 1.0):\n",
        "    all_delta = []\n",
        "    L = 0.9\n",
        "    w_c = v_c/L*np.tan(np.pi/12)\n",
        "    omegas = {'straight': 0, 'left': delta_c, 'right': -delta_c}\n",
        "    for manoeuvre, command in route:\n",
        "      u = np.ceil(command/v_c).astype('int')\n",
        "      v = np.ceil(np.deg2rad(command)/w_c).astype('int')\n",
        "      t_cmd = u if manoeuvre == 'straight' else v\n",
        "      all_delta += [omegas[manoeuvre]]*t_cmd\n",
        "    all_v = v_c*np.ones_like(all_delta)\n",
        "    return all_v, all_delta\n",
        "v_c"
      ],
      "execution_count": 8,
      "outputs": [
        {
          "output_type": "execute_result",
          "data": {
            "text/plain": [
              "1"
            ]
          },
          "metadata": {
            "tags": []
          },
          "execution_count": 8
        }
      ]
    },
    {
      "cell_type": "code",
      "metadata": {
        "id": "ga3MspwND5b5"
      },
      "source": [
        "all_v, all_delta = get_open_loop_commands([(\"straight\", 5), (\"right\", 90), (\"straight\", 6), (\"left\", 85)])"
      ],
      "execution_count": 9,
      "outputs": []
    },
    {
      "cell_type": "code",
      "metadata": {
        "id": "elCuQPcsD5b6"
      },
      "source": [
        "robot_trajectory = []\n",
        "pose = np.array([0, 0, np.pi/2])\n",
        "#all_v, all_delta = get_open_loop_commands([(\"straight\", 5), (\"right\", 90), (\"straight\", 6), (\"left\", 85)])\n",
        "for v, delta in zip(all_v, all_delta):\n",
        "   # store new pose\n",
        "   robot_trajectory.append(pose)\n",
        "    #instruction to take v, delta and compute new pose    \n",
        "   pose = bicycle_model(pose, v, delta)\n",
        "robot_trajectory = np.array(robot_trajectory)"
      ],
      "execution_count": 10,
      "outputs": []
    },
    {
      "cell_type": "code",
      "metadata": {
        "id": "qK5s5Em9D5b6",
        "colab": {
          "base_uri": "https://localhost:8080/",
          "height": 321
        },
        "outputId": "af8c48c6-a731-479f-8b52-591e58fe09d8"
      },
      "source": [
        "# plot robot trajectory\n",
        "plt.figure()\n",
        "plt.grid()\n",
        "plt.axes().set_aspect(\"equal\",\"datalim\")\n",
        "plt.plot(robot_trajectory[:,0], robot_trajectory[:,1])\n",
        "\n",
        "#plt.plot( )\n",
        "#show first and last robot positions with + markers\n",
        "xi, yi, _ = robot_trajectory[0]\n",
        "xf, yf, _ = robot_trajectory[-1]\n",
        "plt.plot(xi, yi, 'r+', ms=10)\n",
        "plt.plot(xf, yf, 'r+', ms=10)\n",
        "plt.show()"
      ],
      "execution_count": 11,
      "outputs": [
        {
          "output_type": "stream",
          "text": [
            "/usr/local/lib/python3.7/dist-packages/ipykernel_launcher.py:4: MatplotlibDeprecationWarning: Adding an axes using the same arguments as a previous axes currently reuses the earlier instance.  In a future version, a new instance will always be created and returned.  Meanwhile, this warning can be suppressed, and the future behavior ensured, by passing a unique label to each axes instance.\n",
            "  after removing the cwd from sys.path.\n"
          ],
          "name": "stderr"
        },
        {
          "output_type": "display_data",
          "data": {
            "image/png": "[encoded data removed]",
            "text/plain": [
              "<Figure size 432x288 with 1 Axes>"
            ]
          },
          "metadata": {
            "tags": [],
            "needs_background": "light"
          }
        }
      ]
    },
    {
      "cell_type": "markdown",
      "metadata": {
        "id": "H-ecY7zbD5b7"
      },
      "source": [
        "### Shape the turn\n",
        "Let us try something cooler than before (though a bit tricky in open loop). Instead of boring circular arcs, change the steering angle so that the robot orientation changes as shown in the equation below\n",
        "\n",
        "$\\theta = (\\theta_i - \\theta_f) * (1 - 3x^2 + 2x^3) + \\theta_f  \\thinspace \\vee x \\in [0,1]$\n",
        "\n",
        "First let us plot this"
      ]
    },
    {
      "cell_type": "code",
      "metadata": {
        "id": "DQbmFZmXD5b8"
      },
      "source": [
        "def poly_turn(theta_i, theta_f, n=10):\n",
        "    x = np.linspace(0, 1, num=n)\n",
        "    return (theta_i-theta_f) * (1 - 3 * x * x + 2 * (x**3)) + theta_f"
      ],
      "execution_count": 12,
      "outputs": []
    },
    {
      "cell_type": "markdown",
      "metadata": {
        "id": "58KMj70TD5b9"
      },
      "source": [
        "How does a right turn look? "
      ]
    },
    {
      "cell_type": "code",
      "metadata": {
        "id": "i-ojobp37cs6",
        "colab": {
          "base_uri": "https://localhost:8080/"
        },
        "outputId": "95d80367-ae3c-46cd-9f12-9a8b6d4c370d"
      },
      "source": [
        "theta_dot = np.diff(poly_turn(np.pi/2, 0))\n",
        "print(theta_dot)"
      ],
      "execution_count": 13,
      "outputs": [
        {
          "output_type": "stream",
          "text": [
            "[-0.05386819 -0.14436674 -0.20900856 -0.24779366 -0.26072202 -0.24779366\n",
            " -0.20900856 -0.14436674 -0.05386819]\n"
          ],
          "name": "stdout"
        }
      ]
    },
    {
      "cell_type": "code",
      "metadata": {
        "id": "7INgEBQvD5b9",
        "colab": {
          "base_uri": "https://localhost:8080/",
          "height": 283
        },
        "outputId": "f72cc01c-0ed1-40cf-bac6-853dfc4738ff"
      },
      "source": [
        "plt.figure()\n",
        "plt.plot(poly_turn(np.pi/2, 0),'.')\n",
        "plt.plot(poly_turn(np.pi/2, 0))"
      ],
      "execution_count": 14,
      "outputs": [
        {
          "output_type": "execute_result",
          "data": {
            "text/plain": [
              "[<matplotlib.lines.Line2D at 0x7f09654ca590>]"
            ]
          },
          "metadata": {
            "tags": []
          },
          "execution_count": 14
        },
        {
          "output_type": "display_data",
          "data": {
            "image/png": "[encoded data removed]",
            "text/plain": [
              "<Figure size 432x288 with 1 Axes>"
            ]
          },
          "metadata": {
            "tags": [],
            "needs_background": "light"
          }
        }
      ]
    },
    {
      "cell_type": "markdown",
      "metadata": {
        "id": "Gk546i4HD5b-"
      },
      "source": [
        "Now plot a left turn (North to West)\n",
        "\n",
        "> Indented block\n",
        "\n"
      ]
    },
    {
      "cell_type": "code",
      "metadata": {
        "id": "MIcpSAHhD5b_",
        "colab": {
          "base_uri": "https://localhost:8080/",
          "height": 285
        },
        "outputId": "61e8694a-3176-46be-b1a5-4259181949e5"
      },
      "source": [
        "plt.figure()\n",
        "plt.plot(poly_turn(np.pi/2, np.pi),'.')\n",
        "plt.plot(poly_turn(np.pi/2, np.pi))"
      ],
      "execution_count": 15,
      "outputs": [
        {
          "output_type": "execute_result",
          "data": {
            "text/plain": [
              "[<matplotlib.lines.Line2D at 0x7f0965449cd0>]"
            ]
          },
          "metadata": {
            "tags": []
          },
          "execution_count": 15
        },
        {
          "output_type": "display_data",
          "data": {
            "image/png": "[encoded data removed]",
            "text/plain": [
              "<Figure size 432x288 with 1 Axes>"
            ]
          },
          "metadata": {
            "tags": [],
            "needs_background": "light"
          }
        }
      ]
    },
    {
      "cell_type": "markdown",
      "metadata": {
        "id": "rj670M1aD5b_"
      },
      "source": [
        "How does $\\theta$ change when we had constant $\\delta$? Plot it"
      ]
    },
    {
      "cell_type": "code",
      "metadata": {
        "id": "ywtHa7z3D5cA",
        "colab": {
          "base_uri": "https://localhost:8080/",
          "height": 265
        },
        "outputId": "262ed005-abae-421b-b589-16455f9a1343"
      },
      "source": [
        "def bicycle_model(theta, v, delta, dt=1.0):\n",
        "    # write code to calculate next_pose\n",
        "    # refer to the kinematic equations of a bicycle model\n",
        "    L = 0.9\n",
        "    #x += v*np.cos(theta)*dt\n",
        "    #y += v*np.sin(theta)*dt\n",
        "    theta += v/L*np.tan(delta)*dt\n",
        "    # Keep theta bounded between [-pi, pi]\n",
        "    theta = np.arctan2(np.sin(theta), np.cos(theta))\n",
        "    # return calculated (x, y, theta)\n",
        "    return theta\n",
        "\n",
        "#theta values for constant delta\n",
        "theta_values = []\n",
        "total_steps = []\n",
        "theta = 0\n",
        "steps = 10\n",
        "i = 0\n",
        "#fill in v and delta values\n",
        "all_v = np.ones(steps*65)\n",
        "all_delta = np.full(shape=steps*65, fill_value=np.pi/12)\n",
        "for v, delta in zip(all_v, all_delta):\n",
        "    # store new theta\n",
        "    theta_values.append(np.rad2deg(theta))\n",
        "    #store steps count\n",
        "    total_steps.append(i)\n",
        "    #instruction to take v, delta and compute new theta    \n",
        "    theta = bicycle_model(theta, v, delta, 0.1)\n",
        "    i+=1\n",
        "#theta_values = np.array(theta_values)\n",
        "#total_steps = np.array(total_steps)\n",
        "\n",
        "#plot theta values against steps with constant delta\n",
        "#plt.figure()\n",
        "#plt.plot()\n",
        "plt.figure()\n",
        "plt.axes().set_aspect(\"equal\",\"datalim\")\n",
        "plt.plot(total_steps, theta_values)\n",
        "plt.show()"
      ],
      "execution_count": 19,
      "outputs": [
        {
          "output_type": "display_data",
          "data": {
            "image/png": "[encoded data removed]",
            "text/plain": [
              "<Figure size 432x288 with 1 Axes>"
            ]
          },
          "metadata": {
            "tags": [],
            "needs_background": "light"
          }
        }
      ]
    },
    {
      "cell_type": "code",
      "metadata": {
        "id": "E6l4TIn-U1me"
      },
      "source": [
        "# we got the sawtooth waveform because theta changes from 180 deg to -180 deg as progressed and the values start decreasing in negative direction."
      ],
      "execution_count": 33,
      "outputs": []
    },
    {
      "cell_type": "markdown",
      "metadata": {
        "id": "7QGyMtTxD5cA"
      },
      "source": [
        "We know the rate of change of $\\theta$ is proportional to $\\delta$. Can you work out the sequence of $\\delta$ to change $\\theta$ as in the cubic polynomial shown above?"
      ]
    },
    {
      "cell_type": "code",
      "metadata": {
        "id": "UZ590VkxD5cA",
        "colab": {
          "base_uri": "https://localhost:8080/",
          "height": 337
        },
        "outputId": "2e70a18a-11a6-4ba8-de39-34f5380bc35c"
      },
      "source": [
        "theta_dot = []\n",
        "theta_dot = np.diff(poly_turn(np.pi/2, 0))\n",
        "print(theta_dot)\n",
        "deltas = []\n",
        "for i in theta_dot:\n",
        "  new = math.atan(i *L/v)\n",
        "  deltas.append(np.rad2deg(new))\n",
        "print(deltas)\n",
        "\n",
        "plt.figure()\n",
        "plt.plot(deltas,'.')\n",
        "plt.plot(deltas)"
      ],
      "execution_count": 30,
      "outputs": [
        {
          "output_type": "stream",
          "text": [
            "[-0.05386819 -0.14436674 -0.20900856 -0.24779366 -0.26072202 -0.24779366\n",
            " -0.20900856 -0.14436674 -0.05386819]\n",
            "[-2.7756045056858034, -7.402971792107283, -10.6532881530926, -12.572047139622267, -13.205536000960773, -12.572047139622264, -10.653288153092603, -7.402971792107283, -2.7756045056858003]\n"
          ],
          "name": "stdout"
        },
        {
          "output_type": "execute_result",
          "data": {
            "text/plain": [
              "[<matplotlib.lines.Line2D at 0x7f09610a5d90>]"
            ]
          },
          "metadata": {
            "tags": []
          },
          "execution_count": 30
        },
        {
          "output_type": "display_data",
          "data": {
            "image/png": "[encoded data removed]",
            "text/plain": [
              "<Figure size 432x288 with 1 Axes>"
            ]
          },
          "metadata": {
            "tags": [],
            "needs_background": "light"
          }
        }
      ]
    }
  ]
}