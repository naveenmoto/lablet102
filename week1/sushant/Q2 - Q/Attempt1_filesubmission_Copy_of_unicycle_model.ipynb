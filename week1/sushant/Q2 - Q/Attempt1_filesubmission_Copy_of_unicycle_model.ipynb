{
  "nbformat": 4,
  "nbformat_minor": 0,
  "metadata": {
    "kernelspec": {
      "display_name": "Python 3",
      "language": "python",
      "name": "python3"
    },
    "language_info": {
      "codemirror_mode": {
        "name": "ipython",
        "version": 3
      },
      "file_extension": ".py",
      "mimetype": "text/x-python",
      "name": "python",
      "nbconvert_exporter": "python",
      "pygments_lexer": "ipython3",
      "version": "3.9.1"
    },
    "varInspector": {
      "cols": {
        "lenName": 16,
        "lenType": 16,
        "lenVar": 40
      },
      "kernels_config": {
        "python": {
          "delete_cmd_postfix": "",
          "delete_cmd_prefix": "del ",
          "library": "var_list.py",
          "varRefreshCmd": "print(var_dic_list())"
        },
        "r": {
          "delete_cmd_postfix": ") ",
          "delete_cmd_prefix": "rm(",
          "library": "var_list.r",
          "varRefreshCmd": "cat(var_dic_list()) "
        }
      },
      "position": {
        "height": "144px",
        "left": "1090px",
        "right": "20px",
        "top": "13px",
        "width": "350px"
      },
      "types_to_exclude": [
        "module",
        "function",
        "builtin_function_or_method",
        "instance",
        "_Feature"
      ],
      "window_display": true
    },
    "colab": {
      "name": "Copy of unicycle_model.ipynb",
      "provenance": []
    }
  },
  "cells": [
    {
      "cell_type": "code",
      "metadata": {
        "id": "915n6V11aW6q"
      },
      "source": [
        "import pandas as pd\n",
        "import numpy as np\n",
        "import matplotlib.pyplot as plt\n",
        "%matplotlib inline\n",
        "import doctest\n",
        "import copy"
      ],
      "execution_count": 1,
      "outputs": []
    },
    {
      "cell_type": "code",
      "metadata": {
        "id": "TNzngiFQaW64"
      },
      "source": [
        "#https://stackoverflow.com/questions/40137950/possible-to-run-python-doctest-on-a-jupyter-cell-function\n",
        "def test(func):\n",
        "    '''\n",
        "    Use test as a decorator to a function with doctests in Jupyter notebook. \n",
        "    Run the cell to see the results of the doctests.\n",
        "    '''\n",
        "    globs = copy.copy(globals())\n",
        "    globs.update({func.__name__:func})\n",
        "    doctest.run_docstring_examples(func, globs, verbose=True, name=func.__name__)\n",
        "    return func"
      ],
      "execution_count": 2,
      "outputs": []
    },
    {
      "cell_type": "markdown",
      "metadata": {
        "id": "bxv6Vpt6aW66"
      },
      "source": [
        "### Simulate straight line and circular movements with Unicycle model\n",
        "\n",
        "Robot is at the origin (0, 0) and facing North, i.e, $\\theta = \\pi/2$\n",
        "\n",
        "Use the Kinematics equations we had developed in class for the Unicycle model"
      ]
    },
    {
      "cell_type": "code",
      "metadata": {
        "colab": {
          "base_uri": "https://localhost:8080/"
        },
        "id": "mQ4-cWX0aW67",
        "outputId": "5eced132-a6ca-47cf-c157-ea4645f82628"
      },
      "source": [
        "@test \n",
        "def unicycle_model(curr_pose, v, w, dt=1.0):\n",
        "    '''\n",
        "    >>> unicycle_model((0.0,0.0,0.0), 1.0, 0.0)\n",
        "    (1.0, 0.0, 0.0)\n",
        "    >>> unicycle_model((0.0,0.0,0.0), 0.0, 1.0)\n",
        "    (0.0, 0.0, 1.0)\n",
        "    >>> unicycle_model((0.0, 0.0, 0.0), 1.0, 1.0)\n",
        "    (1.0, 0.0, 1.0)\n",
        "    '''\n",
        "    ## write code to calculate next_pose\n",
        "    # refer to the kinematic equations of a unicycle model\n",
        "    x, y, theta = curr_pose\n",
        "    x += v*np.cos(theta)*dt\n",
        "    y += v*np.sin(theta)*dt\n",
        "    theta += w*dt\n",
        "    \n",
        "    # Keep theta bounded between [-pi, pi]\n",
        "    theta = np.arctan2(np.sin(theta), np.cos(theta))\n",
        "\n",
        "    # return calculated (x, y, theta)\n",
        "    return x, y, theta"
      ],
      "execution_count": 3,
      "outputs": [
        {
          "output_type": "stream",
          "text": [
            "\n",
            "PYDEV DEBUGGER WARNING:\n",
            "sys.settrace() should not be used when the debugger is being used.\n",
            "This may cause the debugger to stop working correctly.\n",
            "If this is needed, please check: \n",
            "http://pydev.blogspot.com/2007/06/why-cant-pydev-debugger-work-with.html\n",
            "to see how to restore the debug tracing back correctly.\n",
            "Call Location:\n",
            "  File \"/usr/lib/python3.7/doctest.py\", line 1487, in run\n",
            "    sys.settrace(save_trace)\n",
            "\n"
          ],
          "name": "stderr"
        },
        {
          "output_type": "stream",
          "text": [
            "Finding tests in unicycle_model\n",
            "Trying:\n",
            "    unicycle_model((0.0,0.0,0.0), 1.0, 0.0)\n",
            "Expecting:\n",
            "    (1.0, 0.0, 0.0)\n",
            "ok\n",
            "Trying:\n",
            "    unicycle_model((0.0,0.0,0.0), 0.0, 1.0)\n",
            "Expecting:\n",
            "    (0.0, 0.0, 1.0)\n",
            "ok\n",
            "Trying:\n",
            "    unicycle_model((0.0, 0.0, 0.0), 1.0, 1.0)\n",
            "Expecting:\n",
            "    (1.0, 0.0, 1.0)\n",
            "ok\n"
          ],
          "name": "stdout"
        }
      ]
    },
    {
      "cell_type": "markdown",
      "metadata": {
        "id": "WvnDVhcnaW68"
      },
      "source": [
        "Now let us try to simulate motion along a straight line and circle\n",
        "\n",
        "Look at the kinematics equations you wrote - what should $v,\\omega$ if\n",
        "+ There is no change in $\\theta$\n",
        "+ $\\theta$ has to change from 0 to 360 degrees"
      ]
    },
    {
      "cell_type": "code",
      "metadata": {
        "id": "LbyELyEUaW68"
      },
      "source": [
        "#straight line\n",
        "straight_trajectory = []\n",
        "pose = (0, 0, np.pi/2)\n",
        "steps = 10\n",
        "#fill in v and omega values\n",
        "all_v = np.ones(steps)\n",
        "all_w = np.zeros(steps)\n",
        "for v, w in zip(all_v, all_w):\n",
        "   # store pose\n",
        "   straight_trajectory.append(pose)\n",
        "   #instruction to take v, w and compute new pose    \n",
        "   pose = unicycle_model(pose, v, w)\n",
        "straight_trajectory = np.array(straight_trajectory)\n",
        "    "
      ],
      "execution_count": 4,
      "outputs": []
    },
    {
      "cell_type": "code",
      "metadata": {
        "id": "FUxFLSBfaW69"
      },
      "source": [
        "#circle\n",
        "circular_trajectory = []\n",
        "pose = (0, 0, np.pi/2)\n",
        "steps = 10\n",
        "#fill in v and omega values\n",
        "all_v = np.ones(steps*100)\n",
        "all_w = np.ones(steps*100)\n",
        "for v, w in zip(all_v, all_w):\n",
        "   # store pose\n",
        "   circular_trajectory.append(pose)\n",
        "   #instruction to take v, w and compute new pose    \n",
        "   pose = unicycle_model(pose, v, w, 0.1)\n",
        "circular_trajectory = np.array(circular_trajectory)\n"
      ],
      "execution_count": 5,
      "outputs": []
    },
    {
      "cell_type": "code",
      "metadata": {
        "colab": {
          "base_uri": "https://localhost:8080/",
          "height": 265
        },
        "id": "cNWutHfJaW6-",
        "outputId": "3722a989-ea3c-4af6-fab3-cc05364d9250"
      },
      "source": [
        "### Plot straight and circular trajectories\n",
        "# plt.figure()\n",
        "# plt.axes().set_aspect(\"equal\",\"datalim\")\n",
        "# plt.plot(straight_trajectory[:,0], straight_trajectory[:,1])\n",
        "\n",
        "### Plot straight and circular trajectories\n",
        "plt.figure()\n",
        "plt.axes().set_aspect(\"equal\",\"datalim\")\n",
        "plt.plot(circular_trajectory[:,0], circular_trajectory[:,1])\n",
        "plt.show()"
      ],
      "execution_count": 6,
      "outputs": [
        {
          "output_type": "display_data",
          "data": {
            "image/png": "[encoded data removed]",
            "text/plain": [
              "<Figure size 432x288 with 1 Axes>"
            ]
          },
          "metadata": {
            "tags": [],
            "needs_background": "light"
          }
        }
      ]
    },
    {
      "cell_type": "markdown",
      "metadata": {
        "id": "awW009gNaW6-"
      },
      "source": [
        "### Simulate Unicycle model with Open Loop control\n",
        "\n",
        "We want the robot to follow these instructions\n",
        "\n",
        "**straight 10m, right turn, straight 5m, left turn, straight 8m, right turn**\n",
        "\n",
        "It is in open loop; control commands have to be calculated upfront. How do we do it?\n",
        "\n",
        "To keep things simple in the first iteration, we can fix $v = v_c$ and change only $\\omega$. To make it even simpler, $\\omega$ can take only 2 values \n",
        "+ 0 when the vehicle is going straight \n",
        "+ $\\omega = \\omega_c$ when turning\n",
        "\n",
        "This leaves only 2 questions to be answered\n",
        "* What should be $v_c$ and $\\omega_c$?\n",
        "* When should $\\omega$ change from 0 and back?"
      ]
    },
    {
      "cell_type": "code",
      "metadata": {
        "id": "v8mDihzAaW7A",
        "colab": {
          "base_uri": "https://localhost:8080/"
        },
        "outputId": "f10c9276-e1cf-445b-814e-af216cc723d0"
      },
      "source": [
        "vc = 1 #m/s\n",
        "wc = np.pi/6 #rad/s\n",
        "\n",
        "#calculate time taken to finish a quarter turn (pi/2)\n",
        "t_turn = int(np.pi/2/wc)\n",
        "\n",
        "#calculate the time taken to finish straight segments\n",
        "# omega array is to be padded with equivalent zeros\n",
        "\n",
        "t_straight1, t_straight2, t_straight3 = int(10/vc), int(5/vc), int(8/ vc)\n",
        "\n",
        "all_w = [0]*t_straight1 + [-wc]*t_turn + \\\n",
        "        [0]*t_straight2 + [wc]*t_turn + \\\n",
        "        [0]*t_straight3 + [-wc]*t_turn\n",
        "\n",
        "all_v = vc*np.ones_like(all_w)\n",
        "len(all_v)"
      ],
      "execution_count": 7,
      "outputs": [
        {
          "output_type": "execute_result",
          "data": {
            "text/plain": [
              "32"
            ]
          },
          "metadata": {
            "tags": []
          },
          "execution_count": 7
        }
      ]
    },
    {
      "cell_type": "markdown",
      "metadata": {
        "id": "8j9S1Dy8aW7B"
      },
      "source": [
        "Let us make a cool function out of this!\n",
        "\n",
        "Take in as input a generic route and convert it into open-loop commands\n",
        "\n",
        "Input format: [(\"straight\", 5), (\"right\", 90), (\"straight\", 6), (\"left\", 85)]\n",
        "\n",
        "Output: all_v, all_w"
      ]
    },
    {
      "cell_type": "code",
      "metadata": {
        "colab": {
          "base_uri": "https://localhost:8080/"
        },
        "id": "8QsR8run1WlR",
        "outputId": "dc40e114-84bd-41a3-8f3e-6e437770279a"
      },
      "source": [
        "int(53.4)"
      ],
      "execution_count": null,
      "outputs": [
        {
          "output_type": "execute_result",
          "data": {
            "text/plain": [
              "53"
            ]
          },
          "metadata": {
            "tags": []
          },
          "execution_count": 21
        }
      ]
    },
    {
      "cell_type": "code",
      "metadata": {
        "id": "TSTA2tM_aW7C",
        "colab": {
          "base_uri": "https://localhost:8080/"
        },
        "outputId": "bd1ddb59-65c8-46d1-928f-960395d33b8c"
      },
      "source": [
        "def get_open_loop_commands(route, vc_slow=0.5,vc_fast=1, wc=np.pi/12, dt=1.0):\n",
        "    all_w = []\n",
        "    omegas = {'straight': 0, 'left': wc, 'right': -wc}\n",
        "    for manoeuvre, command in route:\n",
        "      u = np.ceil(command/vc).astype('int')\n",
        "      v = np.ceil(np.deg2rad(command)/wc).astype('int')\n",
        "      t_cmd = u if manoeuvre == 'straight' else v\n",
        "      all_w += [omegas[manoeuvre]]*t_cmd\n",
        "    all_v = vc*np.ones_like(all_w)\n",
        "    return all_v, all_w\n",
        "len(all_v)"
      ],
      "execution_count": 15,
      "outputs": [
        {
          "output_type": "execute_result",
          "data": {
            "text/plain": [
              "22"
            ]
          },
          "metadata": {
            "tags": []
          },
          "execution_count": 15
        }
      ]
    },
    {
      "cell_type": "markdown",
      "metadata": {
        "id": "u9ymrP75aW7D"
      },
      "source": [
        "### Unit test your function with the following inputs\n",
        "\n",
        "+ [(\"straight\", 5), (\"right\", 90), (\"straight\", 6), (\"left\", 85)]\n",
        "+ $v_c = 1$\n",
        "+ $w_c = \\pi/12$"
      ]
    },
    {
      "cell_type": "code",
      "metadata": {
        "id": "J3U03lMPaW7D"
      },
      "source": [
        "all_v, all_w = get_open_loop_commands([(\"straight\", 5), (\"right\", 90), (\"straight\", 6), (\"left\", 85)])"
      ],
      "execution_count": 16,
      "outputs": []
    },
    {
      "cell_type": "code",
      "metadata": {
        "id": "YiNYCb0maW7E"
      },
      "source": [
        "robot_trajectory = []\n",
        "#all_v, all_w = get_open_loop_commands([(\"straight\", 5), (\"right\", 90), (\"straight\", 6), (\"left\", 85)])\n",
        "pose = (0, 0, np.pi/2)\n",
        "for v, w in zip(all_v, all_w):\n",
        "    # store new pose\n",
        "    robot_trajectory.append(pose)\n",
        "    #instruction to take v, w and compute new pose    \n",
        "    pose = unicycle_model(pose, v, w)\n",
        "robot_trajectory = np.array(robot_trajectory)"
      ],
      "execution_count": 17,
      "outputs": []
    },
    {
      "cell_type": "code",
      "metadata": {
        "id": "eSB1nwuOaW7E",
        "colab": {
          "base_uri": "https://localhost:8080/",
          "height": 341
        },
        "outputId": "c69f1c09-d408-4419-88c7-262c405b4bb0"
      },
      "source": [
        "# plot robot trajectory\n",
        "plt.figure()\n",
        "plt.grid()\n",
        "plt.axes().set_aspect(\"equal\",\"datalim\")\n",
        "plt.plot(robot_trajectory[:,0], robot_trajectory[:,1])\n",
        "\n",
        "#show first and last robot positions with + markers\n",
        "xi, yi, _ = robot_trajectory[0]\n",
        "xf, yf, _ = robot_trajectory[-1]\n",
        "plt.plot(xi, yi, 'r+', ms=10)\n",
        "plt.plot(xf, yf, 'r+', ms=10)\n",
        "plt.show"
      ],
      "execution_count": 18,
      "outputs": [
        {
          "output_type": "stream",
          "text": [
            "/usr/local/lib/python3.7/dist-packages/ipykernel_launcher.py:4: MatplotlibDeprecationWarning: Adding an axes using the same arguments as a previous axes currently reuses the earlier instance.  In a future version, a new instance will always be created and returned.  Meanwhile, this warning can be suppressed, and the future behavior ensured, by passing a unique label to each axes instance.\n",
            "  after removing the cwd from sys.path.\n"
          ],
          "name": "stderr"
        },
        {
          "output_type": "execute_result",
          "data": {
            "text/plain": [
              "<function matplotlib.pyplot.show>"
            ]
          },
          "metadata": {
            "tags": []
          },
          "execution_count": 18
        },
        {
          "output_type": "display_data",
          "data": {
            "image/png": "[encoded data removed]",
            "text/plain": [
              "<Figure size 432x288 with 1 Axes>"
            ]
          },
          "metadata": {
            "tags": [],
            "needs_background": "light"
          }
        }
      ]
    },
    {
      "cell_type": "markdown",
      "metadata": {
        "id": "aD3-Qh5naW7G"
      },
      "source": [
        "### Improved capabilities!\n",
        "\n",
        "+ Slow the robot while turning ($v_c$ for turn and straight needed)\n",
        "\n",
        "+ How to accommodate a sampling time < 1.0s (hint: think of sampling instances instead of time)"
      ]
    },
    {
      "cell_type": "code",
      "metadata": {
        "id": "S9MTvH46aW7G",
        "colab": {
          "base_uri": "https://localhost:8080/",
          "height": 321
        },
        "outputId": "3b155419-56fd-45d9-8cc7-61e7b28caf08"
      },
      "source": [
        "def get_open_loop_commands(route, vc_slow=0.5,vc_fast=1, wc=np.pi/12, dt=1.0):\n",
        "    all_w = []\n",
        "    all_v = []\n",
        "    omegas = {'straight': 0, 'left': wc, 'right': -wc}\n",
        "    omegas2 = {'straight': vc_fast, 'left': vc_slow, 'right': vc_slow}\n",
        "\n",
        "    for manoeuvre, command in route:\n",
        "      u = np.ceil(command/vc_fast).astype('int')\n",
        "      uv = np.ceil(command/vc_slow).astype('int')\n",
        "      v = np.ceil(np.deg2rad(command)/wc).astype('int')\n",
        "\n",
        "      t_cmd = u if manoeuvre == 'straight' else v\n",
        "      all_w += [omegas[manoeuvre]]*t_cmd\n",
        "      #for straight vc_fast & for turn vc_slow\n",
        "      t_cmd2 = u if manoeuvre == 'straight' else uv\n",
        "      all_v += [omegas2[manoeuvre]]*t_cmd2\n",
        "\n",
        "    return all_v, all_w\n",
        "\n",
        "\n",
        "all_v, all_w = get_open_loop_commands([(\"straight\", 5), (\"right\", 90), (\"straight\", 6), (\"left\", 85)])\n",
        "\n",
        "#generating robot trajectory\n",
        "robot_trajectory = []\n",
        "pose = (0, 0, np.pi/2)\n",
        "for v, w in zip(all_v, all_w):\n",
        "    # store new pose\n",
        "    robot_trajectory.append(pose)\n",
        "    #instruction to take v, w and compute new pose    \n",
        "    pose = unicycle_model(pose, v, w, 1)\n",
        "robot_trajectory = np.array(robot_trajectory)\n",
        "\n",
        "# plot robot trajectory\n",
        "plt.figure()\n",
        "plt.grid()\n",
        "plt.axes().set_aspect(\"equal\",\"datalim\")\n",
        "plt.plot(robot_trajectory[:,0], robot_trajectory[:,1])\n",
        "\n",
        "#show first and last robot positions with + markers\n",
        "xi, yi, _ = robot_trajectory[0]\n",
        "xf, yf, _ = robot_trajectory[-1]\n",
        "plt.plot(xi, yi, 'r+', ms=10)\n",
        "plt.plot(xf, yf, 'r+', ms=10)\n",
        "plt.show"
      ],
      "execution_count": 22,
      "outputs": [
        {
          "output_type": "stream",
          "text": [
            "/usr/local/lib/python3.7/dist-packages/ipykernel_launcher.py:36: MatplotlibDeprecationWarning: Adding an axes using the same arguments as a previous axes currently reuses the earlier instance.  In a future version, a new instance will always be created and returned.  Meanwhile, this warning can be suppressed, and the future behavior ensured, by passing a unique label to each axes instance.\n"
          ],
          "name": "stderr"
        },
        {
          "output_type": "execute_result",
          "data": {
            "text/plain": [
              "<function matplotlib.pyplot.show>"
            ]
          },
          "metadata": {
            "tags": []
          },
          "execution_count": 22
        },
        {
          "output_type": "display_data",
          "data": {
            "image/png": "[encoded data removed]",
            "text/plain": [
              "<Figure size 432x288 with 1 Axes>"
            ]
          },
          "metadata": {
            "tags": [],
            "needs_background": "light"
          }
        }
      ]
    }
  ]
}