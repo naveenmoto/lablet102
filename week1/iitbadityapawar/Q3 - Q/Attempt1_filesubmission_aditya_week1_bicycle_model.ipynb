{
  "nbformat": 4,
  "nbformat_minor": 0,
  "metadata": {
    "kernelspec": {
      "display_name": "Python 3",
      "language": "python",
      "name": "python3"
    },
    "language_info": {
      "codemirror_mode": {
        "name": "ipython",
        "version": 3
      },
      "file_extension": ".py",
      "mimetype": "text/x-python",
      "name": "python",
      "nbconvert_exporter": "python",
      "pygments_lexer": "ipython3",
      "version": "3.9.1"
    },
    "varInspector": {
      "cols": {
        "lenName": 16,
        "lenType": 16,
        "lenVar": 40
      },
      "kernels_config": {
        "python": {
          "delete_cmd_postfix": "",
          "delete_cmd_prefix": "del ",
          "library": "var_list.py",
          "varRefreshCmd": "print(var_dic_list())"
        },
        "r": {
          "delete_cmd_postfix": ") ",
          "delete_cmd_prefix": "rm(",
          "library": "var_list.r",
          "varRefreshCmd": "cat(var_dic_list()) "
        }
      },
      "position": {
        "height": "144px",
        "left": "1090px",
        "right": "20px",
        "top": "13px",
        "width": "350px"
      },
      "types_to_exclude": [
        "module",
        "function",
        "builtin_function_or_method",
        "instance",
        "_Feature"
      ],
      "window_display": true
    },
    "colab": {
      "name": "aditya_week1_bicycle_model.ipynb",
      "provenance": [],
      "collapsed_sections": []
    }
  },
  "cells": [
    {
      "cell_type": "code",
      "metadata": {
        "id": "gpGPl3rxD5bt"
      },
      "source": [
        "import pandas as pd\n",
        "import numpy as np\n",
        "import matplotlib.pyplot as plt\n",
        "%matplotlib inline\n",
        "import doctest\n",
        "import copy"
      ],
      "execution_count": 1,
      "outputs": []
    },
    {
      "cell_type": "code",
      "metadata": {
        "id": "Cy-IHdN_D5bv"
      },
      "source": [
        "#https://stackoverflow.com/questions/40137950/possible-to-run-python-doctest-on-a-jupyter-cell-function\n",
        "def test(func):\n",
        "    '''\n",
        "    Use test as a decorator to a function with doctests in Jupyter notebook. \n",
        "    Run the cell to see the results of the doctests.\n",
        "    '''\n",
        "    globs = copy.copy(globals())\n",
        "    globs.update({func.__name__:func})\n",
        "    doctest.run_docstring_examples(func, globs, verbose=True, name=func.__name__)\n",
        "    return func"
      ],
      "execution_count": 2,
      "outputs": []
    },
    {
      "cell_type": "markdown",
      "metadata": {
        "id": "wItZX1gwD5bw"
      },
      "source": [
        "### Simulate straight line and circular movements with Bicycle model\n",
        "\n",
        "Robot is at the origin (0, 0) and facing North, i.e, $\\theta = \\pi/2$. Assume the wheelbase of the vehicle $L$ = 0.9 m"
      ]
    },
    {
      "cell_type": "code",
      "metadata": {
        "id": "Zeb2OgYeD5bx",
        "colab": {
          "base_uri": "https://localhost:8080/"
        },
        "outputId": "94803437-2fec-4ab3-99f4-1e41d7c5c0fa"
      },
      "source": [
        "@test \n",
        "def bicycle_model(curr_pose, v, delta, dt=1.0):\n",
        "    '''\n",
        "    >>> bicycle_model((0.0,0.0,0.0), 1.0, 0.0)\n",
        "    (1.0, 0.0, 0.0)\n",
        "    >>> bicycle_model((0.0,0.0,0.0), 0.0, np.pi/4)\n",
        "    (0.0, 0.0, 0.0) \n",
        "    >>> bicycle_model((0.0, 0.0, 0.0), 1.0, np.pi/4)\n",
        "    (1.0, 0.0, 1.11) \n",
        "    '''\n",
        "    # write code to calculate next_pose\n",
        "    # refer to the kinematic equations of a bicycle model\n",
        "    x, y, theta = curr_pose\n",
        "    L = 0.9\n",
        "    x += v*np.cos(theta)\n",
        "    y += v*np.sin(theta)\n",
        "    theta += (v*np.tan(delta))/L\n",
        "    \n",
        "    # Keep theta bounded between [-pi, pi]\n",
        "    theta = np.arctan2(np.sin(theta), np.cos(theta))\n",
        "    # return calculated (x, y, theta)\n",
        "   \n",
        "    return x, y, theta"
      ],
      "execution_count": 36,
      "outputs": [
        {
          "output_type": "stream",
          "text": [
            "Finding tests in bicycle_model\n",
            "Trying:\n",
            "    bicycle_model((0.0,0.0,0.0), 1.0, 0.0)\n",
            "Expecting:\n",
            "    (1.0, 0.0, 0.0)\n",
            "ok\n",
            "Trying:\n",
            "    bicycle_model((0.0,0.0,0.0), 0.0, np.pi/4)\n",
            "Expecting:\n",
            "    (0.0, 0.0, 0.0) \n",
            "**********************************************************************\n",
            "File \"__main__\", line 6, in bicycle_model\n",
            "Failed example:\n",
            "    bicycle_model((0.0,0.0,0.0), 0.0, np.pi/4)\n",
            "Expected:\n",
            "    (0.0, 0.0, 0.0) \n",
            "Got:\n",
            "    (0.0, 0.0, 0.0)\n",
            "Trying:\n",
            "    bicycle_model((0.0, 0.0, 0.0), 1.0, np.pi/4)\n",
            "Expecting:\n",
            "    (1.0, 0.0, 1.11) \n",
            "**********************************************************************\n",
            "File \"__main__\", line 8, in bicycle_model\n",
            "Failed example:\n",
            "    bicycle_model((0.0, 0.0, 0.0), 1.0, np.pi/4)\n",
            "Expected:\n",
            "    (1.0, 0.0, 1.11) \n",
            "Got:\n",
            "    (1.0, 0.0, 1.111111111111111)\n"
          ],
          "name": "stdout"
        }
      ]
    },
    {
      "cell_type": "code",
      "metadata": {
        "id": "rkAm7KZ5D5by"
      },
      "source": [
        "#straight line\n",
        "straight_trajectory = []\n",
        "pose = (0, 0, np.pi/2)\n",
        "steps = 10\n",
        "#fill in v and delta values\n",
        "all_v = np.ones(steps)\n",
        "all_delta = np.zeros(steps)\n",
        "for v,delta in zip(all_v,all_delta):\n",
        "   #store pose\n",
        "   straight_trajectory.append(pose) \n",
        "   #compute new pose\n",
        "   pose = bicycle_model(pose, v, delta)\n",
        "straight_trajectory = np.array(straight_trajectory)"
      ],
      "execution_count": 37,
      "outputs": []
    },
    {
      "cell_type": "code",
      "metadata": {
        "colab": {
          "base_uri": "https://localhost:8080/"
        },
        "id": "Lw79fQDvwc-_",
        "outputId": "ab301d37-0bea-48f8-bdcb-0b6dc6b9c907"
      },
      "source": [
        "straight_trajectory"
      ],
      "execution_count": 38,
      "outputs": [
        {
          "output_type": "execute_result",
          "data": {
            "text/plain": [
              "array([[0.00000000e+00, 0.00000000e+00, 1.57079633e+00],\n",
              "       [6.12323400e-17, 1.00000000e+00, 1.57079633e+00],\n",
              "       [1.22464680e-16, 2.00000000e+00, 1.57079633e+00],\n",
              "       [1.83697020e-16, 3.00000000e+00, 1.57079633e+00],\n",
              "       [2.44929360e-16, 4.00000000e+00, 1.57079633e+00],\n",
              "       [3.06161700e-16, 5.00000000e+00, 1.57079633e+00],\n",
              "       [3.67394040e-16, 6.00000000e+00, 1.57079633e+00],\n",
              "       [4.28626380e-16, 7.00000000e+00, 1.57079633e+00],\n",
              "       [4.89858720e-16, 8.00000000e+00, 1.57079633e+00],\n",
              "       [5.51091060e-16, 9.00000000e+00, 1.57079633e+00]])"
            ]
          },
          "metadata": {
            "tags": []
          },
          "execution_count": 38
        }
      ]
    },
    {
      "cell_type": "code",
      "metadata": {
        "id": "9fNbts6TD5bz"
      },
      "source": [
        "#circle\n",
        "circle_trajectory = []\n",
        "pose = (0, 0, np.pi/2)\n",
        "steps = 10\n",
        "#fill in v and delta values\n",
        "all_v = np.ones(steps*100)\n",
        "all_delta = np.ones(steps*100)\n",
        "for v,delta in zip(all_v , all_delta):\n",
        "   #store pose\n",
        "   circle_trajectory.append(pose)\n",
        "   #compute new pose\n",
        "   pose = bicycle_model(pose,v,delta,0.01)\n",
        "circle_trajectory = np.array(circle_trajectory)\n"
      ],
      "execution_count": 65,
      "outputs": []
    },
    {
      "cell_type": "code",
      "metadata": {
        "colab": {
          "base_uri": "https://localhost:8080/"
        },
        "id": "2kJUkjanwueO",
        "outputId": "6b0a39f7-e196-4fb7-d4ad-578bf03fcae0"
      },
      "source": [
        "circle_trajectory"
      ],
      "execution_count": 40,
      "outputs": [
        {
          "output_type": "execute_result",
          "data": {
            "text/plain": [
              "array([[ 0.00000000e+00,  0.00000000e+00,  1.57079633e+00],\n",
              "       [ 6.12323400e-17,  1.00000000e+00, -2.98193595e+00],\n",
              "       [-9.87281919e-01,  8.41020717e-01, -1.25148293e+00],\n",
              "       ...,\n",
              "       [-1.04560177e+00,  7.17756053e-01, -1.04349484e+00],\n",
              "       [-5.42398555e-01, -1.46412060e-01,  6.86958192e-01],\n",
              "       [ 2.30780113e-01,  4.87776198e-01,  2.41741122e+00]])"
            ]
          },
          "metadata": {
            "tags": []
          },
          "execution_count": 40
        }
      ]
    },
    {
      "cell_type": "code",
      "metadata": {
        "id": "RS90vnzYD5b0",
        "colab": {
          "base_uri": "https://localhost:8080/",
          "height": 282
        },
        "outputId": "3d96e439-9b1e-4756-de97-4222f1e894fa"
      },
      "source": [
        "### Plotting straight trajectories\n",
        "plt.figure()\n",
        "plt.axes().set_aspect(\"equal\",\"datalim\")\n",
        "plt.plot(straight_trajectory[:,0],straight_trajectory[:,1])"
      ],
      "execution_count": 41,
      "outputs": [
        {
          "output_type": "execute_result",
          "data": {
            "text/plain": [
              "[<matplotlib.lines.Line2D at 0x7fa3b8fd8590>]"
            ]
          },
          "metadata": {
            "tags": []
          },
          "execution_count": 41
        },
        {
          "output_type": "display_data",
          "data": {
            "image/png": "[encoded data removed]",
            "text/plain": [
              "<Figure size 432x288 with 1 Axes>"
            ]
          },
          "metadata": {
            "tags": [],
            "needs_background": "light"
          }
        }
      ]
    },
    {
      "cell_type": "code",
      "metadata": {
        "colab": {
          "base_uri": "https://localhost:8080/",
          "height": 283
        },
        "id": "8hVQwpYDw085",
        "outputId": "9e20dc19-b072-44c9-9d0b-f41105a7c481"
      },
      "source": [
        "### Plotting circle trajectories\n",
        "plt.figure()\n",
        "plt.axes().set_aspect(\"equal\",\"datalim\")\n",
        "plt.plot(circle_trajectory[:,0],circle_trajectory[:,1],'*')"
      ],
      "execution_count": 70,
      "outputs": [
        {
          "output_type": "execute_result",
          "data": {
            "text/plain": [
              "[<matplotlib.lines.Line2D at 0x7fa3b8be1310>]"
            ]
          },
          "metadata": {
            "tags": []
          },
          "execution_count": 70
        },
        {
          "output_type": "display_data",
          "data": {
            "image/png": "[encoded data removed]",
            "text/plain": [
              "<Figure size 432x288 with 1 Axes>"
            ]
          },
          "metadata": {
            "tags": [],
            "needs_background": "light"
          }
        }
      ]
    },
    {
      "cell_type": "markdown",
      "metadata": {
        "id": "KPMhUJJBD5b1"
      },
      "source": [
        "### Simulate Bicycle model with Open Loop control\n",
        "\n",
        "We want the robot to follow these instructions\n",
        "\n",
        "**straight 10m, right turn, straight 5m, left turn, straight 8m, right turn**\n",
        "\n",
        "It is in open loop; control commands have to be calculated upfront. How do we do it?\n",
        "\n",
        "To keep things simple in the first iteration, we can fix $v = v_c$ and change only $\\delta$. To make it even simpler, $\\delta$ can take only 2 values \n",
        "+ 0 when the vehicle is going straight \n",
        "+ $\\delta = \\delta_c$ when turning\n",
        "\n",
        "This leaves only 2 questions to be answered\n",
        "* What should be $v_c$ and $\\delta_c$?\n",
        "* When should $\\delta$ change from 0 and back?"
      ]
    },
    {
      "cell_type": "code",
      "metadata": {
        "id": "-U-6NqIoD5b2"
      },
      "source": [
        "vc = 1 # m/s\n",
        "delta_c = np.pi/12 # rad/s\n",
        "L = 0.9 #m\n",
        "\n",
        "#calculate time taken to finish a quarter turn (pi/4)\n",
        "# unlike you would need to take into account v_c and L of the vehicle as well\n",
        "t_turn = int(np.pi/2/(vc*np.tan(delta_c)/L)) \n",
        "\n",
        "#calculate the time taken to finish straight segments\n",
        "# omega array is to be padded with equivalent zeros\n",
        "\n",
        "t_straight1, t_straight2, t_straight3 = int(10/vc) , int(5/vc) , int(8/vc)\n",
        "\n",
        "all_delta = [0]*t_straight1 + [delta_c]*t_turn + \\\n",
        "        [0]*t_straight2 + [delta_c]*t_turn + \\\n",
        "        [0]*t_straight3 + [-delta_c]*t_turn\n",
        "all_v = vc*np.ones_like(all_delta)"
      ],
      "execution_count": 55,
      "outputs": []
    },
    {
      "cell_type": "markdown",
      "metadata": {
        "id": "lI-eXKo9D5b3"
      },
      "source": [
        "Let us make a cool function out of this!\n",
        "\n",
        "Take in as input a generic route and convert it into open-loop commands\n",
        "\n",
        "Input format: [(\"straight\", 5), (\"right\", 90), (\"straight\", 6), (\"left\", 85)]\n",
        "\n",
        "Output: all_v, all_delta"
      ]
    },
    {
      "cell_type": "code",
      "metadata": {
        "id": "dydnwuPmD5b4"
      },
      "source": [
        "def get_open_loop_commands(route, vc = 1, delta = np.pi/12):\n",
        "    L = 0.9\n",
        "    all_delta = []\n",
        "    wc = vc*np.tan(delta)/L\n",
        "    omegas = {'straight':0, 'left':wc, 'right':-wc}\n",
        "    for manoeuvre, command in route:\n",
        "      t_cmd = np.ceil(command/vc).astype('int') if manoeuvre == 'straight' else np.ceil(np.deg2rad(command)/wc).astype('int')\n",
        "      all_delta += [omegas[manoeuvre]]*t_cmd\n",
        "    all_v = vc*np.ones_like(all_delta)\n",
        "    #for i in all_delta:\n",
        "      #all_v[i] = vc_fast if all_w[i] == 0 else vc_slow\n",
        "    return all_v, all_delta"
      ],
      "execution_count": 56,
      "outputs": []
    },
    {
      "cell_type": "markdown",
      "metadata": {
        "id": "wPg13GHQD5b5"
      },
      "source": [
        "### Unit test your function with the following inputs\n",
        "\n",
        "+ [(\"straight\", 5), (\"right\", 90), (\"straight\", 6), (\"left\", 85)]\n",
        "+ $v_c = 1$\n",
        "+ $delta_c = \\pi/12$"
      ]
    },
    {
      "cell_type": "code",
      "metadata": {
        "id": "ga3MspwND5b5"
      },
      "source": [
        "all_v , all_delta = get_open_loop_commands([(\"straight\", 5), (\"right\", 90), (\"straight\", 6), (\"left\", 85)])"
      ],
      "execution_count": 57,
      "outputs": []
    },
    {
      "cell_type": "code",
      "metadata": {
        "id": "elCuQPcsD5b6"
      },
      "source": [
        "robot_trajectory = []\n",
        "all_v, all_delta = get_open_loop_commands([(\"straight\", 5), (\"right\", 90), (\"straight\", 6), (\"left\", 85)]) \n",
        "pose = np.array([0, 0, np.pi/2])\n",
        "for v, delta in zip(all_v, all_delta):\n",
        "    #store pose\n",
        "    \n",
        "    #instruction to take v, w and compute new pose    \n",
        "    pose = bicycle_model(pose,v,delta)\n",
        "    robot_trajectory.append(pose)\n",
        "robot_trajectory = np.array(robot_trajectory)"
      ],
      "execution_count": 61,
      "outputs": []
    },
    {
      "cell_type": "code",
      "metadata": {
        "colab": {
          "base_uri": "https://localhost:8080/"
        },
        "id": "7aWySZKUBDR2",
        "outputId": "b6564273-39f8-41ff-caca-6e7ac2388fc5"
      },
      "source": [
        "robot_trajectory"
      ],
      "execution_count": 62,
      "outputs": [
        {
          "output_type": "execute_result",
          "data": {
            "text/plain": [
              "array([[ 6.12323400e-17,  1.00000000e+00,  1.57079633e+00],\n",
              "       [ 1.22464680e-16,  2.00000000e+00,  1.57079633e+00],\n",
              "       [ 1.83697020e-16,  3.00000000e+00,  1.57079633e+00],\n",
              "       [ 2.44929360e-16,  4.00000000e+00,  1.57079633e+00],\n",
              "       [ 3.06161700e-16,  5.00000000e+00,  1.57079633e+00],\n",
              "       [ 3.67394040e-16,  6.00000000e+00,  1.22986157e+00],\n",
              "       [ 3.34368197e-01,  6.94244252e+00,  8.88926805e-01],\n",
              "       [ 9.64613810e-01,  7.71883834e+00,  5.47992044e-01],\n",
              "       [ 1.81818615e+00,  8.23981269e+00,  2.07057283e-01],\n",
              "       [ 2.79682626e+00,  8.44539362e+00, -1.33877478e-01],\n",
              "       [ 3.78787805e+00,  8.31191570e+00, -4.74812239e-01],\n",
              "       [ 4.67725663e+00,  7.85474424e+00, -4.74812239e-01],\n",
              "       [ 5.56663520e+00,  7.39757277e+00, -4.74812239e-01],\n",
              "       [ 6.45601378e+00,  6.94040131e+00, -4.74812239e-01],\n",
              "       [ 7.34539236e+00,  6.48322984e+00, -4.74812239e-01],\n",
              "       [ 8.23477093e+00,  6.02605838e+00, -4.74812239e-01],\n",
              "       [ 9.12414951e+00,  5.56888691e+00, -4.74812239e-01],\n",
              "       [ 1.00135281e+01,  5.11171545e+00, -1.33877478e-01],\n",
              "       [ 1.10045799e+01,  4.97823753e+00,  2.07057283e-01],\n",
              "       [ 1.19832200e+01,  5.18381846e+00,  5.47992044e-01],\n",
              "       [ 1.28367923e+01,  5.70479281e+00,  8.88926805e-01],\n",
              "       [ 1.34670379e+01,  6.48118862e+00,  1.22986157e+00]])"
            ]
          },
          "metadata": {
            "tags": []
          },
          "execution_count": 62
        }
      ]
    },
    {
      "cell_type": "code",
      "metadata": {
        "id": "qK5s5Em9D5b6",
        "colab": {
          "base_uri": "https://localhost:8080/",
          "height": 282
        },
        "outputId": "c8a4a854-cf24-47bb-948a-3418d3d52df3"
      },
      "source": [
        "# plot robot trajectory\n",
        "plt.figure()\n",
        "plt.grid()\n",
        "#plt.plot( )\n",
        "\n",
        "#show first and last robot positions with + markers\n",
        "xi,yi, thetai = robot_trajectory[0]\n",
        "xf,yf, thetaf = robot_trajectory[-1]\n",
        "plt.plot(robot_trajectory[:,0],robot_trajectory[:,1])\n",
        "# example: plt.plot(0, 0, 'r+', ms=10)\n",
        "\n"
      ],
      "execution_count": 63,
      "outputs": [
        {
          "output_type": "execute_result",
          "data": {
            "text/plain": [
              "[<matplotlib.lines.Line2D at 0x7fa3b8de7950>]"
            ]
          },
          "metadata": {
            "tags": []
          },
          "execution_count": 63
        },
        {
          "output_type": "display_data",
          "data": {
            "image/png": "[encoded data removed]",
            "text/plain": [
              "<Figure size 432x288 with 1 Axes>"
            ]
          },
          "metadata": {
            "tags": [],
            "needs_background": "light"
          }
        }
      ]
    },
    {
      "cell_type": "markdown",
      "metadata": {
        "id": "H-ecY7zbD5b7"
      },
      "source": [
        "### Shape the turn\n",
        "Let us try something cooler than before (though a bit tricky in open loop). Instead of boring circular arcs, change the steering angle so that the robot orientation changes as shown in the equation below\n",
        "\n",
        "$\\theta = (\\theta_i - \\theta_f) * (1 - 3x^2 + 2\\theta^3) + \\theta_f  \\thinspace \\vee x \\in [0,1]$\n",
        "\n",
        "First let us plot this"
      ]
    },
    {
      "cell_type": "code",
      "metadata": {
        "id": "DQbmFZmXD5b8"
      },
      "source": [
        "def poly_turn(theta_i, theta_f, n=10):\n",
        "    x = np.linspace(0, 1, num=n)\n",
        "    return (theta_i-theta_f) * (1 - 3 * x * x + 2 * (x**3)) + theta_f"
      ],
      "execution_count": 67,
      "outputs": []
    },
    {
      "cell_type": "markdown",
      "metadata": {
        "id": "58KMj70TD5b9"
      },
      "source": [
        "How does a right turn look? "
      ]
    },
    {
      "cell_type": "code",
      "metadata": {
        "id": "i-ojobp37cs6",
        "colab": {
          "base_uri": "https://localhost:8080/"
        },
        "outputId": "97a91c33-34ee-49e9-d00b-415ce29175fc"
      },
      "source": [
        "theta_dot = np.diff(poly_turn(np.pi/2, 0))\n",
        "print(theta_dot)"
      ],
      "execution_count": 68,
      "outputs": [
        {
          "output_type": "stream",
          "text": [
            "[-0.05386819 -0.14436674 -0.20900856 -0.24779366 -0.26072202 -0.24779366\n",
            " -0.20900856 -0.14436674 -0.05386819]\n"
          ],
          "name": "stdout"
        }
      ]
    },
    {
      "cell_type": "code",
      "metadata": {
        "id": "7INgEBQvD5b9",
        "colab": {
          "base_uri": "https://localhost:8080/",
          "height": 282
        },
        "outputId": "6e9f07df-d303-4d9b-cb74-20cf063d9d06"
      },
      "source": [
        "plt.figure()\n",
        "plt.plot(poly_turn(np.pi/2, 0),'.')\n",
        "plt.plot(poly_turn(np.pi/2, 0))"
      ],
      "execution_count": 69,
      "outputs": [
        {
          "output_type": "execute_result",
          "data": {
            "text/plain": [
              "[<matplotlib.lines.Line2D at 0x7fa3b8c6fa90>]"
            ]
          },
          "metadata": {
            "tags": []
          },
          "execution_count": 69
        },
        {
          "output_type": "display_data",
          "data": {
            "image/png": "[encoded data removed]",
            "text/plain": [
              "<Figure size 432x288 with 1 Axes>"
            ]
          },
          "metadata": {
            "tags": [],
            "needs_background": "light"
          }
        }
      ]
    },
    {
      "cell_type": "markdown",
      "metadata": {
        "id": "Gk546i4HD5b-"
      },
      "source": [
        "Now plot a left turn (North to West)"
      ]
    },
    {
      "cell_type": "code",
      "metadata": {
        "id": "MIcpSAHhD5b_",
        "colab": {
          "base_uri": "https://localhost:8080/",
          "height": 284
        },
        "outputId": "f2b957ac-356f-4148-ad6e-cf8e1966de63"
      },
      "source": [
        "plt.figure()\n",
        "plt.plot(poly_turn(np.pi/2, np.pi),'.')\n",
        "plt.plot(poly_turn(np.pi/2, np.pi))"
      ],
      "execution_count": 71,
      "outputs": [
        {
          "output_type": "execute_result",
          "data": {
            "text/plain": [
              "[<matplotlib.lines.Line2D at 0x7fa3b8bbf610>]"
            ]
          },
          "metadata": {
            "tags": []
          },
          "execution_count": 71
        },
        {
          "output_type": "display_data",
          "data": {
            "image/png": "[encoded data removed]",
            "text/plain": [
              "<Figure size 432x288 with 1 Axes>"
            ]
          },
          "metadata": {
            "tags": [],
            "needs_background": "light"
          }
        }
      ]
    },
    {
      "cell_type": "markdown",
      "metadata": {
        "id": "rj670M1aD5b_"
      },
      "source": [
        "How does $\\theta$ change when we had constant $\\delta$? Plot it"
      ]
    },
    {
      "cell_type": "code",
      "metadata": {
        "id": "ywtHa7z3D5cA",
        "colab": {
          "base_uri": "https://localhost:8080/",
          "height": 282
        },
        "outputId": "942298a6-d2a2-400f-c9fa-f225d891e7de"
      },
      "source": [
        "del_theta = np.diff(poly_turn(np.pi/2, np.pi,10))\n",
        "plt.plot(del_theta,'.')\n",
        "plt.plot(del_theta)"
      ],
      "execution_count": 72,
      "outputs": [
        {
          "output_type": "execute_result",
          "data": {
            "text/plain": [
              "[<matplotlib.lines.Line2D at 0x7fa3b8b2eb90>]"
            ]
          },
          "metadata": {
            "tags": []
          },
          "execution_count": 72
        },
        {
          "output_type": "display_data",
          "data": {
            "image/png": "[encoded data removed]",
            "text/plain": [
              "<Figure size 432x288 with 1 Axes>"
            ]
          },
          "metadata": {
            "tags": [],
            "needs_background": "light"
          }
        }
      ]
    },
    {
      "cell_type": "markdown",
      "metadata": {
        "id": "7QGyMtTxD5cA"
      },
      "source": [
        "We know the rate of change of $\\theta$ is proportional to $\\delta$. Can you work out the sequence of $\\delta$ to change $\\theta$ as in the cubic polynomial shown above?"
      ]
    },
    {
      "cell_type": "code",
      "metadata": {
        "id": "UZ590VkxD5cA"
      },
      "source": [
        ""
      ],
      "execution_count": null,
      "outputs": []
    }
  ]
}