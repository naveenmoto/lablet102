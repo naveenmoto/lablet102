{
 "cells": [
  {
   "cell_type": "markdown",
   "metadata": {
    "id": "u88YQ_g5_E10"
   },
   "source": [
    "You now know the following\n",
    "\n",
    "1. Generate open-loop control from a given route\n",
    "\n",
    "2. Simulate vehicular robot motion using bicycle/ unicycle model\n",
    "\n",
    "Imagine you want to make an utility for your co-workers to try and understand vehicle models. \n",
    "Dashboards are common way to do this.\n",
    "\n",
    "There are several options out there : Streamlit, Voila, Observable etc\n",
    "\n",
    "Follow this\n",
    "<a href=\"https://medium.com/plotly/introducing-jupyterdash-811f1f57c02e\">Medium post</a> on Jupyter Dash and see how to package what you learnt today in an interactive manner\n",
    "\n",
    "Here is a   <a href=\"https://stackoverflow.com/questions/53622518/launch-a-dash-app-in-a-google-colab-notebook\">stackoverflow question </a> on how to run dash applications on Collab"
   ]
  },
  {
   "cell_type": "markdown",
   "metadata": {
    "id": "dCSchex3_E12"
   },
   "source": [
    "What can you assume?\n",
    "+ Fix $v,\\omega$ or $v,\\delta$ depending on the model (users can still pick the actual value)\n",
    "+ fixed wheelbase for bicycle model\n",
    "\n",
    "Users can choose \n",
    "+ unicycle and bicycle models\n",
    "+ A pre-configured route (\"S\", \"inverted-S\", \"figure-of-eight\" etc)\n",
    "+ 1 of 3 values for $v, \\omega$ (or $\\delta$) "
   ]
  },
  {
   "cell_type": "code",
   "execution_count": 1,
   "metadata": {},
   "outputs": [],
   "source": [
    "import plotly.express as px\n",
    "from jupyter_dash import JupyterDash\n",
    "import dash_core_components as dcc\n",
    "import dash_html_components as html\n",
    "from dash.dependencies import Input, Output\n",
    "\n",
    "import numpy as np"
   ]
  },
  {
   "cell_type": "code",
   "execution_count": 2,
   "metadata": {},
   "outputs": [],
   "source": [
    "def bicycle_model(curr_pose, v, delta, dt=1.0, l = 0.9):\n",
    "    '''\n",
    "    >>> bicycle_model((0.0,0.0,0.0), 1.0, 0.0)\n",
    "    (1.0, 0.0, 0.0)\n",
    "    >>> bicycle_model((0.0,0.0,0.0), 0.0, np.pi/4)\n",
    "    (0.0, 0.0, 0.0) \n",
    "    >>> bicycle_model((0.0, 0.0, 0.0), 1.0, np.pi/4)\n",
    "    (1.0, 0.0, 1.11) \n",
    "    '''\n",
    "    # write code to calculate next_pose\n",
    "    # refer to the kinematic equations of a bicycle model\n",
    "    x, y, theta = curr_pose\n",
    "    x += v*np.cos(theta)*dt\n",
    "    y += v*np.sin(theta)*dt\n",
    "    theta += v*np.tan(delta)*dt/l\n",
    "    \n",
    "    # Keep theta bounded between [-pi, pi]\n",
    "    theta = np.arctan2(np.sin(theta), np.cos(theta))\n",
    "    # return calculated (x, y, theta)\n",
    "    return x, y, theta\n",
    "def get_open_loop_bicycle_commands(route, vc_slow=0.5, vc_fast=1, deltac=np.pi/12, dt=1.0, l=0.9):\n",
    "    all_delta = []\n",
    "    all_v = []\n",
    "    deltas = {'straight': 0, 'left': deltac, 'right': -deltac}\n",
    "    for manoeuvre, command in route:\n",
    "        u = command/vc_fast/dt\n",
    "        dtheta = vc_slow/l*np.tan(deltac)*dt\n",
    "        v = np.deg2rad(command)/dtheta\n",
    "        t_cmd = u if manoeuvre == 'straight' else v\n",
    "        t_cmd = np.ceil(t_cmd).astype('int')\n",
    "        all_delta += [deltas[manoeuvre]]*t_cmd\n",
    "        if manoeuvre == \"straight\":\n",
    "            all_v += [vc_fast]*t_cmd\n",
    "        else:\n",
    "            all_v += [vc_slow]*t_cmd\n",
    "    return all_v, all_delta\n",
    "def unicycle_model(curr_pose, v, w, dt=1.0):\n",
    "    '''\n",
    "    >>> unicycle_model((0.0,0.0,0.0), 1.0, 0.0)\n",
    "    (1.0, 0.0, 0.0)\n",
    "    >>> unicycle_model((0.0,0.0,0.0), 0.0, 1.0)\n",
    "    (0.0, 0.0, 1.0)\n",
    "    >>> unicycle_model((0.0, 0.0, 0.0), 1.0, 1.0)\n",
    "    (1.0, 0.0, 1.0)\n",
    "    '''\n",
    "    ## write code to calculate next_pose\n",
    "    # refer to the kinematic equations of a unicycle model\n",
    "    x, y, theta = curr_pose\n",
    "    x += v*np.cos(theta)*dt\n",
    "    y += v*np.sin(theta)*dt\n",
    "    theta += w*dt\n",
    "    \n",
    "    # Keep theta bounded between [-pi, pi]\n",
    "    theta = np.arctan2(np.sin(theta), np.cos(theta))\n",
    "\n",
    "    # return calculated (x, y, theta)\n",
    "    return x, y, theta\n",
    "def get_open_loop_unicycle_commands(route, vc_slow=0.5,vc_fast=1, wc=np.pi/12, dt=1.0):\n",
    "    all_w = []\n",
    "    all_v = []\n",
    "    omegas = {'straight': 0, 'left': wc, 'right': -wc}\n",
    "    for manoeuvre, command in route:\n",
    "        u = np.ceil(command/vc_fast).astype('int')\n",
    "        v = np.ceil(np.deg2rad(command)/wc).astype('int')\n",
    "        t_cmd = u if manoeuvre == 'straight' else v\n",
    "        t_cmd = np.ceil(t_cmd/dt).astype('int')\n",
    "        all_w += [omegas[manoeuvre]]*t_cmd\n",
    "        if manoeuvre == \"straight\":\n",
    "            all_v += [vc_fast]*t_cmd\n",
    "        else:\n",
    "            all_v += [vc_slow]*t_cmd\n",
    "    return all_v, all_w"
   ]
  },
  {
   "cell_type": "code",
   "execution_count": 3,
   "metadata": {},
   "outputs": [],
   "source": [
    "routes = {\n",
    "    \"s\": [(\"left\",90),(\"straight\",5)]*3 + [(\"right\",90),(\"straight\",5)]*2,\n",
    "    \"inv-s\": [(\"right\",90),(\"straight\",5)]*3 + [(\"left\",90),(\"straight\",5)]*2,\n",
    "    \"fig-8\": [(\"left\",90),(\"straight\",5)]*3 + [(\"right\",90),(\"straight\",5)]*4 + [(\"left\",90),(\"straight\",5)]*2\n",
    "}"
   ]
  },
  {
   "cell_type": "code",
   "execution_count": 4,
   "metadata": {
    "scrolled": false
   },
   "outputs": [
    {
     "data": {
      "text/html": [
       "\n",
       "        <iframe\n",
       "            width=\"100%\"\n",
       "            height=\"650\"\n",
       "            src=\"http://127.0.0.1:8050/\"\n",
       "            frameborder=\"0\"\n",
       "            allowfullscreen\n",
       "        ></iframe>\n",
       "        "
      ],
      "text/plain": [
       "<IPython.lib.display.IFrame at 0x7f715d993d10>"
      ]
     },
     "metadata": {},
     "output_type": "display_data"
    }
   ],
   "source": [
    "app = JupyterDash(__name__)\n",
    "\n",
    "marks = {}\n",
    "for i in range(6): marks[i] = str(i)\n",
    "    \n",
    "marks_w = {}\n",
    "for i in range(0,61,15): marks_w[np.deg2rad(i)] = str(i) + \"°\"\n",
    "\n",
    "app.layout = html.Div([\n",
    "    html.H1(\"Vehicle Simulation Demo\"),\n",
    "    html.Label([\"Model\",\n",
    "               dcc.Dropdown(id=\"model-dropdown\",value='unicycle',options=[\n",
    "                {'label':'unicycle','value':'unicycle'},{'label':'bicycle','value':'bicycle'}\n",
    "            ])]),\n",
    "    html.Label([\n",
    "        \"Route\",\n",
    "        dcc.Dropdown(\n",
    "            id='route-dropdown',\n",
    "            value='s', options=[\n",
    "                {'label':'S','value':'s'},{'label':'inverted-S','value':'inv-s'},\n",
    "                {'label':'Figure of 8','value':'fig-8'},\n",
    "            ])\n",
    "    ]),\n",
    "    html.Label([\"v_slow\", dcc.Slider(id=\"v_slow-slider\",min=0.1,max=5,value=0.5,step=0.1,marks=marks)]),\n",
    "    html.Label([\"v_fast\", dcc.Slider(id=\"v_fast-slider\",min=0.1,max=5,value=1,step=0.1,marks=marks)]),\n",
    "    html.Label([\"w/delta \", dcc.Slider(id=\"w-slider\",min=np.deg2rad(0.1),max=np.deg2rad(60),value=np.deg2rad(30),step=np.deg2rad(1),marks=marks_w)]),\n",
    "    dcc.Graph(id='graph')\n",
    "])\n",
    "@app.callback(\n",
    "    Output(\"graph\",\"figure\"),\n",
    "    Input(\"v_slow-slider\",\"value\"),\n",
    "    Input(\"v_fast-slider\",\"value\"),\n",
    "    Input(\"w-slider\",\"value\"),\n",
    "    Input(\"model-dropdown\", \"value\"),\n",
    "    Input(\"route-dropdown\", \"value\")\n",
    ")\n",
    "def update_figure(v_slow, v_fast, w, model, route_index):\n",
    "#     if w == 0:\n",
    "#         return None\n",
    "    robot_trajectory = []\n",
    "    route = routes[route_index]\n",
    "    if model == \"unicycle\":\n",
    "        all_v, all_w = get_open_loop_unicycle_commands(route,vc_slow=v_slow,vc_fast=v_fast,wc=w,dt=0.01)\n",
    "    else:\n",
    "        all_v, all_w = get_open_loop_bicycle_commands(route,vc_slow=v_slow,vc_fast=v_fast,deltac=w,dt=0.01)\n",
    "    pose = (0, 0, np.pi/2)\n",
    "    for v, w in zip(all_v, all_w):\n",
    "        # store new pose\n",
    "        robot_trajectory.append(pose)\n",
    "        #instruction to take v, w and compute new pose\n",
    "        if model == \"unicycle\":\n",
    "            pose = unicycle_model(pose, v, w, dt=0.01)\n",
    "        else:\n",
    "            pose = bicycle_model(pose, v, w, dt=0.01)\n",
    "    robot_trajectory.append(pose)\n",
    "    robot_trajectory = np.array(robot_trajectory)   \n",
    "    robot_trajectory = robot_trajectory[:,:2]\n",
    "    fig = px.line(x=robot_trajectory[:,0],y=robot_trajectory[:,1])\n",
    "    fig.layout.yaxis.scaleanchor = 'x'\n",
    "    return fig\n",
    "app.run_server(mode='inline')"
   ]
  },
  {
   "cell_type": "code",
   "execution_count": null,
   "metadata": {},
   "outputs": [],
   "source": []
  }
 ],
 "metadata": {
  "colab": {
   "name": "dashboard.ipynb",
   "provenance": []
  },
  "kernelspec": {
   "display_name": "Python 3",
   "language": "python",
   "name": "python3"
  },
  "language_info": {
   "codemirror_mode": {
    "name": "ipython",
    "version": 3
   },
   "file_extension": ".py",
   "mimetype": "text/x-python",
   "name": "python",
   "nbconvert_exporter": "python",
   "pygments_lexer": "ipython3",
   "version": "3.7.10"
  },
  "varInspector": {
   "cols": {
    "lenName": 16,
    "lenType": 16,
    "lenVar": 40
   },
   "kernels_config": {
    "python": {
     "delete_cmd_postfix": "",
     "delete_cmd_prefix": "del ",
     "library": "var_list.py",
     "varRefreshCmd": "print(var_dic_list())"
    },
    "r": {
     "delete_cmd_postfix": ") ",
     "delete_cmd_prefix": "rm(",
     "library": "var_list.r",
     "varRefreshCmd": "cat(var_dic_list()) "
    }
   },
   "types_to_exclude": [
    "module",
    "function",
    "builtin_function_or_method",
    "instance",
    "_Feature"
   ],
   "window_display": false
  }
 },
 "nbformat": 4,
 "nbformat_minor": 1
}
