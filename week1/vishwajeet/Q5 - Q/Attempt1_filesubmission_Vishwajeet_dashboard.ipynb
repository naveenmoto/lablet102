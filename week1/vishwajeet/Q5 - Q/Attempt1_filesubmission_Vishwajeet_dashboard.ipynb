{
  "nbformat": 4,
  "nbformat_minor": 0,
  "metadata": {
    "kernelspec": {
      "display_name": "Python 3",
      "language": "python",
      "name": "python3"
    },
    "language_info": {
      "codemirror_mode": {
        "name": "ipython",
        "version": 3
      },
      "file_extension": ".py",
      "mimetype": "text/x-python",
      "name": "python",
      "nbconvert_exporter": "python",
      "pygments_lexer": "ipython3",
      "version": "3.9.1"
    },
    "varInspector": {
      "cols": {
        "lenName": 16,
        "lenType": 16,
        "lenVar": 40
      },
      "kernels_config": {
        "python": {
          "delete_cmd_postfix": "",
          "delete_cmd_prefix": "del ",
          "library": "var_list.py",
          "varRefreshCmd": "print(var_dic_list())"
        },
        "r": {
          "delete_cmd_postfix": ") ",
          "delete_cmd_prefix": "rm(",
          "library": "var_list.r",
          "varRefreshCmd": "cat(var_dic_list()) "
        }
      },
      "types_to_exclude": [
        "module",
        "function",
        "builtin_function_or_method",
        "instance",
        "_Feature"
      ],
      "window_display": false
    },
    "colab": {
      "name": "Vishwajeet_dashboard.ipynb",
      "provenance": [],
      "collapsed_sections": []
    }
  },
  "cells": [
    {
      "cell_type": "markdown",
      "metadata": {
        "id": "u88YQ_g5_E10"
      },
      "source": [
        "You now know the following\n",
        "\n",
        "1. Generate open-loop control from a given route\n",
        "\n",
        "2. Simulate vehicular robot motion using bicycle/ unicycle model\n",
        "\n",
        "Imagine you want to make an utility for your co-workers to try and understand vehicle models. \n",
        "Dashboards are common way to do this.\n",
        "\n",
        "There are several options out there : Streamlit, Voila, Observable etc\n",
        "\n",
        "Follow this\n",
        "<a href=\"https://medium.com/plotly/introducing-jupyterdash-811f1f57c02e\">Medium post</a> on Jupyter Dash and see how to package what you learnt today in an interactive manner\n",
        "\n",
        "Here is a   <a href=\"https://stackoverflow.com/questions/53622518/launch-a-dash-app-in-a-google-colab-notebook\">stackoverflow question </a> on how to run dash applications on Collab"
      ]
    },
    {
      "cell_type": "markdown",
      "metadata": {
        "id": "dCSchex3_E12"
      },
      "source": [
        "What can you assume?\n",
        "+ Fix $v,\\omega$ or $v,\\delta$ depending on the model (users can still pick the actual value)\n",
        "+ fixed wheelbase for bicycle model\n",
        "\n",
        "Users can choose \n",
        "+ unicycle and bicycle models\n",
        "+ A pre-configured route (\"S\", \"inverted-S\", \"figure-of-eight\" etc)\n",
        "+ 1 of 3 values for $v, \\omega$ (or $\\delta$) "
      ]
    },
    {
      "cell_type": "code",
      "metadata": {
        "id": "hDAEnWqh_E13",
        "colab": {
          "base_uri": "https://localhost:8080/"
        },
        "outputId": "d3e0c8ca-ac31-4da6-aa97-ba38d79b62c2"
      },
      "source": [
        "!pip install jupyter-dash"
      ],
      "execution_count": 1,
      "outputs": [
        {
          "output_type": "stream",
          "text": [
            "Collecting jupyter-dash\n",
            "  Downloading https://files.pythonhosted.org/packages/46/21/d3893ad0b7a7061115938d6c38f5862522d45c4199fb7e8fde0765781e13/jupyter_dash-0.4.0-py3-none-any.whl\n",
            "Requirement already satisfied: requests in /usr/local/lib/python3.7/dist-packages (from jupyter-dash) (2.23.0)\n",
            "Requirement already satisfied: ipykernel in /usr/local/lib/python3.7/dist-packages (from jupyter-dash) (4.10.1)\n",
            "Requirement already satisfied: flask in /usr/local/lib/python3.7/dist-packages (from jupyter-dash) (1.1.4)\n",
            "Requirement already satisfied: retrying in /usr/local/lib/python3.7/dist-packages (from jupyter-dash) (1.3.3)\n",
            "Collecting ansi2html\n",
            "  Downloading https://files.pythonhosted.org/packages/c6/85/3a46be84afbb16b392a138cd396117f438c7b2e91d8dc327621d1ae1b5dc/ansi2html-1.6.0-py3-none-any.whl\n",
            "Collecting dash\n",
            "\u001b[?25l  Downloading https://files.pythonhosted.org/packages/d4/50/e7c2830168db186f84b7de2988543e974433a6cdb0a0b23d51c781e2b2ab/dash-1.20.0.tar.gz (77kB)\n",
            "\u001b[K     |████████████████████████████████| 81kB 2.8MB/s \n",
            "\u001b[?25hRequirement already satisfied: ipython in /usr/local/lib/python3.7/dist-packages (from jupyter-dash) (5.5.0)\n",
            "Requirement already satisfied: urllib3!=1.25.0,!=1.25.1,<1.26,>=1.21.1 in /usr/local/lib/python3.7/dist-packages (from requests->jupyter-dash) (1.24.3)\n",
            "Requirement already satisfied: idna<3,>=2.5 in /usr/local/lib/python3.7/dist-packages (from requests->jupyter-dash) (2.10)\n",
            "Requirement already satisfied: chardet<4,>=3.0.2 in /usr/local/lib/python3.7/dist-packages (from requests->jupyter-dash) (3.0.4)\n",
            "Requirement already satisfied: certifi>=2017.4.17 in /usr/local/lib/python3.7/dist-packages (from requests->jupyter-dash) (2021.5.30)\n",
            "Requirement already satisfied: traitlets>=4.1.0 in /usr/local/lib/python3.7/dist-packages (from ipykernel->jupyter-dash) (5.0.5)\n",
            "Requirement already satisfied: jupyter-client in /usr/local/lib/python3.7/dist-packages (from ipykernel->jupyter-dash) (5.3.5)\n",
            "Requirement already satisfied: tornado>=4.0 in /usr/local/lib/python3.7/dist-packages (from ipykernel->jupyter-dash) (5.1.1)\n",
            "Requirement already satisfied: click<8.0,>=5.1 in /usr/local/lib/python3.7/dist-packages (from flask->jupyter-dash) (7.1.2)\n",
            "Requirement already satisfied: Werkzeug<2.0,>=0.15 in /usr/local/lib/python3.7/dist-packages (from flask->jupyter-dash) (1.0.1)\n",
            "Requirement already satisfied: Jinja2<3.0,>=2.10.1 in /usr/local/lib/python3.7/dist-packages (from flask->jupyter-dash) (2.11.3)\n",
            "Requirement already satisfied: itsdangerous<2.0,>=0.24 in /usr/local/lib/python3.7/dist-packages (from flask->jupyter-dash) (1.1.0)\n",
            "Requirement already satisfied: six>=1.7.0 in /usr/local/lib/python3.7/dist-packages (from retrying->jupyter-dash) (1.15.0)\n",
            "Collecting flask-compress\n",
            "  Downloading https://files.pythonhosted.org/packages/75/fa/a3c96f3f367ad1d6532fa8394c9a6f5879513868207096f6b41f4168b342/Flask_Compress-1.10.1-py3-none-any.whl\n",
            "Requirement already satisfied: plotly in /usr/local/lib/python3.7/dist-packages (from dash->jupyter-dash) (4.4.1)\n",
            "Collecting dash_renderer==1.9.1\n",
            "\u001b[?25l  Downloading https://files.pythonhosted.org/packages/5f/d3/d661a68b4ce71498d5c0c79617bce3d5fc884d4448c698f77c2247cd1b46/dash_renderer-1.9.1.tar.gz (1.0MB)\n",
            "\u001b[K     |████████████████████████████████| 1.0MB 4.6MB/s \n",
            "\u001b[?25hCollecting dash-core-components==1.16.0\n",
            "\u001b[?25l  Downloading https://files.pythonhosted.org/packages/f4/79/434e14d77dbf82b27f98df077936a424de254059d47152b0445b7116e97e/dash_core_components-1.16.0.tar.gz (3.5MB)\n",
            "\u001b[K     |████████████████████████████████| 3.5MB 7.9MB/s \n",
            "\u001b[?25hCollecting dash-html-components==1.1.3\n",
            "\u001b[?25l  Downloading https://files.pythonhosted.org/packages/8f/ca/7eeca4cae4e15cc6f7d0bc41a46368dd3fcdddc72aaa5bac61a8b92d541c/dash_html_components-1.1.3.tar.gz (82kB)\n",
            "\u001b[K     |████████████████████████████████| 92kB 9.9MB/s \n",
            "\u001b[?25hCollecting dash-table==4.11.3\n",
            "\u001b[?25l  Downloading https://files.pythonhosted.org/packages/97/f7/f4969a926f20a55d3e5970d01b85ff9ad510dba32de189e72dd8f4992740/dash_table-4.11.3.tar.gz (1.8MB)\n",
            "\u001b[K     |████████████████████████████████| 1.8MB 22.9MB/s \n",
            "\u001b[?25hRequirement already satisfied: future in /usr/local/lib/python3.7/dist-packages (from dash->jupyter-dash) (0.16.0)\n",
            "Requirement already satisfied: decorator in /usr/local/lib/python3.7/dist-packages (from ipython->jupyter-dash) (4.4.2)\n",
            "Requirement already satisfied: pickleshare in /usr/local/lib/python3.7/dist-packages (from ipython->jupyter-dash) (0.7.5)\n",
            "Requirement already satisfied: pexpect; sys_platform != \"win32\" in /usr/local/lib/python3.7/dist-packages (from ipython->jupyter-dash) (4.8.0)\n",
            "Requirement already satisfied: simplegeneric>0.8 in /usr/local/lib/python3.7/dist-packages (from ipython->jupyter-dash) (0.8.1)\n",
            "Requirement already satisfied: setuptools>=18.5 in /usr/local/lib/python3.7/dist-packages (from ipython->jupyter-dash) (57.0.0)\n",
            "Requirement already satisfied: pygments in /usr/local/lib/python3.7/dist-packages (from ipython->jupyter-dash) (2.6.1)\n",
            "Requirement already satisfied: prompt-toolkit<2.0.0,>=1.0.4 in /usr/local/lib/python3.7/dist-packages (from ipython->jupyter-dash) (1.0.18)\n",
            "Requirement already satisfied: ipython-genutils in /usr/local/lib/python3.7/dist-packages (from traitlets>=4.1.0->ipykernel->jupyter-dash) (0.2.0)\n",
            "Requirement already satisfied: pyzmq>=13 in /usr/local/lib/python3.7/dist-packages (from jupyter-client->ipykernel->jupyter-dash) (22.1.0)\n",
            "Requirement already satisfied: python-dateutil>=2.1 in /usr/local/lib/python3.7/dist-packages (from jupyter-client->ipykernel->jupyter-dash) (2.8.1)\n",
            "Requirement already satisfied: jupyter-core>=4.6.0 in /usr/local/lib/python3.7/dist-packages (from jupyter-client->ipykernel->jupyter-dash) (4.7.1)\n",
            "Requirement already satisfied: MarkupSafe>=0.23 in /usr/local/lib/python3.7/dist-packages (from Jinja2<3.0,>=2.10.1->flask->jupyter-dash) (2.0.1)\n",
            "Collecting brotli\n",
            "\u001b[?25l  Downloading https://files.pythonhosted.org/packages/15/ea/5bd575511b37bbd1c794606a0a621e6feff8e96b7dd007a86a5d218b2d94/Brotli-1.0.9-cp37-cp37m-manylinux1_x86_64.whl (357kB)\n",
            "\u001b[K     |████████████████████████████████| 358kB 35.3MB/s \n",
            "\u001b[?25hRequirement already satisfied: ptyprocess>=0.5 in /usr/local/lib/python3.7/dist-packages (from pexpect; sys_platform != \"win32\"->ipython->jupyter-dash) (0.7.0)\n",
            "Requirement already satisfied: wcwidth in /usr/local/lib/python3.7/dist-packages (from prompt-toolkit<2.0.0,>=1.0.4->ipython->jupyter-dash) (0.2.5)\n",
            "Building wheels for collected packages: dash, dash-renderer, dash-core-components, dash-html-components, dash-table\n",
            "  Building wheel for dash (setup.py) ... \u001b[?25l\u001b[?25hdone\n",
            "  Created wheel for dash: filename=dash-1.20.0-cp37-none-any.whl size=85845 sha256=2ecb66d28a1d121d78e0d21b9094c74fb6e54b25b60f7bd86df807da79028294\n",
            "  Stored in directory: /root/.cache/pip/wheels/e6/33/41/ce361d0d1da277d2350f815b10f2ab1e331592d93ef2b07e29\n",
            "  Building wheel for dash-renderer (setup.py) ... \u001b[?25l\u001b[?25hdone\n",
            "  Created wheel for dash-renderer: filename=dash_renderer-1.9.1-cp37-none-any.whl size=1014873 sha256=0f4f661e6aef7c439b0a262187f7fa5fdf7301120d79948ae647f7c29e016d3b\n",
            "  Stored in directory: /root/.cache/pip/wheels/03/a9/c5/dd5815c601b0ede164c223ffd7bafebde716ca57de06ef8aec\n",
            "  Building wheel for dash-core-components (setup.py) ... \u001b[?25l\u001b[?25hdone\n",
            "  Created wheel for dash-core-components: filename=dash_core_components-1.16.0-cp37-none-any.whl size=3540992 sha256=589d954813924a3249428c7899cb8e1d9b7429808b3e35110097f4fbb7bc7aa5\n",
            "  Stored in directory: /root/.cache/pip/wheels/86/1e/8c/e87ebba30b73c20dcd641224274febc983af88ed0fd7712a07\n",
            "  Building wheel for dash-html-components (setup.py) ... \u001b[?25l\u001b[?25hdone\n",
            "  Created wheel for dash-html-components: filename=dash_html_components-1.1.3-cp37-none-any.whl size=319488 sha256=fb55631ad91a30f29348b4d0c09f57fb7f19b06736f333e6cdee9f6ab28c298f\n",
            "  Stored in directory: /root/.cache/pip/wheels/07/f9/6c/f9b73a6ae1b7f347a92dc240293cebc267b370ba2a80added2\n",
            "  Building wheel for dash-table (setup.py) ... \u001b[?25l\u001b[?25hdone\n",
            "  Created wheel for dash-table: filename=dash_table-4.11.3-cp37-none-any.whl size=1827623 sha256=860d534498b9ffed726ba2982a093a12d8997beef311bca8efbf64c594a43f5f\n",
            "  Stored in directory: /root/.cache/pip/wheels/51/9b/89/374be1bc250e28a15edbd657cf364f163e392ba5257bfd0e87\n",
            "Successfully built dash dash-renderer dash-core-components dash-html-components dash-table\n",
            "Installing collected packages: ansi2html, brotli, flask-compress, dash-renderer, dash-core-components, dash-html-components, dash-table, dash, jupyter-dash\n",
            "Successfully installed ansi2html-1.6.0 brotli-1.0.9 dash-1.20.0 dash-core-components-1.16.0 dash-html-components-1.1.3 dash-renderer-1.9.1 dash-table-4.11.3 flask-compress-1.10.1 jupyter-dash-0.4.0\n"
          ],
          "name": "stdout"
        }
      ]
    },
    {
      "cell_type": "code",
      "metadata": {
        "id": "6ZlAEPLlaQuW",
        "colab": {
          "base_uri": "https://localhost:8080/",
          "height": 671
        },
        "outputId": "22a994d8-c7aa-46eb-f6e1-3ad3df1b4bb5"
      },
      "source": [
        "import plotly.express as px\n",
        "from jupyter_dash import JupyterDash\n",
        "import dash_core_components as dcc\n",
        "import dash_html_components as html\n",
        "from dash.dependencies import Input, Output\n",
        "import pandas as pd\n",
        "import numpy as np\n",
        "\n",
        "# Load Data\n",
        "vs = ['1','2','3']\n",
        "ws = ['15','30','45']\n",
        "routes = [\"S\", \"Inverted-S\", \"Figure of 8\"]\n",
        "cycles = [\"Unicycle\", \"Bicycle\"]\n",
        "\n",
        "def unicycle_model(curr_pose, v, w, dt=1.0):\n",
        "    x, y, theta = curr_pose\n",
        "    x += v*np.cos(theta)*dt\n",
        "    y += v*np.sin(theta)*dt\n",
        "    theta += w*dt\n",
        "    theta = np.arctan2(np.sin(theta), np.cos(theta))\n",
        "    return x, y, theta\n",
        "  \n",
        "def bicycle_model(curr_pose, v, delta, dt=1.0):\n",
        "    L = 0.9\n",
        "    x, y, theta = curr_pose \n",
        "    x += v*np.cos(theta)*dt \n",
        "    y += v*np.sin(theta)*dt\n",
        "    theta += (v/L)*np.tan(delta)*dt\n",
        "    theta = np.arctan2(np.sin(theta), np.cos(theta))\n",
        "    return x, y, theta\n",
        "\n",
        "def get_open_loop_commands(route, vc_fast=1, wc=np.pi/12, dt=1.0):\n",
        "    all_w = []\n",
        "    omegas = {'straight': 0, 'left': wc, 'right': -wc}\n",
        "    for manoeuvre, command in route:\n",
        "      u = np.ceil(command/vc_fast).astype('int')\n",
        "      v = np.ceil(np.deg2rad(command)/wc).astype('int')\n",
        "      t_cmd = u if manoeuvre == 'straight' else v\n",
        "      all_w += [omegas[manoeuvre]]*t_cmd\n",
        "    all_v = vc_fast * np.ones_like(all_w)\n",
        "    return all_v, all_w\n",
        "\n",
        "# Build App\n",
        "app = JupyterDash(__name__)\n",
        "app.layout = html.Div([\n",
        "    html.H1(\"Kinemetic Model\"),\n",
        "    dcc.Graph(id='graph'),\n",
        "    html.Label([\n",
        "        \"v\",\n",
        "        dcc.Dropdown(\n",
        "            id='v', clearable=False,\n",
        "            value='1', options=[\n",
        "                {'label': c, 'value': c}\n",
        "                for c in vs\n",
        "            ])\n",
        "    ]),\n",
        "    html.Label([\n",
        "        \"o(or d)\",\n",
        "        dcc.Dropdown(\n",
        "            id='o', clearable=False,\n",
        "            value='15', options=[\n",
        "                {'label': c, 'value': c}\n",
        "                for c in ws\n",
        "            ])\n",
        "    ]),\n",
        "    html.Label([\n",
        "        \"Route\",\n",
        "        dcc.Dropdown(\n",
        "            id='route', clearable=False,\n",
        "            value='S', options=[\n",
        "                {'label': c, 'value': c}\n",
        "                for c in routes\n",
        "            ])\n",
        "    ]),\n",
        "    html.Label([\n",
        "        \"Unicycle/Bicycle\",\n",
        "        dcc.Dropdown(\n",
        "            id='ub', clearable=False,\n",
        "            value='Unicycle', options=[\n",
        "                {'label': c, 'value': c}\n",
        "                for c in cycles\n",
        "            ])\n",
        "    ]),\n",
        "])\n",
        "# Define callback to update graph\n",
        "@app.callback(\n",
        "    Output('graph', 'figure'),\n",
        "    [Input(\"v\", \"value\"), Input(\"o\", \"value\"), Input(\"route\", \"value\"), Input(\"ub\", \"value\")]\n",
        ")\n",
        "\n",
        "def update_figure(velocity, omega, shape, model):\n",
        "    robot_trajectory = []\n",
        "    route = None\n",
        "    if(shape == routes[0]):\n",
        "        route =  [(\"right\", 180),(\"left\", 180)]\n",
        "    elif(shape == routes[1]):\n",
        "        route = [(\"left\", 180),(\"right\", 180)]\n",
        "    else:\n",
        "        route = [(\"right\", 180),(\"left\", 180),(\"left\", 180),(\"right\", 180)]\n",
        "    angle = np.pi\n",
        "    if(omega == ws[0]):\n",
        "        angle = np.pi/12\n",
        "    elif(omega == ws[1]):\n",
        "        angle = np.pi/6\n",
        "    else:\n",
        "        angle = np.pi/4\n",
        "    all_v, all_w = get_open_loop_commands(route, int(velocity), angle)\n",
        "    pose = (0, 0, np.pi/2)\n",
        "    robot_trajectory.append(pose)\n",
        "    for v, w in zip(all_v, all_w):\n",
        "        if model == cycles[0]:\n",
        "          pose = unicycle_model(pose, v, w)\n",
        "        else:\n",
        "          pose = bicycle_model(pose,v,w)\n",
        "        robot_trajectory.append(pose)\n",
        "    robot_trajectory = np.array(robot_trajectory)\n",
        "    dt = pd.DataFrame({'y': robot_trajectory[:,0],'x': robot_trajectory[:,1]})\n",
        "    return px.line(dt, y=\"y\", x=\"x\", title='Simulate vehicular robot motion')\n",
        "# Run app and display result inline in the notebook\n",
        "app.run_server(mode='inline')"
      ],
      "execution_count": 3,
      "outputs": [
        {
          "output_type": "display_data",
          "data": {
            "application/javascript": [
              "(async (port, path, width, height, cache, element) => {\n",
              "    if (!google.colab.kernel.accessAllowed && !cache) {\n",
              "      return;\n",
              "    }\n",
              "    element.appendChild(document.createTextNode(''));\n",
              "    const url = await google.colab.kernel.proxyPort(port, {cache});\n",
              "    const iframe = document.createElement('iframe');\n",
              "    iframe.src = new URL(path, url).toString();\n",
              "    iframe.height = height;\n",
              "    iframe.width = width;\n",
              "    iframe.style.border = 0;\n",
              "    element.appendChild(iframe);\n",
              "  })(8050, \"/\", \"100%\", 650, false, window.element)"
            ],
            "text/plain": [
              "<IPython.core.display.Javascript object>"
            ]
          },
          "metadata": {
            "tags": []
          }
        }
      ]
    }
  ]
}