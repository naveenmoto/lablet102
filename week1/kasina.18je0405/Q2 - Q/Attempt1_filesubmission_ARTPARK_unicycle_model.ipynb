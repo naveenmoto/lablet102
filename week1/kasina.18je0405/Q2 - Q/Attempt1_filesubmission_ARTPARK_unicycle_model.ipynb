{
  "nbformat": 4,
  "nbformat_minor": 0,
  "metadata": {
    "kernelspec": {
      "display_name": "Python 3",
      "language": "python",
      "name": "python3"
    },
    "language_info": {
      "codemirror_mode": {
        "name": "ipython",
        "version": 3
      },
      "file_extension": ".py",
      "mimetype": "text/x-python",
      "name": "python",
      "nbconvert_exporter": "python",
      "pygments_lexer": "ipython3",
      "version": "3.9.1"
    },
    "varInspector": {
      "cols": {
        "lenName": 16,
        "lenType": 16,
        "lenVar": 40
      },
      "kernels_config": {
        "python": {
          "delete_cmd_postfix": "",
          "delete_cmd_prefix": "del ",
          "library": "var_list.py",
          "varRefreshCmd": "print(var_dic_list())"
        },
        "r": {
          "delete_cmd_postfix": ") ",
          "delete_cmd_prefix": "rm(",
          "library": "var_list.r",
          "varRefreshCmd": "cat(var_dic_list()) "
        }
      },
      "position": {
        "height": "144px",
        "left": "1090px",
        "right": "20px",
        "top": "13px",
        "width": "350px"
      },
      "types_to_exclude": [
        "module",
        "function",
        "builtin_function_or_method",
        "instance",
        "_Feature"
      ],
      "window_display": true
    },
    "colab": {
      "name": "ARTPARK_unicycle_model.ipynb",
      "provenance": [],
      "collapsed_sections": []
    }
  },
  "cells": [
    {
      "cell_type": "code",
      "metadata": {
        "id": "j4cZkezPacOI"
      },
      "source": [
        "import pandas as pd\n",
        "import numpy as np\n",
        "import matplotlib.pyplot as plt\n",
        "%matplotlib notebook\n",
        "import doctest\n",
        "import copy"
      ],
      "execution_count": 1,
      "outputs": []
    },
    {
      "cell_type": "code",
      "metadata": {
        "id": "wWIgrkvSacOQ"
      },
      "source": [
        "#https://stackoverflow.com/questions/40137950/possible-to-run-python-doctest-on-a-jupyter-cell-function\n",
        "def test(func):\n",
        "    '''\n",
        "    Use test as a decorator to a function with doctests in Jupyter notebook. \n",
        "    Run the cell to see the results of the doctests.\n",
        "    '''\n",
        "    globs = copy.copy(globals())\n",
        "    globs.update({func.__name__:func})\n",
        "    doctest.run_docstring_examples(func, globs, verbose=True, name=func.__name__)\n",
        "    return func"
      ],
      "execution_count": 2,
      "outputs": []
    },
    {
      "cell_type": "markdown",
      "metadata": {
        "id": "xljPEOLUacOS"
      },
      "source": [
        "### Simulate straight line and circular movements with Unicycle model\n",
        "\n",
        "Robot is at the origin (0, 0) and facing North, i.e, $\\theta = \\pi/2$\n",
        "\n",
        "Use the Kinematics equations we had developed in class for the Unicycle model"
      ]
    },
    {
      "cell_type": "code",
      "metadata": {
        "id": "XJ8LCrFhacOT",
        "colab": {
          "base_uri": "https://localhost:8080/"
        },
        "outputId": "17c6e333-208f-4674-83db-cb93432b888f"
      },
      "source": [
        "#uncomment this decorator to test your code\n",
        "@test \n",
        "def unicycle_model(curr_pose, v, w, dt=1.0):\n",
        "    '''\n",
        "    >>> unicycle_model((0.0,0.0,0.0), 1.0, 0.0)\n",
        "    (1.0, 0.0, 0.0)\n",
        "    >>> unicycle_model((0.0,0.0,0.0), 0.0, 1.0)\n",
        "    (0.0, 0.0, 1.0)\n",
        "    >>> unicycle_model((0.0, 0.0, 0.0), 1.0, 1.0)\n",
        "    (1.0, 0.0, 1.0)\n",
        "    '''\n",
        "    ## write code to calculate next_pose\n",
        "    # refer to the kinematic equations of a unicycle model\n",
        "    x,y,theta = curr_pose \n",
        "    x = x + v*np.cos(theta)*dt\n",
        "    y = y + v*np.sin(theta)*dt\n",
        "    theta = theta + w*dt   \n",
        "    # Keep theta bounded between [-pi, pi]\n",
        "    theta = np.arctan2(np.sin(theta), np.cos(theta))\n",
        "    # return calculated (x, y, theta)\n",
        "    return x,y,theta"
      ],
      "execution_count": 3,
      "outputs": [
        {
          "output_type": "stream",
          "text": [
            "\n",
            "PYDEV DEBUGGER WARNING:\n",
            "sys.settrace() should not be used when the debugger is being used.\n",
            "This may cause the debugger to stop working correctly.\n",
            "If this is needed, please check: \n",
            "http://pydev.blogspot.com/2007/06/why-cant-pydev-debugger-work-with.html\n",
            "to see how to restore the debug tracing back correctly.\n",
            "Call Location:\n",
            "  File \"/usr/lib/python3.7/doctest.py\", line 1487, in run\n",
            "    sys.settrace(save_trace)\n",
            "\n"
          ],
          "name": "stderr"
        },
        {
          "output_type": "stream",
          "text": [
            "Finding tests in unicycle_model\n",
            "Trying:\n",
            "    unicycle_model((0.0,0.0,0.0), 1.0, 0.0)\n",
            "Expecting:\n",
            "    (1.0, 0.0, 0.0)\n",
            "ok\n",
            "Trying:\n",
            "    unicycle_model((0.0,0.0,0.0), 0.0, 1.0)\n",
            "Expecting:\n",
            "    (0.0, 0.0, 1.0)\n",
            "ok\n",
            "Trying:\n",
            "    unicycle_model((0.0, 0.0, 0.0), 1.0, 1.0)\n",
            "Expecting:\n",
            "    (1.0, 0.0, 1.0)\n",
            "ok\n"
          ],
          "name": "stdout"
        }
      ]
    },
    {
      "cell_type": "markdown",
      "metadata": {
        "id": "xIcEUPjaacOV"
      },
      "source": [
        "Now let us try to simulate motion along a straight line and circle\n",
        "\n",
        "Look at the kinematics equations you wrote - what should $v,\\omega$ if\n",
        "+ There is no change in $\\theta$\n",
        "+ $\\theta$ has to change from 0 to 360 degrees"
      ]
    },
    {
      "cell_type": "code",
      "metadata": {
        "id": "Yd0SgLKAacOW"
      },
      "source": [
        "#straight line\n",
        "straight_trajectory = []\n",
        "pose = (0, 0, np.pi/2)\n",
        "steps = 10\n",
        "#fill in v and omega values\n",
        "all_v = np.ones(steps)\n",
        "all_w= np.zeros(steps)\n",
        "for v,w in zip(all_v,all_w):\n",
        "   #instruction to take v, w and compute new pose \n",
        "   straight_trajectory.append(pose)\n",
        "   pose = unicycle_model(pose,v,w)\n",
        "straight_trajectory = np.array(straight_trajectory)"
      ],
      "execution_count": 4,
      "outputs": []
    },
    {
      "cell_type": "code",
      "metadata": {
        "id": "Yd5f2mJBacOY"
      },
      "source": [
        "#circle\n",
        "circle_trajectory = []\n",
        "pose = (0, 0, np.pi/2)\n",
        "steps = 10\n",
        "#fill in v and omega values\n",
        "all_v = np.ones(steps*100)\n",
        "all_w = np.ones(steps*100)\n",
        "for v,w in zip(all_v,all_w):\n",
        "    #instruction to take v, w and compute new pose    \n",
        "    circle_trajectory.append(pose)\n",
        "    # store new pose\n",
        "    pose = unicycle_model(pose,v,w,0.1)\n",
        "circle_trajectory = np.array(circle_trajectory)"
      ],
      "execution_count": 5,
      "outputs": []
    },
    {
      "cell_type": "code",
      "metadata": {
        "id": "O8HT3C1qacOa",
        "colab": {
          "base_uri": "https://localhost:8080/",
          "height": 282
        },
        "outputId": "a6ebec44-52e5-449a-ac60-7257fd454aee"
      },
      "source": [
        "### Plot straight and circular trajectories\n",
        "plt.figure()\n",
        "plt.axes().set_aspect(\"equal\",\"datalim\")\n",
        "plt.plot(straight_trajectory[:,0],straight_trajectory[:,1])\n"
      ],
      "execution_count": 6,
      "outputs": [
        {
          "output_type": "execute_result",
          "data": {
            "text/plain": [
              "[<matplotlib.lines.Line2D at 0x7fa4585f0e10>]"
            ]
          },
          "metadata": {
            "tags": []
          },
          "execution_count": 6
        },
        {
          "output_type": "display_data",
          "data": {
            "image/png": "[encoded data removed]",
            "text/plain": [
              "<Figure size 432x288 with 1 Axes>"
            ]
          },
          "metadata": {
            "tags": [],
            "needs_background": "light"
          }
        }
      ]
    },
    {
      "cell_type": "code",
      "metadata": {
        "colab": {
          "base_uri": "https://localhost:8080/",
          "height": 282
        },
        "id": "R7j8kPv3l50v",
        "outputId": "93595a3e-9026-4621-ac4b-89cfa660ac6f"
      },
      "source": [
        "#circle trajectory\n",
        "plt.figure()\n",
        "plt.axes().set_aspect(\"equal\",\"datalim\")\n",
        "plt.plot(circle_trajectory[:,0],circle_trajectory[:,1])"
      ],
      "execution_count": 7,
      "outputs": [
        {
          "output_type": "execute_result",
          "data": {
            "text/plain": [
              "[<matplotlib.lines.Line2D at 0x7fa45205c350>]"
            ]
          },
          "metadata": {
            "tags": []
          },
          "execution_count": 7
        },
        {
          "output_type": "display_data",
          "data": {
            "image/png": "[encoded data removed]",
            "text/plain": [
              "<Figure size 432x288 with 1 Axes>"
            ]
          },
          "metadata": {
            "tags": [],
            "needs_background": "light"
          }
        }
      ]
    },
    {
      "cell_type": "markdown",
      "metadata": {
        "id": "MFJYZ12CacOc"
      },
      "source": [
        "### Simulate Unicycle model with Open Loop control\n",
        "\n",
        "We want the robot to follow these instructions\n",
        "\n",
        "**straight 10m, right turn, straight 5m, left turn, straight 8m, right turn**\n",
        "\n",
        "It is in open loop; control commands have to be calculated upfront. How do we do it?\n",
        "\n",
        "To keep things simple in the first iteration, we can fix $v = v_c$ and change only $\\omega$. To make it even simpler, $\\omega$ can take only 2 values \n",
        "+ 0 when the vehicle is going straight \n",
        "+ $\\omega = \\omega_c$ when turning\n",
        "\n",
        "This leaves only 2 questions to be answered\n",
        "* What should be $v_c$ and $\\omega_c$?\n",
        "* When should $\\omega$ change from 0 and back?"
      ]
    },
    {
      "cell_type": "code",
      "metadata": {
        "id": "Dkia_VouacOe"
      },
      "source": [
        "v_c = 1.0\n",
        "w_c = np.pi/6\n",
        "\n",
        "#calculate time taken to finish a quarter turn (pi/2)\n",
        "t_turn = int(np.pi/2*w_c)\n",
        "\n",
        "#calculate the time taken to finish straight segments\n",
        "# omega array is to be padded with equivalent zeros\n",
        "t_straight1, t_straight2, t_straight3 = int(10/v_c),int(5/v_c),int(8/v_c)\n",
        "all_w = [0.0] * t_straight1 + [w_c]*t_turn + [0.0]*t_straight2 + [-w_c]*t_turn + [0.0]*t_straight3 + [w_c]*t_turn\n",
        "all_v = v_c*np.ones_like(all_w)"
      ],
      "execution_count": 8,
      "outputs": []
    },
    {
      "cell_type": "markdown",
      "metadata": {
        "id": "Jm_wV6jqacOf"
      },
      "source": [
        "Let us make a cool function out of this!\n",
        "\n",
        "Take in as input a generic route and convert it into open-loop commands\n",
        "\n",
        "Input format: [(\"straight\", 5), (\"right\", 90), (\"straight\", 6), (\"left\", 85)]\n",
        "\n",
        "Output: all_v, all_w"
      ]
    },
    {
      "cell_type": "code",
      "metadata": {
        "id": "uXVURzoVacOg"
      },
      "source": [
        "def get_open_loop_commands(route, vc=1, wc=np.pi/12):\n",
        "    all_w = []\n",
        "    omegas = {'straight': 0, 'left': wc, 'right': -wc}\n",
        "    for manoeuvre, command in route:\n",
        "      t_cmd = int(np.ceil(command/vc)) if manoeuvre == 'straight' else int(np.ceil(np.deg2rad(command)/wc))\n",
        "      all_w += [omegas[manoeuvre]]*int(t_cmd)\n",
        "    all_v = vc*np.ones_like(all_w)\n",
        "    return all_v, all_w"
      ],
      "execution_count": 9,
      "outputs": []
    },
    {
      "cell_type": "markdown",
      "metadata": {
        "id": "dWwJLU5macOh"
      },
      "source": [
        "### Unit test your function with the following inputs\n",
        "\n",
        "+ [(\"straight\", 5), (\"right\", 90), (\"straight\", 6), (\"left\", 85)]\n",
        "+ $v_c = 1$\n",
        "+ $w_c = \\pi/12$"
      ]
    },
    {
      "cell_type": "code",
      "metadata": {
        "id": "2STejqOaacOi"
      },
      "source": [
        "all_v,all_w = get_open_loop_commands([(\"straight\", 5), (\"right\", 90), (\"straight\", 6), (\"left\", 85)])"
      ],
      "execution_count": 10,
      "outputs": []
    },
    {
      "cell_type": "code",
      "metadata": {
        "id": "6O3KdgMtacOj"
      },
      "source": [
        "robot_trajectory = []\n",
        "pose = np.array([0, 0, np.pi/2])\n",
        "for v, w in zip(all_v, all_w):\n",
        "    #instruction to take v, w and compute new pose    \n",
        "    robot_trajectory.append(pose)\n",
        "    pose = unicycle_model(pose,v,w)\n",
        "   # store new pose\n",
        "robot_trajectory = np.array(robot_trajectory)"
      ],
      "execution_count": 11,
      "outputs": []
    },
    {
      "cell_type": "code",
      "metadata": {
        "id": "L34hoAMtacOk",
        "colab": {
          "base_uri": "https://localhost:8080/",
          "height": 283
        },
        "outputId": "5a9868e0-dc01-44c4-f449-e03e7cf2461e"
      },
      "source": [
        "# plot robot trajectory\n",
        "plt.figure()\n",
        "plt.grid()\n",
        "plt.plot(robot_trajectory[:,0],robot_trajectory[:,1])\n",
        "\n",
        "#show first and last robot positions with + markers\n",
        "xi, yi, _ = robot_trajectory[0]\n",
        "xf, yf, _ = robot_trajectory[-1]\n",
        "plt.plot(xi, yi, 'r+', ms=10)\n",
        "plt.plot(xf, yf, 'g+', ms=10)\n"
      ],
      "execution_count": 12,
      "outputs": [
        {
          "output_type": "execute_result",
          "data": {
            "text/plain": [
              "[<matplotlib.lines.Line2D at 0x7fa451ff2a50>]"
            ]
          },
          "metadata": {
            "tags": []
          },
          "execution_count": 12
        },
        {
          "output_type": "display_data",
          "data": {
            "image/png": "[encoded data removed]",
            "text/plain": [
              "<Figure size 432x288 with 1 Axes>"
            ]
          },
          "metadata": {
            "tags": [],
            "needs_background": "light"
          }
        }
      ]
    },
    {
      "cell_type": "markdown",
      "metadata": {
        "id": "EQZ9UVcCacOo"
      },
      "source": [
        "### Improved capabilities!\n",
        "\n",
        "+ Slow the robot while turning ($v_c$ for turn and straight needed)\n",
        "\n",
        "+ How to accommodate a sampling time < 1.0s (hint: think of sampling instances instead of time)"
      ]
    },
    {
      "cell_type": "markdown",
      "metadata": {
        "id": "vdjJt_GlAOXl"
      },
      "source": [
        "###Two Velocities"
      ]
    },
    {
      "cell_type": "code",
      "metadata": {
        "id": "yhx6wyPQacOp"
      },
      "source": [
        "##Velocity Slowed down version\n",
        "\n",
        "def get_open_loop_commands_v2(route,vc_straight=1.0,vc_turn=np.pi/24,wc=np.pi/12):\n",
        "    all_w_v2 = []\n",
        "    all_v_v2 = []\n",
        "    omegas = {'straight': 0, 'left': wc, 'right': -wc}\n",
        "    velocities = {'straight':vc_straight , 'left': vc_turn, 'right': vc_turn}\n",
        "    for manoeuvre, command in route:\n",
        "      t_cmd = int(np.ceil(command/vc_straight)) if manoeuvre == 'straight' else int(np.ceil(np.deg2rad(command)/wc))\n",
        "      all_w_v2 += [omegas[manoeuvre]]*int(t_cmd)\n",
        "      all_v_v2 += [velocities[manoeuvre]]*int(t_cmd)\n",
        "    return all_v_v2,all_w_v2"
      ],
      "execution_count": 13,
      "outputs": []
    },
    {
      "cell_type": "code",
      "metadata": {
        "id": "WVbvmAqQ74Wo"
      },
      "source": [
        "all_v_v2,all_w_v2 = get_open_loop_commands_v2([(\"straight\", 5), (\"right\", 90), (\"straight\", 6), (\"left\", 85)])"
      ],
      "execution_count": 14,
      "outputs": []
    },
    {
      "cell_type": "code",
      "metadata": {
        "id": "ZAXcGa8z9AI4"
      },
      "source": [
        "robot_trajectory_v2 = []\n",
        "pose = np.array([0, 0, np.pi/2])\n",
        "for v, w in zip(all_v_v2, all_w_v2):\n",
        "    #instruction to take v, w and compute new pose    \n",
        "    robot_trajectory_v2.append(pose)\n",
        "    pose = unicycle_model(pose,v,w)\n",
        "   # store new pose\n",
        "robot_trajectory_v2 = np.array(robot_trajectory_v2)"
      ],
      "execution_count": 15,
      "outputs": []
    },
    {
      "cell_type": "code",
      "metadata": {
        "colab": {
          "base_uri": "https://localhost:8080/",
          "height": 282
        },
        "id": "O1W_8RuQ9BCD",
        "outputId": "b75711d9-098d-4617-e0ee-24764d836ff3"
      },
      "source": [
        "# plot robot trajectory\n",
        "plt.figure()\n",
        "plt.grid()\n",
        "plt.plot(robot_trajectory_v2[:,0],robot_trajectory_v2[:,1])\n",
        "\n",
        "#show first and last robot positions with + markers\n",
        "xi, yi, _ = robot_trajectory_v2[0]\n",
        "xf, yf, _ = robot_trajectory_v2[-1]\n",
        "plt.plot(xi, yi, 'r+', ms=10)\n",
        "plt.plot(xf, yf, 'g+', ms=10)\n"
      ],
      "execution_count": 16,
      "outputs": [
        {
          "output_type": "execute_result",
          "data": {
            "text/plain": [
              "[<matplotlib.lines.Line2D at 0x7fa451f74cd0>]"
            ]
          },
          "metadata": {
            "tags": []
          },
          "execution_count": 16
        },
        {
          "output_type": "display_data",
          "data": {
            "image/png": "[encoded data removed]",
            "text/plain": [
              "<Figure size 432x288 with 1 Axes>"
            ]
          },
          "metadata": {
            "tags": [],
            "needs_background": "light"
          }
        }
      ]
    },
    {
      "cell_type": "markdown",
      "metadata": {
        "id": "qaI9D1leAZYy"
      },
      "source": [
        "###Sampling Time"
      ]
    },
    {
      "cell_type": "code",
      "metadata": {
        "id": "ZW2ek3uy9IYr"
      },
      "source": [
        "def get_open_loop_commands_v3(route,dt,vc_straight=1.0,vc_turn=np.pi/24,wc=np.pi/12):\n",
        "    all_w_v3 = []\n",
        "    all_v_v3 = []\n",
        "    omegas = {'straight': 0, 'left': wc, 'right': -wc}\n",
        "    velocities = {'straight':vc_straight , 'left': vc_turn, 'right': vc_turn}\n",
        "    for manoeuvre, command in route:\n",
        "      t_cmd = int(np.ceil(command/vc_straight*dt)) if manoeuvre == 'straight' else int(np.ceil(np.deg2rad(command)/wc*dt))\n",
        "      all_w_v3 += [omegas[manoeuvre]]*int(t_cmd)\n",
        "      all_v_v3 += [velocities[manoeuvre]]*int(t_cmd)\n",
        "    return all_v_v3,all_w_v3"
      ],
      "execution_count": 25,
      "outputs": []
    },
    {
      "cell_type": "code",
      "metadata": {
        "id": "lloVplRoa5Qt"
      },
      "source": [
        "all_v_v3,all_w_v3 = get_open_loop_commands_v3([(\"straight\", 5), (\"right\", 90), (\"straight\", 6), (\"left\", 85)],0.8)"
      ],
      "execution_count": 26,
      "outputs": []
    },
    {
      "cell_type": "code",
      "metadata": {
        "id": "7tYoCi4UbK7Q"
      },
      "source": [
        "robot_trajectory_v3 = []\n",
        "pose = np.array([0, 0, np.pi/2])\n",
        "for v, w in zip(all_v_v3, all_w_v3):\n",
        "    #instruction to take v, w and compute new pose    \n",
        "    robot_trajectory_v3.append(pose)\n",
        "    pose = unicycle_model(pose,v,w)\n",
        "   # store new pose\n",
        "robot_trajectory_v3 = np.array(robot_trajectory_v3)"
      ],
      "execution_count": 29,
      "outputs": []
    },
    {
      "cell_type": "code",
      "metadata": {
        "colab": {
          "base_uri": "https://localhost:8080/",
          "height": 282
        },
        "id": "nAotFnMobU77",
        "outputId": "f86821e8-372b-411e-a84d-60df32b01cae"
      },
      "source": [
        "# plot robot trajectory\n",
        "plt.figure()\n",
        "plt.grid()\n",
        "plt.plot(robot_trajectory_v3[:,0],robot_trajectory_v3[:,1])\n",
        "\n",
        "#show first and last robot positions with + markers\n",
        "xi, yi, _ = robot_trajectory_v3[0]\n",
        "xf, yf, _ = robot_trajectory_v3[-1]\n",
        "plt.plot(xi, yi, 'r+', ms=10)\n",
        "plt.plot(xf, yf, 'g+', ms=10)\n"
      ],
      "execution_count": 30,
      "outputs": [
        {
          "output_type": "execute_result",
          "data": {
            "text/plain": [
              "[<matplotlib.lines.Line2D at 0x7fa451cc79d0>]"
            ]
          },
          "metadata": {
            "tags": []
          },
          "execution_count": 30
        },
        {
          "output_type": "display_data",
          "data": {
            "image/png": "[encoded data removed]",
            "text/plain": [
              "<Figure size 432x288 with 1 Axes>"
            ]
          },
          "metadata": {
            "tags": [],
            "needs_background": "light"
          }
        }
      ]
    },
    {
      "cell_type": "code",
      "metadata": {
        "id": "S2N1DuVPbay3"
      },
      "source": [
        ""
      ],
      "execution_count": null,
      "outputs": []
    }
  ]
}