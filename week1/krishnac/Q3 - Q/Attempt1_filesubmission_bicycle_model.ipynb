{
  "nbformat": 4,
  "nbformat_minor": 0,
  "metadata": {
    "kernelspec": {
      "display_name": "Python 3",
      "language": "python",
      "name": "python3"
    },
    "language_info": {
      "codemirror_mode": {
        "name": "ipython",
        "version": 3
      },
      "file_extension": ".py",
      "mimetype": "text/x-python",
      "name": "python",
      "nbconvert_exporter": "python",
      "pygments_lexer": "ipython3",
      "version": "3.9.1"
    },
    "varInspector": {
      "cols": {
        "lenName": 16,
        "lenType": 16,
        "lenVar": 40
      },
      "kernels_config": {
        "python": {
          "delete_cmd_postfix": "",
          "delete_cmd_prefix": "del ",
          "library": "var_list.py",
          "varRefreshCmd": "print(var_dic_list())"
        },
        "r": {
          "delete_cmd_postfix": ") ",
          "delete_cmd_prefix": "rm(",
          "library": "var_list.r",
          "varRefreshCmd": "cat(var_dic_list()) "
        }
      },
      "position": {
        "height": "144px",
        "left": "1090px",
        "right": "20px",
        "top": "13px",
        "width": "350px"
      },
      "types_to_exclude": [
        "module",
        "function",
        "builtin_function_or_method",
        "instance",
        "_Feature"
      ],
      "window_display": true
    },
    "colab": {
      "name": "Copy of bicycle_model.ipynb",
      "provenance": [],
      "collapsed_sections": []
    }
  },
  "cells": [
    {
      "cell_type": "code",
      "metadata": {
        "id": "gpGPl3rxD5bt"
      },
      "source": [
        "import pandas as pd\n",
        "import numpy as np\n",
        "import matplotlib.pyplot as plt\n",
        "%matplotlib inline\n",
        "import doctest\n",
        "import copy"
      ],
      "execution_count": null,
      "outputs": []
    },
    {
      "cell_type": "code",
      "metadata": {
        "id": "Cy-IHdN_D5bv"
      },
      "source": [
        "#https://stackoverflow.com/questions/40137950/possible-to-run-python-doctest-on-a-jupyter-cell-function\n",
        "def test(func):\n",
        "    '''\n",
        "    Use test as a decorator to a function with doctests in Jupyter notebook. \n",
        "    Run the cell to see the results of the doctests.\n",
        "    '''\n",
        "    globs = copy.copy(globals())\n",
        "    globs.update({func.__name__:func})\n",
        "    doctest.run_docstring_examples(func, globs, verbose=True, name=func.__name__)\n",
        "    return func"
      ],
      "execution_count": null,
      "outputs": []
    },
    {
      "cell_type": "markdown",
      "metadata": {
        "id": "wItZX1gwD5bw"
      },
      "source": [
        "### Simulate straight line and circular movements with Bicycle model\n",
        "\n",
        "Robot is at the origin (0, 0) and facing North, i.e, $\\theta = \\pi/2$. Assume the wheelbase of the vehicle $L$ = 0.9 m"
      ]
    },
    {
      "cell_type": "code",
      "metadata": {
        "id": "Zeb2OgYeD5bx",
        "colab": {
          "base_uri": "https://localhost:8080/"
        },
        "outputId": "dee9e584-132c-4aeb-c5c0-20187926835c"
      },
      "source": [
        "@test \n",
        "def bicycle_model(curr_pose, v, delta, L, dt=1.0):\n",
        "    '''\n",
        "    >>> bicycle_model((0.0,0.0,0.0), 1.0, 0.0)\n",
        "    (1.0, 0.0, 0.0)\n",
        "    >>> bicycle_model((0.0,0.0,0.0), 0.0, np.pi/4)\n",
        "    (0.0, 0.0, 0.0) \n",
        "    >>> bicycle_model((0.0, 0.0, 0.0), 1.0, np.pi/4)\n",
        "    (1.0, 0.0, 1.11) \n",
        "    '''\n",
        "    # write code to calculate next_pose\n",
        "    # refer to the kinematic equations of a bicycle model\n",
        "    x, y, theta = curr_pose[0], curr_pose[1], curr_pose[2]\n",
        "    x = x + v * np.cos(theta)*dt\n",
        "    y = y + v*np.sin(theta)*dt\n",
        "    theta = theta + (v/L) * np.tan(delta) * dt \n",
        "    \n",
        "    # Keep theta bounded between [-pi, pi]\n",
        "    theta = np.arctan2(np.sin(theta), np.cos(theta))\n",
        "    # return calculated (x, y, theta)\n",
        "    return x, y, theta"
      ],
      "execution_count": null,
      "outputs": [
        {
          "output_type": "stream",
          "text": [
            "\n",
            "PYDEV DEBUGGER WARNING:\n",
            "sys.settrace() should not be used when the debugger is being used.\n",
            "This may cause the debugger to stop working correctly.\n",
            "If this is needed, please check: \n",
            "http://pydev.blogspot.com/2007/06/why-cant-pydev-debugger-work-with.html\n",
            "to see how to restore the debug tracing back correctly.\n",
            "Call Location:\n",
            "  File \"/usr/lib/python3.7/doctest.py\", line 1487, in run\n",
            "    sys.settrace(save_trace)\n",
            "\n"
          ],
          "name": "stderr"
        },
        {
          "output_type": "stream",
          "text": [
            "Finding tests in bicycle_model\n",
            "Trying:\n",
            "    bicycle_model((0.0,0.0,0.0), 1.0, 0.0)\n",
            "Expecting:\n",
            "    (1.0, 0.0, 0.0)\n",
            "**********************************************************************\n",
            "File \"__main__\", line 4, in bicycle_model\n",
            "Failed example:\n",
            "    bicycle_model((0.0,0.0,0.0), 1.0, 0.0)\n",
            "Exception raised:\n",
            "    Traceback (most recent call last):\n",
            "      File \"/usr/lib/python3.7/doctest.py\", line 1337, in __run\n",
            "        compileflags, 1), test.globs)\n",
            "      File \"<doctest bicycle_model[0]>\", line 1, in <module>\n",
            "        bicycle_model((0.0,0.0,0.0), 1.0, 0.0)\n",
            "    TypeError: bicycle_model() missing 1 required positional argument: 'L'\n",
            "Trying:\n",
            "    bicycle_model((0.0,0.0,0.0), 0.0, np.pi/4)\n",
            "Expecting:\n",
            "    (0.0, 0.0, 0.0) \n",
            "**********************************************************************\n",
            "File \"__main__\", line 6, in bicycle_model\n",
            "Failed example:\n",
            "    bicycle_model((0.0,0.0,0.0), 0.0, np.pi/4)\n",
            "Exception raised:\n",
            "    Traceback (most recent call last):\n",
            "      File \"/usr/lib/python3.7/doctest.py\", line 1337, in __run\n",
            "        compileflags, 1), test.globs)\n",
            "      File \"<doctest bicycle_model[1]>\", line 1, in <module>\n",
            "        bicycle_model((0.0,0.0,0.0), 0.0, np.pi/4)\n",
            "    TypeError: bicycle_model() missing 1 required positional argument: 'L'\n",
            "Trying:\n",
            "    bicycle_model((0.0, 0.0, 0.0), 1.0, np.pi/4)\n",
            "Expecting:\n",
            "    (1.0, 0.0, 1.11) \n",
            "**********************************************************************\n",
            "File \"__main__\", line 8, in bicycle_model\n",
            "Failed example:\n",
            "    bicycle_model((0.0, 0.0, 0.0), 1.0, np.pi/4)\n",
            "Exception raised:\n",
            "    Traceback (most recent call last):\n",
            "      File \"/usr/lib/python3.7/doctest.py\", line 1337, in __run\n",
            "        compileflags, 1), test.globs)\n",
            "      File \"<doctest bicycle_model[2]>\", line 1, in <module>\n",
            "        bicycle_model((0.0, 0.0, 0.0), 1.0, np.pi/4)\n",
            "    TypeError: bicycle_model() missing 1 required positional argument: 'L'\n"
          ],
          "name": "stdout"
        }
      ]
    },
    {
      "cell_type": "code",
      "metadata": {
        "id": "rkAm7KZ5D5by"
      },
      "source": [
        "#straight line\n",
        "straight_trajectory = []\n",
        "pose = (0, 0, np.pi/2)\n",
        "steps = 1000\n",
        "#fill in v and delta values\n",
        "v = np.ones(steps)\n",
        "delta = np.zeros(steps)\n",
        "for i in range(steps):\n",
        "   #instruction to take v, delta and compute new pose  \n",
        "   straight_trajectory.append(pose)  \n",
        "   # store new pose\n",
        "   pose = bicycle_model(pose, v[i], delta[i], 0.9)\n",
        "straight_trajectory.append(pose)\n",
        "straight_trajectory = np.array(straight_trajectory)\n",
        "    "
      ],
      "execution_count": null,
      "outputs": []
    },
    {
      "cell_type": "code",
      "metadata": {
        "id": "9fNbts6TD5bz",
        "colab": {
          "base_uri": "https://localhost:8080/"
        },
        "outputId": "000c5339-425b-4440-bd8f-8a5c7dbabdec"
      },
      "source": [
        "#circle\n",
        "circular_trajectory = []\n",
        "pose = (0, 0, np.pi/2)\n",
        "steps = 1000\n",
        "\n",
        "#fill in v and omega values\n",
        "all_v = np.ones(steps)\n",
        "all_d = np.ones(steps)\n",
        "for v, d in zip(all_v, all_d):\n",
        "   # store pose\n",
        "   circular_trajectory.append(pose)\n",
        "   #instruction to take v, w and compute new pose    \n",
        "   pose = bicycle_model(pose, v, d, 0.9, 0.1)\n",
        "circular_trajectory = np.array(circular_trajectory)\n",
        "print(circular_trajectory)\n"
      ],
      "execution_count": null,
      "outputs": [
        {
          "output_type": "stream",
          "text": [
            "[[ 0.00000000e+00  0.00000000e+00  1.57079633e+00]\n",
            " [ 6.12323400e-18  1.00000000e-01  1.74384163e+00]\n",
            " [-1.72182964e-02  1.98506499e-01  1.91688693e+00]\n",
            " ...\n",
            " [-1.12037158e+00  2.47288706e-01 -1.83222544e+00]\n",
            " [-1.14621772e+00  1.50686546e-01 -1.65918014e+00]\n",
            " [-1.15504459e+00  5.10768771e-02 -1.48613484e+00]]\n"
          ],
          "name": "stdout"
        }
      ]
    },
    {
      "cell_type": "code",
      "metadata": {
        "id": "RS90vnzYD5b0",
        "colab": {
          "base_uri": "https://localhost:8080/",
          "height": 513
        },
        "outputId": "7bb43dc1-8f56-48e7-8b8b-5fef488299ea"
      },
      "source": [
        "### Plot straight and circular trajectories\n",
        "plt.figure()\n",
        "plt.axes().set_aspect(\"equal\",\"datalim\")\n",
        "plt.plot(straight_trajectory[:,0], straight_trajectory[:,1])\n",
        "\n",
        "### Plot straight and circular trajectories\n",
        "plt.figure()\n",
        "plt.axes().set_aspect(\"equal\",\"datalim\")\n",
        "plt.plot(circular_trajectory[:,0], circular_trajectory[:,1])\n",
        "plt.show()\n"
      ],
      "execution_count": null,
      "outputs": [
        {
          "output_type": "display_data",
          "data": {
            "image/png": "[encoded data removed]",
            "text/plain": [
              "<Figure size 432x288 with 1 Axes>"
            ]
          },
          "metadata": {
            "tags": [],
            "needs_background": "light"
          }
        },
        {
          "output_type": "display_data",
          "data": {
            "image/png": "[encoded data removed]",
            "text/plain": [
              "<Figure size 432x288 with 1 Axes>"
            ]
          },
          "metadata": {
            "tags": [],
            "needs_background": "light"
          }
        }
      ]
    },
    {
      "cell_type": "markdown",
      "metadata": {
        "id": "KPMhUJJBD5b1"
      },
      "source": [
        "### Simulate Bicycle model with Open Loop control\n",
        "\n",
        "We want the robot to follow these instructions\n",
        "\n",
        "**straight 10m, right turn, straight 5m, left turn, straight 8m, right turn**\n",
        "\n",
        "It is in open loop; control commands have to be calculated upfront. How do we do it?\n",
        "\n",
        "To keep things simple in the first iteration, we can fix $v = v_c$ and change only $\\delta$. To make it even simpler, $\\delta$ can take only 2 values \n",
        "+ 0 when the vehicle is going straight \n",
        "+ $\\delta = \\delta_c$ when turning\n",
        "\n",
        "This leaves only 2 questions to be answered\n",
        "* What should be $v_c$ and $\\delta_c$?\n",
        "* When should $\\delta$ change from 0 and back?"
      ]
    },
    {
      "cell_type": "code",
      "metadata": {
        "id": "-U-6NqIoD5b2"
      },
      "source": [
        "v_c = 1 # m/s\n",
        "delta_c = 1 # rad/s\n",
        "L =0.9\n",
        "\n",
        "#calculate time taken to finish a quarter turn (pi/4)\n",
        "# unlike you would need to take into account v_c and L of the vehicle as well\n",
        "t_turn = int(np.pi/4/(v_c/L))\n",
        "\n",
        "#calculate the time taken to finish straight segments\n",
        "# omega array is to be padded with equivalent zeros\n",
        "\n",
        "t_straight1, t_straight2, t_straight3 = int(10/v_c), int(5/v_c), int(8/ v_c)\n",
        "\n",
        "all_delta = [0]*t_straight1 + [delta_c]*t_turn + [0]*t_straight2 + [delta_c]*t_turn + [0]*t_straight3 + [-delta_c]*t_turn\n",
        "all_v = v_c*np.ones_like(all_delta)"
      ],
      "execution_count": null,
      "outputs": []
    },
    {
      "cell_type": "markdown",
      "metadata": {
        "id": "lI-eXKo9D5b3"
      },
      "source": [
        "Let us make a cool function out of this!\n",
        "\n",
        "Take in as input a generic route and convert it into open-loop commands\n",
        "\n",
        "Input format: [(\"straight\", 5), (\"right\", 90), (\"straight\", 6), (\"left\", 85)]\n",
        "\n",
        "Output: all_v, all_delta"
      ]
    },
    {
      "cell_type": "code",
      "metadata": {
        "id": "dydnwuPmD5b4"
      },
      "source": [
        "def get_open_loop_commands(route, vc, deltac):\n",
        "    all_d = []\n",
        "    all_v = []\n",
        "    for direction, command in route:\n",
        "        print(command)\n",
        "        if (direction == \"straight\"):\n",
        "            all_d += [0]*np.ceil(command/vc).astype('int')\n",
        "            all_v += [vc]*np.ceil(command/vc).astype('int')\n",
        "        elif direction == \"right\":\n",
        "            all_d += [-deltac]*(np.ceil(np.deg2rad(command)/deltac)).astype('int')\n",
        "            all_v += [vc]*(np.ceil(np.deg2rad(command)/deltac)).astype('int')\n",
        "        elif direction == \"left\":\n",
        "            all_d += [deltac]*(np.ceil(np.deg2rad(command)/deltac)).astype('int')\n",
        "            all_v += [vc]*(np.ceil(np.deg2rad(command)/deltac)).astype('int')\n",
        "        else:\n",
        "            raise NotImplemented\n",
        "    return all_v, all_d"
      ],
      "execution_count": null,
      "outputs": []
    },
    {
      "cell_type": "markdown",
      "metadata": {
        "id": "wPg13GHQD5b5"
      },
      "source": [
        "### Unit test your function with the following inputs\n",
        "\n",
        "+ [(\"straight\", 5), (\"right\", 90), (\"straight\", 6), (\"left\", 85)]\n",
        "+ $v_c = 1$\n",
        "+ $delta_c = \\pi/12$"
      ]
    },
    {
      "cell_type": "code",
      "metadata": {
        "id": "ga3MspwND5b5",
        "colab": {
          "base_uri": "https://localhost:8080/"
        },
        "outputId": "adb01fc9-8b0e-486e-88c0-93021e100c48"
      },
      "source": [
        "#get_open_loop_commands()\n",
        "all_v, all_w = get_open_loop_commands([(\"straight\", 5), (\"right\", 90), (\"straight\", 6), (\"left\", 85)], 1, np.pi/12)\n",
        "print(len(all_v))\n",
        "print(len(all_d))"
      ],
      "execution_count": null,
      "outputs": [
        {
          "output_type": "stream",
          "text": [
            "5\n",
            "90\n",
            "6\n",
            "85\n",
            "23\n",
            "1000\n"
          ],
          "name": "stdout"
        }
      ]
    },
    {
      "cell_type": "code",
      "metadata": {
        "id": "elCuQPcsD5b6"
      },
      "source": [
        "robot_trajectory = []\n",
        "pose = np.array([0, 0, np.pi/2])\n",
        "robot_trajectory.append(pose)\n",
        "for v, w in zip(all_v, all_d):\n",
        "    #instruction to take v, w and compute new pose    \n",
        "    pose = bicycle_model(pose, v, w, 0.9, 0.1)\n",
        "    # store new pose\n",
        "    robot_trajectory.append(pose)\n",
        "robot_trajectory = np.array(robot_trajectory)"
      ],
      "execution_count": null,
      "outputs": []
    },
    {
      "cell_type": "code",
      "metadata": {
        "id": "qK5s5Em9D5b6",
        "colab": {
          "base_uri": "https://localhost:8080/",
          "height": 265
        },
        "outputId": "ed62412a-6abc-483d-cd3a-ba719128b332"
      },
      "source": [
        "# plot robot trajectory\n",
        "plt.figure()\n",
        "plt.grid()\n",
        "plt.axis(\"equal\")\n",
        "plt.plot(robot_trajectory[:,0],robot_trajectory[:,1]) #plot xpos vs ypos\n",
        "#plt.plot( )\n",
        "plt.show()\n",
        "#plt.plot( )\n",
        "\n",
        "#show first and last robot positions with + markers\n",
        "# example: plt.plot(0, 0, 'r+', ms=10)\n"
      ],
      "execution_count": null,
      "outputs": [
        {
          "output_type": "display_data",
          "data": {
            "image/png": "[encoded data removed]",
            "text/plain": [
              "<Figure size 432x288 with 1 Axes>"
            ]
          },
          "metadata": {
            "tags": [],
            "needs_background": "light"
          }
        }
      ]
    },
    {
      "cell_type": "markdown",
      "metadata": {
        "id": "H-ecY7zbD5b7"
      },
      "source": [
        "### Shape the turn\n",
        "Let us try something cooler than before (though a bit tricky in open loop). Instead of boring circular arcs, change the steering angle so that the robot orientation changes as shown in the equation below\n",
        "\n",
        "$\\theta = (\\theta_i - \\theta_f) * (1 - 3x^2 + 2\\theta^3) + \\theta_f  \\thinspace \\vee x \\in [0,1]$\n",
        "\n",
        "First let us plot this"
      ]
    },
    {
      "cell_type": "code",
      "metadata": {
        "id": "DQbmFZmXD5b8"
      },
      "source": [
        "def poly_turn(theta_i, theta_f, n=10):\n",
        "    x = np.linspace(0, 1, num=n)\n",
        "    return (theta_i-theta_f) * (1 - 3 * x * x + 2 * (x**3)) + theta_f"
      ],
      "execution_count": null,
      "outputs": []
    },
    {
      "cell_type": "markdown",
      "metadata": {
        "id": "58KMj70TD5b9"
      },
      "source": [
        "How does a right turn look? "
      ]
    },
    {
      "cell_type": "code",
      "metadata": {
        "id": "i-ojobp37cs6",
        "colab": {
          "base_uri": "https://localhost:8080/"
        },
        "outputId": "610e3d29-ff37-4528-b3ba-28a47e70454b"
      },
      "source": [
        "theta_dot = np.diff(poly_turn(np.pi/2, 0))\n",
        "print(theta_dot)"
      ],
      "execution_count": null,
      "outputs": [
        {
          "output_type": "stream",
          "text": [
            "[-0.05386819 -0.14436674 -0.20900856 -0.24779366 -0.26072202 -0.24779366\n",
            " -0.20900856 -0.14436674 -0.05386819]\n"
          ],
          "name": "stdout"
        }
      ]
    },
    {
      "cell_type": "code",
      "metadata": {
        "id": "7INgEBQvD5b9",
        "colab": {
          "base_uri": "https://localhost:8080/",
          "height": 282
        },
        "outputId": "6f38bd4d-3f3f-42a5-af66-205970981f0e"
      },
      "source": [
        "plt.figure()\n",
        "plt.plot(poly_turn(np.pi/2, 0),'.')\n",
        "plt.plot(poly_turn(np.pi/2, 0))"
      ],
      "execution_count": null,
      "outputs": [
        {
          "output_type": "execute_result",
          "data": {
            "text/plain": [
              "[<matplotlib.lines.Line2D at 0x7fb998703bd0>]"
            ]
          },
          "metadata": {
            "tags": []
          },
          "execution_count": 14
        },
        {
          "output_type": "display_data",
          "data": {
            "image/png": "[encoded data removed]",
            "text/plain": [
              "<Figure size 432x288 with 1 Axes>"
            ]
          },
          "metadata": {
            "tags": [],
            "needs_background": "light"
          }
        }
      ]
    },
    {
      "cell_type": "markdown",
      "metadata": {
        "id": "Gk546i4HD5b-"
      },
      "source": [
        "Now plot a left turn (North to East)"
      ]
    },
    {
      "cell_type": "code",
      "metadata": {
        "id": "MIcpSAHhD5b_",
        "colab": {
          "base_uri": "https://localhost:8080/",
          "height": 215
        },
        "outputId": "cebf4a85-fa47-4828-f0b4-d9c0404fc8c5"
      },
      "source": [
        "# plt.figure()\n",
        "# plt.plot(poly_turn(),'.')\n",
        "# plt.plot(poly_turn())"
      ],
      "execution_count": null,
      "outputs": [
        {
          "output_type": "error",
          "ename": "TypeError",
          "evalue": "ignored",
          "traceback": [
            "\u001b[0;31m---------------------------------------------------------------------------\u001b[0m",
            "\u001b[0;31mTypeError\u001b[0m                                 Traceback (most recent call last)",
            "\u001b[0;32m<ipython-input-15-c33a033c5b26>\u001b[0m in \u001b[0;36m<module>\u001b[0;34m()\u001b[0m\n\u001b[1;32m      1\u001b[0m \u001b[0mplt\u001b[0m\u001b[0;34m.\u001b[0m\u001b[0mfigure\u001b[0m\u001b[0;34m(\u001b[0m\u001b[0;34m)\u001b[0m\u001b[0;34m\u001b[0m\u001b[0;34m\u001b[0m\u001b[0m\n\u001b[0;32m----> 2\u001b[0;31m \u001b[0mplt\u001b[0m\u001b[0;34m.\u001b[0m\u001b[0mplot\u001b[0m\u001b[0;34m(\u001b[0m\u001b[0mpoly_turn\u001b[0m\u001b[0;34m(\u001b[0m\u001b[0;34m)\u001b[0m\u001b[0;34m,\u001b[0m\u001b[0;34m'.'\u001b[0m\u001b[0;34m)\u001b[0m\u001b[0;34m\u001b[0m\u001b[0;34m\u001b[0m\u001b[0m\n\u001b[0m\u001b[1;32m      3\u001b[0m \u001b[0mplt\u001b[0m\u001b[0;34m.\u001b[0m\u001b[0mplot\u001b[0m\u001b[0;34m(\u001b[0m\u001b[0mpoly_turn\u001b[0m\u001b[0;34m(\u001b[0m\u001b[0;34m)\u001b[0m\u001b[0;34m)\u001b[0m\u001b[0;34m\u001b[0m\u001b[0;34m\u001b[0m\u001b[0m\n",
            "\u001b[0;31mTypeError\u001b[0m: poly_turn() missing 2 required positional arguments: 'theta_i' and 'theta_f'"
          ]
        },
        {
          "output_type": "display_data",
          "data": {
            "text/plain": [
              "<Figure size 432x288 with 0 Axes>"
            ]
          },
          "metadata": {
            "tags": []
          }
        }
      ]
    },
    {
      "cell_type": "markdown",
      "metadata": {
        "id": "rj670M1aD5b_"
      },
      "source": [
        "How does $\\theta$ change when we had constant $\\delta$? Plot it"
      ]
    },
    {
      "cell_type": "code",
      "metadata": {
        "id": "ywtHa7z3D5cA"
      },
      "source": [
        "theta0 = np.pi/2\n",
        "delta = 1\n",
        "v = 1\n",
        "L = 0.9\n",
        "final = []\n",
        "t = np.linspace(0.0, 10.0, 100)\n",
        "theta = theta0\n",
        "final.append(theta)\n",
        "for i in range(len(t)-1):\n",
        "  # print(t)\n",
        "  theta = theta0 + (v/L)*np.tan(1)*i\n",
        "  final.append(theta)\n",
        "\n",
        "final = np.array(final)\n",
        "# print(final)\n",
        "  "
      ],
      "execution_count": null,
      "outputs": []
    },
    {
      "cell_type": "code",
      "metadata": {
        "id": "1W2GwTlW9huj",
        "colab": {
          "base_uri": "https://localhost:8080/",
          "height": 265
        },
        "outputId": "b8a24751-2e4f-4941-f6f1-ba84e7d3431c"
      },
      "source": [
        "# plot robot trajectory\n",
        "plt.figure()\n",
        "plt.grid()\n",
        "# plt.figure()\n",
        "plt.axis(\"equal\")\n",
        "plt.plot(final,t) #plot xpos vs ypos\n",
        "#plt.plot( )\n",
        "plt.show()"
      ],
      "execution_count": null,
      "outputs": [
        {
          "output_type": "display_data",
          "data": {
            "image/png": "[encoded data removed]",
            "text/plain": [
              "<Figure size 432x288 with 1 Axes>"
            ]
          },
          "metadata": {
            "tags": [],
            "needs_background": "light"
          }
        }
      ]
    },
    {
      "cell_type": "markdown",
      "metadata": {
        "id": "7QGyMtTxD5cA"
      },
      "source": [
        "We know the rate of change of $\\theta$ is proportional to $\\delta$. Can you work out the sequence of $\\delta$ to change $\\theta$ as in the cubic polynomial shown above?"
      ]
    },
    {
      "cell_type": "code",
      "metadata": {
        "id": "UZ590VkxD5cA"
      },
      "source": [
        "vc = 1\n",
        "L = 1\n",
        "delta = np.arctan(theta_dot*L/vc)\n",
        "print(delta)"
      ],
      "execution_count": null,
      "outputs": []
    }
  ]
}