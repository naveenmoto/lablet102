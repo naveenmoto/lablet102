{
  "nbformat": 4,
  "nbformat_minor": 0,
  "metadata": {
    "kernelspec": {
      "display_name": "Python 3",
      "language": "python",
      "name": "python3"
    },
    "language_info": {
      "codemirror_mode": {
        "name": "ipython",
        "version": 3
      },
      "file_extension": ".py",
      "mimetype": "text/x-python",
      "name": "python",
      "nbconvert_exporter": "python",
      "pygments_lexer": "ipython3",
      "version": "3.9.1"
    },
    "varInspector": {
      "cols": {
        "lenName": 16,
        "lenType": 16,
        "lenVar": 40
      },
      "kernels_config": {
        "python": {
          "delete_cmd_postfix": "",
          "delete_cmd_prefix": "del ",
          "library": "var_list.py",
          "varRefreshCmd": "print(var_dic_list())"
        },
        "r": {
          "delete_cmd_postfix": ") ",
          "delete_cmd_prefix": "rm(",
          "library": "var_list.r",
          "varRefreshCmd": "cat(var_dic_list()) "
        }
      },
      "position": {
        "height": "144px",
        "left": "1090px",
        "right": "20px",
        "top": "13px",
        "width": "350px"
      },
      "types_to_exclude": [
        "module",
        "function",
        "builtin_function_or_method",
        "instance",
        "_Feature"
      ],
      "window_display": true
    },
    "colab": {
      "name": "Copy of unicycle_model.ipynb",
      "provenance": [],
      "collapsed_sections": []
    }
  },
  "cells": [
    {
      "cell_type": "code",
      "metadata": {
        "id": "915n6V11aW6q"
      },
      "source": [
        "import pandas as pd\n",
        "import numpy as np\n",
        "import matplotlib.pyplot as plt\n",
        "%matplotlib inline\n",
        "import doctest\n",
        "import copy"
      ],
      "execution_count": null,
      "outputs": []
    },
    {
      "cell_type": "code",
      "metadata": {
        "id": "TNzngiFQaW64"
      },
      "source": [
        "#https://stackoverflow.com/questions/40137950/possible-to-run-python-doctest-on-a-jupyter-cell-function\n",
        "def test(func):\n",
        "    '''\n",
        "    Use test as a decorator to a function with doctests in Jupyter notebook. \n",
        "    Run the cell to see the results of the doctests.\n",
        "    '''\n",
        "    globs = copy.copy(globals())\n",
        "    globs.update({func.__name__:func})\n",
        "    doctest.run_docstring_examples(func, globs, verbose=True, name=func.__name__)\n",
        "    return func"
      ],
      "execution_count": null,
      "outputs": []
    },
    {
      "cell_type": "markdown",
      "metadata": {
        "id": "bxv6Vpt6aW66"
      },
      "source": [
        "### Simulate straight line and circular movements with Unicycle model\n",
        "\n",
        "Robot is at the origin (0, 0) and facing North, i.e, $\\theta = \\pi/2$\n",
        "\n",
        "Use the Kinematics equations we had developed in class for the Unicycle model"
      ]
    },
    {
      "cell_type": "code",
      "metadata": {
        "colab": {
          "base_uri": "https://localhost:8080/"
        },
        "id": "mQ4-cWX0aW67",
        "outputId": "f24f58fe-e83b-49f3-dcfe-dcce4075440a"
      },
      "source": [
        "@test \n",
        "def unicycle_model(curr_pose, v, w, dt=1.0):\n",
        "    '''\n",
        "    >>> unicycle_model((0.0,0.0,0.0), 1.0, 0.0)\n",
        "    (1.0, 0.0, 0.0)\n",
        "    >>> unicycle_model((0.0,0.0,0.0), 0.0, 1.0)\n",
        "    (0.0, 0.0, 1.0)\n",
        "    >>> unicycle_model((0.0, 0.0, 0.0), 1.0, 1.0)\n",
        "    (1.0, 0.0, 1.0)\n",
        "    '''\n",
        "    ## write code to calculate next_pose\n",
        "    # refer to the kinematic equations of a unicycle model\n",
        "    x, y, theta = curr_pose\n",
        "    x += v*np.cos(theta)*dt\n",
        "    y += v*np.sin(theta)*dt\n",
        "    theta += w*dt\n",
        "    \n",
        "    # Keep theta bounded between [-pi, pi]\n",
        "    theta = np.arctan2(np.sin(theta), np.cos(theta))\n",
        "\n",
        "    # return calculated (x, y, theta)\n",
        "    return x, y, theta"
      ],
      "execution_count": null,
      "outputs": [
        {
          "output_type": "stream",
          "text": [
            "\n",
            "PYDEV DEBUGGER WARNING:\n",
            "sys.settrace() should not be used when the debugger is being used.\n",
            "This may cause the debugger to stop working correctly.\n",
            "If this is needed, please check: \n",
            "http://pydev.blogspot.com/2007/06/why-cant-pydev-debugger-work-with.html\n",
            "to see how to restore the debug tracing back correctly.\n",
            "Call Location:\n",
            "  File \"/usr/lib/python3.7/doctest.py\", line 1487, in run\n",
            "    sys.settrace(save_trace)\n",
            "\n"
          ],
          "name": "stderr"
        },
        {
          "output_type": "stream",
          "text": [
            "Finding tests in unicycle_model\n",
            "Trying:\n",
            "    unicycle_model((0.0,0.0,0.0), 1.0, 0.0)\n",
            "Expecting:\n",
            "    (1.0, 0.0, 0.0)\n",
            "ok\n",
            "Trying:\n",
            "    unicycle_model((0.0,0.0,0.0), 0.0, 1.0)\n",
            "Expecting:\n",
            "    (0.0, 0.0, 1.0)\n",
            "ok\n",
            "Trying:\n",
            "    unicycle_model((0.0, 0.0, 0.0), 1.0, 1.0)\n",
            "Expecting:\n",
            "    (1.0, 0.0, 1.0)\n",
            "ok\n"
          ],
          "name": "stdout"
        }
      ]
    },
    {
      "cell_type": "markdown",
      "metadata": {
        "id": "WvnDVhcnaW68"
      },
      "source": [
        "Now let us try to simulate motion along a straight line and circle\n",
        "\n",
        "Look at the kinematics equations you wrote - what should $v,\\omega$ if\n",
        "+ There is no change in $\\theta$\n",
        "+ $\\theta$ has to change from 0 to 360 degrees"
      ]
    },
    {
      "cell_type": "code",
      "metadata": {
        "id": "LbyELyEUaW68"
      },
      "source": [
        "#straight line\n",
        "straight_trajectory = []\n",
        "pose = (0, 0, np.pi/2)\n",
        "steps = 10\n",
        "#fill in v and omega values\n",
        "all_v = np.ones(steps)\n",
        "all_w = np.zeros(steps)\n",
        "for v, w in zip(all_v, all_w):\n",
        "   # store pose\n",
        "   straight_trajectory.append(pose)\n",
        "   #instruction to take v, w and compute new pose    \n",
        "   pose = unicycle_model(pose, v, w)\n",
        "straight_trajectory = np.array(straight_trajectory)\n",
        "    "
      ],
      "execution_count": null,
      "outputs": []
    },
    {
      "cell_type": "code",
      "metadata": {
        "id": "FUxFLSBfaW69"
      },
      "source": [
        "#straight line\n",
        "circular_trajectory = []\n",
        "pose = (0, 0, np.pi/2)\n",
        "steps = 10\n",
        "#fill in v and omega values\n",
        "all_v = np.ones(steps*100)\n",
        "all_w = np.ones(steps*100)\n",
        "for v, w in zip(all_v, all_w):\n",
        "   # store pose\n",
        "   circular_trajectory.append(pose)\n",
        "   #instruction to take v, w and compute new pose    \n",
        "   pose = unicycle_model(pose, v, w, 0.1)\n",
        "circular_trajectory = np.array(circular_trajectory)\n",
        "    "
      ],
      "execution_count": null,
      "outputs": []
    },
    {
      "cell_type": "code",
      "metadata": {
        "colab": {
          "base_uri": "https://localhost:8080/",
          "height": 513
        },
        "id": "cNWutHfJaW6-",
        "outputId": "390b8dd0-4b2d-4503-8dad-44e6ccd864d2"
      },
      "source": [
        "### Plot straight and circular trajectories\n",
        "plt.figure()\n",
        "plt.axes().set_aspect(\"equal\",\"datalim\")\n",
        "plt.plot(straight_trajectory[:,0], straight_trajectory[:,1])\n",
        "\n",
        "### Plot straight and circular trajectories\n",
        "plt.figure()\n",
        "plt.axes().set_aspect(\"equal\",\"datalim\")\n",
        "plt.plot(circular_trajectory[:,0], circular_trajectory[:,1])\n",
        "plt.show()"
      ],
      "execution_count": null,
      "outputs": [
        {
          "output_type": "display_data",
          "data": {
            "image/png": "[encoded data removed]",
            "text/plain": [
              "<Figure size 432x288 with 1 Axes>"
            ]
          },
          "metadata": {
            "tags": [],
            "needs_background": "light"
          }
        },
        {
          "output_type": "display_data",
          "data": {
            "image/png": "[encoded data removed]",
            "text/plain": [
              "<Figure size 432x288 with 1 Axes>"
            ]
          },
          "metadata": {
            "tags": [],
            "needs_background": "light"
          }
        }
      ]
    },
    {
      "cell_type": "markdown",
      "metadata": {
        "id": "awW009gNaW6-"
      },
      "source": [
        "### Simulate Unicycle model with Open Loop control\n",
        "\n",
        "We want the robot to follow these instructions\n",
        "\n",
        "**straight 10m, right turn, straight 5m, left turn, straight 8m, right turn**\n",
        "\n",
        "It is in open loop; control commands have to be calculated upfront. How do we do it?\n",
        "\n",
        "To keep things simple in the first iteration, we can fix $v = v_c$ and change only $\\omega$. To make it even simpler, $\\omega$ can take only 2 values \n",
        "+ 0 when the vehicle is going straight \n",
        "+ $\\omega = \\omega_c$ when turning\n",
        "\n",
        "This leaves only 2 questions to be answered\n",
        "* What should be $v_c$ and $\\omega_c$?\n",
        "* When should $\\omega$ change from 0 and back?"
      ]
    },
    {
      "cell_type": "code",
      "metadata": {
        "id": "v8mDihzAaW7A"
      },
      "source": [
        "vc = 1 #m/s\n",
        "wc = np.pi/6 #rad/s\n",
        "\n",
        "#calculate time taken to finish a quarter turn (pi/2)\n",
        "t_turn = int(np.pi/2/wc)\n",
        "\n",
        "#calculate the time taken to finish straight segments\n",
        "# omega array is to be padded with equivalent zeros\n",
        "\n",
        "t_straight1, t_straight2, t_straight3 = int(10/vc), int(5/vc), int(8/ vc)\n",
        "\n",
        "all_w = [0]*t_straight1 + [wc]*t_turn + \\\n",
        "        [0]*t_straight2 + [wc]*t_turn + \\\n",
        "        [0]*t_straight3 + [-wc]*t_turn\n",
        "\n",
        "all_v = vc*np.ones_like(all_w)"
      ],
      "execution_count": null,
      "outputs": []
    },
    {
      "cell_type": "markdown",
      "metadata": {
        "id": "8j9S1Dy8aW7B"
      },
      "source": [
        "Let us make a cool function out of this!\n",
        "\n",
        "Take in as input a generic route and convert it into open-loop commands\n",
        "\n",
        "Input format: [(\"straight\", 5), (\"right\", 90), (\"straight\", 6), (\"left\", 85)]\n",
        "\n",
        "Output: all_v, all_w"
      ]
    },
    {
      "cell_type": "code",
      "metadata": {
        "id": "TSTA2tM_aW7C"
      },
      "source": [
        "def get_open_loop_commands(route, vc, wc=np.pi/12, dt=1.0):\n",
        "    all_w = []\n",
        "    all_v = []\n",
        "    for direction, command in route:\n",
        "        print(command)\n",
        "        if (direction == \"straight\"):\n",
        "            all_w += [0]*np.ceil(command/vc).astype('int')\n",
        "            all_v += [vc]*np.ceil(command/vc).astype('int')\n",
        "        elif direction == \"right\":\n",
        "            all_w += [-wc]*(np.ceil(np.deg2rad(command)/wc)).astype('int')\n",
        "            all_v += [vc]*(np.ceil(np.deg2rad(command)/wc)).astype('int')\n",
        "        elif direction == \"left\":\n",
        "            all_w += [wc]*(np.ceil(np.deg2rad(command)/wc)).astype('int')\n",
        "            all_v += [vc]*(np.ceil(np.deg2rad(command)/wc)).astype('int')\n",
        "        else:\n",
        "            raise NotImplemented\n",
        "#     all_v = vc*np.ones_like(all_w)\n",
        "    return all_v, all_w"
      ],
      "execution_count": null,
      "outputs": []
    },
    {
      "cell_type": "markdown",
      "metadata": {
        "id": "u9ymrP75aW7D"
      },
      "source": [
        "### Unit test your function with the following inputs\n",
        "\n",
        "+ [(\"straight\", 5), (\"right\", 90), (\"straight\", 6), (\"left\", 85)]\n",
        "+ $v_c = 1$\n",
        "+ $w_c = \\pi/12$"
      ]
    },
    {
      "cell_type": "code",
      "metadata": {
        "id": "J3U03lMPaW7D",
        "colab": {
          "base_uri": "https://localhost:8080/"
        },
        "outputId": "4362a154-9bad-464c-a982-0f467771ff48"
      },
      "source": [
        "all_v, all_w = get_open_loop_commands([(\"straight\", 5), (\"right\", 90), (\"straight\", 6), (\"left\", 85)], 1, np.pi/12)\n",
        "print(len(all_v))"
      ],
      "execution_count": null,
      "outputs": [
        {
          "output_type": "stream",
          "text": [
            "5\n",
            "90\n",
            "6\n",
            "85\n",
            "23\n"
          ],
          "name": "stdout"
        }
      ]
    },
    {
      "cell_type": "code",
      "metadata": {
        "id": "YiNYCb0maW7E"
      },
      "source": [
        "robot_trajectory = []\n",
        "pose = (0, 0, np.pi/2)\n",
        "robot_trajectory.append(pose)\n",
        "for v, w in zip(all_v, all_w):\n",
        "    #instruction to take v, w and compute new pose    \n",
        "    pose = unicycle_model(pose, v, w, 1)\n",
        "    # store new pose\n",
        "    robot_trajectory.append(pose)\n",
        "robot_trajectory = np.array(robot_trajectory)\n",
        "\n",
        "   "
      ],
      "execution_count": null,
      "outputs": []
    },
    {
      "cell_type": "code",
      "metadata": {
        "id": "eSB1nwuOaW7E",
        "colab": {
          "base_uri": "https://localhost:8080/",
          "height": 282
        },
        "outputId": "8f6e646f-787d-43b4-f5e1-0558aeee10c0"
      },
      "source": [
        "# plot robot trajectory\n",
        "plt.figure()\n",
        "plt.grid()\n",
        "# plt.figure()\n",
        "plt.axis(\"equal\")\n",
        "plt.plot(robot_trajectory[:,0],robot_trajectory[:,1])\n",
        "#plt.plot( )\n",
        "\n",
        "#show first and last robot positions with + markers\n",
        "# example: plt.plot(0, 0, 'r+', ms=10)\n"
      ],
      "execution_count": null,
      "outputs": [
        {
          "output_type": "execute_result",
          "data": {
            "text/plain": [
              "[<matplotlib.lines.Line2D at 0x7f111cbf2510>]"
            ]
          },
          "metadata": {
            "tags": []
          },
          "execution_count": 12
        },
        {
          "output_type": "display_data",
          "data": {
            "image/png": "[encoded data removed]",
            "text/plain": [
              "<Figure size 432x288 with 1 Axes>"
            ]
          },
          "metadata": {
            "tags": [],
            "needs_background": "light"
          }
        }
      ]
    },
    {
      "cell_type": "markdown",
      "metadata": {
        "id": "aD3-Qh5naW7G"
      },
      "source": [
        "### Improved capabilities!\n",
        "\n",
        "+ Slow the robot while turning ($v_c$ for turn and straight needed)\n",
        "\n",
        "+ How to accommodate a sampling time < 1.0s (hint: think of sampling instances instead of time)"
      ]
    },
    {
      "cell_type": "code",
      "metadata": {
        "id": "S9MTvH46aW7G"
      },
      "source": [
        "def get_open_loop_commands_diff(route, vc_slow=0.5,vc_fast=1, wc=np.pi/12, dt=1.0):\n",
        "    all_w = []\n",
        "    all_v = []\n",
        "    for direction, command in route:\n",
        "        print(command)\n",
        "        if (direction == \"straight\"):\n",
        "            all_w += [0]*np.ceil(command/(vc*dt)).astype('int')\n",
        "            all_v += [vc_fast]*np.ceil(command/(vc*dt)).astype('int')\n",
        "        elif direction == \"right\":\n",
        "            all_w += [-wc]*(np.ceil(np.deg2rad(command)/(wc*dt))).astype('int')\n",
        "            all_v += [vc_slow]*(np.ceil(np.deg2rad(command)/(wc*dt))).astype('int')\n",
        "        elif direction == \"left\":\n",
        "            all_w += [wc]*(np.ceil(np.deg2rad(command)/(wc*dt))).astype('int')\n",
        "            all_v += [vc_slow]*(np.ceil(np.deg2rad(command)/(wc*dt))).astype('int')\n",
        "        else:\n",
        "            raise NotImplemented\n",
        "    return all_v, all_w"
      ],
      "execution_count": null,
      "outputs": []
    },
    {
      "cell_type": "code",
      "metadata": {
        "id": "3otZa5qlkJX8",
        "colab": {
          "base_uri": "https://localhost:8080/"
        },
        "outputId": "95a54bcf-cf7d-40c9-9182-6f765b51bd65"
      },
      "source": [
        "all_v, all_w = get_open_loop_commands_diff([(\"straight\", 5), (\"right\", 90), (\"straight\", 6), (\"left\", 85)],0.5, 1, np.pi/12)\n",
        "print(all_v)\n",
        "print(all_w)"
      ],
      "execution_count": null,
      "outputs": [
        {
          "output_type": "stream",
          "text": [
            "5\n",
            "90\n",
            "6\n",
            "85\n",
            "[1, 1, 1, 1, 1, 0.5, 0.5, 0.5, 0.5, 0.5, 0.5, 1, 1, 1, 1, 1, 1, 0.5, 0.5, 0.5, 0.5, 0.5, 0.5]\n",
            "[0, 0, 0, 0, 0, -0.2617993877991494, -0.2617993877991494, -0.2617993877991494, -0.2617993877991494, -0.2617993877991494, -0.2617993877991494, 0, 0, 0, 0, 0, 0, 0.2617993877991494, 0.2617993877991494, 0.2617993877991494, 0.2617993877991494, 0.2617993877991494, 0.2617993877991494]\n"
          ],
          "name": "stdout"
        }
      ]
    },
    {
      "cell_type": "code",
      "metadata": {
        "id": "HuQ-SKl3kFhI"
      },
      "source": [
        "robot_trajectory = []\n",
        "pose = (0, 0, np.pi/2)\n",
        "robot_trajectory.append(pose)\n",
        "for v, w in zip(all_v, all_w):\n",
        "    #instruction to take v, w and compute new pose    \n",
        "    pose = unicycle_model(pose, v, w, 1)\n",
        "    # store new pose\n",
        "    robot_trajectory.append(pose)\n",
        "robot_trajectory = np.array(robot_trajectory)\n",
        "# print(robot_trajectory)"
      ],
      "execution_count": null,
      "outputs": []
    },
    {
      "cell_type": "code",
      "metadata": {
        "id": "etX9t4HGkkhb",
        "colab": {
          "base_uri": "https://localhost:8080/",
          "height": 265
        },
        "outputId": "e4a30976-ffc2-4833-b491-e71fb46c1f3f"
      },
      "source": [
        "# plot robot trajectory\n",
        "plt.figure()\n",
        "plt.grid()\n",
        "# plt.figure()\n",
        "plt.axis(\"equal\")\n",
        "plt.plot(robot_trajectory[:,0],robot_trajectory[:,1]) #plot xpos vs ypos\n",
        "#plt.plot( )\n",
        "plt.show()\n",
        "#show first and last robot positions with + markers\n",
        "# example: plt.plot(0, 0, 'r+', ms=10)"
      ],
      "execution_count": null,
      "outputs": [
        {
          "output_type": "display_data",
          "data": {
            "image/png": "[encoded data removed]",
            "text/plain": [
              "<Figure size 432x288 with 1 Axes>"
            ]
          },
          "metadata": {
            "tags": [],
            "needs_background": "light"
          }
        }
      ]
    },
    {
      "cell_type": "code",
      "metadata": {
        "id": "tER0qVeGovMZ",
        "colab": {
          "base_uri": "https://localhost:8080/"
        },
        "outputId": "54d1877c-6e7e-43f0-81c0-399c327fe321"
      },
      "source": [
        "all_v1, all_w1 = get_open_loop_commands_diff([(\"straight\", 5), (\"right\", 90), (\"straight\", 6), (\"left\", 85)],0.5, 1, np.pi/12, 0.5)\n",
        "print(all_v1)\n",
        "print(all_w1)"
      ],
      "execution_count": null,
      "outputs": [
        {
          "output_type": "stream",
          "text": [
            "5\n",
            "90\n",
            "6\n",
            "85\n",
            "[1, 1, 1, 1, 1, 1, 1, 1, 1, 1, 0.5, 0.5, 0.5, 0.5, 0.5, 0.5, 0.5, 0.5, 0.5, 0.5, 0.5, 0.5, 1, 1, 1, 1, 1, 1, 1, 1, 1, 1, 1, 1, 0.5, 0.5, 0.5, 0.5, 0.5, 0.5, 0.5, 0.5, 0.5, 0.5, 0.5, 0.5]\n",
            "[0, 0, 0, 0, 0, 0, 0, 0, 0, 0, -0.2617993877991494, -0.2617993877991494, -0.2617993877991494, -0.2617993877991494, -0.2617993877991494, -0.2617993877991494, -0.2617993877991494, -0.2617993877991494, -0.2617993877991494, -0.2617993877991494, -0.2617993877991494, -0.2617993877991494, 0, 0, 0, 0, 0, 0, 0, 0, 0, 0, 0, 0, 0.2617993877991494, 0.2617993877991494, 0.2617993877991494, 0.2617993877991494, 0.2617993877991494, 0.2617993877991494, 0.2617993877991494, 0.2617993877991494, 0.2617993877991494, 0.2617993877991494, 0.2617993877991494, 0.2617993877991494]\n"
          ],
          "name": "stdout"
        }
      ]
    },
    {
      "cell_type": "code",
      "metadata": {
        "id": "GxccyqaOpqGx"
      },
      "source": [
        "robot_trajectory = []\n",
        "pose = (0, 0, np.pi/2)\n",
        "robot_trajectory.append(pose)\n",
        "for v, w in zip(all_v1, all_w1):\n",
        "    #instruction to take v, w and compute new pose    \n",
        "    pose = unicycle_model(pose, v, w, 0.5)\n",
        "    # store new pose\n",
        "    robot_trajectory.append(pose)\n",
        "robot_trajectory = np.array(robot_trajectory)\n",
        "# print(robot_trajectory)"
      ],
      "execution_count": null,
      "outputs": []
    },
    {
      "cell_type": "code",
      "metadata": {
        "id": "Tmo0dJJ9p25v",
        "colab": {
          "base_uri": "https://localhost:8080/",
          "height": 265
        },
        "outputId": "8d786b16-4a6d-48dd-da5a-bbe1b22fea7a"
      },
      "source": [
        "# plot robot trajectory\n",
        "plt.figure()\n",
        "plt.grid()\n",
        "# plt.figure()\n",
        "plt.axis(\"equal\")\n",
        "plt.plot(robot_trajectory[:,0],robot_trajectory[:,1]) #plot xpos vs ypos\n",
        "#plt.plot( )\n",
        "plt.show()\n",
        "#show first and last robot positions with + markers\n",
        "# example: plt.plot(0, 0, 'r+', ms=10)"
      ],
      "execution_count": null,
      "outputs": [
        {
          "output_type": "display_data",
          "data": {
            "image/png": "[encoded data removed]",
            "text/plain": [
              "<Figure size 432x288 with 1 Axes>"
            ]
          },
          "metadata": {
            "tags": [],
            "needs_background": "light"
          }
        }
      ]
    }
  ]
}