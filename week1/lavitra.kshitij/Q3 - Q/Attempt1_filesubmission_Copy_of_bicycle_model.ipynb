{
  "nbformat": 4,
  "nbformat_minor": 0,
  "metadata": {
    "kernelspec": {
      "display_name": "Python 3",
      "language": "python",
      "name": "python3"
    },
    "language_info": {
      "codemirror_mode": {
        "name": "ipython",
        "version": 3
      },
      "file_extension": ".py",
      "mimetype": "text/x-python",
      "name": "python",
      "nbconvert_exporter": "python",
      "pygments_lexer": "ipython3",
      "version": "3.9.1"
    },
    "varInspector": {
      "cols": {
        "lenName": 16,
        "lenType": 16,
        "lenVar": 40
      },
      "kernels_config": {
        "python": {
          "delete_cmd_postfix": "",
          "delete_cmd_prefix": "del ",
          "library": "var_list.py",
          "varRefreshCmd": "print(var_dic_list())"
        },
        "r": {
          "delete_cmd_postfix": ") ",
          "delete_cmd_prefix": "rm(",
          "library": "var_list.r",
          "varRefreshCmd": "cat(var_dic_list()) "
        }
      },
      "position": {
        "height": "144px",
        "left": "1090px",
        "right": "20px",
        "top": "13px",
        "width": "350px"
      },
      "types_to_exclude": [
        "module",
        "function",
        "builtin_function_or_method",
        "instance",
        "_Feature"
      ],
      "window_display": true
    },
    "colab": {
      "name": "Copy of bicycle_model.ipynb",
      "provenance": [],
      "collapsed_sections": []
    }
  },
  "cells": [
    {
      "cell_type": "code",
      "metadata": {
        "id": "gpGPl3rxD5bt"
      },
      "source": [
        "import pandas as pd\n",
        "import numpy as np\n",
        "import matplotlib.pyplot as plt\n",
        "%matplotlib inline\n",
        "import doctest\n",
        "import copy"
      ],
      "execution_count": 1,
      "outputs": []
    },
    {
      "cell_type": "code",
      "metadata": {
        "id": "Cy-IHdN_D5bv"
      },
      "source": [
        "#https://stackoverflow.com/questions/40137950/possible-to-run-python-doctest-on-a-jupyter-cell-function\n",
        "def test(func):\n",
        "    '''\n",
        "    Use test as a decorator to a function with doctests in Jupyter notebook. \n",
        "    Run the cell to see the results of the doctests.\n",
        "    '''\n",
        "    globs = copy.copy(globals())\n",
        "    globs.update({func.__name__:func})\n",
        "    doctest.run_docstring_examples(func, globs, verbose=True, name=func.__name__)\n",
        "    return func"
      ],
      "execution_count": 2,
      "outputs": []
    },
    {
      "cell_type": "markdown",
      "metadata": {
        "id": "wItZX1gwD5bw"
      },
      "source": [
        "### Simulate straight line and circular movements with Bicycle model\n",
        "\n",
        "Robot is at the origin (0, 0) and facing North, i.e, $\\theta = \\pi/2$. Assume the wheelbase of the vehicle $L$ = 0.9 m"
      ]
    },
    {
      "cell_type": "code",
      "metadata": {
        "id": "Zeb2OgYeD5bx",
        "colab": {
          "base_uri": "https://localhost:8080/"
        },
        "outputId": "ca786b86-ffdc-4a48-f8a0-0942b2f90dd9"
      },
      "source": [
        "@test \n",
        "def bicycle_model(curr_pose, v, delta, dt=1.0):\n",
        "    '''\n",
        "    >>> bicycle_model((0.0,0.0,0.0), 1.0, 0.0)\n",
        "    (1.0, 0.0, 0.0)\n",
        "    >>> bicycle_model((0.0,0.0,0.0), 0.0, np.pi/4)\n",
        "    (0.0, 0.0, 0.0) \n",
        "    >>> bicycle_model((0.0, 0.0, 0.0), 1.0, np.pi/4)\n",
        "    (1.0, 0.0, 1.11) \n",
        "    '''\n",
        "    # write code to calculate next_pose\n",
        "    # refer to the kinematic equations of a bicycle model\n",
        "    x, y, theta = curr_pose\n",
        "    x += v*np.cos(theta)*dt\n",
        "    y += v*np.sin(theta)*dt\n",
        "    theta += v/0.9*np.tan(delta)*dt\n",
        "    \n",
        "    # Keep theta bounded between [-pi, pi]\n",
        "    theta = np.arctan2(np.sin(theta), np.cos(theta))\n",
        "    # return calculated (x, y, theta)\n",
        "    return x, y, theta"
      ],
      "execution_count": 3,
      "outputs": [
        {
          "output_type": "stream",
          "text": [
            "\n",
            "PYDEV DEBUGGER WARNING:\n",
            "sys.settrace() should not be used when the debugger is being used.\n",
            "This may cause the debugger to stop working correctly.\n",
            "If this is needed, please check: \n",
            "http://pydev.blogspot.com/2007/06/why-cant-pydev-debugger-work-with.html\n",
            "to see how to restore the debug tracing back correctly.\n",
            "Call Location:\n",
            "  File \"/usr/lib/python3.7/doctest.py\", line 1487, in run\n",
            "    sys.settrace(save_trace)\n",
            "\n"
          ],
          "name": "stderr"
        },
        {
          "output_type": "stream",
          "text": [
            "Finding tests in bicycle_model\n",
            "Trying:\n",
            "    bicycle_model((0.0,0.0,0.0), 1.0, 0.0)\n",
            "Expecting:\n",
            "    (1.0, 0.0, 0.0)\n",
            "ok\n",
            "Trying:\n",
            "    bicycle_model((0.0,0.0,0.0), 0.0, np.pi/4)\n",
            "Expecting:\n",
            "    (0.0, 0.0, 0.0) \n",
            "**********************************************************************\n",
            "File \"__main__\", line 6, in bicycle_model\n",
            "Failed example:\n",
            "    bicycle_model((0.0,0.0,0.0), 0.0, np.pi/4)\n",
            "Expected:\n",
            "    (0.0, 0.0, 0.0) \n",
            "Got:\n",
            "    (0.0, 0.0, 0.0)\n",
            "Trying:\n",
            "    bicycle_model((0.0, 0.0, 0.0), 1.0, np.pi/4)\n",
            "Expecting:\n",
            "    (1.0, 0.0, 1.11) \n",
            "**********************************************************************\n",
            "File \"__main__\", line 8, in bicycle_model\n",
            "Failed example:\n",
            "    bicycle_model((0.0, 0.0, 0.0), 1.0, np.pi/4)\n",
            "Expected:\n",
            "    (1.0, 0.0, 1.11) \n",
            "Got:\n",
            "    (1.0, 0.0, 1.111111111111111)\n"
          ],
          "name": "stdout"
        }
      ]
    },
    {
      "cell_type": "code",
      "metadata": {
        "id": "rkAm7KZ5D5by"
      },
      "source": [
        "#straight line\n",
        "straight_trajectory = []\n",
        "pose = (0, 0, np.pi/2)\n",
        "steps = 10\n",
        "#fill in v and delta values\n",
        "all_v = np.ones(steps)\n",
        "all_delta = np.zeros(steps)\n",
        "for v, delta in zip(all_v, all_delta):\n",
        "   # store pose\n",
        "   straight_trajectory.append(pose)\n",
        "   #instruction to take v, w and compute new pose    \n",
        "   pose = bicycle_model(pose, v, delta)\n",
        "straight_trajectory = np.array(straight_trajectory)"
      ],
      "execution_count": 4,
      "outputs": []
    },
    {
      "cell_type": "code",
      "metadata": {
        "id": "9fNbts6TD5bz"
      },
      "source": [
        "#circle\n",
        "circular_trajectory = []\n",
        "pose = (0, 0, np.pi/2)\n",
        "steps = 10\n",
        "#fill in v and delta values\n",
        "all_v = np.ones(steps*100)\n",
        "all_delta = np.ones(steps*100)\n",
        "for v, delta in zip(all_v, all_delta):\n",
        "   # store pose\n",
        "   circular_trajectory.append(pose)\n",
        "   #instruction to take v, w and compute new pose    \n",
        "   pose = bicycle_model(pose, v, delta, 0.1)\n",
        "circular_trajectory = np.array(circular_trajectory)\n"
      ],
      "execution_count": 5,
      "outputs": []
    },
    {
      "cell_type": "code",
      "metadata": {
        "id": "RS90vnzYD5b0",
        "colab": {
          "base_uri": "https://localhost:8080/",
          "height": 265
        },
        "outputId": "0ff7748d-98d9-4b28-fa6a-be9e3f20e5cf"
      },
      "source": [
        "### Plot straight and circular trajectories\n",
        "# plt.figure()\n",
        "# plt.axes().set_aspect(\"equal\",\"datalim\")\n",
        "# plt.plot(straight_trajectory[:,0], straight_trajectory[:,1])\n",
        "\n",
        "### Plot straight and circular trajectories\n",
        "plt.figure()\n",
        "plt.axes().set_aspect(\"equal\",\"datalim\")\n",
        "plt.plot(circular_trajectory[:,0], circular_trajectory[:,1])\n",
        "plt.show()"
      ],
      "execution_count": 6,
      "outputs": [
        {
          "output_type": "display_data",
          "data": {
            "image/png": "[encoded data removed]",
            "text/plain": [
              "<Figure size 432x288 with 1 Axes>"
            ]
          },
          "metadata": {
            "tags": [],
            "needs_background": "light"
          }
        }
      ]
    },
    {
      "cell_type": "markdown",
      "metadata": {
        "id": "KPMhUJJBD5b1"
      },
      "source": [
        "### Simulate Bicycle model with Open Loop control\n",
        "\n",
        "We want the robot to follow these instructions\n",
        "\n",
        "**straight 10m, right turn, straight 5m, left turn, straight 8m, right turn**\n",
        "\n",
        "It is in open loop; control commands have to be calculated upfront. How do we do it?\n",
        "\n",
        "To keep things simple in the first iteration, we can fix $v = v_c$ and change only $\\delta$. To make it even simpler, $\\delta$ can take only 2 values \n",
        "+ 0 when the vehicle is going straight \n",
        "+ $\\delta = \\delta_c$ when turning\n",
        "\n",
        "This leaves only 2 questions to be answered\n",
        "* What should be $v_c$ and $\\delta_c$?\n",
        "* When should $\\delta$ change from 0 and back?"
      ]
    },
    {
      "cell_type": "code",
      "metadata": {
        "id": "-U-6NqIoD5b2"
      },
      "source": [
        "vc = 1 # m/s\n",
        "delta_c = np.pi/6 # rad/s\n",
        "\n",
        "#calculate time taken to finish a quarter turn (pi/4)\n",
        "# unlike you would need to take into account v_c and L of the vehicle as well\n",
        "t_turn = int(np.pi/2/(v/0.9*np.tan(delta)))\n",
        "\n",
        "#calculate the time taken to finish straight segments\n",
        "# omega array is to be padded with equivalent zeros\n",
        "\n",
        "t_straight1, t_straight2, t_straight3 = int(10/vc), int(5/vc), int(8/ vc)\n",
        "\n",
        "all_delta = [0]*t_straight1 + [delta_c]*t_turn + \\\n",
        "        [0]*t_straight2 + [delta_c]*t_turn + \\\n",
        "        [0]*t_straight3 + [-delta_c]*t_turn\n",
        "\n",
        "all_v = vc*np.ones_like(all_delta)"
      ],
      "execution_count": 7,
      "outputs": []
    },
    {
      "cell_type": "markdown",
      "metadata": {
        "id": "lI-eXKo9D5b3"
      },
      "source": [
        "Let us make a cool function out of this!\n",
        "\n",
        "Take in as input a generic route and convert it into open-loop commands\n",
        "\n",
        "Input format: [(\"straight\", 5), (\"right\", 90), (\"straight\", 6), (\"left\", 85)]\n",
        "\n",
        "Output: all_v, all_delta"
      ]
    },
    {
      "cell_type": "code",
      "metadata": {
        "id": "dydnwuPmD5b4"
      },
      "source": [
        "def get_open_loop_commands(route, vc=1, deltac=np.pi/12):\n",
        "    all_delta = []\n",
        "    omegas = {'straight': 0, 'left': deltac, 'right': -deltac}\n",
        "    for manoeuvre, command in route:\n",
        "      u = np.ceil(command/vc).astype('int')\n",
        "      v = np.ceil(np.deg2rad(command)/(vc/0.9*np.tan(deltac))).astype('int')\n",
        "      t_cmd = u if manoeuvre == 'straight' else v\n",
        "      all_delta += [omegas[manoeuvre]]*t_cmd\n",
        "    all_v = vc*np.ones_like(all_delta)\n",
        "    return all_v, all_delta"
      ],
      "execution_count": 8,
      "outputs": []
    },
    {
      "cell_type": "markdown",
      "metadata": {
        "id": "wPg13GHQD5b5"
      },
      "source": [
        "### Unit test your function with the following inputs\n",
        "\n",
        "+ [(\"straight\", 5), (\"right\", 90), (\"straight\", 6), (\"left\", 85)]\n",
        "+ $v_c = 1$\n",
        "+ $delta_c = \\pi/12$"
      ]
    },
    {
      "cell_type": "code",
      "metadata": {
        "id": "ga3MspwND5b5"
      },
      "source": [
        "#get_open_loop_commands()"
      ],
      "execution_count": null,
      "outputs": []
    },
    {
      "cell_type": "code",
      "metadata": {
        "id": "elCuQPcsD5b6"
      },
      "source": [
        "robot_trajectory = []\n",
        "all_v, all_delta = get_open_loop_commands([(\"straight\", 5), (\"right\", 90), (\"straight\", 6), (\"left\", 85)])\n",
        "pose = np.array([0, 0, np.pi/2])\n",
        "for v, delta in zip(all_v, all_delta):\n",
        "    robot_trajectory.append(pose)\n",
        "    #instruction to take v, w and compute new pose    \n",
        "    pose=bicycle_model(pose,v,delta)\n",
        "robot_trajectory.append(pose)\n",
        "robot_trajectory = np.array(robot_trajectory)"
      ],
      "execution_count": 9,
      "outputs": []
    },
    {
      "cell_type": "code",
      "metadata": {
        "id": "qK5s5Em9D5b6",
        "colab": {
          "base_uri": "https://localhost:8080/",
          "height": 282
        },
        "outputId": "a65b76bc-4019-436f-fa18-e144fa8f6011"
      },
      "source": [
        "# plot robot trajectory\n",
        "plt.figure()\n",
        "plt.grid()\n",
        "#plt.plot( )\n",
        "#plt.axes().set_aspect(\"equal\",\"datalim\")\n",
        "plt.plot(robot_trajectory[:,0], robot_trajectory[:,1])\n",
        "#plt.show()\n",
        "\n",
        "#show first and last robot positions with + markers\n",
        "xi, yi, _ = robot_trajectory[0]\n",
        "xf, yf, _ = robot_trajectory[-1]\n",
        "plt.plot(xi, yi, 'r+', ms=10)\n"
      ],
      "execution_count": 10,
      "outputs": [
        {
          "output_type": "execute_result",
          "data": {
            "text/plain": [
              "[<matplotlib.lines.Line2D at 0x7fef4a15ae50>]"
            ]
          },
          "metadata": {
            "tags": []
          },
          "execution_count": 10
        },
        {
          "output_type": "display_data",
          "data": {
            "image/png": "[encoded data removed]",
            "text/plain": [
              "<Figure size 432x288 with 1 Axes>"
            ]
          },
          "metadata": {
            "tags": [],
            "needs_background": "light"
          }
        }
      ]
    },
    {
      "cell_type": "markdown",
      "metadata": {
        "id": "H-ecY7zbD5b7"
      },
      "source": [
        "### Shape the turn\n",
        "Let us try something cooler than before (though a bit tricky in open loop). Instead of boring circular arcs, change the steering angle so that the robot orientation changes as shown in the equation below\n",
        "\n",
        "$\\theta = (\\theta_i - \\theta_f) * (1 - 3x^2 + 2\\theta^3) + \\theta_f  \\thinspace \\vee x \\in [0,1]$\n",
        "\n",
        "First let us plot this"
      ]
    },
    {
      "cell_type": "code",
      "metadata": {
        "id": "DQbmFZmXD5b8"
      },
      "source": [
        "def poly_turn(theta_i, theta_f, n=10):\n",
        "    x = np.linspace(0, 1, num=n)\n",
        "    return (theta_i-theta_f) * (1 - 3 * x * x + 2 * (x**3)) + theta_f"
      ],
      "execution_count": 11,
      "outputs": []
    },
    {
      "cell_type": "markdown",
      "metadata": {
        "id": "58KMj70TD5b9"
      },
      "source": [
        "How does a right turn look? "
      ]
    },
    {
      "cell_type": "code",
      "metadata": {
        "id": "i-ojobp37cs6",
        "colab": {
          "base_uri": "https://localhost:8080/"
        },
        "outputId": "0bc96d12-ba96-4714-ac17-1f25905fc73d"
      },
      "source": [
        "theta_dot = np.diff(poly_turn(np.pi/2, 0))\n",
        "print(theta_dot)"
      ],
      "execution_count": 12,
      "outputs": [
        {
          "output_type": "stream",
          "text": [
            "[-0.05386819 -0.14436674 -0.20900856 -0.24779366 -0.26072202 -0.24779366\n",
            " -0.20900856 -0.14436674 -0.05386819]\n"
          ],
          "name": "stdout"
        }
      ]
    },
    {
      "cell_type": "code",
      "metadata": {
        "id": "7INgEBQvD5b9",
        "colab": {
          "base_uri": "https://localhost:8080/",
          "height": 282
        },
        "outputId": "dfee9b5d-5819-48e4-a901-2fa4fa562b19"
      },
      "source": [
        "plt.figure()\n",
        "plt.plot(poly_turn(np.pi/2, 0),'.')\n",
        "plt.plot(poly_turn(np.pi/2, 0))"
      ],
      "execution_count": 13,
      "outputs": [
        {
          "output_type": "execute_result",
          "data": {
            "text/plain": [
              "[<matplotlib.lines.Line2D at 0x7fef4a0e51d0>]"
            ]
          },
          "metadata": {
            "tags": []
          },
          "execution_count": 13
        },
        {
          "output_type": "display_data",
          "data": {
            "image/png": "[encoded data removed]",
            "text/plain": [
              "<Figure size 432x288 with 1 Axes>"
            ]
          },
          "metadata": {
            "tags": [],
            "needs_background": "light"
          }
        }
      ]
    },
    {
      "cell_type": "markdown",
      "metadata": {
        "id": "Gk546i4HD5b-"
      },
      "source": [
        "Now plot a left turn (North to East)"
      ]
    },
    {
      "cell_type": "code",
      "metadata": {
        "id": "MIcpSAHhD5b_",
        "colab": {
          "base_uri": "https://localhost:8080/",
          "height": 282
        },
        "outputId": "60bd39d4-535e-4594-c211-5d03bd38f138"
      },
      "source": [
        "plt.figure()\n",
        "plt.plot(poly_turn(-np.pi/2, 0),'.')\n",
        "plt.plot(poly_turn(-np.pi/2, 0))"
      ],
      "execution_count": 14,
      "outputs": [
        {
          "output_type": "execute_result",
          "data": {
            "text/plain": [
              "[<matplotlib.lines.Line2D at 0x7fef4a04fed0>]"
            ]
          },
          "metadata": {
            "tags": []
          },
          "execution_count": 14
        },
        {
          "output_type": "display_data",
          "data": {
            "image/png": "[encoded data removed]",
            "text/plain": [
              "<Figure size 432x288 with 1 Axes>"
            ]
          },
          "metadata": {
            "tags": [],
            "needs_background": "light"
          }
        }
      ]
    },
    {
      "cell_type": "markdown",
      "metadata": {
        "id": "rj670M1aD5b_"
      },
      "source": [
        "How does $\\theta$ change when we had constant $\\delta$? Plot it"
      ]
    },
    {
      "cell_type": "code",
      "metadata": {
        "id": "ywtHa7z3D5cA"
      },
      "source": [
        "def turn(theta_i, theta_f, n=10):\n",
        "    x = np.linspace(0, 1, num=n)\n",
        "    return (theta_i-theta_f) * (1 - 3 * x * x ) + theta_f"
      ],
      "execution_count": 19,
      "outputs": []
    },
    {
      "cell_type": "code",
      "metadata": {
        "colab": {
          "base_uri": "https://localhost:8080/",
          "height": 282
        },
        "id": "u4lZuT5cX84H",
        "outputId": "11405558-0ff4-48f3-d98c-e5d6677b9f35"
      },
      "source": [
        "plt.figure()\n",
        "plt.plot(turn(np.pi/2, 0),'.')\n",
        "plt.plot(turn(np.pi/2, 0))"
      ],
      "execution_count": 20,
      "outputs": [
        {
          "output_type": "execute_result",
          "data": {
            "text/plain": [
              "[<matplotlib.lines.Line2D at 0x7fef49f1ff90>]"
            ]
          },
          "metadata": {
            "tags": []
          },
          "execution_count": 20
        },
        {
          "output_type": "display_data",
          "data": {
            "image/png": "[encoded data removed]",
            "text/plain": [
              "<Figure size 432x288 with 1 Axes>"
            ]
          },
          "metadata": {
            "tags": [],
            "needs_background": "light"
          }
        }
      ]
    },
    {
      "cell_type": "markdown",
      "metadata": {
        "id": "7QGyMtTxD5cA"
      },
      "source": [
        "We know the rate of change of $\\theta$ is proportional to $\\delta$. Can you work out the sequence of $\\delta$ to change $\\theta$ as in the cubic polynomial shown above?"
      ]
    },
    {
      "cell_type": "code",
      "metadata": {
        "id": "UZ590VkxD5cA"
      },
      "source": [
        ""
      ],
      "execution_count": null,
      "outputs": []
    }
  ]
}