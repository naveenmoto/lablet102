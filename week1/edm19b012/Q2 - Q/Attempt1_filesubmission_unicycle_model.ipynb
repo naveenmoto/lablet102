{
 "cells": [
  {
   "cell_type": "code",
   "execution_count": 2,
   "metadata": {},
   "outputs": [],
   "source": [
    "import pandas as pd\n",
    "import numpy as np\n",
    "import matplotlib.pyplot as plt\n",
    "%matplotlib inline\n",
    "import doctest\n",
    "import copy"
   ]
  },
  {
   "cell_type": "code",
   "execution_count": 3,
   "metadata": {},
   "outputs": [],
   "source": [
    "#https://stackoverflow.com/questions/40137950/possible-to-run-python-doctest-on-a-jupyter-cell-function\n",
    "def test(func):\n",
    "    '''\n",
    "    Use test as a decorator to a function with doctests in Jupyter notebook. \n",
    "    Run the cell to see the results of the doctests.\n",
    "    '''\n",
    "    globs = copy.copy(globals())\n",
    "    globs.update({func.__name__:func})\n",
    "    doctest.run_docstring_examples(func, globs, verbose=True, name=func.__name__)\n",
    "    return func"
   ]
  },
  {
   "cell_type": "markdown",
   "metadata": {},
   "source": [
    "### Simulate straight line and circular movements with Unicycle model\n",
    "\n",
    "Robot is at the origin (0, 0) and facing North, i.e, $\\theta = \\pi/2$\n",
    "\n",
    "Use the Kinematics equations we had developed in class for the Unicycle model"
   ]
  },
  {
   "cell_type": "code",
   "execution_count": 4,
   "metadata": {},
   "outputs": [
    {
     "name": "stdout",
     "output_type": "stream",
     "text": [
      "Finding tests in unicycle_model\n",
      "Trying:\n",
      "    unicycle_model((0.0,0.0,0.0), 1.0, 0.0)\n",
      "Expecting:\n",
      "    (1.0, 0.0, 0.0)\n",
      "ok\n",
      "Trying:\n",
      "    unicycle_model((0.0,0.0,0.0), 0.0, 1.0)\n",
      "Expecting:\n",
      "    (0.0, 0.0, 1.0)\n",
      "ok\n",
      "Trying:\n",
      "    unicycle_model((0.0, 0.0, 0.0), 1.0, 1.0)\n",
      "Expecting:\n",
      "    (1.0, 0.0, 1.0)\n",
      "ok\n"
     ]
    }
   ],
   "source": [
    "@test \n",
    "def unicycle_model(curr_pose, v, w, dt=1.0):\n",
    "    '''\n",
    "    >>> unicycle_model((0.0,0.0,0.0), 1.0, 0.0)\n",
    "    (1.0, 0.0, 0.0)\n",
    "    >>> unicycle_model((0.0,0.0,0.0), 0.0, 1.0)\n",
    "    (0.0, 0.0, 1.0)\n",
    "    >>> unicycle_model((0.0, 0.0, 0.0), 1.0, 1.0)\n",
    "    (1.0, 0.0, 1.0)\n",
    "    '''\n",
    "    ## write code to calculate next_pose\n",
    "    # refer to the kinematic equations of a unicycle model\n",
    "    x, y, theta = curr_pose\n",
    "    x += v*np.cos(theta)*dt\n",
    "    y += v*np.sin(theta)*dt\n",
    "    theta += w*dt\n",
    "    \n",
    "    # Keep theta bounded between [-pi, pi]\n",
    "    theta = np.arctan2(np.sin(theta), np.cos(theta))\n",
    "\n",
    "    # return calculated (x, y, theta)\n",
    "    return x, y, theta"
   ]
  },
  {
   "cell_type": "code",
   "execution_count": 5,
   "metadata": {},
   "outputs": [
    {
     "name": "stdout",
     "output_type": "stream",
     "text": [
      "[[0.00000000e+00 0.00000000e+00 1.57079633e+00]\n",
      " [6.12323400e-17 1.00000000e+00 1.57079633e+00]\n",
      " [1.22464680e-16 2.00000000e+00 1.57079633e+00]\n",
      " [1.83697020e-16 3.00000000e+00 1.57079633e+00]\n",
      " [2.44929360e-16 4.00000000e+00 1.57079633e+00]\n",
      " [3.06161700e-16 5.00000000e+00 1.57079633e+00]\n",
      " [3.67394040e-16 6.00000000e+00 1.57079633e+00]\n",
      " [4.28626380e-16 7.00000000e+00 1.57079633e+00]\n",
      " [4.89858720e-16 8.00000000e+00 1.57079633e+00]\n",
      " [5.51091060e-16 9.00000000e+00 1.57079633e+00]]\n"
     ]
    }
   ],
   "source": [
    "#straight line\n",
    "straight_trajectory = []\n",
    "pose = (0, 0, np.pi/2)\n",
    "steps = 10\n",
    "#fill in v and omega values\n",
    "all_v = np.ones(steps)\n",
    "all_w = np.zeros(steps)\n",
    "for v, w in zip(all_v, all_w):\n",
    "   # store pose\n",
    "   straight_trajectory.append(pose)\n",
    "   #instruction to take v, w and compute new pose    \n",
    "   pose = unicycle_model(pose, v, w)\n",
    "straight_trajectory = np.array(straight_trajectory)\n",
    "print(straight_trajectory)"
   ]
  },
  {
   "cell_type": "code",
   "execution_count": 6,
   "metadata": {},
   "outputs": [
    {
     "data": {
      "image/png": "[encoded data removed]",
      "text/plain": "<Figure size 432x288 with 1 Axes>"
     },
     "metadata": {
      "needs_background": "light"
     },
     "output_type": "display_data"
    }
   ],
   "source": [
    "### Plot straight and circular trajectories\n",
    "# plt.figure()\n",
    "# plt.axes().set_aspect(\"equal\",\"datalim\")\n",
    "# plt.plot(straight_trajectory[:,0], straight_trajectory[:,1])\n",
    "\n",
    "### Plot straight and circular trajectories\n",
    "plt.figure()\n",
    "plt.axes().set_aspect(\"equal\",\"datalim\")\n",
    "plt.plot(straight_trajectory[:,0], straight_trajectory[:,1])\n",
    "plt.show()"
   ]
  },
  {
   "cell_type": "code",
   "execution_count": 7,
   "metadata": {},
   "outputs": [],
   "source": [
    "#Circular Trajectory\n",
    "circular_trajectory = []\n",
    "pose = (0, 0, np.pi/2)\n",
    "steps = 10\n",
    "#fill in v and omega values\n",
    "all_v = np.ones(steps*100)\n",
    "all_w = np.ones(steps*100)\n",
    "for v, w in zip(all_v, all_w):\n",
    "   # store pose\n",
    "   circular_trajectory.append(pose)\n",
    "   #instruction to take v, w and compute new pose    \n",
    "   pose = unicycle_model(pose, v, w, 0.1)\n",
    "circular_trajectory = np.array(circular_trajectory)\n",
    "    "
   ]
  },
  {
   "cell_type": "code",
   "execution_count": 8,
   "metadata": {},
   "outputs": [
    {
     "data": {
      "image/png": "[encoded data removed]",
      "text/plain": "<Figure size 432x288 with 1 Axes>"
     },
     "metadata": {
      "needs_background": "light"
     },
     "output_type": "display_data"
    }
   ],
   "source": [
    "### Plot straight and circular trajectories\n",
    "# plt.figure()\n",
    "# plt.axes().set_aspect(\"equal\",\"datalim\")\n",
    "# plt.plot(straight_trajectory[:,0], straight_trajectory[:,1])\n",
    "\n",
    "### Plot straight and circular trajectories\n",
    "plt.figure()\n",
    "plt.axes().set_aspect(\"equal\",\"datalim\")\n",
    "plt.plot(circular_trajectory[:,0], circular_trajectory[:,1])\n",
    "plt.show()"
   ]
  },
  {
   "cell_type": "markdown",
   "metadata": {},
   "source": [
    "### Simulate Unicycle model with Open Loop control\n",
    "\n",
    "We want the robot to follow these instructions\n",
    "\n",
    "**straight 10m, right turn, straight 5m, left turn, straight 8m, right turn**\n",
    "\n",
    "It is in open loop; control commands have to be calculated upfront. How do we do it?\n",
    "\n",
    "To keep things simple in the first iteration, we can fix $v = v_c$ and change only $\\omega$. To make it even simpler, $\\omega$ can take only 2 values \n",
    "+ 0 when the vehicle is going straight \n",
    "+ $\\omega = \\omega_c$ when turning\n",
    "\n",
    "This leaves only 2 questions to be answered\n",
    "* What should be $v_c$ and $\\omega_c$?\n",
    "* When should $\\omega$ change from 0 and back?"
   ]
  },
  {
   "cell_type": "code",
   "execution_count": 9,
   "metadata": {},
   "outputs": [
    {
     "name": "stdout",
     "output_type": "stream",
     "text": [
      "[1. 1. 1. 1. 1. 1. 1. 1. 1. 1. 1. 1. 1. 1. 1. 1. 1. 1. 1. 1. 1. 1. 1. 1.\n",
      " 1. 1. 1. 1. 1. 1. 1. 1.]\n"
     ]
    }
   ],
   "source": [
    "vc = 1 #m/s\n",
    "wc = np.pi/6 #rad/s\n",
    "\n",
    "#calculate time taken to finish a quarter turn (pi/2)\n",
    "t_turn = int(np.pi/2/wc)\n",
    "\n",
    "#calculate the time taken to finish straight segments\n",
    "# omega array is to be padded with equivalent zeros\n",
    "\n",
    "t_straight1, t_straight2, t_straight3 = int(10/vc), int(5/vc), int(8/ vc)\n",
    "\n",
    "all_w = [0]*t_straight1 + [wc]*t_turn + \\\n",
    "        [0]*t_straight2 + [wc]*t_turn + \\\n",
    "        [0]*t_straight3 + [-wc]*t_turn\n",
    "\n",
    "all_v = vc*np.ones_like(all_w)\n",
    "print(all_v)"
   ]
  },
  {
   "cell_type": "markdown",
   "metadata": {},
   "source": [
    "Let us make a cool function out of this!\n",
    "\n",
    "Take in as input a generic route and convert it into open-loop commands\n",
    "\n",
    "Input format: [(\"straight\", 5), (\"right\", 90), (\"straight\", 6), (\"left\", 85)]\n",
    "\n",
    "Output: all_v, all_w"
   ]
  },
  {
   "cell_type": "code",
   "execution_count": 10,
   "metadata": {},
   "outputs": [],
   "source": [
    "def get_open_loop_commands(route, vc=1, wc=np.pi/12, dt=1.0):\n",
    "    all_w = []\n",
    "    omegas = {'straight': 0, 'left': wc, 'right': -wc}\n",
    "    for manoeuvre, command in route:\n",
    "      total_time = int(command/vc) if manoeuvre == \"straight\" else int(np.deg2rad(command)/wc)\n",
    "      all_w += [omegas[manoeuvre]]*total_time\n",
    "    all_v = vc*np.ones_like(all_w)\n",
    "    return all_v, all_w"
   ]
  },
  {
   "cell_type": "markdown",
   "metadata": {},
   "source": [
    "### Unit test your function with the following inputs\n",
    "\n",
    "+ [(\"straight\", 5), (\"right\", 90), (\"straight\", 6), (\"left\", 85)]\n",
    "+ $v_c = 1$\n",
    "+ $w_c = \\pi/12$"
   ]
  },
  {
   "cell_type": "code",
   "execution_count": 11,
   "metadata": {},
   "outputs": [],
   "source": [
    "all_v, all_w = get_open_loop_commands([(\"straight\", 5), (\"right\", 90), (\"straight\", 6), (\"left\", 85)],1,np.pi/12)"
   ]
  },
  {
   "cell_type": "code",
   "execution_count": 12,
   "metadata": {},
   "outputs": [],
   "source": [
    "robot_trajectory = []\n",
    "all_v, all_w = get_open_loop_commands([(\"straight\", 5), (\"right\", 90), (\"straight\", 6), (\"left\", 85)])\n",
    "pose = (0, 0, np.pi/2)\n",
    "for v, w in zip(all_v, all_w):\n",
    "    # store new pose\n",
    "    robot_trajectory.append(pose)\n",
    "    #instruction to take v, w and compute new pose    \n",
    "    pose = unicycle_model(pose,v,w,1)\n",
    "robot_trajectory = np.array(robot_trajectory)"
   ]
  },
  {
   "cell_type": "code",
   "execution_count": 13,
   "metadata": {},
   "outputs": [
    {
     "data": {
      "image/png": "[encoded data removed]",
      "text/plain": "<Figure size 432x288 with 1 Axes>"
     },
     "metadata": {
      "needs_background": "light"
     },
     "output_type": "display_data"
    }
   ],
   "source": [
    "plt.figure()\n",
    "plt.axes().set_aspect(\"equal\",\"datalim\")\n",
    "xi,yi, _ = robot_trajectory[0]\n",
    "xf,yf, _ = robot_trajectory[-1]\n",
    "plt.plot(0, 0, 'r+', ms=10)\n",
    "plt.plot(xi, yi, 'r+', ms=10)\n",
    "plt.plot(robot_trajectory[:,0], robot_trajectory[:,1])\n",
    "plt.plot(xf, yf, 'r+', ms=10)\n",
    "plt.show()"
   ]
  }
 ],
 "metadata": {
  "kernelspec": {
   "display_name": "Python 3.8.5 64-bit",
   "name": "python385jvsc74a57bd0916dbcbb3f70747c44a77c7bcd40155683ae19c65e1c03b4aa3499c5328201f1"
  },
  "language_info": {
   "codemirror_mode": {
    "name": "ipython",
    "version": 3
   },
   "file_extension": ".py",
   "mimetype": "text/x-python",
   "name": "python",
   "nbconvert_exporter": "python",
   "pygments_lexer": "ipython3",
   "version": "3.8.5"
  },
  "metadata": {
   "interpreter": {
    "hash": "916dbcbb3f70747c44a77c7bcd40155683ae19c65e1c03b4aa3499c5328201f1"
   }
  },
  "orig_nbformat": 2
 },
 "nbformat": 4,
 "nbformat_minor": 2
}