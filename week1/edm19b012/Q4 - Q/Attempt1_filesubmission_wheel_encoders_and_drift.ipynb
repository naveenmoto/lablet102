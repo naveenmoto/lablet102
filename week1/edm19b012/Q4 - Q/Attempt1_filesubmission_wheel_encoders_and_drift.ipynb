{
 "cells": [
  {
   "cell_type": "code",
   "execution_count": 121,
   "metadata": {},
   "outputs": [],
   "source": [
    "import pandas as pd\n",
    "import numpy as np\n",
    "import matplotlib.pyplot as plt\n",
    "from IPython.display import Image\n",
    "%matplotlib inline"
   ]
  },
  {
   "cell_type": "markdown",
   "metadata": {},
   "source": [
    "In a differential-drive model, we discussed the relation between wheel velocities and robot's rotational and translational velocity, i.e, $v, \\omega$. \n",
    "\n",
    "If we need to know curent $v, \\omega$ how to measure wheel velocities? We use wheel encoders"
   ]
  },
  {
   "cell_type": "markdown",
   "metadata": {},
   "source": [
    "Encoder resolution = $N$\n",
    "\n",
    "Every $\\Delta T$ ms,\n",
    "+ Encoder reports # ticks wheel moved = $n$\n",
    "+ Angle moved = $2\\pi \\frac{n}{N}$\n",
    "\n",
    "Usage\n",
    "+ Smallest movement that can be measured is $\\frac{2\\pi}{N}$\n",
    "+ Largest speed that can be measured is $\\frac{2\\pi}{\\Delta T}$\n",
    "\n",
    "Pros:\n",
    "+ Fairly accurate estimates of linear/ angular velocity\n",
    "+ Distances and rotations are accurate in short-term\n",
    "\n",
    "Cons:\n",
    "+ Vehicle position “drifts” when $v,\\omega$ is integrated over longer periods"
   ]
  },
  {
   "cell_type": "markdown",
   "metadata": {},
   "source": [
    "Say, your robot's initial pose is (0.0, 0.0, 0.0), write a program to accept left and right ticks as input and output the next pose\n",
    "\n",
    "Assume an unicycle model and following vehicle parameters\n",
    "+ Wheel radius ($r$) =  2.0m\n",
    "+ Track-width ($L$) = 4.0m\n",
    "+ Encoder ticks ($N$) = 100 \n",
    "+ Encoder frequency ($\\Delta T$) = 0.1\n",
    "\n",
    "Test your code with $n_{right} = 10$ and $N_{left} = 6$. Do you get the next pose as $(1.0053, 0.0, 0.1257)$?"
   ]
  },
  {
   "cell_type": "code",
   "execution_count": 122,
   "metadata": {},
   "outputs": [
    {
     "name": "stdout",
     "output_type": "stream",
     "text": [
      "(1.0053096491487339, 0.0, 0.12566370614359174)\n"
     ]
    }
   ],
   "source": [
    "def diff_drive_encoder(curr_pose,nr,nl,dt=1):\n",
    "    x, y, theta = curr_pose\n",
    "    r,L,N,delt = 2,4,100,0.1\n",
    "\n",
    "    wr = 2*np.pi*nr/N\n",
    "    wl = 2*np.pi*nl/N\n",
    "\n",
    "    v = r/2*(wr+wl)\n",
    "    w = r/L*(wr-wl)  \n",
    "\n",
    "    x += v*np.cos(theta)*dt\n",
    "    y += v*np.sin(theta)*dt\n",
    "    theta += w*dt\n",
    "    \n",
    "    # Keep theta bounded between [-pi, pi]\n",
    "    theta = np.arctan2(np.sin(theta), np.cos(theta))\n",
    "\n",
    "    # return calculated (x, y, theta)\n",
    "    return x, y, theta\n",
    "\n",
    "print(diff_drive_encoder((0.0,0.0,0.0),10,6))"
   ]
  },
  {
   "cell_type": "markdown",
   "metadata": {},
   "source": [
    "### Effect of angular error in pose estimate"
   ]
  },
  {
   "cell_type": "code",
   "execution_count": 123,
   "metadata": {},
   "outputs": [],
   "source": [
    "def unicycle_model(curr_pose, v, w, dt=1.0):\n",
    "\n",
    "    x, y, theta = curr_pose\n",
    "    x += v*np.cos(theta)*dt\n",
    "    y += v*np.sin(theta)*dt\n",
    "    theta += w*dt\n",
    "    theta = np.arctan2(np.sin(theta), np.cos(theta))\n",
    "    initial_error = np.deg2rad(1.0)\n",
    "    return x, y, theta+initial_error"
   ]
  },
  {
   "cell_type": "code",
   "execution_count": 124,
   "metadata": {},
   "outputs": [
    {
     "name": "stdout",
     "output_type": "stream",
     "text": [
      "[-0.03490659]\n"
     ]
    }
   ],
   "source": [
    "# write your code to simulate straight line motion \n",
    "# robot can be assumed to be moving at constant speed of 2 m/s for 30 seconds\n",
    "# feel free to borrow code from your previous notebooks\n",
    "#straight line\n",
    "initial_error = np.deg2rad(1.0)\n",
    "err = np.array([np.deg2rad(-2)])\n",
    "print(err)\n",
    "\n",
    "straight_trajectory = []\n",
    "pose = (0, 0, np.pi/2)\n",
    "steps = 30\n",
    "#fill in v and omega values\n",
    "all_v = 2*np.ones(steps)\n",
    "all_w = np.zeros(steps)\n",
    "for v, w in zip(all_v, all_w):\n",
    "   # store pose\n",
    "   straight_trajectory.append(pose)\n",
    "   #instruction to take v, w and compute new pose    \n",
    "   pose = unicycle_model(pose, v, w)\n",
    "straight_trajectory = np.array(straight_trajectory)\n",
    "#print(straight_trajectory)"
   ]
  },
  {
   "cell_type": "code",
   "execution_count": 125,
   "metadata": {},
   "outputs": [
    {
     "data": {
      "image/png": "[encoded data removed]",
      "text/plain": "<Figure size 432x288 with 1 Axes>"
     },
     "metadata": {
      "needs_background": "light"
     },
     "output_type": "display_data"
    }
   ],
   "source": [
    "plt.figure()\n",
    "plt.axes().set_aspect(\"equal\",\"datalim\")\n",
    "plt.plot(straight_trajectory[:,2] , straight_trajectory[:,0])\n",
    "#plt.plot(straight_trajectory[:,0], straight_trajectory[:,1])\n",
    "plt.show()"
   ]
  },
  {
   "cell_type": "markdown",
   "metadata": {},
   "source": [
    "## Demonstrate localization drift in wheel encoders"
   ]
  },
  {
   "cell_type": "markdown",
   "metadata": {},
   "source": [
    "### Synthetic dataset"
   ]
  },
  {
   "cell_type": "code",
   "execution_count": 126,
   "metadata": {},
   "outputs": [],
   "source": [
    "all_v = np.ones(100)\n",
    "all_w = np.zeros(100) "
   ]
  },
  {
   "cell_type": "code",
   "execution_count": 127,
   "metadata": {},
   "outputs": [],
   "source": [
    "robot_traj, robot_traj_noisy = [], []\n",
    "ideal_pose = np.array([0, 0, np.pi/2])\n",
    "noisy_pose = np.array([0, 0, np.pi/2])\n",
    "\n",
    "for v, w in zip(all_v, all_w):\n",
    "    robot_traj.append(ideal_pose)\n",
    "    robot_traj_noisy.append(noisy_pose)\n",
    "    #code to update ideal_pose\n",
    "    ideal_pose = unicycle_model(ideal_pose,v,w)\n",
    "    \n",
    "    #code to update noisy pose\n",
    "    #add gaussian noise with std dev of 0.01 to omega\n",
    "    noisy_pose = unicycle_model(noisy_pose,v,w+np.random.normal(0,0.01,1))\n",
    "robot_traj = np.array(robot_traj)\n",
    "robot_traj_noisy = np.array(robot_traj_noisy)"
   ]
  },
  {
   "cell_type": "code",
   "execution_count": 128,
   "metadata": {},
   "outputs": [
    {
     "data": {
      "text/plain": "[<matplotlib.lines.Line2D at 0x7f470cf5d1c0>]"
     },
     "execution_count": 128,
     "metadata": {},
     "output_type": "execute_result"
    },
    {
     "data": {
      "image/png": "[encoded data removed]",
      "text/plain": "<Figure size 432x288 with 1 Axes>"
     },
     "metadata": {
      "needs_background": "light"
     },
     "output_type": "display_data"
    }
   ],
   "source": [
    "plt.figure()\n",
    "plt.grid()\n",
    "#plt.axes().set_aspect(\"equal\",\"datalim\")\n",
    "plt.plot(robot_traj[:,0], robot_traj[:,1],'k-')\n",
    "plt.plot(robot_traj_noisy[:,0], robot_traj_noisy[:,1],'b-')\n",
    "plt.plot(0, 0, 'r+', ms=10)"
   ]
  },
  {
   "cell_type": "markdown",
   "metadata": {},
   "source": [
    "### Real dataset"
   ]
  },
  {
   "cell_type": "code",
   "execution_count": 129,
   "metadata": {},
   "outputs": [
    {
     "name": "stdout",
     "output_type": "stream",
     "text": [
      "bicycle_model.ipynb  unicycle_model.ipynb  wheel_encoders_and_drift.ipynb\n",
      "ground_truth.csv     wheel_control.csv\n"
     ]
    }
   ],
   "source": [
    "!ls"
   ]
  },
  {
   "cell_type": "code",
   "execution_count": 130,
   "metadata": {},
   "outputs": [],
   "source": [
    "data_dir = \".\"\n",
    "ground_truth = pd.read_csv(data_dir + \"/ground_truth.csv\")\n",
    "gt_traj = np.array(ground_truth[['x','y']])\n",
    "wheel_enc = np.array(pd.read_csv(data_dir + \"/wheel_control.csv\")[['v','w']])"
   ]
  },
  {
   "cell_type": "code",
   "execution_count": 131,
   "metadata": {},
   "outputs": [],
   "source": [
    "def unicycle_model(pose, v, w, dt = 0.01):\n",
    "  x, y, theta = pose\n",
    "  x += v*np.cos(theta)*dt\n",
    "  y += v*np.sin(theta)*dt\n",
    "  theta += w*dt\n",
    "  theta = np.arctan2(np.sin(theta), np.cos(theta))\n",
    "  return x, y, theta"
   ]
  },
  {
   "cell_type": "code",
   "execution_count": 132,
   "metadata": {},
   "outputs": [],
   "source": [
    "pose = np.array(ground_truth[['x','y','theta']])[0] #initial pose\n",
    "robot_traj = []\n",
    "for v, w in wheel_enc:\n",
    "    robot_traj.append(pose)\n",
    "    # code for updating pose\n",
    "    pose = unicycle_model(pose, v, w)\n",
    "robot_traj = np.array(robot_traj)"
   ]
  },
  {
   "cell_type": "code",
   "execution_count": 133,
   "metadata": {},
   "outputs": [
    {
     "data": {
      "text/plain": "<matplotlib.legend.Legend at 0x7f4708b4ea90>"
     },
     "execution_count": 133,
     "metadata": {},
     "output_type": "execute_result"
    },
    {
     "data": {
      "image/png": "[encoded data removed]",
      "text/plain": "<Figure size 432x288 with 1 Axes>"
     },
     "metadata": {
      "needs_background": "light"
     },
     "output_type": "display_data"
    }
   ],
   "source": [
    "end = 10000\n",
    "plt.figure()\n",
    "plt.grid()\n",
    "plt.plot(gt_traj[:,0], gt_traj[:,1], label='Vehicle path - Actual')\n",
    "plt.plot(robot_traj[:end,0], robot_traj[:end,1], '.', label='Vehicle path - wheel encoder')\n",
    "plt.legend()"
   ]
  }
 ],
 "metadata": {
  "kernelspec": {
   "display_name": "Python 3.8.5 64-bit",
   "name": "python385jvsc74a57bd0916dbcbb3f70747c44a77c7bcd40155683ae19c65e1c03b4aa3499c5328201f1"
  },
  "language_info": {
   "codemirror_mode": {
    "name": "ipython",
    "version": 3
   },
   "file_extension": ".py",
   "mimetype": "text/x-python",
   "name": "python",
   "nbconvert_exporter": "python",
   "pygments_lexer": "ipython3",
   "version": "3.8.5"
  },
  "metadata": {
   "interpreter": {
    "hash": "916dbcbb3f70747c44a77c7bcd40155683ae19c65e1c03b4aa3499c5328201f1"
   }
  },
  "orig_nbformat": 2
 },
 "nbformat": 4,
 "nbformat_minor": 2
}