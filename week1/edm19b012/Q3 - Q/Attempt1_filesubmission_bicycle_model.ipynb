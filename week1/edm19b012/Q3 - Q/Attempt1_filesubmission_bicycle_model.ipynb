{
 "cells": [
  {
   "cell_type": "code",
   "execution_count": 282,
   "metadata": {},
   "outputs": [],
   "source": [
    "import pandas as pd\n",
    "import numpy as np\n",
    "import matplotlib.pyplot as plt\n",
    "%matplotlib inline\n",
    "import doctest\n",
    "import copy"
   ]
  },
  {
   "cell_type": "code",
   "execution_count": 283,
   "metadata": {},
   "outputs": [],
   "source": [
    "#https://stackoverflow.com/questions/40137950/possible-to-run-python-doctest-on-a-jupyter-cell-function\n",
    "def test(func):\n",
    "    '''\n",
    "    Use test as a decorator to a function with doctests in Jupyter notebook. \n",
    "    Run the cell to see the results of the doctests.\n",
    "    '''\n",
    "    globs = copy.copy(globals())\n",
    "    globs.update({func.__name__:func})\n",
    "    doctest.run_docstring_examples(func, globs, verbose=True, name=func.__name__)\n",
    "    return func"
   ]
  },
  {
   "cell_type": "markdown",
   "metadata": {},
   "source": [
    "### Simulate straight line and circular movements with Bicycle model\n",
    "\n",
    "Robot is at the origin (0, 0) and facing North, i.e, $\\theta = \\pi/2$. Assume the wheelbase of the vehicle $L$ = 0.9 m"
   ]
  },
  {
   "cell_type": "code",
   "execution_count": 284,
   "metadata": {},
   "outputs": [
    {
     "name": "stdout",
     "output_type": "stream",
     "text": [
      "Finding tests in bicycle_model\n",
      "Trying:\n",
      "    bicycle_model((0.0,0.0,0.0), 1.0, 0.0,1)\n",
      "Expecting:\n",
      "    (1.0, 0.0, 0.0)\n",
      "ok\n",
      "Trying:\n",
      "    bicycle_model((0.0,0.0,0.0), 0.0, np.pi/4,1)\n",
      "Expecting:\n",
      "    (0.0, 0.0, 0.0) \n",
      "**********************************************************************\n",
      "File \"__main__\", line 6, in bicycle_model\n",
      "Failed example:\n",
      "    bicycle_model((0.0,0.0,0.0), 0.0, np.pi/4,1)\n",
      "Expected:\n",
      "    (0.0, 0.0, 0.0) \n",
      "Got:\n",
      "    (0.0, 0.0, 0.0)\n",
      "Trying:\n",
      "    bicycle_model((0.0, 0.0, 0.0), 1.0, np.pi/4,1)\n",
      "Expecting:\n",
      "    (1.0, 0.0, 1.11) \n",
      "**********************************************************************\n",
      "File \"__main__\", line 8, in bicycle_model\n",
      "Failed example:\n",
      "    bicycle_model((0.0, 0.0, 0.0), 1.0, np.pi/4,1)\n",
      "Expected:\n",
      "    (1.0, 0.0, 1.11) \n",
      "Got:\n",
      "    (1.0, 0.0, 1.111111111111111)\n"
     ]
    }
   ],
   "source": [
    "@test \n",
    "def bicycle_model(curr_pose, v, delta, dt):\n",
    "    '''\n",
    "    >>> bicycle_model((0.0,0.0,0.0), 1.0, 0.0,1)\n",
    "    (1.0, 0.0, 0.0)\n",
    "    >>> bicycle_model((0.0,0.0,0.0), 0.0, np.pi/4,1)\n",
    "    (0.0, 0.0, 0.0) \n",
    "    >>> bicycle_model((0.0, 0.0, 0.0), 1.0, np.pi/4,1)\n",
    "    (1.0, 0.0, 1.11) \n",
    "    '''\n",
    "    # write code to calculate next_pose\n",
    "    # refer to the kinematic equations of a bicycle model\n",
    "    L = 0.9\n",
    "    x, y, theta = curr_pose\n",
    "    x += v*np.cos(theta)*dt\n",
    "    y += v*np.sin(theta)*dt\n",
    "    theta += (v/L)*np.tan(delta)*dt\n",
    "    \n",
    "    # Keep theta bounded between [-pi, pi]\n",
    "    theta = np.arctan2(np.sin(theta), np.cos(theta))\n",
    "    # return calculated (x, y, theta)\n",
    "    return x, y, theta"
   ]
  },
  {
   "cell_type": "code",
   "execution_count": 285,
   "metadata": {},
   "outputs": [
    {
     "name": "stdout",
     "output_type": "stream",
     "text": [
      "[[0.00000000e+00 0.00000000e+00 1.57079633e+00]\n",
      " [6.12323400e-17 1.00000000e+00 1.57079633e+00]\n",
      " [1.22464680e-16 2.00000000e+00 1.57079633e+00]\n",
      " [1.83697020e-16 3.00000000e+00 1.57079633e+00]\n",
      " [2.44929360e-16 4.00000000e+00 1.57079633e+00]\n",
      " [3.06161700e-16 5.00000000e+00 1.57079633e+00]\n",
      " [3.67394040e-16 6.00000000e+00 1.57079633e+00]\n",
      " [4.28626380e-16 7.00000000e+00 1.57079633e+00]\n",
      " [4.89858720e-16 8.00000000e+00 1.57079633e+00]\n",
      " [5.51091060e-16 9.00000000e+00 1.57079633e+00]]\n"
     ]
    }
   ],
   "source": [
    "#straight line\n",
    "straight_trajectory = []\n",
    "pose = (0, 0, np.pi/2)\n",
    "steps = 10\n",
    "#fill in v and delta values\n",
    "all_v = np.ones(steps)\n",
    "all_delta = np.zeros(steps)\n",
    "for v,delta in zip(all_v,all_delta):\n",
    "   #instruction to take v, delta and compute new pose    \n",
    "   straight_trajectory.append(pose)\n",
    "   # store new pose\n",
    "   pose = bicycle_model(pose,v,delta,1)\n",
    "straight_trajectory = np.array(straight_trajectory)"
   ]
  },
  {
   "cell_type": "code",
   "execution_count": 286,
   "metadata": {},
   "outputs": [
    {
     "data": {
      "image/png": "[encoded data removed]",
      "text/plain": "<Figure size 432x288 with 1 Axes>"
     },
     "metadata": {
      "needs_background": "light"
     },
     "output_type": "display_data"
    }
   ],
   "source": [
    "### Plot straight trajectories\n",
    "plt.figure()\n",
    "plt.axes().set_aspect(\"equal\",\"datalim\")\n",
    "plt.plot(straight_trajectory[:,0], straight_trajectory[:,1])\n",
    "plt.show()"
   ]
  },
  {
   "cell_type": "code",
   "execution_count": 297,
   "metadata": {},
   "outputs": [],
   "source": [
    "#Circular Trajectory\n",
    "circular_trajectory = []\n",
    "pose = (0, 0, np.pi/2)\n",
    "steps = 100\n",
    "#fill in v and delta values\n",
    "all_v = np.ones(steps)\n",
    "all_delta = np.ones(steps)\n",
    "for v,delta in zip(all_v,all_delta):\n",
    "   #instruction to take v, delta and compute new pose    \n",
    "   circular_trajectory.append(pose)\n",
    "   # store new pose\n",
    "   pose = bicycle_model(pose,v,delta,0.35)\n",
    "circular_trajectory = np.array(circular_trajectory)"
   ]
  },
  {
   "cell_type": "code",
   "execution_count": 298,
   "metadata": {},
   "outputs": [
    {
     "data": {
      "image/png": "[encoded data removed]",
      "text/plain": "<Figure size 432x288 with 1 Axes>"
     },
     "metadata": {
      "needs_background": "light"
     },
     "output_type": "display_data"
    }
   ],
   "source": [
    "### Plot circular trajectories\n",
    "plt.figure()\n",
    "plt.axes().set_aspect(\"equal\",\"datalim\")\n",
    "plt.plot(circular_trajectory[:,0], circular_trajectory[:,1])\n",
    "plt.show()"
   ]
  },
  {
   "cell_type": "markdown",
   "metadata": {},
   "source": [
    "### Simulate Bicycle model with Open Loop control\n",
    "\n",
    "We want the robot to follow these instructions\n",
    "\n",
    "**straight 10m, right turn, straight 5m, left turn, straight 8m, right turn**\n",
    "\n",
    "It is in open loop; control commands have to be calculated upfront. How do we do it?\n",
    "\n",
    "To keep things simple in the first iteration, we can fix $v = v_c$ and change only $\\delta$. To make it even simpler, $\\delta$ can take only 2 values \n",
    "+ 0 when the vehicle is going straight \n",
    "+ $\\delta = \\delta_c$ when turning\n",
    "\n",
    "This leaves only 2 questions to be answered\n",
    "* What should be $v_c$ and $\\delta_c$?\n",
    "* When should $\\delta$ change from 0 and back?"
   ]
  },
  {
   "cell_type": "code",
   "execution_count": 289,
   "metadata": {},
   "outputs": [],
   "source": [
    "vc = 1# m/s\n",
    "delta_c = np.pi/6# rad/s\n",
    "\n",
    "#calculate time taken to finish a quarter turn (pi/4)\n",
    "# unlike you would need to take into account v_c and L of the vehicle as well\n",
    "t_turn = int((np.pi/2)/delta_c)\n",
    "\n",
    "#calculate the time taken to finish straight segments\n",
    "# omega array is to be padded with equivalent zeros\n",
    "\n",
    "t_straight1, t_straight2, t_straight3 = int(10/vc), int(5/vc), int(8/vc)\n",
    "\n",
    "all_delta = [0]*t_straight1 + [delta_c]*t_turn + \\\n",
    "        [0]*t_straight2 + [delta_c]*t_turn + \\\n",
    "        [0]*t_straight3 + [-delta_c]*t_turn\n",
    "all_v = vc*np.ones_like(all_delta)"
   ]
  },
  {
   "cell_type": "markdown",
   "metadata": {},
   "source": [
    "Let us make a cool function out of this!\n",
    "\n",
    "Take in as input a generic route and convert it into open-loop commands\n",
    "\n",
    "Input format: [(\"straight\", 5), (\"right\", 90), (\"straight\", 6), (\"left\", 85)]\n",
    "\n",
    "Output: all_v, all_delta"
   ]
  },
  {
   "cell_type": "code",
   "execution_count": 290,
   "metadata": {},
   "outputs": [],
   "source": [
    "def get_open_loop_commands(route, vc, deltac):\n",
    "    all_delta = []\n",
    "    omegas = {'straight':0, 'left':deltac, 'right':-deltac}\n",
    "    for direction,value in route:\n",
    "        total_time = int(value/vc) if direction == 'straight' else int(np.deg2rad(value)/deltac)\n",
    "        all_delta += [omegas[direction]]*total_time\n",
    "    all_v = vc*np.ones_like(all_delta)\n",
    "    return all_v,all_delta"
   ]
  },
  {
   "cell_type": "markdown",
   "metadata": {},
   "source": [
    "### Unit test your function with the following inputs\n",
    "\n",
    "+ [(\"straight\", 5), (\"right\", 90), (\"straight\", 6), (\"left\", 85)]\n",
    "+ $v_c = 1$\n",
    "+ $delta_c = \\pi/12$"
   ]
  },
  {
   "cell_type": "code",
   "execution_count": 291,
   "metadata": {},
   "outputs": [
    {
     "name": "stdout",
     "output_type": "stream",
     "text": [
      "[0, 0, 0, 0, 0, -0.2617993877991494, -0.2617993877991494, -0.2617993877991494, -0.2617993877991494, -0.2617993877991494, -0.2617993877991494, 0, 0, 0, 0, 0, 0, 0.2617993877991494, 0.2617993877991494, 0.2617993877991494, 0.2617993877991494, 0.2617993877991494]\n"
     ]
    }
   ],
   "source": [
    "all_v, all_delta = get_open_loop_commands([(\"straight\", 5), (\"right\", 90), (\"straight\", 6), (\"left\", 85)],1,np.pi/12)\n",
    "print(all_delta)"
   ]
  },
  {
   "cell_type": "code",
   "execution_count": 292,
   "metadata": {},
   "outputs": [],
   "source": [
    "robot_trajectory = []\n",
    "all_v, all_delta = get_open_loop_commands([(\"straight\", 5), (\"right\", 90), (\"straight\", 6), (\"left\", 85)],1,np.pi/12)\n",
    "pose = np.array([0, 0, np.pi/2])\n",
    "for v, delta in zip(all_v, all_delta):\n",
    "     robot_trajectory.append(pose)\n",
    "     pose = bicycle_model(pose,v,delta,1)\n",
    "   # store new pose\n",
    "robot_trajectory = np.array(robot_trajectory)"
   ]
  },
  {
   "cell_type": "code",
   "execution_count": 293,
   "metadata": {},
   "outputs": [
    {
     "data": {
      "image/png": "[encoded data removed]",
      "text/plain": "<Figure size 432x288 with 1 Axes>"
     },
     "metadata": {
      "needs_background": "light"
     },
     "output_type": "display_data"
    }
   ],
   "source": [
    "plt.figure()\n",
    "plt.axes().set_aspect(\"equal\",\"datalim\")\n",
    "xi,yi, _ = robot_trajectory[0]\n",
    "xf,yf, _ = robot_trajectory[-1]\n",
    "plt.plot(0, 0, 'r+', ms=10)\n",
    "plt.plot(xi, yi, 'r+', ms=10)\n",
    "plt.plot(robot_trajectory[:,0], robot_trajectory[:,1])\n",
    "plt.plot(xf, yf, 'r+', ms=10)\n",
    "plt.show()"
   ]
  },
  {
   "cell_type": "markdown",
   "metadata": {},
   "source": [
    "### Shape the turn\n",
    "Let us try something cooler than before (though a bit tricky in open loop). Instead of boring circular arcs, change the steering angle so that the robot orientation changes as shown in the equation below\n",
    "\n",
    "$\\theta = (\\theta_i - \\theta_f) * (1 - 3x^2 + 2\\theta^3) + \\theta_f  \\thinspace \\vee x \\in [0,1]$\n",
    "\n",
    "First let us plot this"
   ]
  },
  {
   "cell_type": "code",
   "execution_count": 300,
   "metadata": {},
   "outputs": [],
   "source": [
    "def poly_turn(theta_i, theta_f, n=10):\n",
    "    x = np.linspace(0, 1, num=n)\n",
    "    return (theta_i-theta_f) * (1 - 3 * x * x + 2 * (x**3)) + theta_f"
   ]
  },
  {
   "cell_type": "code",
   "execution_count": 301,
   "metadata": {},
   "outputs": [
    {
     "name": "stdout",
     "output_type": "stream",
     "text": [
      "[-0.05386819 -0.14436674 -0.20900856 -0.24779366 -0.26072202 -0.24779366\n",
      " -0.20900856 -0.14436674 -0.05386819]\n"
     ]
    }
   ],
   "source": [
    "theta_dot = np.diff(poly_turn(np.pi/2, 0))\n",
    "print(theta_dot)"
   ]
  },
  {
   "cell_type": "code",
   "execution_count": 302,
   "metadata": {},
   "outputs": [
    {
     "data": {
      "text/plain": "[<matplotlib.lines.Line2D at 0x7f5a17232760>]"
     },
     "execution_count": 302,
     "metadata": {},
     "output_type": "execute_result"
    },
    {
     "data": {
      "image/png": "[encoded data removed]",
      "text/plain": "<Figure size 432x288 with 1 Axes>"
     },
     "metadata": {
      "needs_background": "light"
     },
     "output_type": "display_data"
    }
   ],
   "source": [
    "plt.figure()\n",
    "plt.plot(poly_turn(np.pi/2, 0),'.')\n",
    "plt.plot(poly_turn(np.pi/2, 0))"
   ]
  }
 ],
 "metadata": {
  "kernelspec": {
   "display_name": "Python 3.8.5 64-bit",
   "name": "python385jvsc74a57bd0916dbcbb3f70747c44a77c7bcd40155683ae19c65e1c03b4aa3499c5328201f1"
  },
  "language_info": {
   "codemirror_mode": {
    "name": "ipython",
    "version": 3
   },
   "file_extension": ".py",
   "mimetype": "text/x-python",
   "name": "python",
   "nbconvert_exporter": "python",
   "pygments_lexer": "ipython3",
   "version": "3.8.5"
  },
  "metadata": {
   "interpreter": {
    "hash": "916dbcbb3f70747c44a77c7bcd40155683ae19c65e1c03b4aa3499c5328201f1"
   }
  },
  "orig_nbformat": 2
 },
 "nbformat": 4,
 "nbformat_minor": 2
}