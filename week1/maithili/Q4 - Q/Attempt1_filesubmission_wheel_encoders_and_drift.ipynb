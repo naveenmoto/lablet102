{
  "nbformat": 4,
  "nbformat_minor": 0,
  "metadata": {
    "kernelspec": {
      "display_name": "Python 3",
      "language": "python",
      "name": "python3"
    },
    "language_info": {
      "codemirror_mode": {
        "name": "ipython",
        "version": 3
      },
      "file_extension": ".py",
      "mimetype": "text/x-python",
      "name": "python",
      "nbconvert_exporter": "python",
      "pygments_lexer": "ipython3",
      "version": "3.9.1"
    },
    "varInspector": {
      "cols": {
        "lenName": 16,
        "lenType": 16,
        "lenVar": 40
      },
      "kernels_config": {
        "python": {
          "delete_cmd_postfix": "",
          "delete_cmd_prefix": "del ",
          "library": "var_list.py",
          "varRefreshCmd": "print(var_dic_list())"
        },
        "r": {
          "delete_cmd_postfix": ") ",
          "delete_cmd_prefix": "rm(",
          "library": "var_list.r",
          "varRefreshCmd": "cat(var_dic_list()) "
        }
      },
      "position": {
        "height": "144px",
        "left": "1090px",
        "right": "20px",
        "top": "13px",
        "width": "350px"
      },
      "types_to_exclude": [
        "module",
        "function",
        "builtin_function_or_method",
        "instance",
        "_Feature"
      ],
      "window_display": true
    },
    "colab": {
      "name": "wheel_encoders_and_drift.ipynb",
      "provenance": [],
      "collapsed_sections": []
    }
  },
  "cells": [
    {
      "cell_type": "code",
      "metadata": {
        "id": "DxR1r4QM9-mN"
      },
      "source": [
        "import pandas as pd\n",
        "import numpy as np\n",
        "import matplotlib.pyplot as plt\n",
        "from IPython.display import Image\n",
        "%matplotlib inline"
      ],
      "execution_count": 1,
      "outputs": []
    },
    {
      "cell_type": "code",
      "metadata": {
        "colab": {
          "base_uri": "https://localhost:8080/",
          "height": 41
        },
        "id": "zYHnJZFxANBC",
        "outputId": "37f3f019-9fc2-4110-f411-65b79334728e"
      },
      "source": [
        "Image('wheel_encoders.png')"
      ],
      "execution_count": 2,
      "outputs": [
        {
          "output_type": "execute_result",
          "data": {
            "image/png": "wheel_encoders.png",
            "text/plain": [
              "<IPython.core.display.Image object>"
            ]
          },
          "metadata": {
            "tags": []
          },
          "execution_count": 2
        }
      ]
    },
    {
      "cell_type": "code",
      "metadata": {
        "colab": {
          "base_uri": "https://localhost:8080/"
        },
        "id": "UNwhCFY81_I-",
        "outputId": "c3b687fd-5618-421e-b01b-c64b5cc5e9be"
      },
      "source": [
        "from google.colab import drive\n",
        "drive.mount('/content/drive')"
      ],
      "execution_count": 3,
      "outputs": [
        {
          "output_type": "stream",
          "text": [
            "Mounted at /content/drive\n"
          ],
          "name": "stdout"
        }
      ]
    },
    {
      "cell_type": "markdown",
      "metadata": {
        "id": "kT8EkzVk9-mP"
      },
      "source": [
        "In a differential-drive model, we discussed the relation between wheel velocities and robot's rotational and translational velocity, i.e, $v, \\omega$. \n",
        "\n",
        "If we need to know curent $v, \\omega$ how to measure wheel velocities? We use wheel encoders"
      ]
    },
    {
      "cell_type": "markdown",
      "metadata": {
        "id": "lXcbDCTU9-mQ"
      },
      "source": [
        "Encoder resolution = $N$\n",
        "\n",
        "Every $\\Delta T$ ms,\n",
        "+ Encoder reports # ticks wheel moved = $n$\n",
        "+ Angle moved = $2\\pi \\frac{n}{N}$\n",
        "\n",
        "Usage\n",
        "+ Smallest movement that can be measured is $\\frac{2\\pi}{N}$\n",
        "+ Largest speed that can be measured is $\\frac{2\\pi}{\\Delta T}$\n",
        "\n",
        "Pros:\n",
        "+ Fairly accurate estimates of linear/ angular velocity\n",
        "+ Distances and rotations are accurate in short-term\n",
        "\n",
        "Cons:\n",
        "+ Vehicle position “drifts” when $v,\\omega$ is integrated over longer periods"
      ]
    },
    {
      "cell_type": "markdown",
      "metadata": {
        "id": "IPKxQ6F19-mR"
      },
      "source": [
        "Say, your robot's initial pose is (0.0, 0.0, 0.0), write a program to accept left and right ticks as input and output the next pose\n",
        "\n",
        "Assume an unicycle model and following vehicle parameters\n",
        "+ Wheel radius ($r$) =  2.0m\n",
        "+ Track-width ($L$) = 4.0m\n",
        "+ Encoder ticks ($N$) = 100 \n",
        "+ Encoder frequency ($\\Delta T$) = 0.1\n",
        "\n",
        "Test your code with $n_{right} = 10$ and $N_{left} = 6$. Do you get the next pose as $(1.0053, 0.0, 0.1257)$?"
      ]
    },
    {
      "cell_type": "code",
      "metadata": {
        "id": "1PRnCXg6CDce"
      },
      "source": [
        "def unicycle_model(curr_pose, v, w, dt=1.0):\n",
        "    ## write code to calculate next_pose\n",
        "    # refer to the kinematic equations of a unicycle model\n",
        "    x = curr_pose[0] + v*np.cos(curr_pose[2])*dt \n",
        "    y = curr_pose[1] + v*np.sin(curr_pose[2])*dt \n",
        "    theta = curr_pose[2] + w*dt \n",
        "    \n",
        "    # Keep theta bounded between [-pi, pi]\n",
        "    theta = np.arctan2(np.sin(theta), np.cos(theta))\n",
        "    # return calculated (x, y, theta)\n",
        "    return (x, y, theta)"
      ],
      "execution_count": 4,
      "outputs": []
    },
    {
      "cell_type": "code",
      "metadata": {
        "id": "Mgoi7URJCEHi"
      },
      "source": [
        "def output_pose(nleft, nright):\n",
        "  rad = 2\n",
        "  L = 4\n",
        "  N = 100\n",
        "  wr = 2*np.pi*(nright)/N \n",
        "  wl = 2*np.pi*(nleft)/N\n",
        "  w = (rad/L)*(wr - wl)\n",
        "  v = (rad/2)*(wr + wl)\n",
        "  pose = unicycle_model([0,0,0],v,w)\n",
        "  return pose"
      ],
      "execution_count": 5,
      "outputs": []
    },
    {
      "cell_type": "code",
      "metadata": {
        "colab": {
          "base_uri": "https://localhost:8080/"
        },
        "id": "pF4dYkGaCGDl",
        "outputId": "1b035bc0-caa2-44ac-a1c6-ed251ed8f551"
      },
      "source": [
        "output_pose(6,10)"
      ],
      "execution_count": 6,
      "outputs": [
        {
          "output_type": "execute_result",
          "data": {
            "text/plain": [
              "(1.0053096491487339, 0.0, 0.12566370614359174)"
            ]
          },
          "metadata": {
            "tags": []
          },
          "execution_count": 6
        }
      ]
    },
    {
      "cell_type": "markdown",
      "metadata": {
        "id": "L1pa3ken9-mR"
      },
      "source": [
        "### Effect of angular error in pose estimate"
      ]
    },
    {
      "cell_type": "code",
      "metadata": {
        "id": "8GIlJ_6r9-mS"
      },
      "source": [
        "initial_error = np.deg2rad(1.0)\n",
        "robot_pose = np.array([0, 0, np.pi/2 + initial_error])"
      ],
      "execution_count": 9,
      "outputs": []
    },
    {
      "cell_type": "code",
      "metadata": {
        "id": "LbEFS1kR9-mS",
        "colab": {
          "base_uri": "https://localhost:8080/"
        },
        "outputId": "9f79101b-e349-490d-ed39-7f7864127465"
      },
      "source": [
        "# write your code to simulate straight line motion \n",
        "# robot can be assumed to be moving at constant speed of 2 m/s for 30 seconds\n",
        "# feel free to borrow code from your previous notebooks\n",
        "#straight line\n",
        "straight_trajectory = []\n",
        "steps = 10\n",
        "#fill in v and omega values\n",
        "v = np.ones(steps)\n",
        "w = np.zeros(steps)\n",
        "for i in range(steps):\n",
        "   #instruction to take v, w and compute new pose    \n",
        "    straight_trajectory.append(robot_pose) \n",
        "    robot_pose = unicycle_model(robot_pose,v[i],w[i])\n",
        "   # store new pose\n",
        "straight_trajectory = np.array(straight_trajectory) \n",
        "print(60 * np.tan(np.deg2rad(1)))"
      ],
      "execution_count": 10,
      "outputs": [
        {
          "output_type": "stream",
          "text": [
            "1.0473038956930552\n"
          ],
          "name": "stdout"
        }
      ]
    },
    {
      "cell_type": "markdown",
      "metadata": {
        "id": "PXtfE6gl9-mT"
      },
      "source": [
        "If there was no initial angle error, robot will end up at $x$ = 0.0. \n",
        "\n",
        "Plot a graph between initial_error and final $x$ position?"
      ]
    },
    {
      "cell_type": "code",
      "metadata": {
        "id": "FJjjAxBd9-mT",
        "colab": {
          "base_uri": "https://localhost:8080/",
          "height": 296
        },
        "outputId": "91de177d-5eb0-4559-9990-79dae23f4619"
      },
      "source": [
        "x_final = []\n",
        "for i in range(0, 8):\n",
        "  err = np.arange(-2,2,0.5)\n",
        "  initial_error = np.deg2rad(err[i])\n",
        "  robot_pose = np.array([0, 0, np.pi/2 + initial_error])\n",
        "  straight_trajectory = []\n",
        "  steps = 10\n",
        "  #fill in v and omega values\n",
        "  v = np.ones(steps)\n",
        "  w = np.zeros(steps)\n",
        "  for i in range(steps):\n",
        "   #instruction to take v, w and compute new pose    \n",
        "    straight_trajectory.append(robot_pose) \n",
        "    robot_pose = unicycle_model(robot_pose,v[i],w[i])\n",
        "   # store new pose\n",
        "  straight_trajectory = np.array(straight_trajectory) \n",
        "  ### Plot straight \n",
        "  xf, yf, _ = straight_trajectory[-1]\n",
        "  x_final.append(xf)\n",
        "plt.figure()\n",
        "plt.plot(err, x_final)\n",
        "plt.xlabel('Error in Initial Position')\n",
        "plt.ylabel('Final x position')\n"
      ],
      "execution_count": 31,
      "outputs": [
        {
          "output_type": "execute_result",
          "data": {
            "text/plain": [
              "Text(0, 0.5, 'Final x position')"
            ]
          },
          "metadata": {
            "tags": []
          },
          "execution_count": 31
        },
        {
          "output_type": "display_data",
          "data": {
            "image/png": "[encoded data removed]",
            "text/plain": [
              "<Figure size 432x288 with 1 Axes>"
            ]
          },
          "metadata": {
            "tags": [],
            "needs_background": "light"
          }
        }
      ]
    },
    {
      "cell_type": "markdown",
      "metadata": {
        "id": "HKB9hb-E9-mU"
      },
      "source": [
        "### Demonstrate localization drift in wheel encoders"
      ]
    },
    {
      "cell_type": "markdown",
      "metadata": {
        "id": "NJrnj_Vm9-mU"
      },
      "source": [
        "### Synthetic dataset"
      ]
    },
    {
      "cell_type": "code",
      "metadata": {
        "id": "aGYlASIU9-mV"
      },
      "source": [
        "all_v = np.ones(100)\n",
        "all_w = np.zeros(100) "
      ],
      "execution_count": 11,
      "outputs": []
    },
    {
      "cell_type": "code",
      "metadata": {
        "id": "kSNgK_b39-mV"
      },
      "source": [
        "wheel_enc_traj, wheel_enc_traj_noisy = [], []\n",
        "ideal_pose = np.array([0, 0, np.pi/2])\n",
        "noisy_pose = np.array([0, 0, np.pi/2])\n",
        "\n",
        "for v, w in zip(all_v, all_w):\n",
        "    wheel_enc_traj.append(ideal_pose)\n",
        "    wheel_enc_traj_noisy.append(noisy_pose)\n",
        "    #code to update ideal_pose\n",
        "    ideal_pose = unicycle_model(ideal_pose,v,w)\n",
        "    \n",
        "    #code to update noisy pose\n",
        "    #add gaussian noise with std dev of 0.01 to omega\n",
        "    noisy_pose = unicycle_model(noisy_pose,v,w+np.random.normal(0, 0.01, w.shape))\n",
        "    \n",
        "robot_traj = np.array(wheel_enc_traj)\n",
        "robot_traj_noisy = np.array(wheel_enc_traj_noisy)"
      ],
      "execution_count": 12,
      "outputs": []
    },
    {
      "cell_type": "code",
      "metadata": {
        "id": "FWe6L-TC9-mW",
        "colab": {
          "base_uri": "https://localhost:8080/",
          "height": 354
        },
        "outputId": "fc5550d2-d68b-4947-cdf7-d54b75e04c2b"
      },
      "source": [
        "plt.figure()\n",
        "plt.grid()\n",
        "plt.axes().set_aspect(\"equal\",\"datalim\")\n",
        "plt.plot(robot_traj[:,0], robot_traj[:,1],'k-')\n",
        "plt.plot(robot_traj_noisy[:,0], robot_traj_noisy[:,1],'b-')\n",
        "plt.plot(0, 0, 'r+', ms=10)\n",
        "plt.legend()"
      ],
      "execution_count": 14,
      "outputs": [
        {
          "output_type": "stream",
          "text": [
            "/usr/local/lib/python3.7/dist-packages/ipykernel_launcher.py:3: MatplotlibDeprecationWarning: Adding an axes using the same arguments as a previous axes currently reuses the earlier instance.  In a future version, a new instance will always be created and returned.  Meanwhile, this warning can be suppressed, and the future behavior ensured, by passing a unique label to each axes instance.\n",
            "  This is separate from the ipykernel package so we can avoid doing imports until\n",
            "No handles with labels found to put in legend.\n"
          ],
          "name": "stderr"
        },
        {
          "output_type": "execute_result",
          "data": {
            "text/plain": [
              "<matplotlib.legend.Legend at 0x7f290a66ecd0>"
            ]
          },
          "metadata": {
            "tags": []
          },
          "execution_count": 14
        },
        {
          "output_type": "display_data",
          "data": {
            "image/png": "[encoded data removed]",
            "text/plain": [
              "<Figure size 432x288 with 1 Axes>"
            ]
          },
          "metadata": {
            "tags": [],
            "needs_background": "light"
          }
        }
      ]
    },
    {
      "cell_type": "markdown",
      "metadata": {
        "id": "75glZVRU9-mW"
      },
      "source": [
        "### Real dataset"
      ]
    },
    {
      "cell_type": "code",
      "metadata": {
        "colab": {
          "base_uri": "https://localhost:8080/"
        },
        "id": "p0LwOWZs-vmu",
        "outputId": "31f06b71-c0ee-47c5-d02a-b662418c0895"
      },
      "source": [
        "!ls"
      ],
      "execution_count": 16,
      "outputs": [
        {
          "output_type": "stream",
          "text": [
            "drive  sample_data\n"
          ],
          "name": "stdout"
        }
      ]
    },
    {
      "cell_type": "code",
      "metadata": {
        "id": "-t8G6V6a9-mW"
      },
      "source": [
        "data_dir = \"/content/drive/MyDrive/Week-1 Assignment LABLET AP102/data\"\n",
        "ground_truth = pd.read_csv(data_dir + \"/ground_truth.csv\")\n",
        "gt_traj = np.array(ground_truth[['x','y']])\n",
        "wheel_enc = np.array(pd.read_csv(data_dir + \"/wheel_control.csv\")[['v','w']])"
      ],
      "execution_count": 18,
      "outputs": []
    },
    {
      "cell_type": "code",
      "metadata": {
        "id": "nPBhM_mq-0HH"
      },
      "source": [
        "def unicycle_model(pose, v, w, dt = 0.01):\n",
        "  x, y, theta = pose\n",
        "  x += v*np.cos(theta)*dt\n",
        "  y += v*np.sin(theta)*dt\n",
        "  theta += w*dt\n",
        "  theta = np.arctan2(np.sin(theta), np.cos(theta))\n",
        "  return x, y, theta"
      ],
      "execution_count": 19,
      "outputs": []
    },
    {
      "cell_type": "code",
      "metadata": {
        "id": "IU7iiSmX9-mX"
      },
      "source": [
        "pose = np.array(ground_truth[['x','y','theta']])[0] #initial pose\n",
        "robot_traj = []\n",
        "for v, w in wheel_enc:\n",
        "    robot_traj.append(pose)\n",
        "    # code for updating pose\n",
        "    pose = unicycle_model(pose, v, w)\n",
        "robot_traj = np.array(robot_traj)"
      ],
      "execution_count": 21,
      "outputs": []
    },
    {
      "cell_type": "code",
      "metadata": {
        "id": "Lglvuv9N9-mX",
        "colab": {
          "base_uri": "https://localhost:8080/",
          "height": 282
        },
        "outputId": "660c1008-1f32-42c2-bf48-a3c7aaa96c57"
      },
      "source": [
        "end = 10000\n",
        "plt.figure()\n",
        "plt.grid()\n",
        "plt.plot(gt_traj[:,0], gt_traj[:,1], label='Vehicle path - Actual')\n",
        "plt.plot(robot_traj[:end,0], robot_traj[:end,1], '.', label='Vehicle path - wheel encoder')\n",
        "plt.legend()"
      ],
      "execution_count": 23,
      "outputs": [
        {
          "output_type": "execute_result",
          "data": {
            "text/plain": [
              "<matplotlib.legend.Legend at 0x7f290749b310>"
            ]
          },
          "metadata": {
            "tags": []
          },
          "execution_count": 23
        },
        {
          "output_type": "display_data",
          "data": {
            "image/png": "[encoded data removed]",
            "text/plain": [
              "<Figure size 432x288 with 1 Axes>"
            ]
          },
          "metadata": {
            "tags": [],
            "needs_background": "light"
          }
        }
      ]
    },
    {
      "cell_type": "code",
      "metadata": {
        "id": "N02PFiD3_QPi"
      },
      "source": [
        ""
      ],
      "execution_count": null,
      "outputs": []
    }
  ]
}