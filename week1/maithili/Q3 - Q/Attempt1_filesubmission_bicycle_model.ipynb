{
  "nbformat": 4,
  "nbformat_minor": 0,
  "metadata": {
    "kernelspec": {
      "display_name": "Python 3",
      "language": "python",
      "name": "python3"
    },
    "language_info": {
      "codemirror_mode": {
        "name": "ipython",
        "version": 3
      },
      "file_extension": ".py",
      "mimetype": "text/x-python",
      "name": "python",
      "nbconvert_exporter": "python",
      "pygments_lexer": "ipython3",
      "version": "3.9.1"
    },
    "varInspector": {
      "cols": {
        "lenName": 16,
        "lenType": 16,
        "lenVar": 40
      },
      "kernels_config": {
        "python": {
          "delete_cmd_postfix": "",
          "delete_cmd_prefix": "del ",
          "library": "var_list.py",
          "varRefreshCmd": "print(var_dic_list())"
        },
        "r": {
          "delete_cmd_postfix": ") ",
          "delete_cmd_prefix": "rm(",
          "library": "var_list.r",
          "varRefreshCmd": "cat(var_dic_list()) "
        }
      },
      "position": {
        "height": "144px",
        "left": "1090px",
        "right": "20px",
        "top": "13px",
        "width": "350px"
      },
      "types_to_exclude": [
        "module",
        "function",
        "builtin_function_or_method",
        "instance",
        "_Feature"
      ],
      "window_display": true
    },
    "colab": {
      "name": "bicycle_model.ipynb",
      "provenance": []
    }
  },
  "cells": [
    {
      "cell_type": "code",
      "metadata": {
        "id": "gpGPl3rxD5bt"
      },
      "source": [
        "import pandas as pd\n",
        "import numpy as np\n",
        "import matplotlib.pyplot as plt\n",
        "%matplotlib inline\n",
        "import doctest\n",
        "import copy"
      ],
      "execution_count": 1,
      "outputs": []
    },
    {
      "cell_type": "code",
      "metadata": {
        "id": "Cy-IHdN_D5bv"
      },
      "source": [
        "#https://stackoverflow.com/questions/40137950/possible-to-run-python-doctest-on-a-jupyter-cell-function\n",
        "def test(func):\n",
        "    '''\n",
        "    Use test as a decorator to a function with doctests in Jupyter notebook. \n",
        "    Run the cell to see the results of the doctests.\n",
        "    '''\n",
        "    globs = copy.copy(globals())\n",
        "    globs.update({func.__name__:func})\n",
        "    doctest.run_docstring_examples(func, globs, verbose=True, name=func.__name__)\n",
        "    return func"
      ],
      "execution_count": 3,
      "outputs": []
    },
    {
      "cell_type": "markdown",
      "metadata": {
        "id": "wItZX1gwD5bw"
      },
      "source": [
        "### Simulate straight line and circular movements with Bicycle model\n",
        "\n",
        "Robot is at the origin (0, 0) and facing North, i.e, $\\theta = \\pi/2$. Assume the wheelbase of the vehicle $L$ = 0.9 m"
      ]
    },
    {
      "cell_type": "code",
      "metadata": {
        "id": "Zeb2OgYeD5bx",
        "colab": {
          "base_uri": "https://localhost:8080/"
        },
        "outputId": "502764c5-958c-4047-a932-fab7c2de217b"
      },
      "source": [
        "\n",
        "#uncomment this decorator to test your code\n",
        "@test \n",
        "def bicycle_model(curr_pose, v, delta, dt=1.0):\n",
        "  '''\n",
        "  >>> bicycle_model((0.0,0.0,0.0), 1.0, 0.0)\n",
        "  (1.0, 0.0, 0.0)\n",
        "  >>> bicycle_model((0.0,0.0,0.0), 0.0, np.pi/4)\n",
        "  (0.0, 0.0, 0.0)\n",
        "  >>> bicycle_model((0.0, 0.0, 0.0), 1.0, np.pi/4)\n",
        "  (1.0, 0.0, 1.11)\n",
        "  '''\n",
        "  # write code to calculate next_pose\n",
        "  # refer to the kinematic equations of a unicycle model\n",
        "  L = 0.9\n",
        "  x,y,theta = curr_pose\n",
        "  x = x + v*np.cos(theta)*dt\n",
        "  y = y + v*np.sin(theta)*dt\n",
        "  theta = theta + round(v/L*np.tan(delta),2)*dt\n",
        "    \n",
        "  # Keep theta bounded between [-pi, pi]\n",
        "  theta = np.arctan2(np.sin(theta), np.cos(theta))\n",
        "\n",
        "  return (x, y, theta)\n",
        "  #return "
      ],
      "execution_count": 5,
      "outputs": [
        {
          "output_type": "stream",
          "text": [
            "Finding tests in bicycle_model\n",
            "Trying:\n",
            "    bicycle_model((0.0,0.0,0.0), 1.0, 0.0)\n",
            "Expecting:\n",
            "    (1.0, 0.0, 0.0)\n",
            "ok\n",
            "Trying:\n",
            "    bicycle_model((0.0,0.0,0.0), 0.0, np.pi/4)\n",
            "Expecting:\n",
            "    (0.0, 0.0, 0.0)\n",
            "ok\n",
            "Trying:\n",
            "    bicycle_model((0.0, 0.0, 0.0), 1.0, np.pi/4)\n",
            "Expecting:\n",
            "    (1.0, 0.0, 1.11)\n",
            "ok\n"
          ],
          "name": "stdout"
        }
      ]
    },
    {
      "cell_type": "code",
      "metadata": {
        "id": "rkAm7KZ5D5by",
        "colab": {
          "base_uri": "https://localhost:8080/"
        },
        "outputId": "f887ba24-dec8-4d3f-8b29-d5c1fcef54b4"
      },
      "source": [
        "#straight line\n",
        "straight_trajectory = []\n",
        "pose = (0, 0, np.pi/2)\n",
        "steps = 10\n",
        "#fill in v and delta values\n",
        "all_v = np.ones(steps)\n",
        "all_delta = np.zeros(steps)\n",
        "for v,delta in zip(all_v, all_delta):\n",
        "   #instruction to take v, w and compute new pose    \n",
        "    straight_trajectory.append(pose) \n",
        "    pose = bicycle_model(pose,v,delta)\n",
        "   # store new pose\n",
        "s_trajectory = np.array(straight_trajectory)  \n",
        "print(s_trajectory)\n",
        "\n",
        "    "
      ],
      "execution_count": 6,
      "outputs": [
        {
          "output_type": "stream",
          "text": [
            "[[0.00000000e+00 0.00000000e+00 1.57079633e+00]\n",
            " [6.12323400e-17 1.00000000e+00 1.57079633e+00]\n",
            " [1.22464680e-16 2.00000000e+00 1.57079633e+00]\n",
            " [1.83697020e-16 3.00000000e+00 1.57079633e+00]\n",
            " [2.44929360e-16 4.00000000e+00 1.57079633e+00]\n",
            " [3.06161700e-16 5.00000000e+00 1.57079633e+00]\n",
            " [3.67394040e-16 6.00000000e+00 1.57079633e+00]\n",
            " [4.28626380e-16 7.00000000e+00 1.57079633e+00]\n",
            " [4.89858720e-16 8.00000000e+00 1.57079633e+00]\n",
            " [5.51091060e-16 9.00000000e+00 1.57079633e+00]]\n"
          ],
          "name": "stdout"
        }
      ]
    },
    {
      "cell_type": "code",
      "metadata": {
        "id": "9fNbts6TD5bz",
        "colab": {
          "base_uri": "https://localhost:8080/"
        },
        "outputId": "35cc4fbd-5d9f-4795-ee8c-d22abbeeea03"
      },
      "source": [
        "#circle\n",
        "circle_trajectory = []\n",
        "pose = (0, 0, np.pi/2)\n",
        "steps = 10\n",
        "#fill in v and omega values\n",
        "all_v = np.ones(steps*100)\n",
        "all_delta = np.ones(steps*100)\n",
        "for v,delta in zip(all_v, all_delta):\n",
        "    #instruction to take v, delta and compute new pose    \n",
        "    circle_trajectory.append(pose) \n",
        "    pose = bicycle_model(pose,v,delta,0.1)\n",
        "   # store new pose\n",
        "circlular_trajectory = np.array(circle_trajectory)  \n",
        "   # store new pose\n",
        "print(circlular_trajectory)\n",
        "   \n"
      ],
      "execution_count": 7,
      "outputs": [
        {
          "output_type": "stream",
          "text": [
            "[[ 0.00000000e+00  0.00000000e+00  1.57079633e+00]\n",
            " [ 6.12323400e-18  1.00000000e-01  1.74379633e+00]\n",
            " [-1.72138338e-02  1.98507279e-01  1.91679633e+00]\n",
            " ...\n",
            " [-1.11120531e+00  2.71692575e-01 -1.87739227e+00]\n",
            " [-1.14138682e+00  1.76355927e-01 -1.70439227e+00]\n",
            " [-1.15470671e+00  7.72469940e-02 -1.53139227e+00]]\n"
          ],
          "name": "stdout"
        }
      ]
    },
    {
      "cell_type": "code",
      "metadata": {
        "id": "RS90vnzYD5b0",
        "colab": {
          "base_uri": "https://localhost:8080/",
          "height": 530
        },
        "outputId": "7ce88a01-1936-472c-b49e-eb93568dea55"
      },
      "source": [
        "### Plot straight and circular trajectories\n",
        "plt.figure()\n",
        "plt.axes().set_aspect(\"equal\",\"datalim\")\n",
        "plt.plot(s_trajectory[:,0], s_trajectory[:,1])\n",
        "\n",
        "plt.figure()\n",
        "plt.axes().set_aspect(\"equal\",\"datalim\")\n",
        "plt.plot(circlular_trajectory[:,0], circlular_trajectory[:,1])\n"
      ],
      "execution_count": 8,
      "outputs": [
        {
          "output_type": "execute_result",
          "data": {
            "text/plain": [
              "[<matplotlib.lines.Line2D at 0x7fd6d04ea8d0>]"
            ]
          },
          "metadata": {
            "tags": []
          },
          "execution_count": 8
        },
        {
          "output_type": "display_data",
          "data": {
            "image/png": "[encoded data removed]",
            "text/plain": [
              "<Figure size 432x288 with 1 Axes>"
            ]
          },
          "metadata": {
            "tags": [],
            "needs_background": "light"
          }
        },
        {
          "output_type": "display_data",
          "data": {
            "image/png": "[encoded data removed]",
            "text/plain": [
              "<Figure size 432x288 with 1 Axes>"
            ]
          },
          "metadata": {
            "tags": [],
            "needs_background": "light"
          }
        }
      ]
    },
    {
      "cell_type": "markdown",
      "metadata": {
        "id": "KPMhUJJBD5b1"
      },
      "source": [
        "### Simulate Bicycle model with Open Loop control\n",
        "\n",
        "We want the robot to follow these instructions\n",
        "\n",
        "**straight 10m, right turn, straight 5m, left turn, straight 8m, right turn**\n",
        "\n",
        "It is in open loop; control commands have to be calculated upfront. How do we do it?\n",
        "\n",
        "To keep things simple in the first iteration, we can fix $v = v_c$ and change only $\\delta$. To make it even simpler, $\\delta$ can take only 2 values \n",
        "+ 0 when the vehicle is going straight \n",
        "+ $\\delta = \\delta_c$ when turning\n",
        "\n",
        "This leaves only 2 questions to be answered\n",
        "* What should be $v_c$ and $\\delta_c$?\n",
        "* When should $\\delta$ change from 0 and back?"
      ]
    },
    {
      "cell_type": "code",
      "metadata": {
        "id": "-U-6NqIoD5b2"
      },
      "source": [
        "v_c = 1 # m/s\n",
        "delta_c = np.pi/6 # rad/s\n",
        "\n",
        "#calculate time taken to finish a quarter turn (pi/2)\n",
        "# unlike you would need to take into account v_c and L of the vehicle as well\n",
        "t_turn = int(np.pi/2/delta_c)\n",
        "\n",
        "#calculate the time taken to finish straight segments\n",
        "# omega array is to be padded with equivalent zeros\n",
        "\n",
        "t_straight1, t_straight2, t_straight3 = int(10/v_c), int(5/v_c), int(8/v_c)\n",
        "\n",
        "all_delta = [0]*t_straight1 + [delta_c]*t_turn + \\\n",
        "        [0]*t_straight2 + [delta_c]*t_turn + \\\n",
        "        [0]*t_straight3 + [-delta_c]*t_turn\n",
        "all_v = v_c*np.ones_like(all_delta)"
      ],
      "execution_count": 9,
      "outputs": []
    },
    {
      "cell_type": "markdown",
      "metadata": {
        "id": "lI-eXKo9D5b3"
      },
      "source": [
        "Let us make a cool function out of this!\n",
        "\n",
        "Take in as input a generic route and convert it into open-loop commands\n",
        "\n",
        "Input format: [(\"straight\", 5), (\"right\", 90), (\"straight\", 6), (\"left\", 85)]\n",
        "\n",
        "Output: all_v, all_delta"
      ]
    },
    {
      "cell_type": "code",
      "metadata": {
        "id": "dydnwuPmD5b4"
      },
      "source": [
        "def get_open_loop_commands(route, vc=1, deltac=np.pi/12):\n",
        "    all_delta = []\n",
        "    for dir, command in route: \n",
        "      if dir == 'straight':\n",
        "        t_straight = np.ceil(command/vc).astype('int')\n",
        "        all_delta += [0]*t_straight\n",
        "      elif dir == 'right':\n",
        "        all_delta += [-deltac]*np.ceil(np.deg2rad(command)/deltac).astype('int')\n",
        "      else:\n",
        "        all_delta += [deltac]*np.ceil(np.deg2rad(command)/deltac).astype('int')\n",
        "    all_v = vc*np.ones_like(all_delta)\n",
        "    print(len(all_delta))\n",
        "    print(len(all_v))\n",
        "    return all_v, all_delta"
      ],
      "execution_count": 10,
      "outputs": []
    },
    {
      "cell_type": "markdown",
      "metadata": {
        "id": "wPg13GHQD5b5"
      },
      "source": [
        "### Unit test your function with the following inputs\n",
        "\n",
        "+ [(\"straight\", 5), (\"right\", 90), (\"straight\", 6), (\"left\", 85)]\n",
        "+ $v_c = 1$\n",
        "+ $delta_c = \\pi/12$"
      ]
    },
    {
      "cell_type": "code",
      "metadata": {
        "id": "ga3MspwND5b5",
        "colab": {
          "base_uri": "https://localhost:8080/"
        },
        "outputId": "2b4de856-b094-47c2-c770-f30017d3dcdd"
      },
      "source": [
        "v, delta = get_open_loop_commands([(\"straight\", 5), (\"right\", 90), (\"straight\", 6), (\"left\", 85)], 1, np.pi/12)"
      ],
      "execution_count": 11,
      "outputs": [
        {
          "output_type": "stream",
          "text": [
            "23\n",
            "23\n"
          ],
          "name": "stdout"
        }
      ]
    },
    {
      "cell_type": "code",
      "metadata": {
        "id": "elCuQPcsD5b6",
        "colab": {
          "base_uri": "https://localhost:8080/"
        },
        "outputId": "36688473-2f2e-4bdd-ea59-75541837218e"
      },
      "source": [
        "robot_trajectory = []\n",
        "all_v, all_delta = get_open_loop_commands([(\"straight\", 5), (\"right\", 90), (\"straight\", 6), (\"left\", 85)])\n",
        "pose = np.array([0, 0, np.pi/2])\n",
        "for v, delta in zip(all_v, all_delta):\n",
        "    #instruction to take v, w and compute new pose    \n",
        "    robot_trajectory.append(pose) \n",
        "    pose = bicycle_model(pose,v,delta)\n",
        "   # store new pose\n",
        "print(robot_trajectory)\n",
        "print(len(robot_trajectory))\n",
        "robot_trajectory = np.array(robot_trajectory)"
      ],
      "execution_count": 12,
      "outputs": [
        {
          "output_type": "stream",
          "text": [
            "23\n",
            "23\n",
            "[array([0.        , 0.        , 1.57079633]), (6.123233995736766e-17, 1.0, 1.5707963267948966), (1.2246467991473532e-16, 2.0, 1.5707963267948966), (1.8369701987210297e-16, 3.0, 1.5707963267948966), (2.4492935982947064e-16, 4.0, 1.5707963267948966), (3.061616997868383e-16, 5.0, 1.5707963267948966), (3.67394039744206e-16, 6.0, 1.2707963267948965), (0.29552020666134005, 6.955336489125606, 0.9707963267948965), (0.8601626800563755, 7.780672104035284, 0.6707963267948964), (1.643489589683859, 8.40228207230595, 0.37079632679489644), (2.5755286756510856, 8.764639826782624, 0.07079632679489645), (3.57302366225514, 8.835377028450326, -0.22920367320510354), (4.546871293133336, 8.608174933757239, -0.22920367320510354), (5.520718924011531, 8.380972839064151, -0.22920367320510354), (6.494566554889726, 8.153770744371064, -0.22920367320510354), (7.468414185767921, 7.926568649677977, -0.22920367320510354), (8.442261816646116, 7.6993665549848895, -0.22920367320510354), (9.416109447524311, 7.472164460291802, -0.22920367320510354), (10.389957078402507, 7.244962365598715, 0.07079632679489645), (11.387452065006562, 7.315699567266417, 0.37079632679489644), (12.319491150973787, 7.678057321743091, 0.6707963267948964), (13.10281806060127, 8.299667290013755, 0.9707963267948965), (13.667460533996307, 9.125002904923432, 1.2707963267948965)]\n",
            "23\n"
          ],
          "name": "stdout"
        }
      ]
    },
    {
      "cell_type": "code",
      "metadata": {
        "id": "qK5s5Em9D5b6",
        "colab": {
          "base_uri": "https://localhost:8080/",
          "height": 337
        },
        "outputId": "9b3875e9-a0ac-4fda-971f-7f8e3207e709"
      },
      "source": [
        "# plot robot trajectory\n",
        "plt.figure()\n",
        "plt.grid()\n",
        "xi, yi, _ = robot_trajectory[0]\n",
        "xf, yf, _ = robot_trajectory[-1]\n",
        "plt.axes().set_aspect(\"equal\",\"datalim\")\n",
        "plt.plot(robot_trajectory[:,0], robot_trajectory[:,1],'black')\n",
        "\n",
        "#show first and last robot positions with + markers\n",
        "plt.plot(xi, yi, 'r+', ms=10)\n",
        "plt.plot(xf, yf, 'r+', ms=10)\n"
      ],
      "execution_count": 13,
      "outputs": [
        {
          "output_type": "stream",
          "text": [
            "/usr/local/lib/python3.7/dist-packages/ipykernel_launcher.py:6: MatplotlibDeprecationWarning: Adding an axes using the same arguments as a previous axes currently reuses the earlier instance.  In a future version, a new instance will always be created and returned.  Meanwhile, this warning can be suppressed, and the future behavior ensured, by passing a unique label to each axes instance.\n",
            "  \n"
          ],
          "name": "stderr"
        },
        {
          "output_type": "execute_result",
          "data": {
            "text/plain": [
              "[<matplotlib.lines.Line2D at 0x7fd6cff95a50>]"
            ]
          },
          "metadata": {
            "tags": []
          },
          "execution_count": 13
        },
        {
          "output_type": "display_data",
          "data": {
            "image/png": "[encoded data removed]",
            "text/plain": [
              "<Figure size 432x288 with 1 Axes>"
            ]
          },
          "metadata": {
            "tags": [],
            "needs_background": "light"
          }
        }
      ]
    },
    {
      "cell_type": "markdown",
      "metadata": {
        "id": "H-ecY7zbD5b7"
      },
      "source": [
        "### Shape the turn\n",
        "Let us try something cooler than before (though a bit tricky in open loop). Instead of boring circular arcs, change the steering angle so that the robot orientation changes as shown in the equation below\n",
        "\n",
        "$\\theta = (\\theta_i - \\theta_f) * (1 - 3x^2 + 2\\theta^3) + \\theta_f  \\thinspace \\vee x \\in [0,1]$\n",
        "\n",
        "First let us plot this"
      ]
    },
    {
      "cell_type": "code",
      "metadata": {
        "id": "DQbmFZmXD5b8"
      },
      "source": [
        "def poly_turn(theta_i, theta_f, n=10):\n",
        "    x = np.linspace(0, 1, num=n)\n",
        "    return (theta_i-theta_f) * (1 - 3 * x * x + 2 * (x**3)) + theta_f"
      ],
      "execution_count": 14,
      "outputs": []
    },
    {
      "cell_type": "markdown",
      "metadata": {
        "id": "58KMj70TD5b9"
      },
      "source": [
        "How does a right turn look? "
      ]
    },
    {
      "cell_type": "code",
      "metadata": {
        "id": "7INgEBQvD5b9",
        "colab": {
          "base_uri": "https://localhost:8080/",
          "height": 282
        },
        "outputId": "91cc3b0c-6c00-4c8d-a489-1fc2fe48149f"
      },
      "source": [
        "plt.figure()\n",
        "plt.plot(poly_turn(np.pi/2, 0),'.')\n",
        "plt.plot(poly_turn(np.pi/2, 0))"
      ],
      "execution_count": 15,
      "outputs": [
        {
          "output_type": "execute_result",
          "data": {
            "text/plain": [
              "[<matplotlib.lines.Line2D at 0x7fd6cff0f250>]"
            ]
          },
          "metadata": {
            "tags": []
          },
          "execution_count": 15
        },
        {
          "output_type": "display_data",
          "data": {
            "image/png": "[encoded data removed]",
            "text/plain": [
              "<Figure size 432x288 with 1 Axes>"
            ]
          },
          "metadata": {
            "tags": [],
            "needs_background": "light"
          }
        }
      ]
    },
    {
      "cell_type": "markdown",
      "metadata": {
        "id": "Gk546i4HD5b-"
      },
      "source": [
        "\n",
        "Now plot a right turn (North to East)"
      ]
    },
    {
      "cell_type": "code",
      "metadata": {
        "id": "MIcpSAHhD5b_",
        "colab": {
          "base_uri": "https://localhost:8080/",
          "height": 284
        },
        "outputId": "be9933b9-e984-4991-e86b-210754afdecf"
      },
      "source": [
        "plt.figure()\n",
        "plt.plot(poly_turn(np.pi/2, np.pi),'.')\n",
        "plt.plot(poly_turn(np.pi/2, np.pi))"
      ],
      "execution_count": 16,
      "outputs": [
        {
          "output_type": "execute_result",
          "data": {
            "text/plain": [
              "[<matplotlib.lines.Line2D at 0x7fd6cfe79f10>]"
            ]
          },
          "metadata": {
            "tags": []
          },
          "execution_count": 16
        },
        {
          "output_type": "display_data",
          "data": {
            "image/png": "[encoded data removed]",
            "text/plain": [
              "<Figure size 432x288 with 1 Axes>"
            ]
          },
          "metadata": {
            "tags": [],
            "needs_background": "light"
          }
        }
      ]
    },
    {
      "cell_type": "markdown",
      "metadata": {
        "id": "rj670M1aD5b_"
      },
      "source": [
        "How does $\\theta$ change when we had constant $\\delta$? Plot it"
      ]
    },
    {
      "cell_type": "code",
      "metadata": {
        "id": "ywtHa7z3D5cA",
        "colab": {
          "base_uri": "https://localhost:8080/",
          "height": 282
        },
        "outputId": "5c54e5d8-9b83-47b0-ee3e-9105e6476439"
      },
      "source": [
        "theta_change = np.diff(poly_turn(np.pi/2, np.pi))\n",
        "plt.plot(theta_change,'.')\n",
        "plt.plot(theta_change)"
      ],
      "execution_count": 17,
      "outputs": [
        {
          "output_type": "execute_result",
          "data": {
            "text/plain": [
              "[<matplotlib.lines.Line2D at 0x7fd6cfdf0a90>]"
            ]
          },
          "metadata": {
            "tags": []
          },
          "execution_count": 17
        },
        {
          "output_type": "display_data",
          "data": {
            "image/png": "[encoded data removed]",
            "text/plain": [
              "<Figure size 432x288 with 1 Axes>"
            ]
          },
          "metadata": {
            "tags": [],
            "needs_background": "light"
          }
        }
      ]
    },
    {
      "cell_type": "markdown",
      "metadata": {
        "id": "7QGyMtTxD5cA"
      },
      "source": [
        "We know the rate of change of $\\theta$ is proportional to $\\delta$. Can you work out the sequence of $\\delta$ to change $\\theta$ as in the cubic polynomial shown above?"
      ]
    },
    {
      "cell_type": "code",
      "metadata": {
        "id": "UZ590VkxD5cA",
        "colab": {
          "base_uri": "https://localhost:8080/"
        },
        "outputId": "85ec8114-2574-446b-c9db-cc72b84037d2"
      },
      "source": [
        "L = 0.9\n",
        "v = 1\n",
        "theta_change = np.diff(poly_turn(np.pi/2, np.pi))\n",
        "delta = np.arctan((L/v)*theta_change)\n",
        "print(delta)"
      ],
      "execution_count": 18,
      "outputs": [
        {
          "output_type": "stream",
          "text": [
            "[0.04844344 0.12920623 0.18593495 0.21942362 0.23048008 0.21942362\n",
            " 0.18593495 0.12920623 0.04844344]\n"
          ],
          "name": "stdout"
        }
      ]
    }
  ]
}