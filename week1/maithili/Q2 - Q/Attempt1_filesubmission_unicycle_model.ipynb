{
  "nbformat": 4,
  "nbformat_minor": 0,
  "metadata": {
    "kernelspec": {
      "display_name": "Python 3",
      "language": "python",
      "name": "python3"
    },
    "language_info": {
      "codemirror_mode": {
        "name": "ipython",
        "version": 3
      },
      "file_extension": ".py",
      "mimetype": "text/x-python",
      "name": "python",
      "nbconvert_exporter": "python",
      "pygments_lexer": "ipython3",
      "version": "3.9.1"
    },
    "varInspector": {
      "cols": {
        "lenName": 16,
        "lenType": 16,
        "lenVar": 40
      },
      "kernels_config": {
        "python": {
          "delete_cmd_postfix": "",
          "delete_cmd_prefix": "del ",
          "library": "var_list.py",
          "varRefreshCmd": "print(var_dic_list())"
        },
        "r": {
          "delete_cmd_postfix": ") ",
          "delete_cmd_prefix": "rm(",
          "library": "var_list.r",
          "varRefreshCmd": "cat(var_dic_list()) "
        }
      },
      "position": {
        "height": "144px",
        "left": "1090px",
        "right": "20px",
        "top": "13px",
        "width": "350px"
      },
      "types_to_exclude": [
        "module",
        "function",
        "builtin_function_or_method",
        "instance",
        "_Feature"
      ],
      "window_display": true
    },
    "colab": {
      "name": "unicycle_model.ipynb",
      "provenance": [],
      "collapsed_sections": []
    }
  },
  "cells": [
    {
      "cell_type": "code",
      "metadata": {
        "id": "If9pvxp8aXZ9"
      },
      "source": [
        "import pandas as pd\n",
        "import numpy as np\n",
        "import matplotlib.pyplot as plt\n",
        "%matplotlib inline\n",
        "import doctest\n",
        "import copy"
      ],
      "execution_count": 2,
      "outputs": []
    },
    {
      "cell_type": "code",
      "metadata": {
        "id": "o7RVyWPBaXaA"
      },
      "source": [
        "#https://stackoverflow.com/questions/40137950/possible-to-run-python-doctest-on-a-jupyter-cell-function\n",
        "def test(func):\n",
        "    '''\n",
        "    Use test as a decorator to a function with doctests in Jupyter notebook. \n",
        "    Run the cell to see the results of the doctests.\n",
        "    '''\n",
        "    globs = copy.copy(globals())\n",
        "    globs.update({func.__name__:func})\n",
        "    doctest.run_docstring_examples(func, globs, verbose=True, name=func.__name__)\n",
        "    return func"
      ],
      "execution_count": 3,
      "outputs": []
    },
    {
      "cell_type": "markdown",
      "metadata": {
        "id": "1a5uEHx0aXaA"
      },
      "source": [
        "### Simulate straight line and circular movements with Unicycle model\n",
        "\n",
        "Robot is at the origin (0, 0) and facing North, i.e, $\\theta = \\pi/2$\n",
        "\n",
        "Use the Kinematics equations we had developed in class for the Unicycle model"
      ]
    },
    {
      "cell_type": "code",
      "metadata": {
        "id": "6HjK_Hx1aXaA",
        "colab": {
          "base_uri": "https://localhost:8080/"
        },
        "outputId": "de0e053a-6f3a-4ea1-eb99-2659710479a6"
      },
      "source": [
        "#uncomment this decorator to test your code\n",
        "@test \n",
        "def unicycle_model(curr_pose, v, w, dt=1.0):\n",
        "    '''\n",
        "    >>> unicycle_model((0.0,0.0,0.0), 1.0, 0.0)\n",
        "    (1.0, 0.0, 0.0)\n",
        "    >>> unicycle_model((0.0,0.0,0.0), 0.0, 1.0)\n",
        "    (0.0, 0.0, 1.0)\n",
        "    >>> unicycle_model((0.0, 0.0, 0.0), 1.0, 1.0)\n",
        "    (1.0, 0.0, 1.0)\n",
        "    '''\n",
        "    ## write code to calculate next_pose\n",
        "    # refer to the kinematic equations of a unicycle model\n",
        "    x = curr_pose[0] + v*np.cos(curr_pose[2])*dt \n",
        "    y = curr_pose[1] + v*np.sin(curr_pose[2])*dt \n",
        "    theta = curr_pose[2] + w*dt \n",
        "    \n",
        "    # Keep theta bounded between [-pi, pi]\n",
        "    theta = np.arctan2(np.sin(theta), np.cos(theta))\n",
        "    # return calculated (x, y, theta)\n",
        "    return (x, y, theta)"
      ],
      "execution_count": 5,
      "outputs": [
        {
          "output_type": "stream",
          "text": [
            "Finding tests in unicycle_model\n",
            "Trying:\n",
            "    unicycle_model((0.0,0.0,0.0), 1.0, 0.0)\n",
            "Expecting:\n",
            "    (1.0, 0.0, 0.0)\n",
            "ok\n",
            "Trying:\n",
            "    unicycle_model((0.0,0.0,0.0), 0.0, 1.0)\n",
            "Expecting:\n",
            "    (0.0, 0.0, 1.0)\n",
            "ok\n",
            "Trying:\n",
            "    unicycle_model((0.0, 0.0, 0.0), 1.0, 1.0)\n",
            "Expecting:\n",
            "    (1.0, 0.0, 1.0)\n",
            "ok\n"
          ],
          "name": "stdout"
        }
      ]
    },
    {
      "cell_type": "markdown",
      "metadata": {
        "id": "s8GjdPAzaXaB"
      },
      "source": [
        "Now let us try to simulate motion along a straight line and circle\n",
        "\n",
        "Look at the kinematics equations you wrote - what should $v,\\omega$ if\n",
        "+ There is no change in $\\theta$\n",
        "+ $\\theta$ has to change from 0 to 360 degrees"
      ]
    },
    {
      "cell_type": "code",
      "metadata": {
        "id": "kw4FNeEraXaB"
      },
      "source": [
        "#straight line\n",
        "straight_trajectory = []\n",
        "pose = (0, 0, np.pi/2)\n",
        "steps = 10\n",
        "#fill in v and omega values\n",
        "v = np.ones(steps)\n",
        "w = np.zeros(steps)\n",
        "for i in range(steps):\n",
        "   #instruction to take v, w and compute new pose    \n",
        "    straight_trajectory.append(pose) \n",
        "    pose = unicycle_model(pose,v[i],w[i])\n",
        "   # store new pose\n",
        "straight_trajectory = np.array(straight_trajectory)  "
      ],
      "execution_count": 6,
      "outputs": []
    },
    {
      "cell_type": "code",
      "metadata": {
        "id": "CpZtrXhuaXaC"
      },
      "source": [
        "#circle\n",
        "circle_trajectory = []\n",
        "pose = (0, 0, np.pi/2)\n",
        "steps = 10\n",
        "#fill in v and omega values\n",
        "all_v = np.ones(steps*100)\n",
        "all_w = np.ones(steps*100)\n",
        "for v,w in zip(all_v, all_w):\n",
        "    #instruction to take v, w and compute new pose  \n",
        "    circle_trajectory.append(pose) \n",
        "    pose = unicycle_model(pose,v,w, 0.1)\n",
        "   # store new pose\n",
        "circular_trajectory = np.array(circle_trajectory)  \n"
      ],
      "execution_count": 7,
      "outputs": []
    },
    {
      "cell_type": "code",
      "metadata": {
        "id": "7fReVrE1aXaC",
        "colab": {
          "base_uri": "https://localhost:8080/",
          "height": 530
        },
        "outputId": "44994739-28f6-45c6-becc-09820d9e03ec"
      },
      "source": [
        "### Plot straight and circular trajectories\n",
        "plt.figure()\n",
        "plt.axes().set_aspect(\"equal\",\"datalim\")\n",
        "plt.plot(straight_trajectory[:,0], straight_trajectory[:,1])\n",
        "\n",
        "plt.figure()\n",
        "plt.axes().set_aspect(\"equal\",\"datalim\")\n",
        "plt.plot(circular_trajectory[:,0], circular_trajectory[:,1])"
      ],
      "execution_count": 8,
      "outputs": [
        {
          "output_type": "execute_result",
          "data": {
            "text/plain": [
              "[<matplotlib.lines.Line2D at 0x7f4a8c377110>]"
            ]
          },
          "metadata": {
            "tags": []
          },
          "execution_count": 8
        },
        {
          "output_type": "display_data",
          "data": {
            "image/png": "[encoded data removed]",
            "text/plain": [
              "<Figure size 432x288 with 1 Axes>"
            ]
          },
          "metadata": {
            "tags": [],
            "needs_background": "light"
          }
        },
        {
          "output_type": "display_data",
          "data": {
            "image/png": "[encoded data removed]",
            "text/plain": [
              "<Figure size 432x288 with 1 Axes>"
            ]
          },
          "metadata": {
            "tags": [],
            "needs_background": "light"
          }
        }
      ]
    },
    {
      "cell_type": "markdown",
      "metadata": {
        "id": "XNyKOhAFaXaC"
      },
      "source": [
        "### Simulate Unicycle model with Open Loop control\n",
        "\n",
        "We want the robot to follow these instructions\n",
        "\n",
        "**straight 10m, right turn, straight 5m, left turn, straight 8m, right turn**\n",
        "\n",
        "It is in open loop; control commands have to be calculated upfront. How do we do it?\n",
        "\n",
        "To keep things simple in the first iteration, we can fix $v = v_c$ and change only $\\omega$. To make it even simpler, $\\omega$ can take only 2 values \n",
        "+ 0 when the vehicle is going straight \n",
        "+ $\\omega = \\omega_c$ when turning\n",
        "\n",
        "This leaves only 2 questions to be answered\n",
        "* What should be $v_c$ and $\\omega_c$?\n",
        "* When should $\\omega$ change from 0 and back?"
      ]
    },
    {
      "cell_type": "code",
      "metadata": {
        "id": "A4Mz1hBFaXaD",
        "colab": {
          "base_uri": "https://localhost:8080/"
        },
        "outputId": "9ef40066-4197-44a5-c0a0-359433f2eabb"
      },
      "source": [
        "v_c = 1 # m/s\n",
        "w_c = np.pi/6 # rad/s (3 seconds)\n",
        "\n",
        "#calculate time taken to finish a quarter turn (pi/2)\n",
        "t_turn = int(np.pi/2/w_c)\n",
        "\n",
        "#calculate the time taken to finish straight segments\n",
        "# omega array is to be padded with equivalent zeros\n",
        "\n",
        "t_straight1, t_straight2, t_straight3 = 10, 5, 8\n",
        "\n",
        "all_w = [0]*t_straight1 + [w_c]*t_turn + [0]*t_straight2 + [w_c]*t_turn + [0]*t_straight3 + [-w_c]*t_turn\n",
        "all_v = v_c*np.ones_like(all_w)\n",
        "print(all_w)\n",
        "print(all_v)"
      ],
      "execution_count": 9,
      "outputs": [
        {
          "output_type": "stream",
          "text": [
            "[0, 0, 0, 0, 0, 0, 0, 0, 0, 0, 0.5235987755982988, 0.5235987755982988, 0.5235987755982988, 0, 0, 0, 0, 0, 0.5235987755982988, 0.5235987755982988, 0.5235987755982988, 0, 0, 0, 0, 0, 0, 0, 0, -0.5235987755982988, -0.5235987755982988, -0.5235987755982988]\n",
            "[1. 1. 1. 1. 1. 1. 1. 1. 1. 1. 1. 1. 1. 1. 1. 1. 1. 1. 1. 1. 1. 1. 1. 1.\n",
            " 1. 1. 1. 1. 1. 1. 1. 1.]\n"
          ],
          "name": "stdout"
        }
      ]
    },
    {
      "cell_type": "markdown",
      "metadata": {
        "id": "BSMC_j-BaXaD"
      },
      "source": [
        "Let us make a cool function out of this!\n",
        "\n",
        "Take in as input a generic route and convert it into open-loop commands\n",
        "\n",
        "Input format: [(\"straight\", 5), (\"right\", 90), (\"straight\", 6), (\"left\", 85)]\n",
        "\n",
        "Output: all_v, all_w"
      ]
    },
    {
      "cell_type": "code",
      "metadata": {
        "id": "U5zTjDNnaXaD"
      },
      "source": [
        "def get_open_loop_commands(route, vc=1, wc=np.pi/12):\n",
        "    all_w = []\n",
        "    for dir, command in route: \n",
        "      if dir == 'straight':\n",
        "        t_straight = int(command/vc)\n",
        "        all_w += [0]*t_straight\n",
        "      elif dir == 'right':\n",
        "        all_w += [-wc]*int(np.deg2rad(command)/wc)\n",
        "      else:\n",
        "        all_w += [wc]*int(np.deg2rad(command)/wc)\n",
        "    all_v = vc*np.ones_like(all_w)\n",
        "    print(len(all_v))\n",
        "    print(len(all_w))\n",
        "    return all_v, all_w"
      ],
      "execution_count": 29,
      "outputs": []
    },
    {
      "cell_type": "markdown",
      "metadata": {
        "id": "y_p9ENFEaXaE"
      },
      "source": [
        "### Unit test your function with the following inputs\n",
        "\n",
        "+ [(\"straight\", 5), (\"right\", 90), (\"straight\", 6), (\"left\", 85)]\n",
        "+ $v_c = 1$\n",
        "+ $w_c = \\pi/12$"
      ]
    },
    {
      "cell_type": "code",
      "metadata": {
        "id": "asLfEv1paXaE",
        "colab": {
          "base_uri": "https://localhost:8080/"
        },
        "outputId": "c58dd43c-0098-4d78-9700-83b5741c4f43"
      },
      "source": [
        "v, w = get_open_loop_commands([(\"straight\", 5), (\"right\", 90), (\"straight\", 6), (\"left\", 85)])"
      ],
      "execution_count": 30,
      "outputs": [
        {
          "output_type": "stream",
          "text": [
            "22\n",
            "22\n"
          ],
          "name": "stdout"
        }
      ]
    },
    {
      "cell_type": "code",
      "metadata": {
        "id": "ZyZxmFc9aXaE",
        "colab": {
          "base_uri": "https://localhost:8080/"
        },
        "outputId": "fc119fad-df85-4edd-d0d6-fbfaa07d7a9e"
      },
      "source": [
        "robot_trajectory = []\n",
        "all_v, all_w = get_open_loop_commands([(\"straight\", 5), (\"right\", 90), (\"straight\", 6), (\"left\", 85)])\n",
        "pose = np.array([0, 0, np.pi/2])\n",
        "for v, w in zip(all_v, all_w):\n",
        "    #instruction to take v, w and compute new pose    \n",
        "    robot_trajectory.append(pose) \n",
        "    pose = unicycle_model(pose,v,w)\n",
        "   # store new pose\n",
        "print(robot_trajectory)\n",
        "print(len(robot_trajectory))\n",
        "robot_trajectory = np.array(robot_trajectory)  \n",
        "   # store new pose"
      ],
      "execution_count": 12,
      "outputs": [
        {
          "output_type": "stream",
          "text": [
            "22\n",
            "22\n",
            "[array([0.        , 0.        , 1.57079633]), (6.123233995736766e-17, 1.0, 1.5707963267948966), (1.2246467991473532e-16, 2.0, 1.5707963267948966), (1.8369701987210297e-16, 3.0, 1.5707963267948966), (2.4492935982947064e-16, 4.0, 1.5707963267948966), (3.061616997868383e-16, 5.0, 1.5707963267948966), (3.67394039744206e-16, 6.0, 1.3089969389957472), (0.25881904510252113, 6.965925826289069, 1.0471975511965979), (0.758819045102521, 7.831951230073507, 0.7853981633974485), (1.4659258262890682, 8.539058011260055, 0.5235987755982991), (2.3319512300735066, 9.039058011260055, 0.26179938779914974), (3.2978770563625748, 9.297877056362577, 3.3306690738754696e-16), (4.297877056362575, 9.297877056362577, 3.3306690738754696e-16), (5.297877056362575, 9.297877056362577, 3.3306690738754696e-16), (6.297877056362575, 9.297877056362577, 3.3306690738754696e-16), (7.297877056362575, 9.297877056362577, 3.3306690738754696e-16), (8.297877056362575, 9.297877056362577, 3.3306690738754696e-16), (9.297877056362575, 9.297877056362577, 3.3306690738754696e-16), (10.297877056362575, 9.297877056362577, 0.26179938779914974), (11.263802882651643, 9.556696101465098, 0.5235987755982991), (12.129828286436082, 10.056696101465098, 0.7853981633974485), (12.83693506762263, 10.763802882651646, 1.0471975511965979)]\n",
            "22\n"
          ],
          "name": "stdout"
        }
      ]
    },
    {
      "cell_type": "code",
      "metadata": {
        "id": "Oa3o46jQaXaE",
        "colab": {
          "base_uri": "https://localhost:8080/",
          "height": 337
        },
        "outputId": "3b745e20-ca8c-4bec-e501-064d0751bfdf"
      },
      "source": [
        "# plot robot trajectory\n",
        "plt.figure()\n",
        "plt.grid()\n",
        "xi, yi, _ = robot_trajectory[0]\n",
        "xf, yf, _ = robot_trajectory[-1]\n",
        "plt.axes().set_aspect(\"equal\",\"datalim\")\n",
        "plt.plot(robot_trajectory[:,0], robot_trajectory[:,1],'black')\n",
        "\n",
        "#show first and last robot positions with + markers\n",
        "plt.plot(xi, yi, 'r+', ms=10)\n",
        "plt.plot(xf, yf, 'r+', ms=10)\n"
      ],
      "execution_count": 13,
      "outputs": [
        {
          "output_type": "stream",
          "text": [
            "/usr/local/lib/python3.7/dist-packages/ipykernel_launcher.py:6: MatplotlibDeprecationWarning: Adding an axes using the same arguments as a previous axes currently reuses the earlier instance.  In a future version, a new instance will always be created and returned.  Meanwhile, this warning can be suppressed, and the future behavior ensured, by passing a unique label to each axes instance.\n",
            "  \n"
          ],
          "name": "stderr"
        },
        {
          "output_type": "execute_result",
          "data": {
            "text/plain": [
              "[<matplotlib.lines.Line2D at 0x7f4a8bdd26d0>]"
            ]
          },
          "metadata": {
            "tags": []
          },
          "execution_count": 13
        },
        {
          "output_type": "display_data",
          "data": {
            "image/png": "[encoded data removed]",
            "text/plain": [
              "<Figure size 432x288 with 1 Axes>"
            ]
          },
          "metadata": {
            "tags": [],
            "needs_background": "light"
          }
        }
      ]
    },
    {
      "cell_type": "markdown",
      "metadata": {
        "id": "2MoU6JvRaXaF"
      },
      "source": [
        "### Improved capabilities!\n",
        "\n",
        "+ Slow the robot while turning ($v_c$ for turn and straight needed)\n",
        "\n",
        "+ How to accommodate a sampling time < 1.0s (hint: think of sampling instances instead of time)"
      ]
    },
    {
      "cell_type": "code",
      "metadata": {
        "id": "07NrjEBr0YEr"
      },
      "source": [
        "def get_open_loop_commands_turn(route, vc_s=1, vc_t = 0.5, wc=np.pi/12):\n",
        "    all_w = []\n",
        "    all_v = []\n",
        "    for dir, command in route: \n",
        "      if dir == 'straight':\n",
        "        t_straight = int(command/vc_s)\n",
        "        all_w += [0]*t_straight\n",
        "        all_v += [vc_s]*t_straight\n",
        "      elif dir == 'right':\n",
        "        all_w += [-wc]*int(np.deg2rad(command)/wc)\n",
        "        all_v += [vc_t]*int(np.deg2rad(command)/wc)\n",
        "      else:\n",
        "        all_w += [wc]*int(np.deg2rad(command)/wc)\n",
        "        all_v += [vc_t]*int(np.deg2rad(command)/wc)\n",
        "    print(len(all_v))\n",
        "    print(len(all_w))\n",
        "    return all_v, all_w"
      ],
      "execution_count": 55,
      "outputs": []
    },
    {
      "cell_type": "code",
      "metadata": {
        "colab": {
          "base_uri": "https://localhost:8080/"
        },
        "id": "tHHKs3-k1IgF",
        "outputId": "e6fb9cef-7b08-4d65-fc5f-e77e116cb328"
      },
      "source": [
        "robot_trajectory = []\n",
        "all_v, all_w = get_open_loop_commands_turn([(\"straight\", 5), (\"right\", 90), (\"straight\", 6), (\"left\", 85)],vc_s=1, vc_t = 0.5, wc=np.pi/12)\n",
        "pose = np.array([0, 0, np.pi/2])\n",
        "for v, w in zip(all_v, all_w):\n",
        "    #instruction to take v, w and compute new pose    \n",
        "    robot_trajectory.append(pose) \n",
        "    pose = unicycle_model(pose,v,w,1)\n",
        "   # store new pose\n",
        "print(robot_trajectory)\n",
        "print(len(robot_trajectory))\n",
        "robot_trajectory = np.array(robot_trajectory)  \n",
        "   # store new pose"
      ],
      "execution_count": 60,
      "outputs": [
        {
          "output_type": "stream",
          "text": [
            "22\n",
            "22\n",
            "[array([0.        , 0.        , 1.57079633]), (6.123233995736766e-17, 1.0, 1.5707963267948966), (1.2246467991473532e-16, 2.0, 1.5707963267948966), (1.8369701987210297e-16, 3.0, 1.5707963267948966), (2.4492935982947064e-16, 4.0, 1.5707963267948966), (3.061616997868383e-16, 5.0, 1.5707963267948966), (3.3677786976552215e-16, 5.5, 1.3089969389957472), (0.1294095225512607, 5.982962913144534, 1.0471975511965979), (0.37940952255126065, 6.4159756150367535, 0.7853981633974485), (0.7329629131445343, 6.7695290056300275, 0.5235987755982991), (1.1659756150367535, 7.0195290056300275, 0.26179938779914974), (1.6489385281812876, 7.148938528181288, 3.3306690738754696e-16), (2.6489385281812874, 7.148938528181288, 3.3306690738754696e-16), (3.6489385281812874, 7.148938528181288, 3.3306690738754696e-16), (4.648938528181287, 7.148938528181288, 3.3306690738754696e-16), (5.648938528181287, 7.148938528181288, 3.3306690738754696e-16), (6.648938528181287, 7.148938528181288, 3.3306690738754696e-16), (7.648938528181287, 7.148938528181288, 3.3306690738754696e-16), (8.148938528181287, 7.148938528181288, 0.26179938779914974), (8.631901441325821, 7.278348050732549, 0.5235987755982991), (9.06491414321804, 7.528348050732549, 0.7853981633974485), (9.418467533811313, 7.881901441325823, 1.0471975511965979)]\n",
            "22\n"
          ],
          "name": "stdout"
        }
      ]
    },
    {
      "cell_type": "code",
      "metadata": {
        "colab": {
          "base_uri": "https://localhost:8080/",
          "height": 282
        },
        "id": "duMFAM5AFt3W",
        "outputId": "df02a1e7-a53a-49b8-f2f2-9034be3a970b"
      },
      "source": [
        "# plot robot trajectory\n",
        "# For a sampling time of 0.1\n",
        "plt.figure()\n",
        "plt.grid()\n",
        "xi, yi, _ = robot_trajectory[0]\n",
        "xf, yf, _ = robot_trajectory[-1]\n",
        "#plt.axes().set_aspect(\"equal\",\"datalim\")\n",
        "plt.plot(robot_trajectory[:,0], robot_trajectory[:,1],'black')\n",
        "\n",
        "#show first and last robot positions with + markers\n",
        "plt.plot(xi, yi, 'r+', ms=10)\n",
        "plt.plot(xf, yf, 'r+', ms=10)"
      ],
      "execution_count": 59,
      "outputs": [
        {
          "output_type": "execute_result",
          "data": {
            "text/plain": [
              "[<matplotlib.lines.Line2D at 0x7f4a879afe90>]"
            ]
          },
          "metadata": {
            "tags": []
          },
          "execution_count": 59
        },
        {
          "output_type": "display_data",
          "data": {
            "image/png": "[encoded data removed]",
            "text/plain": [
              "<Figure size 432x288 with 1 Axes>"
            ]
          },
          "metadata": {
            "tags": [],
            "needs_background": "light"
          }
        }
      ]
    },
    {
      "cell_type": "code",
      "metadata": {
        "colab": {
          "base_uri": "https://localhost:8080/",
          "height": 282
        },
        "id": "SEC0UQT-Gvqn",
        "outputId": "e3e9c6e8-9900-4435-b863-4cb6a23ea38c"
      },
      "source": [
        "# plot robot trajectory\n",
        "# For a sampling time of 1s\n",
        "plt.figure()\n",
        "plt.grid()\n",
        "xi, yi, _ = robot_trajectory[0]\n",
        "xf, yf, _ = robot_trajectory[-1]\n",
        "#plt.axes().set_aspect(\"equal\",\"datalim\")\n",
        "plt.plot(robot_trajectory[:,0], robot_trajectory[:,1],'black')\n",
        "\n",
        "#show first and last robot positions with + markers\n",
        "plt.plot(xi, yi, 'r+', ms=10)\n",
        "plt.plot(xf, yf, 'r+', ms=10)"
      ],
      "execution_count": 61,
      "outputs": [
        {
          "output_type": "execute_result",
          "data": {
            "text/plain": [
              "[<matplotlib.lines.Line2D at 0x7f4a87945150>]"
            ]
          },
          "metadata": {
            "tags": []
          },
          "execution_count": 61
        },
        {
          "output_type": "display_data",
          "data": {
            "image/png": "[encoded data removed]",
            "text/plain": [
              "<Figure size 432x288 with 1 Axes>"
            ]
          },
          "metadata": {
            "tags": [],
            "needs_background": "light"
          }
        }
      ]
    }
  ]
}