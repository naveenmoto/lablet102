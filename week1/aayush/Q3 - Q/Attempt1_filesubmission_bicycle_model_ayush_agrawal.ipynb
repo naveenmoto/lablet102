{
  "nbformat": 4,
  "nbformat_minor": 0,
  "metadata": {
    "kernelspec": {
      "display_name": "Python 3",
      "language": "python",
      "name": "python3"
    },
    "language_info": {
      "codemirror_mode": {
        "name": "ipython",
        "version": 3
      },
      "file_extension": ".py",
      "mimetype": "text/x-python",
      "name": "python",
      "nbconvert_exporter": "python",
      "pygments_lexer": "ipython3",
      "version": "3.9.1"
    },
    "varInspector": {
      "cols": {
        "lenName": 16,
        "lenType": 16,
        "lenVar": 40
      },
      "kernels_config": {
        "python": {
          "delete_cmd_postfix": "",
          "delete_cmd_prefix": "del ",
          "library": "var_list.py",
          "varRefreshCmd": "print(var_dic_list())"
        },
        "r": {
          "delete_cmd_postfix": ") ",
          "delete_cmd_prefix": "rm(",
          "library": "var_list.r",
          "varRefreshCmd": "cat(var_dic_list()) "
        }
      },
      "position": {
        "height": "144px",
        "left": "1090px",
        "right": "20px",
        "top": "13px",
        "width": "350px"
      },
      "types_to_exclude": [
        "module",
        "function",
        "builtin_function_or_method",
        "instance",
        "_Feature"
      ],
      "window_display": true
    },
    "colab": {
      "name": "bicycle_model (1).ipynb",
      "provenance": [],
      "collapsed_sections": []
    }
  },
  "cells": [
    {
      "cell_type": "code",
      "metadata": {
        "id": "gpGPl3rxD5bt"
      },
      "source": [
        "import pandas as pd\n",
        "import numpy as np\n",
        "import matplotlib.pyplot as plt\n",
        "%matplotlib notebook\n",
        "%matplotlib inline\n",
        "import doctest\n",
        "import copy"
      ],
      "execution_count": 1,
      "outputs": []
    },
    {
      "cell_type": "code",
      "metadata": {
        "id": "Cy-IHdN_D5bv"
      },
      "source": [
        "#https://stackoverflow.com/questions/40137950/possible-to-run-python-doctest-on-a-jupyter-cell-function\n",
        "def test(func):\n",
        "    '''\n",
        "    Use test as a decorator to a function with doctests in Jupyter notebook. \n",
        "    Run the cell to see the results of the doctests.\n",
        "    '''\n",
        "    globs = copy.copy(globals())\n",
        "    globs.update({func.__name__:func})\n",
        "    doctest.run_docstring_examples(func, globs, verbose=True, name=func.__name__)\n",
        "    return func"
      ],
      "execution_count": 18,
      "outputs": []
    },
    {
      "cell_type": "markdown",
      "metadata": {
        "id": "wItZX1gwD5bw"
      },
      "source": [
        "### Simulate straight line and circular movements with Bicycle model\n",
        "\n",
        "Robot is at the origin (0, 0) and facing North, i.e, $\\theta = \\pi/2$. Assume the wheelbase of the vehicle $L$ = 0.9 m"
      ]
    },
    {
      "cell_type": "code",
      "metadata": {
        "id": "Zeb2OgYeD5bx",
        "colab": {
          "base_uri": "https://localhost:8080/"
        },
        "outputId": "c730956c-8929-44b6-dfea-5c30e84084eb"
      },
      "source": [
        "@test \n",
        "def bicycle_model(curr_pose, v, delta, dt=1, L =1):\n",
        "    '''\n",
        "    >>> bicycle_model((0.0,0.0,0.0), 1.0, 0.0)\n",
        "    (1.0, 0.0, 0.0)\n",
        "    >>> bicycle_model((0.0,0.0,0.0), 0.0, np.pi/4)\n",
        "    (0.0, 0.0, 0.0) \n",
        "    >>> bicycle_model((0.0, 0.0, 0.0), 1.0, np.pi/4)\n",
        "    (1.0, 0.0, 1) \n",
        "    '''\n",
        "    # write code to calculate next_pose\n",
        "    # refer to the kinematic equations of a bicycle model\n",
        "    x, y, theta = curr_pose\n",
        "    x += v*np.cos(theta)*dt\n",
        "    y += v*np.sin(theta)*dt\n",
        "    theta += v*np.tan(delta)*dt/L\n",
        "    \n",
        "    # Keep theta bounded between [-pi, pi]\n",
        "    theta = np.arctan2(np.sin(theta), np.cos(theta))\n",
        "    # return calculated (x, y, theta)\n",
        "    return x, y, theta"
      ],
      "execution_count": 30,
      "outputs": [
        {
          "output_type": "stream",
          "text": [
            "Finding tests in bicycle_model\n",
            "Trying:\n",
            "    bicycle_model((0.0,0.0,0.0), 1.0, 0.0)\n",
            "Expecting:\n",
            "    (1.0, 0.0, 0.0)\n",
            "ok\n",
            "Trying:\n",
            "    bicycle_model((0.0,0.0,0.0), 0.0, np.pi/4)\n",
            "Expecting:\n",
            "    (0.0, 0.0, 0.0) \n",
            "**********************************************************************\n",
            "File \"__main__\", line 6, in bicycle_model\n",
            "Failed example:\n",
            "    bicycle_model((0.0,0.0,0.0), 0.0, np.pi/4)\n",
            "Expected:\n",
            "    (0.0, 0.0, 0.0) \n",
            "Got:\n",
            "    (0.0, 0.0, 0.0)\n",
            "Trying:\n",
            "    bicycle_model((0.0, 0.0, 0.0), 1.0, np.pi/4)\n",
            "Expecting:\n",
            "    (1.0, 0.0, 1) \n",
            "**********************************************************************\n",
            "File \"__main__\", line 8, in bicycle_model\n",
            "Failed example:\n",
            "    bicycle_model((0.0, 0.0, 0.0), 1.0, np.pi/4)\n",
            "Expected:\n",
            "    (1.0, 0.0, 1) \n",
            "Got:\n",
            "    (1.0, 0.0, 0.9999999999999999)\n"
          ],
          "name": "stdout"
        }
      ]
    },
    {
      "cell_type": "code",
      "metadata": {
        "id": "rkAm7KZ5D5by"
      },
      "source": [
        "#straight line\n",
        "straight_trajectory = []\n",
        "pose = (0, 0, np.pi/2)\n",
        "steps = 100\n",
        "#fill in v and delta values\n",
        "all_v = np.ones(steps) \n",
        "all_delta = np.zeros(steps)\n",
        "for v, delta in zip(all_v, all_delta):\n",
        "   #instruction to take v, delta and compute new pose\n",
        "   straight_trajectory.append(pose)    \n",
        "   pose = bicycle_model(pose,v,delta)\n",
        "\n",
        "   # store new pose\n",
        "straight_trajectory = np.array(straight_trajectory)\n",
        "    "
      ],
      "execution_count": 4,
      "outputs": []
    },
    {
      "cell_type": "code",
      "metadata": {
        "id": "9fNbts6TD5bz"
      },
      "source": [
        "#circle\n",
        "circle_trajectory = []\n",
        "pose = (0, 0, np.pi/2)\n",
        "steps = 100  #decreasing dt to 0.1 and increasing steps to 100 for better circular trajectory\n",
        "#fill in v and delta values\n",
        "all_v = np.ones(steps) \n",
        "all_delta = np.pi/4*np.ones(steps) \n",
        "for v, delta in zip(all_v, all_delta):\n",
        "    #instruction to take v, delta and compute new pose\n",
        "    circle_trajectory.append(pose)\n",
        "    pose = bicycle_model(pose, v, delta)\n",
        "   # store new pose\n",
        "circle_trajectory = np.array(circle_trajectory)\n"
      ],
      "execution_count": 8,
      "outputs": []
    },
    {
      "cell_type": "code",
      "metadata": {
        "id": "RS90vnzYD5b0",
        "colab": {
          "base_uri": "https://localhost:8080/",
          "height": 530
        },
        "outputId": "f8ff0cdc-507c-4aa1-b1e8-d0029ed6cb50"
      },
      "source": [
        "### Plot straight and circular trajectories\n",
        "plt.figure()\n",
        "plt.axes().set_aspect(\"equal\",\"datalim\")\n",
        "plt.plot(straight_trajectory[:,0], straight_trajectory[:,1])\n",
        "\n",
        "plt.figure()\n",
        "plt.axes().set_aspect(\"equal\",\"datalim\")\n",
        "plt.plot(circle_trajectory[:,0], circle_trajectory[:,1])"
      ],
      "execution_count": 9,
      "outputs": [
        {
          "output_type": "execute_result",
          "data": {
            "text/plain": [
              "[<matplotlib.lines.Line2D at 0x7f0f5ebb6750>]"
            ]
          },
          "metadata": {
            "tags": []
          },
          "execution_count": 9
        },
        {
          "output_type": "display_data",
          "data": {
            "image/png": "[encoded data removed]",
            "text/plain": [
              "<Figure size 432x288 with 1 Axes>"
            ]
          },
          "metadata": {
            "tags": [],
            "needs_background": "light"
          }
        },
        {
          "output_type": "display_data",
          "data": {
            "image/png": "[encoded data removed]",
            "text/plain": [
              "<Figure size 432x288 with 1 Axes>"
            ]
          },
          "metadata": {
            "tags": [],
            "needs_background": "light"
          }
        }
      ]
    },
    {
      "cell_type": "markdown",
      "metadata": {
        "id": "KPMhUJJBD5b1"
      },
      "source": [
        "### Simulate Bicycle model with Open Loop control\n",
        "\n",
        "We want the robot to follow these instructions\n",
        "\n",
        "**straight 10m, right turn, straight 5m, left turn, straight 8m, right turn**\n",
        "\n",
        "It is in open loop; control commands have to be calculated upfront. How do we do it?\n",
        "\n",
        "To keep things simple in the first iteration, we can fix $v = v_c$ and change only $\\delta$. To make it even simpler, $\\delta$ can take only 2 values \n",
        "+ 0 when the vehicle is going straight \n",
        "+ $\\delta = \\delta_c$ when turning\n",
        "\n",
        "This leaves only 2 questions to be answered\n",
        "* What should be $v_c$ and $\\delta_c$?\n",
        "* When should $\\delta$ change from 0 and back?"
      ]
    },
    {
      "cell_type": "code",
      "metadata": {
        "id": "-U-6NqIoD5b2"
      },
      "source": [
        "v_c = 1  # m/s\n",
        "delta_c = np.arctan(np.pi/6) # rad/s\n",
        "L = 1\n",
        "\n",
        "#calculate time taken to finish a quarter turn (pi/2)\n",
        "# unlike you would need to take into account v_c and L of the vehicle as well\n",
        "t_turn = int(np.pi/2/(v_c*np.tan(delta_c)/L)) \n",
        "\n",
        "#calculate the time taken to finish straight segments\n",
        "# omega array is to be padded with equivalent zeros\n",
        "\n",
        "t_straight1, t_straight2, t_straight3 = int(10/v_c), int(5/v_c), int(8/v_c) \n",
        "\n",
        "all_w = [0]*t_straight1 + [-delta_c]*t_turn + \\\n",
        "        [0]*t_straight2 + [delta_c]*t_turn + \\\n",
        "        [0]*t_straight3 + [-delta_c]*t_turn\n",
        "all_v = v_c*np.ones_like(all_delta)"
      ],
      "execution_count": 23,
      "outputs": []
    },
    {
      "cell_type": "markdown",
      "metadata": {
        "id": "lI-eXKo9D5b3"
      },
      "source": [
        "Let us make a cool function out of this!\n",
        "\n",
        "Take in as input a generic route and convert it into open-loop commands\n",
        "\n",
        "Input format: [(\"straight\", 5), (\"right\", 90), (\"straight\", 6), (\"left\", 85)]\n",
        "\n",
        "Output: all_v, all_delta"
      ]
    },
    {
      "cell_type": "code",
      "metadata": {
        "id": "dydnwuPmD5b4"
      },
      "source": [
        "def get_open_loop_commands(route, v_c, delta_c, L = 1):\n",
        "    all_delta = []\n",
        "    deltas = {'straight':0, 'left':delta_c, 'right':-delta_c}\n",
        "    for manoeuvre, command in route:\n",
        "      u = np.ceil(command/v_c).astype('int')\n",
        "      v = np.ceil(np.deg2rad(command)/(v_c*np.tan(delta_c)/L)).astype('int')\n",
        "      t_cmd = u if manoeuvre == 'straight' else v\n",
        "      all_delta += [deltas[manoeuvre]]*t_cmd\n",
        "    all_v = v_c*np.ones_like(all_delta)\n",
        "    return all_v, all_delta"
      ],
      "execution_count": 31,
      "outputs": []
    },
    {
      "cell_type": "markdown",
      "metadata": {
        "id": "wPg13GHQD5b5"
      },
      "source": [
        "### Unit test your function with the following inputs\n",
        "\n",
        "+ [(\"straight\", 5), (\"right\", 90), (\"straight\", 6), (\"left\", 85)]\n",
        "+ $v_c = 1$\n",
        "+ $delta_c = \\pi/12$"
      ]
    },
    {
      "cell_type": "code",
      "metadata": {
        "id": "ga3MspwND5b5"
      },
      "source": [
        "all_v, all_delta = get_open_loop_commands([(\"straight\", 10), (\"right\", 90), (\"straight\", 5), (\"left\", 90), (\"straight\", 8), (\"right\", 90)],1 , np.pi/12)"
      ],
      "execution_count": 33,
      "outputs": []
    },
    {
      "cell_type": "code",
      "metadata": {
        "colab": {
          "base_uri": "https://localhost:8080/"
        },
        "id": "ZwaNF1jh_mqm",
        "outputId": "ddc4d286-c623-4689-a620-112617a64e1a"
      },
      "source": [
        "len(all_delta)"
      ],
      "execution_count": 32,
      "outputs": [
        {
          "output_type": "execute_result",
          "data": {
            "text/plain": [
              "41"
            ]
          },
          "metadata": {
            "tags": []
          },
          "execution_count": 32
        }
      ]
    },
    {
      "cell_type": "code",
      "metadata": {
        "id": "elCuQPcsD5b6"
      },
      "source": [
        "robot_trajectory = []  ## For this problem, use dt = 1 to get the desired path, otherwise increase the steps accordingly \n",
        "pose = np.array([0, 0, np.pi/2])\n",
        "for v, delta in zip(all_v, all_delta):\n",
        "    #instruction to take v, delta and compute new pose\n",
        "    robot_trajectory.append(pose)\n",
        "    pose = bicycle_model(pose, v, delta)    \n",
        "   # store new pose\n",
        "robot_trajectory = np.array(robot_trajectory)"
      ],
      "execution_count": 34,
      "outputs": []
    },
    {
      "cell_type": "code",
      "metadata": {
        "id": "qK5s5Em9D5b6",
        "colab": {
          "base_uri": "https://localhost:8080/",
          "height": 282
        },
        "outputId": "4700caa9-ed0c-42c4-fb14-eab8ecbf3944"
      },
      "source": [
        "# plot robot trajectory\n",
        "plt.figure()\n",
        "plt.grid()\n",
        "#plt.axes().set_aspect(\"equal\",\"datalim\")\n",
        "plt.plot(robot_trajectory[:,0], robot_trajectory[:,1] )\n",
        "\n",
        "#show first and last robot positions with + markers\n",
        "# example: plt.plot(0, 0, 'r+', ms=10)\n",
        "xi, yi, _ = robot_trajectory[0]\n",
        "xf, yf, _ = robot_trajectory[-1]\n",
        "plt.plot(xi, yi, 'r+', ms=10)\n",
        "plt.plot(xf, yf, 'k+', ms=10)"
      ],
      "execution_count": 35,
      "outputs": [
        {
          "output_type": "execute_result",
          "data": {
            "text/plain": [
              "[<matplotlib.lines.Line2D at 0x7f0f5e7dc890>]"
            ]
          },
          "metadata": {
            "tags": []
          },
          "execution_count": 35
        },
        {
          "output_type": "display_data",
          "data": {
            "image/png": "[encoded data removed]",
            "text/plain": [
              "<Figure size 432x288 with 1 Axes>"
            ]
          },
          "metadata": {
            "tags": [],
            "needs_background": "light"
          }
        }
      ]
    },
    {
      "cell_type": "markdown",
      "metadata": {
        "id": "H-ecY7zbD5b7"
      },
      "source": [
        "### Shape the turn\n",
        "Let us try something cooler than before (though a bit tricky in open loop). Instead of boring circular arcs, change the steering angle so that the robot orientation changes as shown in the equation below\n",
        "\n",
        "$\\theta = (\\theta_i - \\theta_f) * (1 - 3x^2 + 2\\theta^3) + \\theta_f  \\thinspace \\vee x \\in [0,1]$\n",
        "\n",
        "First let us plot this"
      ]
    },
    {
      "cell_type": "code",
      "metadata": {
        "id": "DQbmFZmXD5b8"
      },
      "source": [
        "def poly_turn(theta_i, theta_f, n=10):\n",
        "    x = np.linspace(0, 1, num=n)\n",
        "    return (theta_i-theta_f) * (1 - 3 * x * x + 2 * (x**3)) + theta_f"
      ],
      "execution_count": 36,
      "outputs": []
    },
    {
      "cell_type": "markdown",
      "metadata": {
        "id": "58KMj70TD5b9"
      },
      "source": [
        "How does a right turn look? "
      ]
    },
    {
      "cell_type": "code",
      "metadata": {
        "id": "i-ojobp37cs6",
        "colab": {
          "base_uri": "https://localhost:8080/"
        },
        "outputId": "24507bb2-5764-4a80-cc6a-6360c2e85833"
      },
      "source": [
        "theta_dot = np.diff(poly_turn(np.pi/2, 0))\n",
        "print(theta_dot)"
      ],
      "execution_count": 37,
      "outputs": [
        {
          "output_type": "stream",
          "text": [
            "[-0.05386819 -0.14436674 -0.20900856 -0.24779366 -0.26072202 -0.24779366\n",
            " -0.20900856 -0.14436674 -0.05386819]\n"
          ],
          "name": "stdout"
        }
      ]
    },
    {
      "cell_type": "code",
      "metadata": {
        "id": "7INgEBQvD5b9",
        "colab": {
          "base_uri": "https://localhost:8080/",
          "height": 282
        },
        "outputId": "c0aaf562-d1dd-40c9-fc61-ff3a949265c3"
      },
      "source": [
        "plt.figure()\n",
        "plt.plot(poly_turn(np.pi/2, 0),'.')\n",
        "plt.plot(poly_turn(np.pi/2, 0))"
      ],
      "execution_count": 38,
      "outputs": [
        {
          "output_type": "execute_result",
          "data": {
            "text/plain": [
              "[<matplotlib.lines.Line2D at 0x7f0f5e75cbd0>]"
            ]
          },
          "metadata": {
            "tags": []
          },
          "execution_count": 38
        },
        {
          "output_type": "display_data",
          "data": {
            "image/png": "[encoded data removed]",
            "text/plain": [
              "<Figure size 432x288 with 1 Axes>"
            ]
          },
          "metadata": {
            "tags": [],
            "needs_background": "light"
          }
        }
      ]
    },
    {
      "cell_type": "markdown",
      "metadata": {
        "id": "Gk546i4HD5b-"
      },
      "source": [
        "Now plot a left turn (North to East)"
      ]
    },
    {
      "cell_type": "code",
      "metadata": {
        "id": "MIcpSAHhD5b_",
        "colab": {
          "base_uri": "https://localhost:8080/",
          "height": 283
        },
        "outputId": "deb9a467-fa08-4830-b534-8ac75e267ce3"
      },
      "source": [
        "plt.figure() ## In left turn the orientation of the bot will change from pi/2 to pi\n",
        "plt.plot(poly_turn(np.pi/2, np.pi),'.')\n",
        "plt.plot(poly_turn(np.pi/2, np.pi))"
      ],
      "execution_count": null,
      "outputs": [
        {
          "output_type": "execute_result",
          "data": {
            "text/plain": [
              "[<matplotlib.lines.Line2D at 0x7fd4ee725350>]"
            ]
          },
          "metadata": {
            "tags": []
          },
          "execution_count": 11
        },
        {
          "output_type": "display_data",
          "data": {
            "image/png": "[encoded data removed]",
            "text/plain": [
              "<Figure size 432x288 with 1 Axes>"
            ]
          },
          "metadata": {
            "tags": [],
            "needs_background": "light"
          }
        }
      ]
    },
    {
      "cell_type": "markdown",
      "metadata": {
        "id": "rj670M1aD5b_"
      },
      "source": [
        "How does $\\theta$ change when we had constant $\\delta$? Plot it"
      ]
    },
    {
      "cell_type": "code",
      "metadata": {
        "colab": {
          "base_uri": "https://localhost:8080/"
        },
        "id": "TZod1XWB17ep",
        "outputId": "7a36aaee-067e-473c-e0b5-1bcbc3580ad0"
      },
      "source": [
        "v = 1       ## The bicycle_model can also be used to calculate the all_theta arrray\n",
        "L = 1\n",
        "dt = 0.1\n",
        "delta = np.pi/4 #choosing a constant value of delta\n",
        "theta_dot = v/L*np.tan(delta)\n",
        "all_theta = []\n",
        "theta = np.pi/2 \n",
        "for i in range(100):\n",
        "  all_theta.append(theta)\n",
        "  theta += theta_dot*dt\n",
        "  theta = np.arctan2(np.sin(theta), np.cos(theta))\n",
        "\n",
        "print(all_theta)\n",
        "\n",
        "##NOTE = arctan2 has been used to keep the value of theta between -pi to pi\n",
        "##For plotting the theta please run the next code block\n",
        "\n"
      ],
      "execution_count": 40,
      "outputs": [
        {
          "output_type": "stream",
          "text": [
            "[1.5707963267948966, 1.6707963267948966, 1.7707963267948967, 1.8707963267948968, 1.970796326794897, 2.070796326794897, 2.170796326794897, 2.270796326794897, 2.3707963267948973, 2.4707963267948974, 2.5707963267948974, 2.6707963267948975, 2.7707963267948976, 2.8707963267948977, 2.970796326794898, 3.070796326794898, -3.1123889803846887, -3.0123889803846886, -2.9123889803846885, -2.8123889803846884, -2.7123889803846883, -2.6123889803846883, -2.512388980384688, -2.412388980384688, -2.312388980384688, -2.212388980384688, -2.112388980384688, -2.0123889803846877, -1.9123889803846876, -1.8123889803846875, -1.7123889803846875, -1.6123889803846874, -1.5123889803846873, -1.4123889803846872, -1.312388980384687, -1.212388980384687, -1.112388980384687, -1.0123889803846868, -0.9123889803846869, -0.8123889803846869, -0.7123889803846869, -0.6123889803846869, -0.5123889803846869, -0.41238898038468697, -0.31238898038468704, -0.21238898038468706, -0.11238898038468707, -0.012388980384687082, 0.08761101961531291, 0.1876110196153129, 0.2876110196153129, 0.38761101961531286, 0.48761101961531284, 0.5876110196153128, 0.6876110196153128, 0.7876110196153128, 0.8876110196153127, 0.9876110196153127, 1.0876110196153128, 1.187611019615313, 1.287611019615313, 1.387611019615313, 1.4876110196153132, 1.5876110196153133, 1.6876110196153133, 1.7876110196153134, 1.8876110196153135, 1.9876110196153136, 2.0876110196153137, 2.187611019615314, 2.287611019615314, 2.387611019615314, 2.487611019615314, 2.587611019615314, 2.6876110196153142, 2.7876110196153143, 2.8876110196153144, 2.9876110196153145, 3.0876110196153146, -3.095574287564272, -2.995574287564272, -2.895574287564272, -2.7955742875642717, -2.6955742875642716, -2.5955742875642716, -2.4955742875642715, -2.3955742875642714, -2.2955742875642713, -2.195574287564271, -2.095574287564271, -1.995574287564271, -1.895574287564271, -1.7955742875642708, -1.6955742875642708, -1.5955742875642707, -1.4955742875642706, -1.3955742875642705, -1.2955742875642704, -1.1955742875642703, -1.0955742875642702]\n"
          ],
          "name": "stdout"
        }
      ]
    },
    {
      "cell_type": "code",
      "metadata": {
        "id": "ywtHa7z3D5cA",
        "colab": {
          "base_uri": "https://localhost:8080/",
          "height": 282
        },
        "outputId": "1de37bd4-584c-4529-8c02-7bdb6a5a33df"
      },
      "source": [
        "plt.figure()\n",
        "plt.grid()\n",
        "plt.plot(all_theta, '.')\n",
        "plt.plot(all_theta)\n",
        "\n"
      ],
      "execution_count": 41,
      "outputs": [
        {
          "output_type": "execute_result",
          "data": {
            "text/plain": [
              "[<matplotlib.lines.Line2D at 0x7f0f5e692c90>]"
            ]
          },
          "metadata": {
            "tags": []
          },
          "execution_count": 41
        },
        {
          "output_type": "display_data",
          "data": {
            "image/png": "[encoded data removed]",
            "text/plain": [
              "<Figure size 432x288 with 1 Axes>"
            ]
          },
          "metadata": {
            "tags": [],
            "needs_background": "light"
          }
        }
      ]
    },
    {
      "cell_type": "markdown",
      "metadata": {
        "id": "7QGyMtTxD5cA"
      },
      "source": [
        "We know the rate of change of $\\theta$ is proportional to $\\delta$. Can you work out the sequence of $\\delta$ to change $\\theta$ as in the cubic polynomial shown above?"
      ]
    },
    {
      "cell_type": "code",
      "metadata": {
        "id": "UZ590VkxD5cA",
        "colab": {
          "base_uri": "https://localhost:8080/"
        },
        "outputId": "a18ed8af-2f0e-4f3d-989a-c7bd0788bab8"
      },
      "source": [
        "theta_dot = np.diff(poly_turn(np.pi/2, 0)) #Assumption : taking a right turn \n",
        "v= 1; L=1\n",
        "delta = np.arctan(L*theta_dot/v) \n",
        "\n",
        "print(delta)\n"
      ],
      "execution_count": 42,
      "outputs": [
        {
          "output_type": "stream",
          "text": [
            "[-0.05381617 -0.14337615 -0.20604245 -0.24290103 -0.25504425 -0.24290103\n",
            " -0.20604245 -0.14337615 -0.05381617]\n"
          ],
          "name": "stdout"
        }
      ]
    },
    {
      "cell_type": "code",
      "metadata": {
        "colab": {
          "base_uri": "https://localhost:8080/",
          "height": 282
        },
        "id": "UulJ3cGOMYgC",
        "outputId": "fd50e30c-3c41-4b02-af70-e1d941665688"
      },
      "source": [
        "plt.figure()\n",
        "plt.grid()\n",
        "plt.plot(delta, '.')\n",
        "plt.plot(delta)"
      ],
      "execution_count": 43,
      "outputs": [
        {
          "output_type": "execute_result",
          "data": {
            "text/plain": [
              "[<matplotlib.lines.Line2D at 0x7f0f5e7eba50>]"
            ]
          },
          "metadata": {
            "tags": []
          },
          "execution_count": 43
        },
        {
          "output_type": "display_data",
          "data": {
            "image/png": "[encoded data removed]",
            "text/plain": [
              "<Figure size 432x288 with 1 Axes>"
            ]
          },
          "metadata": {
            "tags": [],
            "needs_background": "light"
          }
        }
      ]
    }
  ]
}