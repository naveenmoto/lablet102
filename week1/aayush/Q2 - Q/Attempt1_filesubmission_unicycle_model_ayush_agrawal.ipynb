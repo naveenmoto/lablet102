{
  "nbformat": 4,
  "nbformat_minor": 0,
  "metadata": {
    "kernelspec": {
      "display_name": "Python 3",
      "language": "python",
      "name": "python3"
    },
    "language_info": {
      "codemirror_mode": {
        "name": "ipython",
        "version": 3
      },
      "file_extension": ".py",
      "mimetype": "text/x-python",
      "name": "python",
      "nbconvert_exporter": "python",
      "pygments_lexer": "ipython3",
      "version": "3.9.1"
    },
    "varInspector": {
      "cols": {
        "lenName": 16,
        "lenType": 16,
        "lenVar": 40
      },
      "kernels_config": {
        "python": {
          "delete_cmd_postfix": "",
          "delete_cmd_prefix": "del ",
          "library": "var_list.py",
          "varRefreshCmd": "print(var_dic_list())"
        },
        "r": {
          "delete_cmd_postfix": ") ",
          "delete_cmd_prefix": "rm(",
          "library": "var_list.r",
          "varRefreshCmd": "cat(var_dic_list()) "
        }
      },
      "position": {
        "height": "144px",
        "left": "1090px",
        "right": "20px",
        "top": "13px",
        "width": "350px"
      },
      "types_to_exclude": [
        "module",
        "function",
        "builtin_function_or_method",
        "instance",
        "_Feature"
      ],
      "window_display": true
    },
    "colab": {
      "name": "unicycle_model (1).ipynb",
      "provenance": [],
      "collapsed_sections": []
    }
  },
  "cells": [
    {
      "cell_type": "code",
      "metadata": {
        "id": "FD_1ocPFatH5"
      },
      "source": [
        "import pandas as pd \n",
        "import numpy as np \n",
        "import matplotlib.pyplot as plt\n",
        "%matplotlib notebook\n",
        "%matplotlib inline\n",
        "import doctest\n",
        "import copy"
      ],
      "execution_count": 99,
      "outputs": []
    },
    {
      "cell_type": "code",
      "metadata": {
        "id": "ELgI0RYvatH9"
      },
      "source": [
        "#https://stackoverflow.com/questions/40137950/possible-to-run-python-doctest-on-a-jupyter-cell-function\n",
        "def test(func):\n",
        "    '''\n",
        "    Use test as a decorator to a function with doctests in Jupyter notebook. \n",
        "    Run the cell to see the results of the doctests.\n",
        "    '''\n",
        "    globs = copy.copy(globals())\n",
        "    globs.update({func.__name__:func})\n",
        "    doctest.run_docstring_examples(func, globs, verbose=True, name=func.__name__)\n",
        "    return func"
      ],
      "execution_count": 100,
      "outputs": []
    },
    {
      "cell_type": "markdown",
      "metadata": {
        "id": "71M5gGL0atH9"
      },
      "source": [
        "### Simulate straight line and circular movements with Unicycle model\n",
        "\n",
        "Robot is at the origin (0, 0) and facing North, i.e, $\\theta = \\pi/2$\n",
        "\n",
        "Use the Kinematics equations we had developed in class for the Unicycle model"
      ]
    },
    {
      "cell_type": "code",
      "metadata": {
        "colab": {
          "base_uri": "https://localhost:8080/"
        },
        "id": "IM5eiGOcatH-",
        "outputId": "4efadd39-1ce7-41b1-ec7d-1eab71fed7d3"
      },
      "source": [
        "#uncomment this decorator to test your code\n",
        "@test \n",
        "def unicycle_model(curr_pose, v, w, dt=1):\n",
        "    '''\n",
        "    >>> unicycle_model((0.0,0.0,0.0), 1.0, 0.0)\n",
        "    (1.0, 0.0, 0.0)\n",
        "    >>> unicycle_model((0.0,0.0,0.0), 0.0, 1.0)\n",
        "    (0.0, 0.0, 1.0)\n",
        "    >>> unicycle_model((0.0, 0.0, 0.0), 1.0, 1.0)\n",
        "    (1.0, 0.0, 1.0)\n",
        "    '''\n",
        "    ## write code to calculate next_pose\n",
        "    # refer to the kinematic equations of a unicycle model\n",
        "    x, y, theta = curr_pose\n",
        "    x += v*np.cos(theta)*dt\n",
        "    y += v*np.sin(theta)*dt\n",
        "    theta = theta + w*dt; \n",
        "    \n",
        "    # Keep theta bounded between [-pi, pi]\n",
        "    theta = np.arctan2(np.sin(theta), np.cos(theta))\n",
        "    # return calculated (x, y, theta)\n",
        "    return x, y, theta"
      ],
      "execution_count": 110,
      "outputs": [
        {
          "output_type": "stream",
          "text": [
            "Finding tests in unicycle_model\n",
            "Trying:\n",
            "    unicycle_model((0.0,0.0,0.0), 1.0, 0.0)\n",
            "Expecting:\n",
            "    (1.0, 0.0, 0.0)\n",
            "ok\n",
            "Trying:\n",
            "    unicycle_model((0.0,0.0,0.0), 0.0, 1.0)\n",
            "Expecting:\n",
            "    (0.0, 0.0, 1.0)\n",
            "ok\n",
            "Trying:\n",
            "    unicycle_model((0.0, 0.0, 0.0), 1.0, 1.0)\n",
            "Expecting:\n",
            "    (1.0, 0.0, 1.0)\n",
            "ok\n"
          ],
          "name": "stdout"
        }
      ]
    },
    {
      "cell_type": "markdown",
      "metadata": {
        "id": "dH84xDeLatH_"
      },
      "source": [
        "Now let us try to simulate motion along a straight line and circle\n",
        "\n",
        "Look at the kinematics equations you wrote - what should $v,\\omega$ if\n",
        "+ There is no change in $\\theta$\n",
        "+ $\\theta$ has to change from 0 to 360 degrees"
      ]
    },
    {
      "cell_type": "code",
      "metadata": {
        "id": "AdoWsHtOatH_"
      },
      "source": [
        "#straight line\n",
        "straight_trajectory = []\n",
        "pose = (0, 0, np.pi/2)\n",
        "steps = 10\n",
        "#fill in v and omega values\n",
        "all_v = np.ones(steps)\n",
        "all_w = np.zeros(steps)\n",
        "for v, w in zip(all_v,all_w):\n",
        "   straight_trajectory.append(pose)\n",
        "   #instruction to take v, w and compute new pose    \n",
        "   pose = unicycle_model(pose,v,w) \n",
        "   # store new pose\n",
        "\n",
        "straight_trajectory = np.array(straight_trajectory)\n",
        "    "
      ],
      "execution_count": 104,
      "outputs": []
    },
    {
      "cell_type": "code",
      "metadata": {
        "id": "lum_ibNMatIA"
      },
      "source": [
        "#circle (change the value of dt to 0.1 to get smooth circular trajectory)\n",
        "circle_trajectory = []\n",
        "pose = (0, 0, np.pi/2)\n",
        "steps = 100\n",
        "#fill in v and omega values\n",
        "all_v = np.ones(steps) \n",
        "all_w = np.ones(steps)\n",
        "for v,w in zip(all_v,all_w):\n",
        "  circle_trajectory.append(pose)\n",
        "  pose = unicycle_model(pose, v, w)\n",
        "    #instruction to take v, w and compute new pose    \n",
        "\n",
        "   # store new pose\n",
        "circle_trajectory = np.array(circle_trajectory)\n"
      ],
      "execution_count": 108,
      "outputs": []
    },
    {
      "cell_type": "code",
      "metadata": {
        "colab": {
          "base_uri": "https://localhost:8080/",
          "height": 530
        },
        "id": "amZLbh92atIA",
        "outputId": "5ec0bc08-d0e2-41b1-b345-ba8490141ff0"
      },
      "source": [
        "### Plot straight and circular trajectories\n",
        "plt.figure()\n",
        "plt.axes().set_aspect(\"equal\", \"datalim\")\n",
        "plt.plot(straight_trajectory[:,0], straight_trajectory[:,1])\n",
        "\n",
        "### Plot straight and circular trajectories\n",
        "plt.figure()\n",
        "plt.axes().set_aspect(\"equal\", \"datalim\")\n",
        "plt.plot(circle_trajectory[:,0], circle_trajectory[:,1])\n"
      ],
      "execution_count": 111,
      "outputs": [
        {
          "output_type": "execute_result",
          "data": {
            "text/plain": [
              "[<matplotlib.lines.Line2D at 0x7f8833ac0950>]"
            ]
          },
          "metadata": {
            "tags": []
          },
          "execution_count": 111
        },
        {
          "output_type": "display_data",
          "data": {
            "image/png": "[encoded data removed]",
            "text/plain": [
              "<Figure size 432x288 with 1 Axes>"
            ]
          },
          "metadata": {
            "tags": [],
            "needs_background": "light"
          }
        },
        {
          "output_type": "display_data",
          "data": {
            "image/png": "[encoded data removed]",
            "text/plain": [
              "<Figure size 432x288 with 1 Axes>"
            ]
          },
          "metadata": {
            "tags": [],
            "needs_background": "light"
          }
        }
      ]
    },
    {
      "cell_type": "markdown",
      "metadata": {
        "id": "Kc1mSWCTatIA"
      },
      "source": [
        "### Simulate Unicycle model with Open Loop control\n",
        "\n",
        "We want the robot to follow these instructions\n",
        "\n",
        "**straight 10m, right turn, straight 5m, left turn, straight 8m, right turn**\n",
        "\n",
        "It is in open loop; control commands have to be calculated upfront. How do we do it?\n",
        "\n",
        "To keep things simple in the first iteration, we can fix $v = v_c$ and change only $\\omega$. To make it even simpler, $\\omega$ can take only 2 values \n",
        "+ 0 when the vehicle is going straight \n",
        "+ $\\omega = \\omega_c$ when turning\n",
        "\n",
        "This leaves only 2 questions to be answered\n",
        "* What should be $v_c$ and $\\omega_c$?\n",
        "* When should $\\omega$ change from 0 and back?"
      ]
    },
    {
      "cell_type": "code",
      "metadata": {
        "id": "T-ZI_Fk_atIB"
      },
      "source": [
        "v_c = 1 # m/s\n",
        "w_c = np.pi/6 # rad/s\n",
        "\n",
        "#calculate time taken to finish a quarter turn (pi/2)\n",
        "t_turn = int(np.pi/2/w_c)\n",
        "\n",
        "#calculate the time taken to finish straight segments\n",
        "# omega array is to be padded with equivalent zeros\n",
        "\n",
        "t_straight1, t_straight2, t_straight3 = int(10/v_c), int(5/v_c), int(8/v_c) \n",
        "\n",
        "all_w = [0]*t_straight1 + [w_c]*t_turn + \\\n",
        "        [0]*t_straight2 + [w_c]*t_turn + \\\n",
        "        [0]*t_straight3 + [-w_c]*t_turn\n",
        "all_v = v_c*np.ones_like(all_w)"
      ],
      "execution_count": 112,
      "outputs": []
    },
    {
      "cell_type": "markdown",
      "metadata": {
        "id": "AxIUh-gNatIB"
      },
      "source": [
        "Let us make a cool function out of this!\n",
        "\n",
        "Take in as input a generic route and convert it into open-loop commands\n",
        "\n",
        "Input format: [(\"straight\", 5), (\"right\", 90), (\"straight\", 6), (\"left\", 85)]\n",
        "\n",
        "Output: all_v, all_w"
      ]
    },
    {
      "cell_type": "code",
      "metadata": {
        "id": "1Cz61sNjatIC"
      },
      "source": [
        "def get_open_loop_commands(route, vc , wc): \n",
        "    all_w = []\n",
        "    omegas = {'straight':0, 'left':wc, 'right': -wc}\n",
        "    t_turn = int(np.pi/4/wc)\n",
        "    for manoeuvre, command in route:\n",
        "      u = np.ceil(command/vc).astype('int')\n",
        "      v = np.ceil(np.deg2rad(command/wc)).astype('int')\n",
        "      t_cmd = u if manoeuvre == 'straight' else v\n",
        "      all_w += [omegas[manoeuvre]]*t_cmd\n",
        "    all_v = vc*np.ones_like(all_w)\n",
        "    return all_v, all_w"
      ],
      "execution_count": 113,
      "outputs": []
    },
    {
      "cell_type": "markdown",
      "metadata": {
        "id": "Pj4o2EgWatIC"
      },
      "source": [
        "### Unit test your function with the following inputs\n",
        "\n",
        "+ [(\"straight\", 5), (\"right\", 90), (\"straight\", 6), (\"left\", 85)]\n",
        "+ $v_c = 1$\n",
        "+ $w_c = \\pi/12$"
      ]
    },
    {
      "cell_type": "code",
      "metadata": {
        "id": "HM_7SCruatIC"
      },
      "source": [
        "all_v, all_w = get_open_loop_commands([(\"straight\", 10), (\"right\", 90), (\"straight\", 5), (\"left\", 90), (\"straight\", 8), (\"right\", 90)], 1, np.pi/12)"
      ],
      "execution_count": 114,
      "outputs": []
    },
    {
      "cell_type": "code",
      "metadata": {
        "colab": {
          "base_uri": "https://localhost:8080/"
        },
        "id": "yazY6WjWx0jk",
        "outputId": "f7783101-ab2e-45cf-f499-521005594a99"
      },
      "source": [
        "print(all_v)"
      ],
      "execution_count": 115,
      "outputs": [
        {
          "output_type": "stream",
          "text": [
            "[1. 1. 1. 1. 1. 1. 1. 1. 1. 1. 1. 1. 1. 1. 1. 1. 1. 1. 1. 1. 1. 1. 1. 1.\n",
            " 1. 1. 1. 1. 1. 1. 1. 1. 1. 1. 1. 1. 1. 1. 1. 1. 1.]\n"
          ],
          "name": "stdout"
        }
      ]
    },
    {
      "cell_type": "code",
      "metadata": {
        "id": "eghdw6JQatID"
      },
      "source": [
        "robot_trajectory = []\n",
        "pose = np.array([0, 0, np.pi/2])\n",
        "for v, w in zip(all_v, all_w):\n",
        "    #instruction to take v, w and compute new pose\n",
        "    robot_trajectory.append(pose)\n",
        "    pose = unicycle_model(pose,v,w)\n",
        "\n",
        "robot_trajectory = np.array(robot_trajectory)\n",
        "   # store new pose"
      ],
      "execution_count": 116,
      "outputs": []
    },
    {
      "cell_type": "code",
      "metadata": {
        "colab": {
          "base_uri": "https://localhost:8080/",
          "height": 335
        },
        "id": "crt5UpFNatID",
        "outputId": "b9c89850-e4d5-4141-85cc-d5eeff7df74a"
      },
      "source": [
        "# plot robot trajectory\n",
        "plt.figure()\n",
        "plt.grid()\n",
        "plt.axes().set_aspect(\"equal\",\"datalim\") # this command was added intentionally to observe trajectory on graph with axes of equal length\n",
        "plt.plot(robot_trajectory[:,0], robot_trajectory[:,1])\n",
        "\n",
        "#show first and last robot positions with + markers\n",
        "# example: plt.plot(0, 0, 'r+', ms=10)\n",
        "xi, yi, _ = robot_trajectory[0]\n",
        "xf, yf, _ = robot_trajectory[-1]\n",
        "plt.plot(xi, yi,'r+', ms = 10)\n",
        "plt.plot(xf, yf,'k+', ms = 10)"
      ],
      "execution_count": 117,
      "outputs": [
        {
          "output_type": "stream",
          "text": [
            "/usr/local/lib/python3.7/dist-packages/ipykernel_launcher.py:4: MatplotlibDeprecationWarning: Adding an axes using the same arguments as a previous axes currently reuses the earlier instance.  In a future version, a new instance will always be created and returned.  Meanwhile, this warning can be suppressed, and the future behavior ensured, by passing a unique label to each axes instance.\n",
            "  after removing the cwd from sys.path.\n"
          ],
          "name": "stderr"
        },
        {
          "output_type": "execute_result",
          "data": {
            "text/plain": [
              "[<matplotlib.lines.Line2D at 0x7f88339f35d0>]"
            ]
          },
          "metadata": {
            "tags": []
          },
          "execution_count": 117
        },
        {
          "output_type": "display_data",
          "data": {
            "image/png": "[encoded data removed]",
            "text/plain": [
              "<Figure size 432x288 with 1 Axes>"
            ]
          },
          "metadata": {
            "tags": [],
            "needs_background": "light"
          }
        }
      ]
    },
    {
      "cell_type": "markdown",
      "metadata": {
        "id": "PGIbLv6iatIE"
      },
      "source": [
        "### Improved capabilities!\n",
        "\n",
        "+ Slow the robot while turning ($v_c$ for turn and straight needed)\n",
        "\n",
        "+ How to accommodate a sampling time < 1.0s (hint: think of sampling instances instead of time)"
      ]
    },
    {
      "cell_type": "code",
      "metadata": {
        "id": "uBnl73fpatIE"
      },
      "source": [
        "## Solution for : Slow the robot while turning ( vc  for turn and straight needed) \n",
        "##--------------------------------------------------------------------\n",
        "def get_open_loop_commands1(route, vc1 , vc2 , wc):  ## The get_open_loop_commands was changed to get_open_loop_commands1 to accomodate variable forward speed \n",
        "    all_w = []\n",
        "    all_v = []\n",
        "    omegas = {'straight':0, 'left':wc, 'right': -wc}\n",
        "    #t_turn = int(np.pi/4/wc)\n",
        "    for manoeuvre, command in route:\n",
        "      u = np.ceil(command/vc1).astype('int')\n",
        "      v = np.ceil(np.deg2rad(command/wc)).astype('int')\n",
        "      t_cmd = u if manoeuvre == 'straight' else v\n",
        "      all_w += [omegas[manoeuvre]]*t_cmd\n",
        "    for i in range(len(all_w)): ## The code ahead will ensure that truns are taken at slower speeds\n",
        "      if (all_w[i] == 0):\n",
        "        all_v.append(vc1)\n",
        "      else:\n",
        "        all_v.append(vc2)\n",
        "\n",
        "    all_v = np.array(all_v)\n",
        "    return all_v, all_w"
      ],
      "execution_count": 118,
      "outputs": []
    },
    {
      "cell_type": "code",
      "metadata": {
        "id": "C5XpBzbsKOxM"
      },
      "source": [
        "all_v1, all_w1 = get_open_loop_commands1([(\"straight\", 10), (\"right\", 90), (\"straight\", 5), (\"left\", 90), (\"straight\", 8), (\"right\", 90)], 1, 0.5, np.pi/12)"
      ],
      "execution_count": 119,
      "outputs": []
    },
    {
      "cell_type": "code",
      "metadata": {
        "colab": {
          "base_uri": "https://localhost:8080/"
        },
        "id": "bB5TLaaMQBGb",
        "outputId": "a90389c5-2851-4fb6-f7d9-8d0d8fbcbe5a"
      },
      "source": [
        "print(all_v1)"
      ],
      "execution_count": 120,
      "outputs": [
        {
          "output_type": "stream",
          "text": [
            "[1.  1.  1.  1.  1.  1.  1.  1.  1.  1.  0.5 0.5 0.5 0.5 0.5 0.5 1.  1.\n",
            " 1.  1.  1.  0.5 0.5 0.5 0.5 0.5 0.5 1.  1.  1.  1.  1.  1.  1.  1.  0.5\n",
            " 0.5 0.5 0.5 0.5 0.5]\n"
          ],
          "name": "stdout"
        }
      ]
    },
    {
      "cell_type": "code",
      "metadata": {
        "id": "6_wZiwipQAaP"
      },
      "source": [
        "robot_trajectory1 = []\n",
        "pose = np.array([0, 0, np.pi/2])\n",
        "for v, w in zip(all_v1, all_w1):\n",
        "    #instruction to take v, w and compute new pose\n",
        "    robot_trajectory1.append(pose)\n",
        "    pose = unicycle_model(pose,v,w,1) #dt = 1\n",
        "\n",
        "robot_trajectory1 = np.array(robot_trajectory1)\n",
        "   # store new pose"
      ],
      "execution_count": 122,
      "outputs": []
    },
    {
      "cell_type": "code",
      "metadata": {
        "colab": {
          "base_uri": "https://localhost:8080/",
          "height": 339
        },
        "id": "0ZJYw9Q6QIne",
        "outputId": "e29ff58f-a0e2-4134-c266-f747d009e971"
      },
      "source": [
        "# plot robot trajectory\n",
        "plt.figure()\n",
        "plt.grid()\n",
        "plt.axes().set_aspect(\"equal\",\"datalim\")\n",
        "plt.plot(robot_trajectory1[:,0], robot_trajectory1[:,1])\n",
        "\n",
        "#show first and last robot positions with + markers\n",
        "# example: plt.plot(0, 0, 'r+', ms=10)\n",
        "xi, yi, _ = robot_trajectory1[0]\n",
        "xf, yf, _ = robot_trajectory1[-1]\n",
        "plt.plot(xi, yi,'r+', ms = 10)\n",
        "plt.plot(xf, yf,'k+', ms = 10)"
      ],
      "execution_count": 123,
      "outputs": [
        {
          "output_type": "stream",
          "text": [
            "/usr/local/lib/python3.7/dist-packages/ipykernel_launcher.py:4: MatplotlibDeprecationWarning: Adding an axes using the same arguments as a previous axes currently reuses the earlier instance.  In a future version, a new instance will always be created and returned.  Meanwhile, this warning can be suppressed, and the future behavior ensured, by passing a unique label to each axes instance.\n",
            "  after removing the cwd from sys.path.\n"
          ],
          "name": "stderr"
        },
        {
          "output_type": "execute_result",
          "data": {
            "text/plain": [
              "[<matplotlib.lines.Line2D at 0x7f883396d790>]"
            ]
          },
          "metadata": {
            "tags": []
          },
          "execution_count": 123
        },
        {
          "output_type": "display_data",
          "data": {
            "image/png": "[encoded data removed]",
            "text/plain": [
              "<Figure size 432x288 with 1 Axes>"
            ]
          },
          "metadata": {
            "tags": [],
            "needs_background": "light"
          }
        }
      ]
    },
    {
      "cell_type": "code",
      "metadata": {
        "id": "IWYfbxWVT1p7"
      },
      "source": [
        "## Solution for: How to accommodate a sampling time < 1.0s (hint: think of sampling instances instead of time)\n",
        "\n",
        "def unicycle_model2(curr_pose, v, w, dt): ## In this function- unicycle_model2 user can define 'dt' of its own\n",
        "    '''\n",
        "    >>> unicycle_model((0.0,0.0,0.0), 1.0, 0.0)\n",
        "    (1.0, 0.0, 0.0)\n",
        "    >>> unicycle_model((0.0,0.0,0.0), 0.0, 1.0)\n",
        "    (0.0, 0.0, 1.0)\n",
        "    >>> unicycle_model((0.0, 0.0, 0.0), 1.0, 1.0)\n",
        "    (1.0, 0.0, 1.0)\n",
        "    '''\n",
        "    ## write code to calculate next_pose\n",
        "    # refer to the kinematic equations of a unicycle model\n",
        "    x, y, theta = curr_pose\n",
        "    x += v*np.cos(theta)*dt\n",
        "    y += v*np.sin(theta)*dt\n",
        "    theta = theta + w*dt; \n",
        "    \n",
        "    # Keep theta bounded between [-pi, pi]\n",
        "    theta = np.arctan2(np.sin(theta), np.cos(theta))\n",
        "    # return calculated (x, y, theta)\n",
        "    return x, y, theta"
      ],
      "execution_count": 96,
      "outputs": []
    },
    {
      "cell_type": "code",
      "metadata": {
        "id": "RI_GXbHmUXDp"
      },
      "source": [
        "def get_open_loop_commands2(route, vc1 , vc2 , wc, dt):   ## In get_open_loop_commands2 user can define dt of its own\n",
        "    all_w = []\n",
        "    all_v = []\n",
        "    omegas = {'straight':0, 'left':wc, 'right': -wc}\n",
        "    #t_turn = int(np.pi/4/wc)\n",
        "    for manoeuvre, command in route:\n",
        "      u = np.ceil(command/vc1).astype('int')  #Time for straignt motion\n",
        "      v = np.ceil(np.deg2rad(command/wc)).astype('int') # Time for turning motion\n",
        "      steps = int(u/dt) if manoeuvre == 'straight' else int(v/dt)  #Dividing the time of individual motion ny dt to obtain the number of steps\n",
        "      all_w += [omegas[manoeuvre]]*steps  ##Now the length of arrays all_m and all_v should be equal to the number of steps\n",
        "    for i in range(len(all_w)): ## The code ahead will ensure that turns are taken at slower speeds\n",
        "      if (all_w[i] == 0):\n",
        "        all_v.append(vc1)\n",
        "      else:\n",
        "        all_v.append(vc2)\n",
        "\n",
        "    all_v = np.array(all_v)\n",
        "    return all_v, all_w"
      ],
      "execution_count": 124,
      "outputs": []
    },
    {
      "cell_type": "code",
      "metadata": {
        "id": "oExfSWcMUXk8"
      },
      "source": [
        "all_v2, all_w2 = get_open_loop_commands2([(\"straight\", 10), (\"right\", 90), (\"straight\", 5), (\"left\", 90), (\"straight\", 8), (\"right\", 90)], 1, 0.5, np.pi/12, 0.1) # choose dt "
      ],
      "execution_count": 125,
      "outputs": []
    },
    {
      "cell_type": "code",
      "metadata": {
        "id": "6pJ7ZbJMUX-Y"
      },
      "source": [
        "print(all_v2)"
      ],
      "execution_count": null,
      "outputs": []
    },
    {
      "cell_type": "code",
      "metadata": {
        "id": "SFHTKgh3YB7C"
      },
      "source": [
        "robot_trajectory2 = []\n",
        "pose = np.array([0, 0, np.pi/2])\n",
        "for v, w in zip(all_v2, all_w2):\n",
        "    #instruction to take v, w and compute new pose\n",
        "    robot_trajectory2.append(pose)\n",
        "    pose = unicycle_model2(pose,v,w,.1)  #Choose same dt as used while generating the route\n",
        "\n",
        "robot_trajectory2 = np.array(robot_trajectory2)"
      ],
      "execution_count": 129,
      "outputs": []
    },
    {
      "cell_type": "code",
      "metadata": {
        "colab": {
          "base_uri": "https://localhost:8080/",
          "height": 335
        },
        "id": "e38kayKlYRY7",
        "outputId": "a076f0af-b115-401a-b895-a0b1425b00d7"
      },
      "source": [
        "# plot robot trajectory\n",
        "plt.figure()\n",
        "plt.grid()\n",
        "plt.axes().set_aspect(\"equal\",\"datalim\")\n",
        "plt.plot(robot_trajectory2[:,0], robot_trajectory2[:,1])\n",
        "\n",
        "#show first and last robot positions with + markers\n",
        "# example: plt.plot(0, 0, 'r+', ms=10)\n",
        "xi, yi, _ = robot_trajectory2[0]\n",
        "xf, yf, _ = robot_trajectory2[-1]\n",
        "plt.plot(xi, yi,'r+', ms = 10)\n",
        "plt.plot(xf, yf,'k+', ms = 10)\n",
        "\n",
        "#With higher number of steps, a perfect 90 degree turn can be observed\n"
      ],
      "execution_count": 131,
      "outputs": [
        {
          "output_type": "stream",
          "text": [
            "/usr/local/lib/python3.7/dist-packages/ipykernel_launcher.py:4: MatplotlibDeprecationWarning: Adding an axes using the same arguments as a previous axes currently reuses the earlier instance.  In a future version, a new instance will always be created and returned.  Meanwhile, this warning can be suppressed, and the future behavior ensured, by passing a unique label to each axes instance.\n",
            "  after removing the cwd from sys.path.\n"
          ],
          "name": "stderr"
        },
        {
          "output_type": "execute_result",
          "data": {
            "text/plain": [
              "[<matplotlib.lines.Line2D at 0x7f88337e2d90>]"
            ]
          },
          "metadata": {
            "tags": []
          },
          "execution_count": 131
        },
        {
          "output_type": "display_data",
          "data": {
            "image/png": "[encoded data removed]",
            "text/plain": [
              "<Figure size 432x288 with 1 Axes>"
            ]
          },
          "metadata": {
            "tags": [],
            "needs_background": "light"
          }
        }
      ]
    }
  ]
}