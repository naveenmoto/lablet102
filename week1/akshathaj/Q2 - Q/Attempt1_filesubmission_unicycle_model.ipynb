{
 "cells": [
  {
   "cell_type": "code",
   "execution_count": 1,
   "metadata": {
    "executionInfo": {
     "elapsed": 10,
     "status": "ok",
     "timestamp": 1624640057932,
     "user": {
      "displayName": "AKSHATHA JAGADISH",
      "photoUrl": "",
      "userId": "03894933400923877588"
     },
     "user_tz": -330
    },
    "id": "gI_mKZ7UbMM1"
   },
   "outputs": [],
   "source": [
    "import pandas as pd\n",
    "import numpy as np\n",
    "import matplotlib.pyplot as plt\n",
    "%matplotlib inline\n",
    "import doctest\n",
    "import copy"
   ]
  },
  {
   "cell_type": "code",
   "execution_count": 2,
   "metadata": {
    "executionInfo": {
     "elapsed": 12,
     "status": "ok",
     "timestamp": 1624640060923,
     "user": {
      "displayName": "AKSHATHA JAGADISH",
      "photoUrl": "",
      "userId": "03894933400923877588"
     },
     "user_tz": -330
    },
    "id": "Batvav7MbMM4"
   },
   "outputs": [],
   "source": [
    "#https://stackoverflow.com/questions/40137950/possible-to-run-python-doctest-on-a-jupyter-cell-function\n",
    "def test(func):\n",
    "    '''\n",
    "    Use test as a decorator to a function with doctests in Jupyter notebook. \n",
    "    Run the cell to see the results of the doctests.\n",
    "    '''\n",
    "    globs = copy.copy(globals())\n",
    "    globs.update({func.__name__:func})\n",
    "    doctest.run_docstring_examples(func, globs, verbose=True, name=func.__name__)\n",
    "    return func"
   ]
  },
  {
   "cell_type": "markdown",
   "metadata": {
    "id": "kKmOP0SFbMM4"
   },
   "source": [
    "### Simulate straight line and circular movements with Unicycle model\n",
    "\n",
    "Robot is at the origin (0, 0) and facing North, i.e, $\\theta = \\pi/2$\n",
    "\n",
    "Use the Kinematics equations we had developed in class for the Unicycle model"
   ]
  },
  {
   "cell_type": "code",
   "execution_count": 3,
   "metadata": {
    "colab": {
     "base_uri": "https://localhost:8080/"
    },
    "executionInfo": {
     "elapsed": 322,
     "status": "ok",
     "timestamp": 1624640070047,
     "user": {
      "displayName": "AKSHATHA JAGADISH",
      "photoUrl": "",
      "userId": "03894933400923877588"
     },
     "user_tz": -330
    },
    "id": "AwIYM9dYbMM5",
    "outputId": "5f97e4d5-4a3b-44b6-b8c7-aeb9ea1b1504"
   },
   "outputs": [
    {
     "name": "stderr",
     "output_type": "stream",
     "text": [
      "\n",
      "PYDEV DEBUGGER WARNING:\n",
      "sys.settrace() should not be used when the debugger is being used.\n",
      "This may cause the debugger to stop working correctly.\n",
      "If this is needed, please check: \n",
      "http://pydev.blogspot.com/2007/06/why-cant-pydev-debugger-work-with.html\n",
      "to see how to restore the debug tracing back correctly.\n",
      "Call Location:\n",
      "  File \"/usr/lib/python3.7/doctest.py\", line 1487, in run\n",
      "    sys.settrace(save_trace)\n",
      "\n"
     ]
    },
    {
     "name": "stdout",
     "output_type": "stream",
     "text": [
      "Finding tests in unicycle_model\n",
      "Trying:\n",
      "    unicycle_model((0.0,0.0,0.0), 1.0, 0.0)\n",
      "Expecting:\n",
      "    (1.0, 0.0, 0.0)\n",
      "ok\n",
      "Trying:\n",
      "    unicycle_model((0.0,0.0,0.0), 0.0, 1.0)\n",
      "Expecting:\n",
      "    (0.0, 0.0, 1.0)\n",
      "ok\n",
      "Trying:\n",
      "    unicycle_model((0.0, 0.0, 0.0), 1.0, 1.0)\n",
      "Expecting:\n",
      "    (1.0, 0.0, 1.0)\n",
      "ok\n"
     ]
    }
   ],
   "source": [
    "#uncomment this decorator to test your code\n",
    "@test \n",
    "def unicycle_model(curr_pose, v, w, dt=1.0):\n",
    "    '''\n",
    "    >>> unicycle_model((0.0,0.0,0.0), 1.0, 0.0)\n",
    "    (1.0, 0.0, 0.0)\n",
    "    >>> unicycle_model((0.0,0.0,0.0), 0.0, 1.0)\n",
    "    (0.0, 0.0, 1.0)\n",
    "    >>> unicycle_model((0.0, 0.0, 0.0), 1.0, 1.0)\n",
    "    (1.0, 0.0, 1.0)\n",
    "    '''\n",
    "    ## write code to calculate next_pose\n",
    "    # refer to the kinematic equations of a unicycle model\n",
    "    x = v*np.cos(curr_pose[2])*dt + curr_pose[0]\n",
    "    y = v*np.sin(curr_pose[2])*dt + curr_pose[1]\n",
    "    theta = curr_pose[2] + w*dt\n",
    "    \n",
    "    # Keep theta bounded between [-pi, pi]\n",
    "    theta = np.arctan2(np.sin(theta), np.cos(theta))\n",
    "    # return calculated (x, y, theta)\n",
    "    return (x, y, theta)"
   ]
  },
  {
   "cell_type": "markdown",
   "metadata": {
    "id": "CYXaBeZvbMM5"
   },
   "source": [
    "Now let us try to simulate motion along a straight line and circle\n",
    "\n",
    "Look at the kinematics equations you wrote - what should $v,\\omega$ if\n",
    "+ There is no change in $\\theta$\n",
    "+ $\\theta$ has to change from 0 to 360 degrees"
   ]
  },
  {
   "cell_type": "code",
   "execution_count": 4,
   "metadata": {
    "executionInfo": {
     "elapsed": 11,
     "status": "ok",
     "timestamp": 1624640075737,
     "user": {
      "displayName": "AKSHATHA JAGADISH",
      "photoUrl": "",
      "userId": "03894933400923877588"
     },
     "user_tz": -330
    },
    "id": "CqurPPXNbMM6"
   },
   "outputs": [],
   "source": [
    "#straight line\n",
    "straight_trajectory = []\n",
    "pose = (0, 0, np.pi/2)\n",
    "steps = 10\n",
    "#fill in v and omega values\n",
    "v = 1.0\n",
    "w = 0.0\n",
    "for _ in range(steps):\n",
    "   #instruction to take v, w and compute new pose \n",
    "   straight_trajectory.append(pose)   \n",
    "   new_pose = unicycle_model(pose, v, w)\n",
    "   # store new pose\n",
    "   pose = new_pose\n",
    "straight_trajectory = np.array(straight_trajectory)\n",
    "    "
   ]
  },
  {
   "cell_type": "code",
   "execution_count": 6,
   "metadata": {
    "executionInfo": {
     "elapsed": 314,
     "status": "ok",
     "timestamp": 1624640091828,
     "user": {
      "displayName": "AKSHATHA JAGADISH",
      "photoUrl": "",
      "userId": "03894933400923877588"
     },
     "user_tz": -330
    },
    "id": "JP9ajzDtbMM6"
   },
   "outputs": [],
   "source": [
    "#circle\n",
    "circle_trajectory = []\n",
    "pose = (0, 0, np.pi/2)\n",
    "steps = 10\n",
    "#fill in v and omega values \n",
    "all_w = np.ones(steps*100)\n",
    "all_v = 2*np.ones(steps*100)\n",
    "for v,w in zip(all_v, all_w):\n",
    "    #instruction to take v, w and compute new pose \n",
    "    circle_trajectory.append(pose)      \n",
    "    new_pose = unicycle_model(pose, v, w,1)\n",
    "    # store new pose\n",
    "    pose = new_pose\n",
    "circle_trajectory = np.array(circle_trajectory)"
   ]
  },
  {
   "cell_type": "code",
   "execution_count": 7,
   "metadata": {
    "colab": {
     "base_uri": "https://localhost:8080/",
     "height": 530
    },
    "executionInfo": {
     "elapsed": 906,
     "status": "ok",
     "timestamp": 1624640097177,
     "user": {
      "displayName": "AKSHATHA JAGADISH",
      "photoUrl": "",
      "userId": "03894933400923877588"
     },
     "user_tz": -330
    },
    "id": "HFmAOIeybMM7",
    "outputId": "5f6c0b7d-82ff-434d-d452-ca1977ccb999"
   },
   "outputs": [
    {
     "data": {
      "text/plain": [
       "[<matplotlib.lines.Line2D at 0x7f980fef6910>]"
      ]
     },
     "execution_count": 7,
     "metadata": {
      "tags": []
     },
     "output_type": "execute_result"
    },
    {
     "data": {
      "image/png": "[encoded data removed]",
      "text/plain": [
       "<Figure size 432x288 with 1 Axes>"
      ]
     },
     "metadata": {
      "needs_background": "light",
      "tags": []
     },
     "output_type": "display_data"
    },
    {
     "data": {
      "image/png": "[encoded data removed]",
      "text/plain": [
       "<Figure size 432x288 with 1 Axes>"
      ]
     },
     "metadata": {
      "needs_background": "light",
      "tags": []
     },
     "output_type": "display_data"
    }
   ],
   "source": [
    "### Plot straight and circular trajectories\n",
    "plt.figure()\n",
    "plt.axes().set_aspect(\"equal\",\"datalim\")\n",
    "plt.plot(straight_trajectory[:,0],straight_trajectory[:,1])\n",
    "\n",
    "plt.figure()\n",
    "plt.axes().set_aspect(\"equal\",\"datalim\")\n",
    "plt.plot(circle_trajectory[:,0],circle_trajectory[:,1],',')\n",
    "\n"
   ]
  },
  {
   "cell_type": "markdown",
   "metadata": {
    "id": "QEb_G64ebMM7"
   },
   "source": [
    "### Simulate Unicycle model with Open Loop control\n",
    "\n",
    "We want the robot to follow these instructions\n",
    "\n",
    "**straight 10m, right turn, straight 5m, left turn, straight 8m, right turn**\n",
    "\n",
    "It is in open loop; control commands have to be calculated upfront. How do we do it?\n",
    "\n",
    "To keep things simple in the first iteration, we can fix $v = v_c$ and change only $\\omega$. To make it even simpler, $\\omega$ can take only 2 values \n",
    "+ 0 when the vehicle is going straight \n",
    "+ $\\omega = \\omega_c$ when turning\n",
    "\n",
    "This leaves only 2 questions to be answered\n",
    "* What should be $v_c$ and $\\omega_c$?\n",
    "* When should $\\omega$ change from 0 and back?"
   ]
  },
  {
   "cell_type": "code",
   "execution_count": 8,
   "metadata": {
    "executionInfo": {
     "elapsed": 320,
     "status": "ok",
     "timestamp": 1624640104204,
     "user": {
      "displayName": "AKSHATHA JAGADISH",
      "photoUrl": "",
      "userId": "03894933400923877588"
     },
     "user_tz": -330
    },
    "id": "E9qmv23WbMM7"
   },
   "outputs": [],
   "source": [
    "v_c = 1 # m/s\n",
    "w_c = np.pi/6 # rad/s\n",
    "\n",
    "#calculate time taken to finish a quarter turn (pi/2)\n",
    "t_turn = int(np.pi/2*w_c)\n",
    "\n",
    "#calculate the time taken to finish straight segments\n",
    "# omega array is to be padded with equivalent zeros\n",
    "\n",
    "t_straight1, t_straight2, t_straight3 = int(10/v_c), int(5/v_c), int(8/v_c)\n",
    "\n",
    "all_w = [0]*t_straight1 + [w_c]*t_turn + [0]*t_straight2 + [-w_c]*t_turn + [0]*t_straight3 + [w_c]*t_turn\n",
    "all_v = v_c*np.ones_like(all_w)"
   ]
  },
  {
   "cell_type": "markdown",
   "metadata": {
    "id": "IC16kzWCbMM8"
   },
   "source": [
    "Let us make a cool function out of this!\n",
    "\n",
    "Take in as input a generic route and convert it into open-loop commands\n",
    "\n",
    "Input format: [(\"straight\", 5), (\"right\", 90), (\"straight\", 6), (\"left\", 85)]\n",
    "\n",
    "Output: all_v, all_w"
   ]
  },
  {
   "cell_type": "code",
   "execution_count": 9,
   "metadata": {
    "executionInfo": {
     "elapsed": 318,
     "status": "ok",
     "timestamp": 1624640116100,
     "user": {
      "displayName": "AKSHATHA JAGADISH",
      "photoUrl": "",
      "userId": "03894933400923877588"
     },
     "user_tz": -330
    },
    "id": "OJwtdfbxbMM8"
   },
   "outputs": [],
   "source": [
    "def get_open_loop_commands(route, vc, wc):\n",
    "    all_w = []\n",
    "    # print(len(route))\n",
    "    omegas = {\"straight\":0, \"right\":-wc, \"left\":wc}\n",
    "    for maneuver,value in route:\n",
    "        u = omegas[maneuver]\n",
    "        n = np.ceil(value)/vc if maneuver == \"straight\" else np.ceil(np.deg2rad(value))/wc\n",
    "        n = n.astype(int)\n",
    "        all_w += [u]*n\n",
    "        # if maneuver == 'straight':\n",
    "        #     all_w+= [0]*(np.ceil(route[idx][1]/vc).astype(int))\n",
    "        # elif route[idx][0] == 'right':\n",
    "        #     u = np.deg2rad(route[idx][1]/wc)\n",
    "        #     all_w+= [-wc]*(np.ceil(u).astype(int))\n",
    "        # elif route[idx][0] == 'left':\n",
    "        #     u = np.deg2rad(route[idx][1]/wc)\n",
    "        #     all_w+= [wc]*(np.ceil(u).astype(int))\n",
    "    all_v = vc*np.ones_like(all_w)\n",
    "    return all_v, all_w"
   ]
  },
  {
   "cell_type": "markdown",
   "metadata": {
    "id": "YrbbP5MnbMM8"
   },
   "source": [
    "### Unit test your function with the following inputs\n",
    "\n",
    "+ [(\"straight\", 5), (\"right\", 90), (\"straight\", 6), (\"left\", 85)]\n",
    "+ $v_c = 1$\n",
    "+ $w_c = \\pi/12$"
   ]
  },
  {
   "cell_type": "code",
   "execution_count": 10,
   "metadata": {
    "colab": {
     "base_uri": "https://localhost:8080/"
    },
    "executionInfo": {
     "elapsed": 347,
     "status": "ok",
     "timestamp": 1624640121813,
     "user": {
      "displayName": "AKSHATHA JAGADISH",
      "photoUrl": "",
      "userId": "03894933400923877588"
     },
     "user_tz": -330
    },
    "id": "LvrbWb9MbMM9",
    "outputId": "94711630-46c6-46f8-83fa-4eaee6fd5267"
   },
   "outputs": [
    {
     "name": "stdout",
     "output_type": "stream",
     "text": [
      "25\n"
     ]
    }
   ],
   "source": [
    "all_v, all_w = get_open_loop_commands([(\"straight\", 5), (\"right\", 90), (\"straight\", 6), (\"left\", 85)],1,np.pi/12)\n",
    "print(len(all_w))"
   ]
  },
  {
   "cell_type": "code",
   "execution_count": 11,
   "metadata": {
    "executionInfo": {
     "elapsed": 14,
     "status": "ok",
     "timestamp": 1624640124186,
     "user": {
      "displayName": "AKSHATHA JAGADISH",
      "photoUrl": "",
      "userId": "03894933400923877588"
     },
     "user_tz": -330
    },
    "id": "n3yY8YbsbMM9"
   },
   "outputs": [],
   "source": [
    "robot_trajectory = []\n",
    "pose = (0, 0, np.pi/2)\n",
    "for v, w in zip(all_v, all_w):\n",
    "    #instruction to take v, w and compute new pose    \n",
    "    robot_trajectory.append(pose)      \n",
    "    new_pose = unicycle_model(pose, v, w)\n",
    "   # store new pose\n",
    "    pose = new_pose\n",
    "robot_trajectory = np.array(robot_trajectory)\n",
    "# print(robot_trajectory[0,:])\n",
    "# print(robot_trajectory[-1,:])"
   ]
  },
  {
   "cell_type": "code",
   "execution_count": 12,
   "metadata": {
    "colab": {
     "base_uri": "https://localhost:8080/",
     "height": 298
    },
    "executionInfo": {
     "elapsed": 363,
     "status": "ok",
     "timestamp": 1624640128746,
     "user": {
      "displayName": "AKSHATHA JAGADISH",
      "photoUrl": "",
      "userId": "03894933400923877588"
     },
     "user_tz": -330
    },
    "id": "HKkXA4EebMM9",
    "outputId": "873205f3-3215-4e92-a7b6-eb9d5b1cb25e"
   },
   "outputs": [
    {
     "name": "stdout",
     "output_type": "stream",
     "text": [
      "25\n"
     ]
    },
    {
     "data": {
      "text/plain": [
       "[<matplotlib.lines.Line2D at 0x7f980f99c910>]"
      ]
     },
     "execution_count": 12,
     "metadata": {
      "tags": []
     },
     "output_type": "execute_result"
    },
    {
     "data": {
      "image/png": "[encoded data removed]",
      "text/plain": [
       "<Figure size 432x288 with 1 Axes>"
      ]
     },
     "metadata": {
      "needs_background": "light",
      "tags": []
     },
     "output_type": "display_data"
    }
   ],
   "source": [
    "# plot robot trajectory\n",
    "plt.figure()\n",
    "plt.grid()\n",
    "print(len(robot_trajectory))\n",
    "plt.plot(robot_trajectory[:,0],robot_trajectory[:,1],'.')\n",
    "\n",
    "#show first and last robot positions with + markers\n",
    "x0,y0,_ = robot_trajectory[0,:]\n",
    "xf,yf,_ = robot_trajectory[-1,:]\n",
    "# example: plt.plot(0, 0, 'r+', ms=10)\n",
    "plt.plot(xf,yf,'r+',ms = 20)\n",
    "plt.plot(x0,y0,'r+',ms = 20)\n"
   ]
  },
  {
   "cell_type": "markdown",
   "metadata": {
    "id": "wXL25EJEbMM-"
   },
   "source": [
    "### Improved capabilities!\n",
    "\n",
    "+ Slow the robot while turning ($v_c$ for turn and straight needed)\n",
    "\n",
    "+ How to accommodate a sampling time < 1.0s (hint: think of sampling instances instead of time)"
   ]
  },
  {
   "cell_type": "code",
   "execution_count": 13,
   "metadata": {
    "executionInfo": {
     "elapsed": 335,
     "status": "ok",
     "timestamp": 1624640134487,
     "user": {
      "displayName": "AKSHATHA JAGADISH",
      "photoUrl": "",
      "userId": "03894933400923877588"
     },
     "user_tz": -330
    },
    "id": "ggowi5RybMM_"
   },
   "outputs": [],
   "source": [
    "def get_open_loop_commands_slow_turns(route, vcfast, vcslow, wc,dt = 1):\n",
    "    all_w = []\n",
    "    all_v = []\n",
    "    deltas = {\"straight\":0, \"left\":wc, \"right\":-wc}\n",
    "    for maneuver,value in route:\n",
    "        u = deltas[maneuver]\n",
    "        angle_steps = np.ceil(np.deg2rad(value)/(wc*dt))\n",
    "        all_w += [u]*np.ceil(value/(vcfast*dt)).astype(int) if maneuver == \"straight\" else [u]*angle_steps.astype(int)\n",
    "        all_v += [vcfast]*np.ceil(value/(vcfast*dt)).astype(int) if maneuver == \"straight\" else [vcslow]*angle_steps.astype(int)\n",
    "    return all_v, all_w"
   ]
  },
  {
   "cell_type": "code",
   "execution_count": 14,
   "metadata": {
    "colab": {
     "base_uri": "https://localhost:8080/",
     "height": 298
    },
    "executionInfo": {
     "elapsed": 609,
     "status": "ok",
     "timestamp": 1624640138796,
     "user": {
      "displayName": "AKSHATHA JAGADISH",
      "photoUrl": "",
      "userId": "03894933400923877588"
     },
     "user_tz": -330
    },
    "id": "KAwAFnr7A7Kc",
    "outputId": "4e38ff9c-ee11-4b10-a711-c226e55da795"
   },
   "outputs": [
    {
     "name": "stdout",
     "output_type": "stream",
     "text": [
      "85\n"
     ]
    },
    {
     "data": {
      "text/plain": [
       "[<matplotlib.lines.Line2D at 0x7f980f921310>]"
      ]
     },
     "execution_count": 14,
     "metadata": {
      "tags": []
     },
     "output_type": "execute_result"
    },
    {
     "data": {
      "image/png": "[encoded data removed]",
      "text/plain": [
       "<Figure size 432x288 with 1 Axes>"
      ]
     },
     "metadata": {
      "needs_background": "light",
      "tags": []
     },
     "output_type": "display_data"
    }
   ],
   "source": [
    "vcfast = 1\n",
    "vcslow = 0.5\n",
    "dt = 0.2\n",
    "all_v, all_w = get_open_loop_commands_slow_turns([(\"straight\", 5), (\"right\", 90), (\"straight\", 6), (\"left\", 85)],vcfast,vcslow,np.pi/6,dt)\n",
    "# print(len(all_w))\n",
    "robot_trajectory = []\n",
    "pose = (0, 0, np.pi/2)\n",
    "for v, w in zip(all_v, all_w):\n",
    "    #instruction to take v, w and compute new pose    \n",
    "    robot_trajectory.append(pose)      \n",
    "    new_pose = unicycle_model(pose, v, w,dt)\n",
    "   # store new pose\n",
    "    pose = new_pose\n",
    "robot_trajectory = np.array(robot_trajectory)\n",
    "# plot robot trajectory\n",
    "plt.figure()\n",
    "plt.grid()\n",
    "print(len(robot_trajectory))\n",
    "plt.plot(robot_trajectory[:,0],robot_trajectory[:,1],'.')\n",
    "\n",
    "#show first and last robot positions with + markers\n",
    "x0,y0,_ = robot_trajectory[0,:]\n",
    "xf,yf,_ = robot_trajectory[-1,:]\n",
    "# example: plt.plot(0, 0, 'r+', ms=10)\n",
    "plt.plot(xf,yf,'r+',ms = 20)\n",
    "plt.plot(x0,y0,'r+',ms = 20)"
   ]
  }
 ],
 "metadata": {
  "colab": {
   "name": "unicycle_model.ipynb",
   "provenance": [
    {
     "file_id": "1CEkRCh8dguy3vO_PhzCqCGqNHDvnxqpc",
     "timestamp": 1624260950051
    }
   ]
  },
  "kernelspec": {
   "display_name": "Python 3",
   "language": "python",
   "name": "python3"
  },
  "language_info": {
   "codemirror_mode": {
    "name": "ipython",
    "version": 3
   },
   "file_extension": ".py",
   "mimetype": "text/x-python",
   "name": "python",
   "nbconvert_exporter": "python",
   "pygments_lexer": "ipython3",
   "version": "3.8.5"
  },
  "varInspector": {
   "cols": {
    "lenName": 16,
    "lenType": 16,
    "lenVar": 40
   },
   "kernels_config": {
    "python": {
     "delete_cmd_postfix": "",
     "delete_cmd_prefix": "del ",
     "library": "var_list.py",
     "varRefreshCmd": "print(var_dic_list())"
    },
    "r": {
     "delete_cmd_postfix": ") ",
     "delete_cmd_prefix": "rm(",
     "library": "var_list.r",
     "varRefreshCmd": "cat(var_dic_list()) "
    }
   },
   "position": {
    "height": "144px",
    "left": "1090px",
    "right": "20px",
    "top": "13px",
    "width": "350px"
   },
   "types_to_exclude": [
    "module",
    "function",
    "builtin_function_or_method",
    "instance",
    "_Feature"
   ],
   "window_display": true
  }
 },
 "nbformat": 4,
 "nbformat_minor": 1
}
