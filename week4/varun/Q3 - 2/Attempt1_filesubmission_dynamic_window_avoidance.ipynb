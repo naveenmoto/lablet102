{
 "cells": [
  {
   "cell_type": "code",
   "execution_count": 24,
   "metadata": {},
   "outputs": [],
   "source": [
    "import time\n",
    "import toml\n",
    "import numpy as np\n",
    "import matplotlib.pyplot as plt\n",
    "from ref_trajectory import generate_trajectory as traj\n",
    "%matplotlib notebook"
   ]
  },
  {
   "cell_type": "markdown",
   "metadata": {},
   "source": [
    "There are a lot of configuration parameters. It is a good idea to separate it from the main code. At some point you will be doing parameter tuning. \n",
    "\n",
    "We will use toml format to store parameters. Open config.toml and go over the description of the different parameters we may use here\n",
    "\n",
    "Read the config parameters, default output is a dictionary. You have to then store them as local variables. \n",
    "You have 2 options for this\n",
    "1. update locals() directly - a little bit dangerous\n",
    "2. You can use itemgetter"
   ]
  },
  {
   "cell_type": "code",
   "execution_count": 25,
   "metadata": {},
   "outputs": [
    {
     "name": "stdout",
     "output_type": "stream",
     "text": [
      "{'dt': 0.1, 'V_MAX': 1.2, 'W_MAX': 1.0, 'K_MAX': 0.5, 'MIN_DIST': 1.0, 'ACC_MAX': 0.5, 'W_DOT_MAX': 3.0, 'LATERAL_ACC_MAX': 1.5, 'goal_threshold': 0.05, 'pred_horizon': 10, 'w_cte': 1.0, 'w_speed': 1.0}\n",
      "0.1 1.2\n"
     ]
    }
   ],
   "source": [
    "config_params = toml.load(\"config.toml\")['params']\n",
    "print(config_params)\n",
    "locals().update(config_params)\n",
    "print(dt, V_MAX)"
   ]
  },
  {
   "cell_type": "markdown",
   "metadata": {},
   "source": [
    "There are 3 functions we need to write for DWA\n",
    "\n",
    "1. Simulate unicyle - we will slightly modify it to simulate $N$ steps \n",
    "\n",
    "2. Command Window - Entire set of acceptable $(v, \\omega)$ in that time instant given current $(v, \\omega)$$\n",
    "\n",
    "3. track - get $(v, \\omega )$ for path with the lowest cost\n",
    "\n",
    "In the first iteration, let us not integrate collision checking. Let us integrate these pieces, make sure DWA works for a few paths!"
   ]
  },
  {
   "cell_type": "code",
   "execution_count": 26,
   "metadata": {},
   "outputs": [
    {
     "name": "stdout",
     "output_type": "stream",
     "text": [
      "[0.   0.02 0.04 0.06 0.08 0.1  0.12 0.14 0.16 0.18 0.2 ]\n"
     ]
    }
   ],
   "source": [
    "v_min, v_max = 0.0, 0.2\n",
    "w_min, w_max = -0.1, 0.1\n",
    "vs = np.linspace(v_min, v_max, num=11)\n",
    "ws = np.linspace(w_min, w_max, num=11)\n",
    "cmd = np.transpose([np.tile(vs, len(ws)), np.repeat(ws, len(vs))])\n",
    "print(vs)\n",
    "def simulate_unicycle(pose, v,w, N=1, dt=0.1):\n",
    "    x, y, t = pose\n",
    "    poses = []\n",
    "    for _ in range(N):\n",
    "        x += v*np.cos(t)*dt\n",
    "        y += v*np.sin(t)*dt\n",
    "        t += w*dt\n",
    "        poses.append([x,y,t])\n",
    "    return np.array(poses)\n",
    "\n",
    "def command_window(v, w, dt=0.1):\n",
    "    \"\"\"Returns acceptable v,w commands given current v,w\"\"\"\n",
    "    # velocity can be (0, V_MAX)\n",
    "    # ACC_MAX = max linear acceleration\n",
    "    v_max = min(V_MAX, v + ACC_MAX*dt)\n",
    "    v_min = max(0, v - ACC_MAX*dt)\n",
    "    # omega can be (-W_MAX, W_MAX)\n",
    "    #W_DOT_MAX = max angular acceleration\n",
    "    epsilon = 1e-6\n",
    "    w_max = min(W_MAX, w + W_DOT_MAX*dt)\n",
    "    w_min = max(-W_MAX, w - W_DOT_MAX*dt)\n",
    "    \n",
    "    #generate quantized range for v and omega\n",
    "    vs = np.linspace(v_min, v_max, num=11)\n",
    "    ws = np.linspace(w_min, w_max, num=21)\n",
    "    \n",
    "    #cartesian product of [vs] and [ws]\n",
    "    #remember there are 0 velocity entries which have to be discarded eventually\n",
    "    commands = np.transpose([np.tile(vs, len(ws)), np.repeat(ws, len(vs))])\n",
    "    \n",
    "    #calculate kappa for the set of commands\n",
    "    kappa = commands[:,1]/(commands[:,0]+epsilon)\n",
    "    \n",
    "    #returning only commands < max curvature \n",
    "    return commands[(kappa < K_MAX) & (commands[:, 0] != 0)]\n",
    "\n",
    "def track(ref_path, pose, v, w, dt=0.1):\n",
    "    commands = command_window(v, w, dt)\n",
    "    #initialize path cost\n",
    "    best_cost, best_command = np.inf, None\n",
    "    for i, (v, w) in enumerate(commands):\n",
    "        local_path = simulate_unicycle(pose,v,w) #Number of steps = prediction horizon\n",
    "        \n",
    "        if circle_collision_check(grid, local_path): #ignore colliding paths\n",
    "            print(\"local path has a collision\")\n",
    "            continue\n",
    "        \n",
    "        #calculate cross-track error\n",
    "        #can use a simplistic definition of \n",
    "        #how close is the last pose in local path from the ref path\n",
    "        \n",
    "        cte = pose - ref_path\n",
    "        \n",
    "        #other cost functions are possible\n",
    "        #can modify collision checker to give distance to closest obstacle\n",
    "        cost = w_cte*cte + w_speed*(V_MAX - v)**2 + w_obs/ distance\n",
    "        \n",
    "        #check if there is a better candidate\n",
    "        if cost < best_cost:\n",
    "            best_cost, best_command = cost,commands\n",
    "\n",
    "    if best_command:\n",
    "        return best_command\n",
    "    else:\n",
    "        return [0, 0]"
   ]
  },
  {
   "cell_type": "code",
   "execution_count": 27,
   "metadata": {},
   "outputs": [
    {
     "ename": "NameError",
     "evalue": "name 'circle_collision_check' is not defined",
     "output_type": "error",
     "traceback": [
      "\u001b[0;31m---------------------------------------------------------------------------\u001b[0m",
      "\u001b[0;31mNameError\u001b[0m                                 Traceback (most recent call last)",
      "\u001b[0;32m<ipython-input-27-2a7f04734ce2>\u001b[0m in \u001b[0;36m<module>\u001b[0;34m\u001b[0m\n\u001b[1;32m     13\u001b[0m     \u001b[0mpath_index\u001b[0m \u001b[0;34m=\u001b[0m \u001b[0mpose\u001b[0m \u001b[0;34m+\u001b[0m \u001b[0mlocal_ref_path\u001b[0m\u001b[0;34m\u001b[0m\u001b[0;34m\u001b[0m\u001b[0m\n\u001b[1;32m     14\u001b[0m     \u001b[0;31m# get next command\u001b[0m\u001b[0;34m\u001b[0m\u001b[0;34m\u001b[0m\u001b[0;34m\u001b[0m\u001b[0m\n\u001b[0;32m---> 15\u001b[0;31m     \u001b[0mv\u001b[0m\u001b[0;34m,\u001b[0m \u001b[0mw\u001b[0m \u001b[0;34m=\u001b[0m \u001b[0mtrack\u001b[0m\u001b[0;34m(\u001b[0m\u001b[0mref_path\u001b[0m\u001b[0;34m,\u001b[0m\u001b[0mpose\u001b[0m\u001b[0;34m,\u001b[0m\u001b[0mv\u001b[0m\u001b[0;34m,\u001b[0m\u001b[0mw\u001b[0m\u001b[0;34m)\u001b[0m\u001b[0;34m\u001b[0m\u001b[0;34m\u001b[0m\u001b[0m\n\u001b[0m\u001b[1;32m     16\u001b[0m \u001b[0;34m\u001b[0m\u001b[0m\n\u001b[1;32m     17\u001b[0m     \u001b[0;31m#simulate vehicle for 1 step\u001b[0m\u001b[0;34m\u001b[0m\u001b[0;34m\u001b[0m\u001b[0;34m\u001b[0m\u001b[0m\n",
      "\u001b[0;32m<ipython-input-26-3a36a60a0c86>\u001b[0m in \u001b[0;36mtrack\u001b[0;34m(ref_path, pose, v, w, dt)\u001b[0m\n\u001b[1;32m     48\u001b[0m         \u001b[0mlocal_path\u001b[0m \u001b[0;34m=\u001b[0m \u001b[0msimulate_unicycle\u001b[0m\u001b[0;34m(\u001b[0m\u001b[0mpose\u001b[0m\u001b[0;34m,\u001b[0m\u001b[0mv\u001b[0m\u001b[0;34m,\u001b[0m\u001b[0mw\u001b[0m\u001b[0;34m)\u001b[0m \u001b[0;31m#Number of steps = prediction horizon\u001b[0m\u001b[0;34m\u001b[0m\u001b[0;34m\u001b[0m\u001b[0m\n\u001b[1;32m     49\u001b[0m \u001b[0;34m\u001b[0m\u001b[0m\n\u001b[0;32m---> 50\u001b[0;31m         \u001b[0;32mif\u001b[0m \u001b[0mcircle_collision_check\u001b[0m\u001b[0;34m(\u001b[0m\u001b[0mgrid\u001b[0m\u001b[0;34m,\u001b[0m \u001b[0mlocal_path\u001b[0m\u001b[0;34m)\u001b[0m\u001b[0;34m:\u001b[0m \u001b[0;31m#ignore colliding paths\u001b[0m\u001b[0;34m\u001b[0m\u001b[0;34m\u001b[0m\u001b[0m\n\u001b[0m\u001b[1;32m     51\u001b[0m             \u001b[0mprint\u001b[0m\u001b[0;34m(\u001b[0m\u001b[0;34m\"local path has a collision\"\u001b[0m\u001b[0;34m)\u001b[0m\u001b[0;34m\u001b[0m\u001b[0;34m\u001b[0m\u001b[0m\n\u001b[1;32m     52\u001b[0m             \u001b[0;32mcontinue\u001b[0m\u001b[0;34m\u001b[0m\u001b[0;34m\u001b[0m\u001b[0m\n",
      "\u001b[0;31mNameError\u001b[0m: name 'circle_collision_check' is not defined"
     ]
    }
   ],
   "source": [
    "start_pose = np.array([0, 0, np.pi/2])\n",
    "route = [(\"straight\", 5),(\"turn\", -90),(\"straight\", 6),(\"turn\", 90)]\n",
    "ref_path = traj(route, start_pose).T\n",
    "\n",
    "pose = start_pose\n",
    "logs = []\n",
    "path_index = 0\n",
    "v, w = 0.0, 0.0\n",
    "while path_index < len(ref_path)-1:\n",
    "    t0 = time.time()\n",
    "    local_ref_path = ref_path[path_index:path_index+pred_horizon]\n",
    "    # update path_index using current pose and local_ref_path\n",
    "    path_index = pose + local_ref_path\n",
    "    # get next command\n",
    "    v, w = track(ref_path,pose,v,w)\n",
    "    \n",
    "    #simulate vehicle for 1 step\n",
    "    # remember the function now returns a trajectory, not a single pose\n",
    "    pose = simulate_unicycle(pose,v,w)\n",
    "    \n",
    "    #update logs\n",
    "    logs.append([*pose, v, w])\n",
    "    t1 = time.time() #simplest way to time-profile your code\n",
    "    print(f\"idx:{path_index}, v:{v:0.3f}, w:{w:0.3f}, time:{(t1-t0) * 1000:0.1f}ms\")\n"
   ]
  },
  {
   "cell_type": "code",
   "execution_count": null,
   "metadata": {},
   "outputs": [],
   "source": [
    "poses = np.array(logs)[:,:3]\n",
    "plt.figure()\n",
    "plt.axes().set_aspect('equal', 'datalim')\n",
    "plt.plot(ref_path[:,0], ref_path[:,1], '.', c='g')\n",
    "plt.plot(poses[:,0], poses[:,1], c='r')"
   ]
  },
  {
   "cell_type": "markdown",
   "metadata": {},
   "source": [
    "\n",
    "\n",
    "Now it should be relatively straight-forward to integrate collision checking in the grid environment the robot is going to navigate"
   ]
  }
 ],
 "metadata": {
  "interpreter": {
   "hash": "31f2aee4e71d21fbe5cf8b01ff0e069b9275f58929596ceb00d14d90e3e16cd6"
  },
  "kernelspec": {
   "display_name": "Python 3.8.10 64-bit",
   "name": "python3"
  },
  "language_info": {
   "codemirror_mode": {
    "name": "ipython",
    "version": 3
   },
   "file_extension": ".py",
   "mimetype": "text/x-python",
   "name": "python",
   "nbconvert_exporter": "python",
   "pygments_lexer": "ipython3",
   "version": "3.8.10"
  },
  "orig_nbformat": 4
 },
 "nbformat": 4,
 "nbformat_minor": 2
}