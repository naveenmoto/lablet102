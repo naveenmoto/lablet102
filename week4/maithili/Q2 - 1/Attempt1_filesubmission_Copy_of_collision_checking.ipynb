{
  "nbformat": 4,
  "nbformat_minor": 0,
  "metadata": {
    "kernelspec": {
      "display_name": "Python 3",
      "language": "python",
      "name": "python3"
    },
    "language_info": {
      "codemirror_mode": {
        "name": "ipython",
        "version": 3
      },
      "file_extension": ".py",
      "mimetype": "text/x-python",
      "name": "python",
      "nbconvert_exporter": "python",
      "pygments_lexer": "ipython3",
      "version": "3.9.1"
    },
    "varInspector": {
      "cols": {
        "lenName": 16,
        "lenType": 16,
        "lenVar": 40
      },
      "kernels_config": {
        "python": {
          "delete_cmd_postfix": "",
          "delete_cmd_prefix": "del ",
          "library": "var_list.py",
          "varRefreshCmd": "print(var_dic_list())"
        },
        "r": {
          "delete_cmd_postfix": ") ",
          "delete_cmd_prefix": "rm(",
          "library": "var_list.r",
          "varRefreshCmd": "cat(var_dic_list()) "
        }
      },
      "types_to_exclude": [
        "module",
        "function",
        "builtin_function_or_method",
        "instance",
        "_Feature"
      ],
      "window_display": true
    },
    "colab": {
      "name": "Copy of collision_checking.ipynb",
      "provenance": [],
      "collapsed_sections": []
    }
  },
  "cells": [
    {
      "cell_type": "markdown",
      "metadata": {
        "id": "QU4GWOPQimxu"
      },
      "source": [
        "Create a file called ref_trajectory.py. Copy the functions from week3 that enabled you to generate a trajectory given a sequence of straight/ turn commands"
      ]
    },
    {
      "cell_type": "code",
      "metadata": {
        "id": "U34UjaN3imyt"
      },
      "source": [
        "import cv2\n",
        "import numpy as np\n",
        "from PIL import Image\n",
        "import matplotlib.pyplot as plt\n",
        "from ref_trajectory import generate_trajectory as traj"
      ],
      "execution_count": 23,
      "outputs": []
    },
    {
      "cell_type": "markdown",
      "metadata": {
        "id": "bTNBCITsimyv"
      },
      "source": [
        "We will look at 2 ways to make a grid \n",
        "\n",
        "(a) Load an existing circuit (Use MS paint or anything else)\n",
        "\n",
        "(b) Make a custom grid\n",
        "\n",
        "Remember grid resolution is the key parameter to go from grid co-ordinates to world co-ordinates. What is the value of 1 pixel?"
      ]
    },
    {
      "cell_type": "code",
      "metadata": {
        "colab": {
          "base_uri": "https://localhost:8080/",
          "height": 282
        },
        "id": "OXkUjcrTimyw",
        "outputId": "e05695e5-3a78-4bd0-98d6-1330107c3a50"
      },
      "source": [
        "grid_res = 0.05\n",
        "image = Image.open('./circuit.png').convert('LA') # open the test circuit\n",
        "grid_data = np.asarray(image)[:,:,0]/255\n",
        "\n",
        "#find the shape\n",
        "grid_shape = np.array(grid_data.shape)\n",
        "\n",
        "#find the real-world extents of the grid: opposite vertices of the rectangle\n",
        "x1, y1 = 0, 0\n",
        "#use shape and grid_res to calculate the top-right vertex\n",
        "x2, y2 =  grid_shape*grid_res\n",
        "print(x2, y2)\n",
        "#display the image using imshow()\n",
        "#pay attention to the keywords origin, cmap and extent\n",
        "#Default origin is top-left, but we should use 'lower'\n",
        "#how should grid_data be transformed\n",
        "plt.figure()\n",
        "\n",
        "#complete\n",
        "plt.imshow(grid_data, cmap = plt.cm.gray, extent=[x1,x2,y1,y2])\n",
        "start_pose = np.array([12, 4, np.pi/2])\n",
        "plt.plot(start_pose[0], start_pose[1],'r+')\n",
        "plt.show()"
      ],
      "execution_count": 24,
      "outputs": [
        {
          "output_type": "stream",
          "text": [
            "27.85 38.300000000000004\n"
          ],
          "name": "stdout"
        },
        {
          "output_type": "display_data",
          "data": {
            "image/png": "[encoded data removed]",
            "text/plain": [
              "<Figure size 432x288 with 1 Axes>"
            ]
          },
          "metadata": {
            "tags": [],
            "needs_background": "light"
          }
        }
      ]
    },
    {
      "cell_type": "code",
      "metadata": {
        "colab": {
          "base_uri": "https://localhost:8080/",
          "height": 286
        },
        "id": "8vDWpxjDimyy",
        "outputId": "f955c828-4dd7-4bd4-e910-6b3a851ba43c"
      },
      "source": [
        "#custom grid\n",
        "#choose resolution and dimensions\n",
        "grid_res = 0.05\n",
        "grid_span =  50 # square circuit dimensions in m\n",
        "\n",
        "#calculate grid_shape from grid\n",
        "# dimensions have to be integers\n",
        "grid_shape = (np.array([grid_span]*2)/grid_res).astype('int')\n",
        "#Initialize \n",
        "grid_data = np.zeros(grid_shape)\n",
        "\n",
        "#Create rectangular obstacles in world co-ordinates\n",
        "#xmin, xmax, ymin, ymax\n",
        "obstacles = np.array([[25, 26, 10, 40],\n",
        "                       [2, 8, 16, 20]]) \n",
        "for obs in obstacles:\n",
        "    # calculate obstacles extent in pixel coords\n",
        "    xmin, xmax, ymin, ymax = (obs/grid_res).astype('int')\n",
        "    # mark them as occupied\n",
        "    grid_data[xmin:xmax ,ymin:ymax ] = 1.0\n",
        "\n",
        "#calculate the extents    \n",
        "x1, y1 = 0, 0\n",
        "x2, y2 = grid_span, grid_span\n",
        "\n",
        "#imshow() from prior cell\n",
        "plt.figure()\n",
        "plt.imshow(1-grid_data.T, origin='lower', cmap=plt.cm.gray, extent=[x1,x2,y1,y2] )"
      ],
      "execution_count": 25,
      "outputs": [
        {
          "output_type": "execute_result",
          "data": {
            "text/plain": [
              "<matplotlib.image.AxesImage at 0x7f9345471650>"
            ]
          },
          "metadata": {
            "tags": []
          },
          "execution_count": 25
        },
        {
          "output_type": "display_data",
          "data": {
            "image/png": "[encoded data removed]",
            "text/plain": [
              "<Figure size 432x288 with 1 Axes>"
            ]
          },
          "metadata": {
            "tags": [],
            "needs_background": "light"
          }
        }
      ]
    },
    {
      "cell_type": "markdown",
      "metadata": {
        "id": "POeSDXymimy0"
      },
      "source": [
        "Plot the reference trajectory on the grid environment"
      ]
    },
    {
      "cell_type": "code",
      "metadata": {
        "colab": {
          "base_uri": "https://localhost:8080/",
          "height": 350
        },
        "id": "B3ToVDOlimy0",
        "outputId": "f41a5051-025b-4fd3-dd85-a98e49a1c648"
      },
      "source": [
        "#pick a suitable starting pose\n",
        "start_pose = np.array([2, 6, np.pi/2])\n",
        "#we will use same route as before\n",
        "route = [(\"straight\", 5),(\"turn\", -90),(\"straight\", 6),(\"turn\", 90)]\n",
        "\n",
        "#calculate ref_path from traj()\n",
        "# we want it to be numpy array of dimensions (N, 3)\n",
        "ref_path = traj(route, start_pose).T\n",
        "\n",
        "\n",
        "#plot the grid and \n",
        "plt.imshow(1-grid_data.T, origin='lower', cmap=plt.cm.gray, extent=[x1,x2,y1,y2])\n",
        "plt.plot(ref_path[:,0], ref_path[:,1])\n",
        "plt.plot(start_pose[0], start_pose[1],'r+')"
      ],
      "execution_count": 27,
      "outputs": [
        {
          "output_type": "error",
          "ename": "TypeError",
          "evalue": "ignored",
          "traceback": [
            "\u001b[0;31m---------------------------------------------------------------------------\u001b[0m",
            "\u001b[0;31mTypeError\u001b[0m                                 Traceback (most recent call last)",
            "\u001b[0;32m<ipython-input-27-2dc2b7637a63>\u001b[0m in \u001b[0;36m<module>\u001b[0;34m()\u001b[0m\n\u001b[1;32m      6\u001b[0m \u001b[0;31m#calculate ref_path from traj()\u001b[0m\u001b[0;34m\u001b[0m\u001b[0;34m\u001b[0m\u001b[0;34m\u001b[0m\u001b[0m\n\u001b[1;32m      7\u001b[0m \u001b[0;31m# we want it to be numpy array of dimensions (N, 3)\u001b[0m\u001b[0;34m\u001b[0m\u001b[0;34m\u001b[0m\u001b[0;34m\u001b[0m\u001b[0m\n\u001b[0;32m----> 8\u001b[0;31m \u001b[0mref_path\u001b[0m \u001b[0;34m=\u001b[0m \u001b[0mtraj\u001b[0m\u001b[0;34m(\u001b[0m\u001b[0mroute\u001b[0m\u001b[0;34m,\u001b[0m \u001b[0mstart_pose\u001b[0m\u001b[0;34m)\u001b[0m\u001b[0;34m.\u001b[0m\u001b[0mT\u001b[0m\u001b[0;34m\u001b[0m\u001b[0;34m\u001b[0m\u001b[0m\n\u001b[0m\u001b[1;32m      9\u001b[0m \u001b[0;34m\u001b[0m\u001b[0m\n\u001b[1;32m     10\u001b[0m \u001b[0;34m\u001b[0m\u001b[0m\n",
            "\u001b[0;32m/content/ref_trajectory.py\u001b[0m in \u001b[0;36mgenerate_trajectory\u001b[0;34m(route, init_pose)\u001b[0m\n\u001b[1;32m     41\u001b[0m         \u001b[0mt\u001b[0m \u001b[0;34m=\u001b[0m \u001b[0mnp\u001b[0m\u001b[0;34m.\u001b[0m\u001b[0mconcatenate\u001b[0m\u001b[0;34m(\u001b[0m\u001b[0;34m[\u001b[0m\u001b[0mt\u001b[0m\u001b[0;34m,\u001b[0m \u001b[0mpt\u001b[0m\u001b[0;34m]\u001b[0m\u001b[0;34m)\u001b[0m\u001b[0;34m\u001b[0m\u001b[0;34m\u001b[0m\u001b[0m\n\u001b[1;32m     42\u001b[0m \u001b[0;34m\u001b[0m\u001b[0m\n\u001b[0;32m---> 43\u001b[0;31m     \u001b[0;32mreturn\u001b[0m \u001b[0mnp\u001b[0m\u001b[0;34m.\u001b[0m\u001b[0mvstack\u001b[0m\u001b[0;34m(\u001b[0m\u001b[0;34m[\u001b[0m\u001b[0mx\u001b[0m\u001b[0;34m,\u001b[0m \u001b[0my\u001b[0m\u001b[0;34m,\u001b[0m \u001b[0mt\u001b[0m\u001b[0;34m]\u001b[0m\u001b[0;34m)\u001b[0m\u001b[0;34m\u001b[0m\u001b[0;34m\u001b[0m\u001b[0m\n\u001b[0m",
            "\u001b[0;31mTypeError\u001b[0m: 'function' object is not subscriptable"
          ]
        }
      ]
    },
    {
      "cell_type": "markdown",
      "metadata": {
        "id": "0mWI250simy1"
      },
      "source": [
        "Let us now use circle approximation to perform collision checking. We will use w=0.8, l=1.2m as mule dimensions. Calculate the 4 vertices of the mule\n",
        "\n",
        "Circle parameters are offset and radii\n",
        "\n",
        "You would have to plot the mule rectangle and 3 circles"
      ]
    },
    {
      "cell_type": "code",
      "metadata": {
        "colab": {
          "base_uri": "https://localhost:8080/",
          "height": 265
        },
        "id": "ZlYAllNyimy1",
        "outputId": "f8967ce1-0dcf-4216-fa94-6b94f9673085"
      },
      "source": [
        "w=0.8\n",
        "l=1.2\n",
        "mule_extents = np.array([[-w/2,-l/2],\n",
        "                         [w/2, -l/2],\n",
        "                         [w/2, l/2],\n",
        "                         [-w/2, l/2],\n",
        "                         [-w/2,-l/2]])\n",
        "\n",
        "                        \n",
        "r = 0.5\n",
        "l = 0.4\n",
        "circles = [(0, 0, r), (0, l, r), (0, -l, r)]\n",
        "\n",
        "plt.figure()\n",
        "#plot rectangle or just the 4 vertices\n",
        "for vertex in mule_extents:\n",
        "    p, q = vertex\n",
        "    plt.plot(p, q, 'b.')\n",
        "for v1, v2 in zip(mule_extents[:-1],mule_extents[1:]):\n",
        "    p1, q1 = v1\n",
        "    p2, q2 = v2\n",
        "    plt.plot((p1, p2), (q1,q2), 'k-')\n",
        "   \n",
        "ax = plt.gca()\n",
        "for x,y,rad in circles:\n",
        "    ax.add_patch(plt.Circle((x,y), rad, fill=False))"
      ],
      "execution_count": null,
      "outputs": [
        {
          "output_type": "display_data",
          "data": {
            "image/png": "[encoded data removed]",
            "text/plain": [
              "<Figure size 432x288 with 1 Axes>"
            ]
          },
          "metadata": {
            "tags": [],
            "needs_background": "light"
          }
        }
      ]
    },
    {
      "cell_type": "markdown",
      "metadata": {
        "id": "WB2LRIhMimy2"
      },
      "source": [
        "Write a function to find if there is a collision given the grid and the local path\n",
        "\n",
        "1. Rotate the 3 circle vertices along the local path\n",
        "\n",
        "2. Check if $(x-x_c)^2 + (y-y_c)^2 < r$ and grid[x, y] = 1.0\n",
        "\n",
        "3. Return True or False\n",
        "\n",
        "You can assume circles variable (approximation of the vehicle dimensions) is assumed as a global variable\n",
        "\n",
        "What do you think is a simple unit test?"
      ]
    },
    {
      "cell_type": "code",
      "metadata": {
        "id": "jhYcIixAimy3"
      },
      "source": [
        "grid_res = 0.05\n",
        "def circle_collision_check(grid, local_traj):\n",
        "    xmax, ymax = grid.shape\n",
        "    all_x = np.arange(xmax)\n",
        "    all_y = np.arange(ymax)\n",
        "    X, Y = np.meshgrid(all_x, all_y)\n",
        "    for xl, yl, tl in local_traj:\n",
        "      rot = np.array([[np.sin(tl), -np.cos(tl)],[np.cos(tl), np.sin(tl)]])\n",
        "      for xc, yc, rc in circles:\n",
        "        xc_rot, yc_rot = rot @ np.array([xc, yc]) + np.array([xl, yl])\n",
        "        xc_pix, yc_pix = int(xc_rot/grid_res), int(yc_rot/ grid_res)\n",
        "        rc_pix = (rc/ grid_res)\n",
        "        inside_circle = ((X-xc_pix)**2 +(Y-yc_pix)**2 - rc_pix**2 < 0)\n",
        "        occupied_pt = grid[X, Y] == 1\n",
        "        if np.sum(np.multiply(inside_circle, occupied_pt)):\n",
        "          return True\n",
        "    return False"
      ],
      "execution_count": null,
      "outputs": []
    },
    {
      "cell_type": "code",
      "metadata": {
        "id": "b51cuQd55NI6",
        "colab": {
          "base_uri": "https://localhost:8080/",
          "height": 304
        },
        "outputId": "30409c9e-aa06-47ec-de09-289848ee85ce"
      },
      "source": [
        "local_traj = np.array([[0, 0.25, np.pi/2], [0, 1.0, np.pi/2], [0, 1.5, np.pi/2]])\n",
        "grid = np.zeros([50, 50])\n",
        "grid[0:2,30:32] = 1.0\n",
        "print(circle_collision_check(grid, local_traj))\n",
        "plt.imshow(1 - grid.T, origin='lower',cmap = plt.cm.gray, extent = [0, 2.5, 0, 2.5])"
      ],
      "execution_count": null,
      "outputs": [
        {
          "output_type": "stream",
          "text": [
            "True\n"
          ],
          "name": "stdout"
        },
        {
          "output_type": "execute_result",
          "data": {
            "text/plain": [
              "<matplotlib.image.AxesImage at 0x7f934555c5d0>"
            ]
          },
          "metadata": {
            "tags": []
          },
          "execution_count": 17
        },
        {
          "output_type": "display_data",
          "data": {
            "image/png": "[encoded data removed]",
            "text/plain": [
              "<Figure size 432x288 with 1 Axes>"
            ]
          },
          "metadata": {
            "tags": [],
            "needs_background": "light"
          }
        }
      ]
    },
    {
      "cell_type": "markdown",
      "metadata": {
        "id": "ZERgulTTimy3"
      },
      "source": [
        "Let us move onto the more complicated swath collision checking\n",
        "\n",
        "Write a function to trace the footprint of the vehicle along the local path.\n",
        "\n",
        "Input: grid_size, local path\n",
        "Output: footprint\n",
        "\n",
        "Start with an empty grid of similar size\n",
        "\n",
        "1. Rotate the 4 vertices of the mule rectangle along the local path\n",
        "\n",
        "2. Collect all the vertices and calculate the convex hull. Remember to typecast them as float32 as cv2..convexHull() expects that\n",
        "\n",
        "3. Use fillConvexPoly() to fill up the hull"
      ]
    },
    {
      "cell_type": "code",
      "metadata": {
        "colab": {
          "base_uri": "https://localhost:8080/",
          "height": 235
        },
        "id": "AP9nMvUQimy4",
        "outputId": "c7806606-be59-4936-a58b-53d2d9e1de36"
      },
      "source": [
        "def swath_footprint(local_path,grid_size):\n",
        "    #initialize image\n",
        "    img = np.zeros(grid_size)\n",
        "    vertices = []\n",
        "    for xl,yl,tl in local_path:\n",
        "        rot = np.array([[np.sin(tl), -np.cos(tl)],[np.cos(tl), np.sin(tl)]])\n",
        "        for vertex in mule_extents:\n",
        "            rot_vertex = rot @ vertex + np.array([xl, yl])\n",
        "            vertices.append(rot_vertex)\n",
        "    vertices = np.array(vertices,dtype='float32')\n",
        "    hull_vertices = cv2.convexHull(vertices)\n",
        "    #change hull vertices to grid coords and typecast as int32\n",
        "    hull_vertices = (hull_vertices/grid_res).astype('int32')\n",
        "    \n",
        "    cv2.fillConvexPoly(img,hull_vertices,1)\n",
        "    return img.T == 1\n",
        "\n",
        "s, e = 5, 20\n",
        "footprint = swath_footprint(ref_path[s:e], grid_data.shape)\n",
        "plt.imshow(1 - footprint.T, origin='lower', cmap=plt.cm.gray, extent=[x1,x2,y1,y2])\n",
        "plt.plot(ref_path[:,0], ref_path[:,1],'b-')\n",
        "plt.plot(ref_path[s:e,0], ref_path[s:e,1],'r-')\n",
        "plt.xlim(0, 10)\n",
        "plt.ylim(0, 20)"
      ],
      "execution_count": null,
      "outputs": [
        {
          "output_type": "error",
          "ename": "NameError",
          "evalue": "ignored",
          "traceback": [
            "\u001b[0;31m---------------------------------------------------------------------------\u001b[0m",
            "\u001b[0;31mNameError\u001b[0m                                 Traceback (most recent call last)",
            "\u001b[0;32m<ipython-input-18-1553a7a1fe54>\u001b[0m in \u001b[0;36m<module>\u001b[0;34m()\u001b[0m\n\u001b[1;32m     17\u001b[0m \u001b[0;34m\u001b[0m\u001b[0m\n\u001b[1;32m     18\u001b[0m \u001b[0ms\u001b[0m\u001b[0;34m,\u001b[0m \u001b[0me\u001b[0m \u001b[0;34m=\u001b[0m \u001b[0;36m5\u001b[0m\u001b[0;34m,\u001b[0m \u001b[0;36m20\u001b[0m\u001b[0;34m\u001b[0m\u001b[0;34m\u001b[0m\u001b[0m\n\u001b[0;32m---> 19\u001b[0;31m \u001b[0mfootprint\u001b[0m \u001b[0;34m=\u001b[0m \u001b[0mswath_footprint\u001b[0m\u001b[0;34m(\u001b[0m\u001b[0mref_path\u001b[0m\u001b[0;34m[\u001b[0m\u001b[0ms\u001b[0m\u001b[0;34m:\u001b[0m\u001b[0me\u001b[0m\u001b[0;34m]\u001b[0m\u001b[0;34m,\u001b[0m \u001b[0mgrid_data\u001b[0m\u001b[0;34m.\u001b[0m\u001b[0mshape\u001b[0m\u001b[0;34m)\u001b[0m\u001b[0;34m\u001b[0m\u001b[0;34m\u001b[0m\u001b[0m\n\u001b[0m\u001b[1;32m     20\u001b[0m \u001b[0mplt\u001b[0m\u001b[0;34m.\u001b[0m\u001b[0mimshow\u001b[0m\u001b[0;34m(\u001b[0m\u001b[0;36m1\u001b[0m \u001b[0;34m-\u001b[0m \u001b[0mfootprint\u001b[0m\u001b[0;34m.\u001b[0m\u001b[0mT\u001b[0m\u001b[0;34m,\u001b[0m \u001b[0morigin\u001b[0m\u001b[0;34m=\u001b[0m\u001b[0;34m'lower'\u001b[0m\u001b[0;34m,\u001b[0m \u001b[0mcmap\u001b[0m\u001b[0;34m=\u001b[0m\u001b[0mplt\u001b[0m\u001b[0;34m.\u001b[0m\u001b[0mcm\u001b[0m\u001b[0;34m.\u001b[0m\u001b[0mgray\u001b[0m\u001b[0;34m,\u001b[0m \u001b[0mextent\u001b[0m\u001b[0;34m=\u001b[0m\u001b[0;34m[\u001b[0m\u001b[0mx1\u001b[0m\u001b[0;34m,\u001b[0m\u001b[0mx2\u001b[0m\u001b[0;34m,\u001b[0m\u001b[0my1\u001b[0m\u001b[0;34m,\u001b[0m\u001b[0my2\u001b[0m\u001b[0;34m]\u001b[0m\u001b[0;34m)\u001b[0m\u001b[0;34m\u001b[0m\u001b[0;34m\u001b[0m\u001b[0m\n\u001b[1;32m     21\u001b[0m \u001b[0mplt\u001b[0m\u001b[0;34m.\u001b[0m\u001b[0mplot\u001b[0m\u001b[0;34m(\u001b[0m\u001b[0mref_path\u001b[0m\u001b[0;34m[\u001b[0m\u001b[0;34m:\u001b[0m\u001b[0;34m,\u001b[0m\u001b[0;36m0\u001b[0m\u001b[0;34m]\u001b[0m\u001b[0;34m,\u001b[0m \u001b[0mref_path\u001b[0m\u001b[0;34m[\u001b[0m\u001b[0;34m:\u001b[0m\u001b[0;34m,\u001b[0m\u001b[0;36m1\u001b[0m\u001b[0;34m]\u001b[0m\u001b[0;34m,\u001b[0m\u001b[0;34m'b-'\u001b[0m\u001b[0;34m)\u001b[0m\u001b[0;34m\u001b[0m\u001b[0;34m\u001b[0m\u001b[0m\n",
            "\u001b[0;31mNameError\u001b[0m: name 'ref_path' is not defined"
          ]
        }
      ]
    },
    {
      "cell_type": "markdown",
      "metadata": {
        "id": "GzCFx6OVimy6"
      },
      "source": [
        "Once you know the footprint, it should be easy to see if the footprint coincides with any occupied cells in the original grid\n",
        "\n",
        "Try out some examples to unit test your code for both circle checking and swath checking\n",
        "\n",
        "In practice, you can write this as a CollisionChecking class where the mule dimensions are read from a config file and initialized. Global variables are best avoided in production code\n"
      ]
    },
    {
      "cell_type": "code",
      "metadata": {
        "id": "irFlHd4simy7"
      },
      "source": [
        ""
      ],
      "execution_count": null,
      "outputs": []
    }
  ]
}