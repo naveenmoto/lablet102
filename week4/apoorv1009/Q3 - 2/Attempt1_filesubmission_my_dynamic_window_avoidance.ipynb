{
  "nbformat": 4,
  "nbformat_minor": 0,
  "metadata": {
    "kernelspec": {
      "display_name": "Python 3",
      "language": "python",
      "name": "python3"
    },
    "language_info": {
      "codemirror_mode": {
        "name": "ipython",
        "version": 3
      },
      "file_extension": ".py",
      "mimetype": "text/x-python",
      "name": "python",
      "nbconvert_exporter": "python",
      "pygments_lexer": "ipython3",
      "version": "3.9.1"
    },
    "varInspector": {
      "cols": {
        "lenName": 16,
        "lenType": 16,
        "lenVar": 40
      },
      "kernels_config": {
        "python": {
          "delete_cmd_postfix": "",
          "delete_cmd_prefix": "del ",
          "library": "var_list.py",
          "varRefreshCmd": "print(var_dic_list())"
        },
        "r": {
          "delete_cmd_postfix": ") ",
          "delete_cmd_prefix": "rm(",
          "library": "var_list.r",
          "varRefreshCmd": "cat(var_dic_list()) "
        }
      },
      "types_to_exclude": [
        "module",
        "function",
        "builtin_function_or_method",
        "instance",
        "_Feature"
      ],
      "window_display": true
    },
    "colab": {
      "name": "my_dynamic_window_avoidance.ipynb",
      "provenance": [],
      "collapsed_sections": []
    }
  },
  "cells": [
    {
      "cell_type": "code",
      "metadata": {
        "id": "dJG6WuVT9ydj"
      },
      "source": [
        "import time\n",
        "import toml\n",
        "import numpy as np\n",
        "import matplotlib.pyplot as plt\n",
        "from ref_trajectory import generate_trajectory as traj\n",
        "%matplotlib inline"
      ],
      "execution_count": 26,
      "outputs": []
    },
    {
      "cell_type": "markdown",
      "metadata": {
        "id": "2C69Evwd9ydy"
      },
      "source": [
        "There are a lot of configuration parameters. It is a good idea to separate it from the main code. At some point you will be doing parameter tuning. \n",
        "\n",
        "We will use toml format to store parameters. Open config.toml and go over the description of the different parameters we may use here\n",
        "\n",
        "Read the config parameters, default output is a dictionary. You have to then store them as local variables. \n",
        "You have 2 options for this\n",
        "1. update locals() directly - a little bit dangerous\n",
        "2. You can use itemgetter"
      ]
    },
    {
      "cell_type": "code",
      "metadata": {
        "colab": {
          "base_uri": "https://localhost:8080/"
        },
        "id": "X35dd58o9ydz",
        "outputId": "d62639f8-4e00-43db-bb12-80678a52e048"
      },
      "source": [
        "config_params = toml.load(\"config.toml\")['params']\n",
        "print(config_params)\n",
        "locals().update(config_params)\n",
        "print(dt, V_MAX)"
      ],
      "execution_count": 27,
      "outputs": [
        {
          "output_type": "stream",
          "text": [
            "{'dt': 0.1, 'V_MAX': 1.2, 'W_MAX': 1.0, 'K_MAX': 0.5, 'MIN_DIST': 1.0, 'ACC_MAX': 0.5, 'W_DOT_MAX': 3.0, 'LATERAL_ACC_MAX': 1.5, 'goal_threshold': 0.05, 'pred_horizon': 10, 'w_cte': 1.0, 'w_speed': 1.0}\n",
            "0.1 1.2\n"
          ],
          "name": "stdout"
        }
      ]
    },
    {
      "cell_type": "markdown",
      "metadata": {
        "id": "36XoG26K9yfD"
      },
      "source": [
        "There are 3 functions we need to write for DWA\n",
        "\n",
        "1. Simulate unicyle - we will slightly modify it to simulate $N$ steps \n",
        "\n",
        "2. Command Window - Entire set of acceptable $(v, \\omega)$ in that time instant given current $(v, \\omega)$$\n",
        "\n",
        "3. track - get $(v, \\omega )$ for path with the lowest cost\n",
        "\n",
        "In the first iteration, let us not integrate collision checking. Let us integrate these pieces, make sure DWA works for a few paths!"
      ]
    },
    {
      "cell_type": "code",
      "metadata": {
        "id": "iHEJR6iCEhJf",
        "colab": {
          "base_uri": "https://localhost:8080/"
        },
        "outputId": "1c1c3eca-c97f-4a8b-e018-12c5b05d154d"
      },
      "source": [
        "\"\"\" \n",
        "The code to generate the different pairs given the suitable v,w values computed\n",
        "This is the same example used as in the theory lectures                         \n",
        "\"\"\"\n",
        "v_min, v_max = 0.9, 1.1\n",
        "w_min, w_max = -0.1, 0.1\n",
        "vs = np.linspace(v_min, v_max, num=5)\n",
        "ws = np.linspace(w_min, w_max, num=5)\n",
        "cmd = np.transpose([np.tile(vs, len(ws)), np.repeat(ws, len(vs))])\n",
        "print(cmd)\n",
        "print(cmd.shape)"
      ],
      "execution_count": 28,
      "outputs": [
        {
          "output_type": "stream",
          "text": [
            "[[ 0.9  -0.1 ]\n",
            " [ 0.95 -0.1 ]\n",
            " [ 1.   -0.1 ]\n",
            " [ 1.05 -0.1 ]\n",
            " [ 1.1  -0.1 ]\n",
            " [ 0.9  -0.05]\n",
            " [ 0.95 -0.05]\n",
            " [ 1.   -0.05]\n",
            " [ 1.05 -0.05]\n",
            " [ 1.1  -0.05]\n",
            " [ 0.9   0.  ]\n",
            " [ 0.95  0.  ]\n",
            " [ 1.    0.  ]\n",
            " [ 1.05  0.  ]\n",
            " [ 1.1   0.  ]\n",
            " [ 0.9   0.05]\n",
            " [ 0.95  0.05]\n",
            " [ 1.    0.05]\n",
            " [ 1.05  0.05]\n",
            " [ 1.1   0.05]\n",
            " [ 0.9   0.1 ]\n",
            " [ 0.95  0.1 ]\n",
            " [ 1.    0.1 ]\n",
            " [ 1.05  0.1 ]\n",
            " [ 1.1   0.1 ]]\n",
            "(25, 2)\n"
          ],
          "name": "stdout"
        }
      ]
    },
    {
      "cell_type": "code",
      "metadata": {
        "id": "xzJRZChnGRlb"
      },
      "source": [
        "def simulate_unicycle(pose, v,w, N=1, dt=0.1):\n",
        "    x, y, t = pose\n",
        "    poses = []\n",
        "    for _ in range(N):\n",
        "        x += v*np.cos(t)*dt\n",
        "        y += v*np.sin(t)*dt\n",
        "        t += w*dt\n",
        "        poses.append([x,y,t])   \n",
        "    return poses"
      ],
      "execution_count": 29,
      "outputs": []
    },
    {
      "cell_type": "code",
      "metadata": {
        "id": "lCuZ6au7LRYY"
      },
      "source": [
        "def command_window(v, w, dt=0.1):\n",
        "    \"\"\"Returns acceptable v,w commands given current v,w\"\"\"\n",
        "    \n",
        "    # velocity can be (0, V_MAX)\n",
        "    # ACC_MAX = max linear acceleration\n",
        "    v_max = min(V_MAX, v + ACC_MAX*dt)   \n",
        "    # above statement returns velocity after 0.1s with acc =  ACC_MAX, provided returned velocity < V_MAX, otherwise returns V_MAX\n",
        "    v_min = max(0, v - ACC_MAX*dt)   \n",
        "    # above statement returns velocity after 0.1s with deacc =  ACC_MAX, provided returned velocity > 0, otherwise returns 0\n",
        "\n",
        "    # omega can be (-W_MAX, W_MAX)\n",
        "    #W_DOT_MAX = max angular acceleration\n",
        "    w_max = min(W_MAX, w + W_DOT_MAX*dt)\n",
        "    w_min = max(-W_MAX, w - W_DOT_MAX*dt)\n",
        "    \n",
        "    #generate quantized range for v and omega\n",
        "    vs = np.linspace(v_min, v_max, num=11)\n",
        "    ws = np.linspace(w_min, w_max, num=21)\n",
        "    \n",
        "    #cartesian product of [vs] and [ws]\n",
        "    #remember there are 0 velocity entries which have to be discarded eventually\n",
        "    commands = np.transpose([np.tile(vs, len(ws)), np.repeat(ws, len(vs))])   # Cartesian product\n",
        "    \n",
        "    #calculate kappa for the set of commands  (w/v)\n",
        "    epsilon = 1e-6\n",
        "    #       (   w_values  ) / (     v_values + epsilon)\n",
        "    kappa = (commands[:,1]) / (commands[:,0] + epsilon)  \n",
        "    # epsilon is added to get rid of zero error, ie when v = 0, w/v is undefined \n",
        "    \n",
        "    #returning only commands < max curvature \n",
        "    return commands[(kappa < K_MAX) & (commands[:, 0] != 0)]"
      ],
      "execution_count": 30,
      "outputs": []
    },
    {
      "cell_type": "code",
      "metadata": {
        "id": "XJcCWnEN9yfE"
      },
      "source": [
        "def track(ref_path, pose, v, w, dt=0.1):\n",
        "    commands = command_window(v, w, dt)\n",
        "    #initialize path cost\n",
        "    best_cost, best_command = np.inf, None\n",
        "    for i, (v, w) in enumerate(commands):\n",
        "        local_path = simulate_unicycle(pose, v, w, pred_horizon)   # Number of steps = prediction horizon\n",
        "        final_x, final_y = local_path[-1][0], local_path[-1][1]   # Get last position\n",
        "\n",
        "        # Ignore collision check for now\n",
        "        # if circle_collision_check(grid, local_path): #ignore colliding paths\n",
        "        #     print(\"local path has a collision\")\n",
        "        #     continue\n",
        "        \n",
        "        # calculate cross-track error\n",
        "        # can use a simplistic definition of how close is the last pose in local path from the ref path\n",
        "        cte = np.inf\n",
        "\n",
        "        # Calculate distance between final ref_path point and final local_path point\n",
        "        cte = np.sqrt((ref_path[-1][0]-local_path[-1][0])**2 + (ref_path[-1][1]-local_path[-1][1])**2)\n",
        "        # other cost functions are possible\n",
        "        # can modify collision checker to give distance to closest obstacle\n",
        "        cost = w_cte*cte + w_speed*(V_MAX - v)**2 \n",
        "        \n",
        "        #check if there is a better candidate\n",
        "        if cost < best_cost:\n",
        "            best_cost, best_command = cost, [v, w]\n",
        "\n",
        "    if best_command:\n",
        "        return best_command\n",
        "    else:\n",
        "        return [0, 0]"
      ],
      "execution_count": 31,
      "outputs": []
    },
    {
      "cell_type": "code",
      "metadata": {
        "id": "Pt90nCok9yfF",
        "colab": {
          "base_uri": "https://localhost:8080/"
        },
        "outputId": "7180a799-fa39-4f37-b61b-2cce1287cce1"
      },
      "source": [
        "# start_pose = np.array([0, 0, np.pi/2])\n",
        "start_pose = [0, 0, np.pi/2]\n",
        "route = [(\"straight\", 5),(\"turn\", -90),(\"straight\", 6),(\"turn\", 90)]\n",
        "ref_path = traj(route, start_pose).T\n",
        "\n",
        "pose = start_pose\n",
        "logs = []\n",
        "path_index = 0\n",
        "v, w = 0.0, 0.0\n",
        "while path_index < len(ref_path) - 1:\n",
        "    t0 = time.time()\n",
        "    local_ref_path = ref_path[path_index:path_index+pred_horizon]\n",
        "    # print(np.round(local_ref_path,3))\n",
        "    curr_x, curr_y = pose[0], pose[1]\n",
        "    local_x, local_y = local_ref_path[-1][0], local_ref_path[-1][1]\n",
        "    # update path_index using current pose and local_ref_path\n",
        "    if np.sqrt((local_x-curr_x)**2 + (local_y-curr_y)**2) < goal_threshold*10:\n",
        "      path_index = path_index + 1\n",
        "\n",
        "    # get next command\n",
        "    v, w = track(local_ref_path, pose, v, w)\n",
        "    \n",
        "    #simulate vehicle for 1 step\n",
        "    # remember the function now returns a trajectory, not a single pose\n",
        "    pose = simulate_unicycle(tuple(pose), v, w)\n",
        "    pose = pose[0]\n",
        "    # print(np.round(pose,3))\n",
        "    #update logs\n",
        "    logs.append([*pose, v, w])\n",
        "    t1 = time.time() #simplest way to time-profile your code\n",
        "    print(f\"idx:{path_index}, v:{v:0.3f}, w:{w:0.3f}, time:{(t1-t0) * 1000:0.1f}ms\")\n",
        "# print(pose)"
      ],
      "execution_count": 32,
      "outputs": [
        {
          "output_type": "stream",
          "text": [
            "idx:0, v:0.050, w:0.000, time:5.9ms\n",
            "idx:0, v:0.100, w:0.000, time:8.9ms\n",
            "idx:0, v:0.150, w:0.000, time:15.7ms\n",
            "idx:0, v:0.200, w:0.000, time:9.2ms\n",
            "idx:0, v:0.250, w:0.000, time:8.7ms\n",
            "idx:0, v:0.300, w:0.000, time:9.5ms\n",
            "idx:0, v:0.350, w:0.000, time:9.8ms\n",
            "idx:0, v:0.400, w:0.000, time:10.1ms\n",
            "idx:0, v:0.450, w:0.000, time:11.6ms\n",
            "idx:0, v:0.500, w:0.000, time:10.6ms\n",
            "idx:0, v:0.550, w:0.000, time:18.1ms\n",
            "idx:0, v:0.600, w:0.000, time:11.6ms\n",
            "idx:0, v:0.650, w:0.000, time:12.0ms\n",
            "idx:0, v:0.700, w:0.000, time:12.1ms\n",
            "idx:0, v:0.750, w:0.000, time:12.1ms\n",
            "idx:0, v:0.800, w:0.000, time:11.8ms\n",
            "idx:0, v:0.850, w:0.000, time:11.9ms\n",
            "idx:0, v:0.900, w:0.000, time:12.4ms\n",
            "idx:0, v:0.950, w:0.000, time:16.0ms\n",
            "idx:0, v:1.000, w:0.000, time:13.6ms\n",
            "idx:0, v:1.050, w:0.000, time:12.9ms\n",
            "idx:0, v:1.100, w:0.000, time:12.6ms\n",
            "idx:0, v:1.150, w:0.000, time:13.4ms\n",
            "idx:0, v:1.200, w:0.000, time:12.8ms\n",
            "idx:0, v:1.200, w:0.000, time:14.8ms\n",
            "idx:0, v:1.200, w:0.000, time:16.0ms\n",
            "idx:0, v:1.200, w:0.000, time:15.8ms\n",
            "idx:0, v:1.200, w:0.000, time:12.5ms\n",
            "idx:0, v:1.200, w:0.000, time:12.6ms\n",
            "idx:0, v:1.200, w:0.000, time:12.8ms\n",
            "idx:0, v:1.200, w:0.000, time:12.7ms\n",
            "idx:0, v:1.200, w:0.000, time:12.6ms\n",
            "idx:0, v:1.200, w:0.000, time:12.6ms\n",
            "idx:0, v:1.200, w:0.000, time:13.7ms\n",
            "idx:0, v:1.200, w:0.000, time:13.4ms\n",
            "idx:0, v:1.200, w:0.000, time:14.0ms\n",
            "idx:0, v:1.200, w:0.000, time:13.8ms\n",
            "idx:0, v:1.200, w:0.000, time:12.9ms\n",
            "idx:0, v:1.200, w:0.000, time:12.7ms\n",
            "idx:0, v:1.200, w:0.000, time:12.9ms\n",
            "idx:0, v:1.200, w:0.000, time:13.8ms\n",
            "idx:0, v:1.200, w:0.000, time:12.6ms\n",
            "idx:0, v:1.200, w:0.000, time:16.4ms\n",
            "idx:0, v:1.200, w:0.000, time:11.9ms\n",
            "idx:0, v:1.150, w:0.000, time:15.4ms\n",
            "idx:0, v:1.100, w:0.000, time:12.7ms\n",
            "idx:0, v:1.050, w:0.000, time:11.9ms\n",
            "idx:0, v:1.000, w:0.000, time:12.3ms\n",
            "idx:0, v:0.950, w:0.000, time:12.9ms\n",
            "idx:0, v:0.900, w:0.000, time:12.5ms\n",
            "idx:1, v:0.850, w:0.000, time:13.1ms\n",
            "idx:2, v:0.800, w:0.000, time:15.0ms\n",
            "idx:2, v:0.750, w:0.000, time:13.0ms\n",
            "idx:3, v:0.700, w:0.000, time:12.6ms\n",
            "idx:4, v:0.700, w:0.000, time:13.1ms\n",
            "idx:4, v:0.700, w:0.000, time:12.7ms\n",
            "idx:5, v:0.700, w:-0.030, time:12.7ms\n",
            "idx:6, v:0.700, w:-0.030, time:12.8ms\n",
            "idx:7, v:0.700, w:-0.030, time:15.3ms\n",
            "idx:7, v:0.700, w:-0.060, time:13.1ms\n",
            "idx:8, v:0.700, w:-0.060, time:12.4ms\n",
            "idx:9, v:0.700, w:-0.060, time:12.3ms\n",
            "idx:9, v:0.700, w:-0.090, time:12.5ms\n",
            "idx:10, v:0.700, w:-0.090, time:12.7ms\n",
            "idx:11, v:0.700, w:-0.120, time:13.6ms\n",
            "idx:11, v:0.700, w:-0.150, time:13.5ms\n",
            "idx:12, v:0.700, w:-0.150, time:21.4ms\n",
            "idx:13, v:0.700, w:-0.150, time:13.1ms\n",
            "idx:14, v:0.700, w:-0.180, time:14.9ms\n",
            "idx:14, v:0.700, w:-0.210, time:13.6ms\n",
            "idx:15, v:0.700, w:-0.210, time:12.4ms\n",
            "idx:16, v:0.700, w:-0.210, time:12.5ms\n",
            "idx:16, v:0.700, w:-0.240, time:12.3ms\n",
            "idx:17, v:0.700, w:-0.240, time:13.0ms\n",
            "idx:18, v:0.700, w:-0.240, time:15.2ms\n",
            "idx:18, v:0.700, w:-0.270, time:12.3ms\n",
            "idx:19, v:0.700, w:-0.270, time:12.4ms\n",
            "idx:20, v:0.700, w:-0.300, time:13.8ms\n",
            "idx:21, v:0.700, w:-0.300, time:18.1ms\n",
            "idx:21, v:0.700, w:-0.300, time:12.3ms\n",
            "idx:22, v:0.700, w:-0.300, time:14.0ms\n",
            "idx:23, v:0.700, w:-0.300, time:17.3ms\n",
            "idx:23, v:0.700, w:-0.330, time:13.3ms\n",
            "idx:24, v:0.700, w:-0.330, time:14.2ms\n",
            "idx:25, v:0.700, w:-0.330, time:15.7ms\n",
            "idx:25, v:0.700, w:-0.330, time:12.1ms\n",
            "idx:26, v:0.700, w:-0.330, time:12.2ms\n",
            "idx:27, v:0.700, w:-0.330, time:12.2ms\n",
            "idx:28, v:0.700, w:-0.330, time:11.9ms\n",
            "idx:28, v:0.700, w:-0.330, time:14.3ms\n",
            "idx:29, v:0.700, w:-0.330, time:12.5ms\n",
            "idx:30, v:0.700, w:-0.330, time:12.1ms\n",
            "idx:30, v:0.700, w:-0.330, time:15.3ms\n",
            "idx:31, v:0.700, w:-0.330, time:14.1ms\n",
            "idx:32, v:0.700, w:-0.330, time:11.7ms\n",
            "idx:32, v:0.700, w:-0.330, time:12.2ms\n",
            "idx:33, v:0.700, w:-0.330, time:13.4ms\n",
            "idx:34, v:0.700, w:-0.330, time:12.9ms\n",
            "idx:34, v:0.700, w:-0.330, time:13.1ms\n",
            "idx:35, v:0.700, w:-0.330, time:11.6ms\n",
            "idx:36, v:0.700, w:-0.330, time:15.5ms\n",
            "idx:37, v:0.700, w:-0.300, time:14.3ms\n",
            "idx:37, v:0.700, w:-0.300, time:11.6ms\n",
            "idx:38, v:0.700, w:-0.300, time:16.5ms\n",
            "idx:39, v:0.700, w:-0.300, time:16.5ms\n",
            "idx:39, v:0.700, w:-0.300, time:12.4ms\n",
            "idx:40, v:0.700, w:-0.300, time:12.5ms\n",
            "idx:41, v:0.700, w:-0.270, time:12.6ms\n",
            "idx:41, v:0.700, w:-0.270, time:13.2ms\n",
            "idx:42, v:0.700, w:-0.270, time:12.7ms\n",
            "idx:43, v:0.700, w:-0.240, time:12.5ms\n",
            "idx:44, v:0.700, w:-0.210, time:12.4ms\n",
            "idx:44, v:0.700, w:-0.210, time:12.7ms\n",
            "idx:45, v:0.700, w:-0.210, time:12.2ms\n",
            "idx:46, v:0.700, w:-0.180, time:12.0ms\n",
            "idx:46, v:0.700, w:-0.180, time:12.6ms\n",
            "idx:47, v:0.700, w:-0.180, time:15.9ms\n",
            "idx:48, v:0.700, w:-0.150, time:12.8ms\n",
            "idx:48, v:0.700, w:-0.150, time:12.7ms\n",
            "idx:49, v:0.700, w:-0.150, time:12.6ms\n",
            "idx:50, v:0.700, w:-0.120, time:15.3ms\n",
            "idx:51, v:0.700, w:-0.090, time:15.5ms\n",
            "idx:52, v:0.700, w:-0.090, time:14.9ms\n",
            "idx:52, v:0.750, w:-0.030, time:12.6ms\n",
            "idx:52, v:0.800, w:-0.030, time:12.4ms\n",
            "idx:52, v:0.850, w:-0.030, time:13.0ms\n",
            "idx:52, v:0.800, w:-0.030, time:12.7ms\n",
            "idx:52, v:0.750, w:-0.030, time:13.3ms\n",
            "idx:52, v:0.700, w:0.000, time:13.2ms\n",
            "idx:52, v:0.700, w:-0.030, time:12.8ms\n",
            "idx:53, v:0.700, w:0.000, time:13.3ms\n",
            "idx:53, v:0.750, w:0.000, time:16.4ms\n",
            "idx:53, v:0.800, w:0.000, time:13.3ms\n",
            "idx:53, v:0.850, w:0.000, time:12.8ms\n",
            "idx:53, v:0.850, w:0.000, time:13.0ms\n",
            "idx:53, v:0.800, w:0.000, time:15.9ms\n",
            "idx:53, v:0.750, w:0.030, time:16.7ms\n",
            "idx:53, v:0.700, w:0.000, time:12.6ms\n",
            "idx:53, v:0.700, w:0.000, time:12.8ms\n",
            "idx:54, v:0.700, w:0.030, time:11.9ms\n",
            "idx:54, v:0.750, w:0.000, time:12.4ms\n",
            "idx:54, v:0.800, w:0.000, time:12.6ms\n",
            "idx:54, v:0.850, w:0.000, time:12.8ms\n",
            "idx:54, v:0.830, w:0.000, time:13.3ms\n",
            "idx:54, v:0.780, w:0.000, time:13.0ms\n",
            "idx:54, v:0.730, w:0.030, time:12.6ms\n",
            "idx:54, v:0.700, w:0.000, time:17.6ms\n",
            "idx:54, v:0.700, w:0.000, time:14.5ms\n",
            "idx:55, v:0.700, w:0.030, time:13.8ms\n",
            "idx:55, v:0.750, w:0.000, time:13.8ms\n",
            "idx:55, v:0.800, w:0.000, time:14.1ms\n",
            "idx:55, v:0.850, w:0.000, time:26.0ms\n",
            "idx:55, v:0.810, w:0.000, time:14.9ms\n",
            "idx:55, v:0.760, w:0.000, time:12.7ms\n",
            "idx:55, v:0.710, w:0.000, time:13.0ms\n",
            "idx:55, v:0.700, w:0.000, time:12.5ms\n",
            "idx:55, v:0.700, w:0.000, time:14.5ms\n",
            "idx:56, v:0.700, w:0.000, time:13.6ms\n",
            "idx:56, v:0.750, w:0.000, time:12.5ms\n",
            "idx:56, v:0.800, w:0.000, time:13.7ms\n",
            "idx:56, v:0.850, w:0.000, time:14.5ms\n",
            "idx:56, v:0.800, w:0.000, time:13.5ms\n",
            "idx:56, v:0.750, w:0.000, time:17.3ms\n",
            "idx:56, v:0.700, w:0.000, time:14.0ms\n",
            "idx:56, v:0.700, w:0.000, time:12.5ms\n",
            "idx:56, v:0.700, w:0.000, time:12.3ms\n",
            "idx:57, v:0.700, w:0.000, time:13.2ms\n",
            "idx:57, v:0.750, w:0.000, time:16.8ms\n",
            "idx:57, v:0.800, w:0.000, time:12.1ms\n",
            "idx:57, v:0.850, w:0.000, time:11.8ms\n",
            "idx:57, v:0.800, w:0.000, time:12.0ms\n",
            "idx:57, v:0.750, w:0.000, time:11.8ms\n",
            "idx:57, v:0.700, w:0.000, time:11.9ms\n",
            "idx:57, v:0.700, w:0.000, time:11.9ms\n",
            "idx:58, v:0.700, w:0.000, time:11.8ms\n",
            "idx:58, v:0.750, w:0.000, time:11.8ms\n",
            "idx:58, v:0.800, w:0.000, time:12.7ms\n",
            "idx:58, v:0.850, w:0.000, time:20.3ms\n",
            "idx:58, v:0.850, w:0.000, time:12.7ms\n",
            "idx:58, v:0.800, w:0.000, time:12.3ms\n",
            "idx:58, v:0.750, w:0.000, time:12.4ms\n",
            "idx:58, v:0.700, w:0.000, time:12.4ms\n",
            "idx:58, v:0.700, w:-0.030, time:14.6ms\n",
            "idx:59, v:0.700, w:0.000, time:12.8ms\n",
            "idx:59, v:0.750, w:0.000, time:12.9ms\n",
            "idx:59, v:0.800, w:0.000, time:12.6ms\n",
            "idx:59, v:0.850, w:0.000, time:12.3ms\n",
            "idx:59, v:0.830, w:0.000, time:12.4ms\n",
            "idx:59, v:0.780, w:0.000, time:12.5ms\n",
            "idx:59, v:0.730, w:0.000, time:12.9ms\n",
            "idx:59, v:0.700, w:0.000, time:13.5ms\n",
            "idx:59, v:0.700, w:0.000, time:12.6ms\n",
            "idx:60, v:0.700, w:0.000, time:12.3ms\n",
            "idx:60, v:0.750, w:0.000, time:14.2ms\n",
            "idx:60, v:0.800, w:0.000, time:19.5ms\n",
            "idx:60, v:0.850, w:0.000, time:13.7ms\n",
            "idx:60, v:0.810, w:0.000, time:12.4ms\n",
            "idx:60, v:0.760, w:0.000, time:12.5ms\n",
            "idx:60, v:0.710, w:0.000, time:15.0ms\n",
            "idx:60, v:0.700, w:0.000, time:13.3ms\n",
            "idx:60, v:0.700, w:0.000, time:12.4ms\n",
            "idx:61, v:0.700, w:0.000, time:12.4ms\n",
            "idx:62, v:0.700, w:0.000, time:12.2ms\n",
            "idx:63, v:0.700, w:0.000, time:12.6ms\n",
            "idx:63, v:0.700, w:0.000, time:13.6ms\n",
            "idx:64, v:0.700, w:0.000, time:12.4ms\n",
            "idx:65, v:0.700, w:0.030, time:11.9ms\n",
            "idx:65, v:0.700, w:0.030, time:11.6ms\n",
            "idx:66, v:0.700, w:0.030, time:12.1ms\n",
            "idx:67, v:0.700, w:0.030, time:13.4ms\n",
            "idx:67, v:0.700, w:0.060, time:14.1ms\n",
            "idx:68, v:0.700, w:0.060, time:11.4ms\n",
            "idx:69, v:0.700, w:0.060, time:11.3ms\n",
            "idx:70, v:0.700, w:0.090, time:12.6ms\n",
            "idx:70, v:0.700, w:0.120, time:14.3ms\n",
            "idx:71, v:0.700, w:0.120, time:10.4ms\n",
            "idx:72, v:0.700, w:0.120, time:10.3ms\n",
            "idx:72, v:0.700, w:0.150, time:10.5ms\n",
            "idx:73, v:0.700, w:0.150, time:10.3ms\n",
            "idx:74, v:0.700, w:0.180, time:11.1ms\n",
            "idx:74, v:0.700, w:0.210, time:10.3ms\n",
            "idx:75, v:0.700, w:0.210, time:9.5ms\n",
            "idx:76, v:0.700, w:0.240, time:9.3ms\n",
            "idx:77, v:0.700, w:0.240, time:8.8ms\n",
            "idx:77, v:0.700, w:0.270, time:9.2ms\n",
            "idx:78, v:0.700, w:0.240, time:8.5ms\n",
            "idx:79, v:0.700, w:0.270, time:9.4ms\n",
            "idx:79, v:0.700, w:0.270, time:8.3ms\n",
            "idx:80, v:0.700, w:0.270, time:8.8ms\n",
            "idx:81, v:0.700, w:0.300, time:15.4ms\n",
            "idx:81, v:0.700, w:0.300, time:8.0ms\n",
            "idx:82, v:0.700, w:0.300, time:7.2ms\n",
            "idx:83, v:0.700, w:0.300, time:7.5ms\n",
            "idx:83, v:0.700, w:0.330, time:7.2ms\n",
            "idx:84, v:0.700, w:0.330, time:6.4ms\n",
            "idx:85, v:0.700, w:0.330, time:6.4ms\n",
            "idx:86, v:0.700, w:0.330, time:7.2ms\n",
            "idx:86, v:0.700, w:0.330, time:9.8ms\n",
            "idx:87, v:0.700, w:0.330, time:7.3ms\n",
            "idx:88, v:0.700, w:0.330, time:7.7ms\n",
            "idx:88, v:0.700, w:0.330, time:7.6ms\n",
            "idx:89, v:0.700, w:0.330, time:7.1ms\n",
            "idx:90, v:0.700, w:0.330, time:7.2ms\n",
            "idx:90, v:0.700, w:0.330, time:7.1ms\n",
            "idx:91, v:0.700, w:0.330, time:7.1ms\n",
            "idx:92, v:0.700, w:0.330, time:7.2ms\n",
            "idx:93, v:0.700, w:0.330, time:7.2ms\n",
            "idx:93, v:0.700, w:0.330, time:7.1ms\n",
            "idx:94, v:0.700, w:0.330, time:7.1ms\n",
            "idx:95, v:0.700, w:0.330, time:7.1ms\n",
            "idx:95, v:0.700, w:0.330, time:7.9ms\n",
            "idx:96, v:0.700, w:0.330, time:7.6ms\n",
            "idx:97, v:0.700, w:0.330, time:7.9ms\n",
            "idx:97, v:0.700, w:0.330, time:8.2ms\n",
            "idx:98, v:0.700, w:0.330, time:7.3ms\n",
            "idx:99, v:0.700, w:0.300, time:7.3ms\n",
            "idx:99, v:0.700, w:0.270, time:9.5ms\n",
            "idx:100, v:0.700, w:0.300, time:8.8ms\n",
            "idx:101, v:0.700, w:0.270, time:8.1ms\n",
            "idx:102, v:0.700, w:0.240, time:8.3ms\n",
            "idx:102, v:0.700, w:0.240, time:8.7ms\n",
            "idx:103, v:0.700, w:0.240, time:9.2ms\n",
            "idx:104, v:0.700, w:0.210, time:8.9ms\n",
            "idx:104, v:0.700, w:0.210, time:12.0ms\n",
            "idx:105, v:0.700, w:0.210, time:10.0ms\n",
            "idx:106, v:0.700, w:0.180, time:10.0ms\n",
            "idx:106, v:0.700, w:0.180, time:10.0ms\n",
            "idx:107, v:0.700, w:0.180, time:14.1ms\n",
            "idx:108, v:0.700, w:0.150, time:12.9ms\n",
            "idx:109, v:0.700, w:0.150, time:9.8ms\n",
            "idx:109, v:0.700, w:0.120, time:10.1ms\n",
            "idx:110, v:0.700, w:0.120, time:10.3ms\n",
            "idx:111, v:0.700, w:0.090, time:10.2ms\n",
            "idx:112, v:0.700, w:0.090, time:11.4ms\n",
            "idx:113, v:0.700, w:0.090, time:11.8ms\n",
            "idx:114, v:0.700, w:0.150, time:11.6ms\n",
            "idx:115, v:0.700, w:0.330, time:13.2ms\n",
            "idx:116, v:0.700, w:0.330, time:7.8ms\n",
            "idx:117, v:0.720, w:0.360, time:7.2ms\n",
            "idx:118, v:0.720, w:0.360, time:7.2ms\n",
            "idx:119, v:0.720, w:0.360, time:6.8ms\n"
          ],
          "name": "stdout"
        }
      ]
    },
    {
      "cell_type": "code",
      "metadata": {
        "id": "gTdVBTxo9yfY",
        "colab": {
          "base_uri": "https://localhost:8080/",
          "height": 282
        },
        "outputId": "e1617450-2a93-41a3-c04e-b18e1e48af65"
      },
      "source": [
        "poses = np.array(logs)[:,:3]\n",
        "plt.figure()\n",
        "plt.axes().set_aspect('equal', 'datalim')\n",
        "plt.plot(ref_path[:,0], ref_path[:,1], '.', c='g')\n",
        "plt.plot(poses[:,0], poses[:,1], c='r')"
      ],
      "execution_count": 33,
      "outputs": [
        {
          "output_type": "execute_result",
          "data": {
            "text/plain": [
              "[<matplotlib.lines.Line2D at 0x7fe3f3b27390>]"
            ]
          },
          "metadata": {
            "tags": []
          },
          "execution_count": 33
        },
        {
          "output_type": "display_data",
          "data": {
            "image/png": "[encoded data removed]",
            "text/plain": [
              "<Figure size 432x288 with 1 Axes>"
            ]
          },
          "metadata": {
            "tags": [],
            "needs_background": "light"
          }
        }
      ]
    },
    {
      "cell_type": "markdown",
      "metadata": {
        "id": "1xQuE_ec9yfa"
      },
      "source": [
        "Now it should be relatively straight-forward to integrate collision checking in the grid environment the robot is going to navigate"
      ]
    },
    {
      "cell_type": "code",
      "metadata": {
        "id": "kd2qahmr9yfc"
      },
      "source": [
        ""
      ],
      "execution_count": 33,
      "outputs": []
    }
  ]
}