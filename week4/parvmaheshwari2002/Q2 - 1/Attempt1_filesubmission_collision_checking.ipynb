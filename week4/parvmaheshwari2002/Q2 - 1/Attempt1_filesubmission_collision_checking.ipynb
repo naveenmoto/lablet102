{
  "nbformat": 4,
  "nbformat_minor": 0,
  "metadata": {
    "kernelspec": {
      "display_name": "Python 3",
      "language": "python",
      "name": "python3"
    },
    "language_info": {
      "codemirror_mode": {
        "name": "ipython",
        "version": 3
      },
      "file_extension": ".py",
      "mimetype": "text/x-python",
      "name": "python",
      "nbconvert_exporter": "python",
      "pygments_lexer": "ipython3",
      "version": "3.9.1"
    },
    "varInspector": {
      "cols": {
        "lenName": 16,
        "lenType": 16,
        "lenVar": 40
      },
      "kernels_config": {
        "python": {
          "delete_cmd_postfix": "",
          "delete_cmd_prefix": "del ",
          "library": "var_list.py",
          "varRefreshCmd": "print(var_dic_list())"
        },
        "r": {
          "delete_cmd_postfix": ") ",
          "delete_cmd_prefix": "rm(",
          "library": "var_list.r",
          "varRefreshCmd": "cat(var_dic_list()) "
        }
      },
      "types_to_exclude": [
        "module",
        "function",
        "builtin_function_or_method",
        "instance",
        "_Feature"
      ],
      "window_display": true
    },
    "colab": {
      "name": "collision_checking.ipynb",
      "provenance": []
    }
  },
  "cells": [
    {
      "cell_type": "markdown",
      "metadata": {
        "id": "QU4GWOPQimxu"
      },
      "source": [
        "Create a file called ref_trajectory.py. Copy the functions from week3 that enabled you to generate a trajectory given a sequence of straight/ turn commands"
      ]
    },
    {
      "cell_type": "code",
      "metadata": {
        "id": "U34UjaN3imyt"
      },
      "source": [
        "import cv2\n",
        "import numpy as np\n",
        "from PIL import Image\n",
        "import matplotlib.pyplot as plt\n",
        "from ref_trajectory import generate_trajectory as traj"
      ],
      "execution_count": 1,
      "outputs": []
    },
    {
      "cell_type": "markdown",
      "metadata": {
        "id": "bTNBCITsimyv"
      },
      "source": [
        "We will look at 2 ways to make a grid \n",
        "\n",
        "(a) Load an existing circuit (Use MS paint or anything else)\n",
        "\n",
        "(b) Make a custom grid\n",
        "\n",
        "Remember grid resolution is the key parameter to go from grid co-ordinates to world co-ordinates. What is the value of 1 pixel?"
      ]
    },
    {
      "cell_type": "code",
      "metadata": {
        "id": "OXkUjcrTimyw",
        "colab": {
          "base_uri": "https://localhost:8080/",
          "height": 282
        },
        "outputId": "9c0db8fe-2bd0-407b-bd47-17e4368b947c"
      },
      "source": [
        "grid_res = 0.05\n",
        "image = Image.open('./circuit.png').convert('LA') # open the test circuit\n",
        "grid_data = np.asarray(image)[:,:,0]/255\n",
        "\n",
        "#find the shape\n",
        "grid_shape = grid_data.shape\n",
        "print(grid_shape)\n",
        "#find the real-world extents of the grid: opposite vertices of the rectangle\n",
        "x1, y1 = 0, 0\n",
        "#use shape and grid_res to calculate the top-right vertex\n",
        "x2, y2 =  grid_shape[0] * grid_res , grid_shape[1] * grid_res\n",
        "\n",
        "#display the image using imshow()\n",
        "#pay attention to the keywords origin, cmap and extent\n",
        "#Default origin is top-left, but we should use 'lower'\n",
        "#how should grid_data be transformed\n",
        "plt.figure()\n",
        "\n",
        "#complete\n",
        "plt.imshow(grid_data.T,origin='lower',cmap = plt.cm.gray, extent = [x1,x2,y1,y2])\n",
        "\n",
        "plt.show()"
      ],
      "execution_count": 2,
      "outputs": [
        {
          "output_type": "stream",
          "text": [
            "(557, 766)\n"
          ],
          "name": "stdout"
        },
        {
          "output_type": "display_data",
          "data": {
            "image/png": "[encoded data removed]",
            "text/plain": [
              "<Figure size 432x288 with 1 Axes>"
            ]
          },
          "metadata": {
            "tags": [],
            "needs_background": "light"
          }
        }
      ]
    },
    {
      "cell_type": "code",
      "metadata": {
        "id": "8vDWpxjDimyy",
        "colab": {
          "base_uri": "https://localhost:8080/",
          "height": 338
        },
        "outputId": "47c69601-4866-496d-c8cf-45245cc54493"
      },
      "source": [
        "#custom grid\n",
        "#choose resolution and dimensions\n",
        "grid_res = 0.05\n",
        "grid_span = 50 # square circuit dimensions in m\n",
        "\n",
        "#calculate grid_shape from grid\n",
        "# dimensions have to be integers\n",
        "grid_shape = np.array([int(grid_span/grid_res)]*2)\n",
        "print(grid_shape)\n",
        "#Initialize \n",
        "grid_data = np.zeros(grid_shape)\n",
        "\n",
        "#Create rectangular obstacles in world co-ordinates\n",
        "#xmin, xmax, ymin, ymax\n",
        "obstacles = np.array([[25, 26, 10, 40],\n",
        "                       [2, 8, 16, 20]]) \n",
        "for obs in obstacles:\n",
        "    #calculate obstacles extent in pixel coords\n",
        "    xmin, xmax, ymin, ymax = (obs.T/ grid_res). astype(int)\n",
        "    # mark them as occupied\n",
        "    print(xmin, xmax, ymin, ymax)\n",
        "    grid_data[xmin:xmax ,ymin:ymax ] = 1.0\n",
        "\n",
        "#calculate the extents    \n",
        "x1, y1 = 0, 0\n",
        "x2, y2 = grid_shape * grid_res\n",
        "\n",
        "#imshow() from prior cell\n",
        "plt.figure()\n",
        "plt.imshow(1-grid_data.T,origin='lower',cmap = plt.cm.gray, extent = [x1,x2,y1,y2])\n"
      ],
      "execution_count": 3,
      "outputs": [
        {
          "output_type": "stream",
          "text": [
            "[1000 1000]\n",
            "500 520 200 800\n",
            "40 160 320 400\n"
          ],
          "name": "stdout"
        },
        {
          "output_type": "execute_result",
          "data": {
            "text/plain": [
              "<matplotlib.image.AxesImage at 0x7f8fed734dd0>"
            ]
          },
          "metadata": {
            "tags": []
          },
          "execution_count": 3
        },
        {
          "output_type": "display_data",
          "data": {
            "image/png": "[encoded data removed]",
            "text/plain": [
              "<Figure size 432x288 with 1 Axes>"
            ]
          },
          "metadata": {
            "tags": [],
            "needs_background": "light"
          }
        }
      ]
    },
    {
      "cell_type": "markdown",
      "metadata": {
        "id": "POeSDXymimy0"
      },
      "source": [
        "Plot the reference trajectory on the grid environment"
      ]
    },
    {
      "cell_type": "code",
      "metadata": {
        "id": "B3ToVDOlimy0",
        "colab": {
          "base_uri": "https://localhost:8080/",
          "height": 286
        },
        "outputId": "b91d0805-778b-4cca-acc3-d26427c09e99"
      },
      "source": [
        "#pick a suitable starting pose\n",
        "start_pose = np.array([2, 6, np.pi/2])\n",
        "#we will use same route as before\n",
        "route = [(\"straight\", 5),(\"turn\", -90),(\"straight\", 6),(\"turn\", 90)]\n",
        "\n",
        "#calculate ref_path from traj()\n",
        "# we want it to be numpy array of dimensions (N, 3)\n",
        "ref_path = traj(route, start_pose).T\n",
        "\n",
        "#plot the grid and \n",
        "plt.imshow(1-grid_data.T, origin='lower', cmap=plt.cm.gray, extent=[x1,x2,y1,y2])\n",
        "plt.plot(ref_path[:,0], ref_path[:,1])\n",
        "plt.plot(start_pose[0], start_pose[1],'r+')"
      ],
      "execution_count": 4,
      "outputs": [
        {
          "output_type": "execute_result",
          "data": {
            "text/plain": [
              "[<matplotlib.lines.Line2D at 0x7f8fed72ccd0>]"
            ]
          },
          "metadata": {
            "tags": []
          },
          "execution_count": 4
        },
        {
          "output_type": "display_data",
          "data": {
            "image/png": "[encoded data removed]",
            "text/plain": [
              "<Figure size 432x288 with 1 Axes>"
            ]
          },
          "metadata": {
            "tags": [],
            "needs_background": "light"
          }
        }
      ]
    },
    {
      "cell_type": "markdown",
      "metadata": {
        "id": "0mWI250simy1"
      },
      "source": [
        "Let us now use circle approximation to perform collision checking. We will use w=0.8, l=1.2m as mule dimensions. Calculate the 4 vertices of the mule\n",
        "\n",
        "Circle parameters are offset and radii\n",
        "\n",
        "You would have to plot the mule rectangle and 3 circles"
      ]
    },
    {
      "cell_type": "code",
      "metadata": {
        "id": "ZlYAllNyimy1",
        "colab": {
          "base_uri": "https://localhost:8080/",
          "height": 286
        },
        "outputId": "5317d69e-1a9b-4682-9365-6f08ec3b9250"
      },
      "source": [
        "w=0.8\n",
        "l=1.2\n",
        "mule_extents = np.array([[-w,-l],\n",
        "                         [w,-l],\n",
        "                         [-w,l],\n",
        "                         [-w,-l]])\n",
        "\n",
        "                        \n",
        "mule_extents = mule_extents/2\n",
        "r = 0.5\n",
        "offset = 0.4\n",
        "circles = [(0, 0, r), (0, offset, r), (0,-offset, r)]\n",
        "\n",
        "plt.figure()\n",
        "fig, ax = plt.subplots()\n",
        "ax.set_xlim((-l,l))\n",
        "ax.set_ylim((-w,w))\n",
        "# ax.set_aspect(\"equal\",\"datalim\")\n",
        "# ax.set_aspect(\"equal\")\n",
        "# plt.Rectangle((0, 0), w, l, fill = False)\n",
        "ax.add_patch(plt.Rectangle((-w/2, -l/2), w, l, fill = False))\n",
        "# plt.imshow([],origin='lower',cmap = plt.cm.gray, extent = [-w/2,w/2,-l/2,l/2])\n",
        "#plot rectangle or just the 4 vertices\n",
        "for x,y, rad in circles:\n",
        "    #plot circle\n",
        "    #you can use plt.Circle()\n",
        "    # plt.Circle(radius=)\n",
        "    circle1 = plt.Circle((x, y), rad, fill = False)\n",
        "    ax.add_patch(circle1)\n"
      ],
      "execution_count": 5,
      "outputs": [
        {
          "output_type": "display_data",
          "data": {
            "text/plain": [
              "<Figure size 432x288 with 0 Axes>"
            ]
          },
          "metadata": {
            "tags": []
          }
        },
        {
          "output_type": "display_data",
          "data": {
            "image/png": "[encoded data removed]",
            "text/plain": [
              "<Figure size 432x288 with 1 Axes>"
            ]
          },
          "metadata": {
            "tags": [],
            "needs_background": "light"
          }
        }
      ]
    },
    {
      "cell_type": "markdown",
      "metadata": {
        "id": "WB2LRIhMimy2"
      },
      "source": [
        "Write a function to find if there is a collision given the grid and the local path\n",
        "\n",
        "1. Rotate the 3 circle vertices along the local path\n",
        "\n",
        "2. Check if $(x-x_c)^2 + (y-y_c)^2 < r$ and grid[x, y] = 1.0\n",
        "\n",
        "3. Return True or False\n",
        "\n",
        "You can assume circles variable (approximation of the vehicle dimensions) is assumed as a global variable\n",
        "\n",
        "What do you think is a simple unit test?"
      ]
    },
    {
      "cell_type": "code",
      "metadata": {
        "id": "jhYcIixAimy3"
      },
      "source": [
        "grid_res = 0.05\n",
        "def circle_collision_check(grid, local_traj):\n",
        "    xmax, ymax = grid.shape\n",
        "    all_x = np.arange(xmax)\n",
        "    all_y = np.arange(ymax)\n",
        "    X, Y = np.meshgrid(all_x, all_y)\n",
        "    for xl, yl, tl in local_traj:\n",
        "      rot = np.array([[np.sin(tl), -np.cos(tl)],[np.cos(tl), np.sin(tl)]])\n",
        "      for xc, yc, rc in circles:\n",
        "        xc_rot, yc_rot = rot @ np.array([xc, yc]) + np.array([xl, yl])\n",
        "        xc_pix, yc_pix = int(xc_rot/grid_res), int(yc_rot/ grid_res)\n",
        "        rc_pix = (rc/ grid_res)\n",
        "        inside_circle = ((X-xc_pix)**2 +(Y-yc_pix)**2 - rc_pix**2 < 0)\n",
        "        occupied_pt = grid[X, Y] == 1\n",
        "        if np.sum(np.multiply( inside_circle, occupied_pt)):\n",
        "          return True\n",
        "    return False"
      ],
      "execution_count": 6,
      "outputs": []
    },
    {
      "cell_type": "code",
      "metadata": {
        "colab": {
          "base_uri": "https://localhost:8080/",
          "height": 304
        },
        "id": "mDBuMh3p1D11",
        "outputId": "e860d970-fb1f-489f-f125-455de7355110"
      },
      "source": [
        "local_traj = np.array([[0, 0.25, np.pi/2], [0, 1.0, np.pi/2], [0, 1.5, np.pi/2]])\n",
        "grid = np.zeros([50, 50])\n",
        "grid[0:2,30:32] = 1.0\n",
        "print(circle_collision_check(grid, local_traj))\n",
        "plt.imshow(1 - grid.T, origin='lower',cmap = plt.cm.gray, extent = [0, 2.5, 0, 2.5])"
      ],
      "execution_count": 7,
      "outputs": [
        {
          "output_type": "stream",
          "text": [
            "True\n"
          ],
          "name": "stdout"
        },
        {
          "output_type": "execute_result",
          "data": {
            "text/plain": [
              "<matplotlib.image.AxesImage at 0x7f8fed611210>"
            ]
          },
          "metadata": {
            "tags": []
          },
          "execution_count": 7
        },
        {
          "output_type": "display_data",
          "data": {
            "image/png": "[encoded data removed]",
            "text/plain": [
              "<Figure size 432x288 with 1 Axes>"
            ]
          },
          "metadata": {
            "tags": [],
            "needs_background": "light"
          }
        }
      ]
    },
    {
      "cell_type": "markdown",
      "metadata": {
        "id": "ZERgulTTimy3"
      },
      "source": [
        "Let us move onto the more complicated swath collision checking\n",
        "\n",
        "Write a function to trace the footprint of the vehicle along the local path.\n",
        "\n",
        "Input: grid_size, local path\n",
        "Output: footprint\n",
        "\n",
        "Start with an empty grid of similar size\n",
        "\n",
        "1. Rotate the 4 vertices of the mule rectangle along the local path\n",
        "\n",
        "2. Collect all the vertices and calculate the convex hull. Remember to typecast them as int32 as cv2..convexHull() expects that\n",
        "\n",
        "3. Use fillConvexPoly() to fill up the hull"
      ]
    },
    {
      "cell_type": "code",
      "metadata": {
        "id": "AP9nMvUQimy4",
        "colab": {
          "base_uri": "https://localhost:8080/",
          "height": 286
        },
        "outputId": "6bf1689c-1f4b-40a8-98e6-a7374b787312"
      },
      "source": [
        "def swath_footprint(local_path,grid_size):\n",
        "    #initialize image\n",
        "    img = np.zeros(grid_size)\n",
        "    vertices = []\n",
        "    for xl,yl,tl in local_path:\n",
        "        rot = np.array([[np.sin(tl), -np.cos(tl)],[np.cos(tl), np.sin(tl)]])\n",
        "        for vertex in mule_extents:\n",
        "            rot_vertex = rot @ vertex + np.array([xl, yl])\n",
        "            vertices.append(rot_vertex)\n",
        "    vertices = np.array(vertices,dtype='float32')\n",
        "    hull_vertices = cv2.convexHull(vertices)\n",
        "    #change hull vertices to grid coords and typecast as int32\n",
        "    hull_vertices = (hull_vertices/grid_res).astype('int32')\n",
        "    \n",
        "    cv2.fillConvexPoly(img,hull_vertices,1)\n",
        "    return img.T == 1\n",
        "\n",
        "s, e = 10, 62\n",
        "footprint = swath_footprint(ref_path[s:e], grid_data.shape)\n",
        "plt.imshow(1 - footprint.T, origin='lower', cmap=plt.cm.gray, extent=[x1,x2,y1,y2])\n",
        "plt.plot(ref_path[:,0], ref_path[:,1],'b-')\n",
        "plt.plot(ref_path[s:e,0], ref_path[s:e,1],'r-')\n",
        "plt.xlim(0, 10)\n",
        "plt.ylim(0, 20)"
      ],
      "execution_count": 8,
      "outputs": [
        {
          "output_type": "execute_result",
          "data": {
            "text/plain": [
              "(0.0, 20.0)"
            ]
          },
          "metadata": {
            "tags": []
          },
          "execution_count": 8
        },
        {
          "output_type": "display_data",
          "data": {
            "image/png": "[encoded data removed]",
            "text/plain": [
              "<Figure size 432x288 with 1 Axes>"
            ]
          },
          "metadata": {
            "tags": [],
            "needs_background": "light"
          }
        }
      ]
    },
    {
      "cell_type": "markdown",
      "metadata": {
        "id": "GzCFx6OVimy6"
      },
      "source": [
        "Once you know the footprint, it should be easy to see if the footprint coincides with any occupied cells in the original grid\n",
        "\n",
        "Try out some examples to unit test your code for both circle checking and swath checking\n",
        "\n",
        "In practice, you can write this as a CollisionChecking class where the mule dimensions are read from a config file and initialized. Global variables are best avoided in production code\n"
      ]
    },
    {
      "cell_type": "code",
      "metadata": {
        "id": "irFlHd4simy7"
      },
      "source": [
        ""
      ],
      "execution_count": 8,
      "outputs": []
    }
  ]
}