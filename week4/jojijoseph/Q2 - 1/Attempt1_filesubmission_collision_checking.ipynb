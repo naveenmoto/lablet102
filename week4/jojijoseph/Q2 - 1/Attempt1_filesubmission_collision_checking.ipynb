{
 "cells": [
  {
   "cell_type": "markdown",
   "metadata": {
    "id": "QU4GWOPQimxu"
   },
   "source": [
    "Create a file called ref_trajectory.py. Copy the functions from week3 that enabled you to generate a trajectory given a sequence of straight/ turn commands"
   ]
  },
  {
   "cell_type": "code",
   "execution_count": 1,
   "metadata": {
    "colab": {
     "base_uri": "https://localhost:8080/",
     "height": 340
    },
    "executionInfo": {
     "elapsed": 23,
     "status": "error",
     "timestamp": 1625931104182,
     "user": {
      "displayName": "Naveen Arulselvan",
      "photoUrl": "",
      "userId": "04194286040197059483"
     },
     "user_tz": -330
    },
    "id": "U34UjaN3imyt",
    "outputId": "f8288af4-c543-4fd8-8ec0-b94f43f3eb51"
   },
   "outputs": [],
   "source": [
    "from collections import deque\n",
    "import cv2\n",
    "import numpy as np\n",
    "from PIL import Image\n",
    "import matplotlib.pyplot as plt\n",
    "from ref_trajectory import generate_trajectory as traj"
   ]
  },
  {
   "cell_type": "markdown",
   "metadata": {
    "id": "bTNBCITsimyv"
   },
   "source": [
    "We will look at 2 ways to make a grid \n",
    "\n",
    "(a) Load an existing circuit (Use MS paint or anything else)\n",
    "\n",
    "(b) Make a custom grid\n",
    "\n",
    "Remember grid resolution is the key parameter to go from grid co-ordinates to world co-ordinates. What is the value of 1 pixel?"
   ]
  },
  {
   "cell_type": "code",
   "execution_count": 2,
   "metadata": {
    "colab": {
     "base_uri": "https://localhost:8080/",
     "height": 283
    },
    "executionInfo": {
     "elapsed": 467,
     "status": "ok",
     "timestamp": 1625907769582,
     "user": {
      "displayName": "Naveen Arulselvan",
      "photoUrl": "",
      "userId": "04194286040197059483"
     },
     "user_tz": -330
    },
    "id": "OXkUjcrTimyw",
    "outputId": "83cdf2f6-9142-4ba3-ebd4-931e87c7b02f"
   },
   "outputs": [
    {
     "data": {
      "image/png": "[encoded data removed]",
      "text/plain": [
       "<Figure size 432x288 with 1 Axes>"
      ]
     },
     "metadata": {
      "needs_background": "light"
     },
     "output_type": "display_data"
    }
   ],
   "source": [
    "grid_res = 0.05\n",
    "image = Image.open('./circuit.png').convert('LA') # open the test circuit\n",
    "grid_data = np.asarray(image)[:,:,0]/255\n",
    "\n",
    "#find the shape\n",
    "grid_shape = np.array(grid_data.shape)\n",
    "\n",
    "#find the real-world extents of the grid: opposite vertices of the rectangle\n",
    "x1, y1 = 0, 0\n",
    "#use shape and grid_res to calculate the top-right vertex\n",
    "y2, x2 =  grid_shape*grid_res\n",
    "\n",
    "#display the image using imshow()\n",
    "#pay attention to the keywords origin, cmap and extent\n",
    "#Default origin is top-left, but we should use 'lower'\n",
    "#how should grid_data be transformed\n",
    "plt.figure()\n",
    "\n",
    "#complete\n",
    "plt.imshow(grid_data, cmap = plt.cm.gray, extent=[x1,x2,y1,y2])\n",
    "start_pose = np.array([12, 4, np.pi/2])\n",
    "plt.plot(start_pose[0], start_pose[1],'r+')\n",
    "plt.show()"
   ]
  },
  {
   "cell_type": "code",
   "execution_count": 3,
   "metadata": {
    "colab": {
     "base_uri": "https://localhost:8080/",
     "height": 287
    },
    "executionInfo": {
     "elapsed": 408,
     "status": "ok",
     "timestamp": 1625908402721,
     "user": {
      "displayName": "Naveen Arulselvan",
      "photoUrl": "",
      "userId": "04194286040197059483"
     },
     "user_tz": -330
    },
    "id": "8vDWpxjDimyy",
    "outputId": "39ec36d9-bdca-4318-97ed-4c71e4f0cf3c"
   },
   "outputs": [
    {
     "data": {
      "image/png": "[encoded data removed]",
      "text/plain": [
       "<Figure size 432x288 with 1 Axes>"
      ]
     },
     "metadata": {
      "needs_background": "light"
     },
     "output_type": "display_data"
    }
   ],
   "source": [
    "#custom grid\n",
    "#choose resolution and dimensions\n",
    "grid_res = 0.05\n",
    "grid_span =  50 # square circuit dimensions in m\n",
    "\n",
    "#calculate grid_shape from grid\n",
    "# dimensions have to be integers\n",
    "grid_shape = (np.array([grid_span]*2)/grid_res).astype('int')\n",
    "#Initialize \n",
    "grid_data = np.zeros(grid_shape)\n",
    "\n",
    "#Create rectangular obstacles in world co-ordinates\n",
    "#xmin, xmax, ymin, ymax\n",
    "obstacles = np.array([[25, 26, 10, 40],\n",
    "                       [2, 8, 16, 20]]) \n",
    "for obs in obstacles:\n",
    "    # calculate obstacles extent in pixel coords\n",
    "    xmin, xmax, ymin, ymax = (obs/grid_res).astype('int')\n",
    "    # mark them as occupied\n",
    "    grid_data[xmin:xmax ,ymin:ymax] = 1.0\n",
    "\n",
    "#calculate the extents    \n",
    "x1, y1 = 0, 0\n",
    "x2, y2 = grid_span, grid_span\n",
    "\n",
    "#imshow() from prior cell\n",
    "plt.figure()\n",
    "plt.imshow(1-grid_data.T, origin='lower', cmap=plt.cm.gray, extent=[x1,x2,y1,y2] )\n",
    "plt.show()"
   ]
  },
  {
   "cell_type": "markdown",
   "metadata": {
    "id": "POeSDXymimy0"
   },
   "source": [
    "Plot the reference trajectory on the grid environment"
   ]
  },
  {
   "cell_type": "code",
   "execution_count": 4,
   "metadata": {
    "colab": {
     "base_uri": "https://localhost:8080/",
     "height": 287
    },
    "executionInfo": {
     "elapsed": 682,
     "status": "ok",
     "timestamp": 1625908903935,
     "user": {
      "displayName": "Naveen Arulselvan",
      "photoUrl": "",
      "userId": "04194286040197059483"
     },
     "user_tz": -330
    },
    "id": "B3ToVDOlimy0",
    "outputId": "103dfbfa-1048-4c30-f9ce-c2228eda3f84"
   },
   "outputs": [
    {
     "name": "stdout",
     "output_type": "stream",
     "text": [
      "(120, 3)\n"
     ]
    },
    {
     "data": {
      "image/png": "[encoded data removed]",
      "text/plain": [
       "<Figure size 432x288 with 1 Axes>"
      ]
     },
     "metadata": {
      "needs_background": "light"
     },
     "output_type": "display_data"
    }
   ],
   "source": [
    "#pick a suitable starting pose\n",
    "start_pose = np.array([2, 6, np.pi/2])\n",
    "#we will use same route as before\n",
    "route = [(\"straight\", 5),(\"turn\", -90),(\"straight\", 6),(\"turn\", 90)]\n",
    "\n",
    "#calculate ref_path from traj()\n",
    "# we want it to be numpy array of dimensions (N, 3)\n",
    "ref_path = traj(route, start_pose)\n",
    "ref_path = np.hstack([np.array(axis).reshape(-1,1) for axis in ref_path])\n",
    "\n",
    "print(ref_path.shape)\n",
    "\n",
    "#plot the grid and \n",
    "plt.imshow(1-grid_data.T, origin='lower', cmap=plt.cm.gray, extent=[x1,x2,y1,y2])\n",
    "plt.plot(ref_path[:,0], ref_path[:,1])\n",
    "plt.plot(start_pose[0], start_pose[1],'r+')\n",
    "plt.show()"
   ]
  },
  {
   "cell_type": "markdown",
   "metadata": {
    "id": "0mWI250simy1"
   },
   "source": [
    "Let us now use circle approximation to perform collision checking. We will use w=0.8, l=1.2m as mule dimensions. Calculate the 4 vertices of the mule\n",
    "\n",
    "Circle parameters are offset and radii\n",
    "\n",
    "You would have to plot the mule rectangle and 3 circles"
   ]
  },
  {
   "cell_type": "code",
   "execution_count": 5,
   "metadata": {
    "colab": {
     "base_uri": "https://localhost:8080/",
     "height": 265
    },
    "executionInfo": {
     "elapsed": 627,
     "status": "ok",
     "timestamp": 1625931110059,
     "user": {
      "displayName": "Naveen Arulselvan",
      "photoUrl": "",
      "userId": "04194286040197059483"
     },
     "user_tz": -330
    },
    "id": "ZlYAllNyimy1",
    "outputId": "63543668-655c-4d3c-9695-189cb39a7dd9"
   },
   "outputs": [
    {
     "data": {
      "image/png": "[encoded data removed]",
      "text/plain": [
       "<Figure size 432x288 with 1 Axes>"
      ]
     },
     "metadata": {
      "needs_background": "light"
     },
     "output_type": "display_data"
    }
   ],
   "source": [
    "w=0.8\n",
    "l=1.2\n",
    "mule_extents = np.array([[-w/2,-l/2],\n",
    "                         [w/2, -l/2],\n",
    "                         [w/2, l/2],\n",
    "                         [-w/2, l/2],\n",
    "                         [-w/2,-l/2]])\n",
    "\n",
    "                        \n",
    "r = 0.5\n",
    "l = 0.4\n",
    "circles = [(0, 0, r), (0, l, r), (0, -l, r)]\n",
    "\n",
    "plt.figure()\n",
    "#plot rectangle or just the 4 vertices\n",
    "for vertex in mule_extents:\n",
    "    p, q = vertex\n",
    "    plt.plot(p, q, 'b.')\n",
    "for v1, v2 in zip(mule_extents[:-1],mule_extents[1:]):\n",
    "    p1, q1 = v1\n",
    "    p2, q2 = v2\n",
    "    plt.plot((p1, p2), (q1,q2), 'k-')\n",
    "\n",
    "ax = plt.gca()\n",
    "for x,y,rad in circles:\n",
    "    ax.add_patch(plt.Circle((x,y), rad, fill=False))\n",
    "plt.show()"
   ]
  },
  {
   "cell_type": "markdown",
   "metadata": {
    "id": "WB2LRIhMimy2"
   },
   "source": [
    "Write a function to find if there is a collision given the grid and the local path\n",
    "\n",
    "1. Rotate the 3 circle vertices along the local path\n",
    "\n",
    "2. Check if $(x-x_c)^2 + (y-y_c)^2 < r$ and grid[x, y] = 1.0\n",
    "\n",
    "3. Return True or False\n",
    "\n",
    "You can assume circles variable (approximation of the vehicle dimensions) is assumed as a global variable\n",
    "\n",
    "What do you think is a simple unit test?"
   ]
  },
  {
   "cell_type": "code",
   "execution_count": 6,
   "metadata": {
    "executionInfo": {
     "elapsed": 397,
     "status": "ok",
     "timestamp": 1625932689479,
     "user": {
      "displayName": "Naveen Arulselvan",
      "photoUrl": "",
      "userId": "04194286040197059483"
     },
     "user_tz": -330
    },
    "id": "jhYcIixAimy3"
   },
   "outputs": [],
   "source": [
    "grid_res = 0.05\n",
    "def circle_collision_check(grid, local_traj,grid_res=0.05):\n",
    "    xmax, ymax = grid.shape\n",
    "    all_x = np.arange(xmax)\n",
    "    all_y = np.arange(ymax)\n",
    "    X, Y = np.meshgrid(all_x, all_y)\n",
    "    \n",
    "    occupied_pt = grid[X,Y] == 1\n",
    "    \n",
    "    # TO DEBUG\n",
    "    # plt.figure()\n",
    "    # plt.imshow(occupied_pt)\n",
    "    # plt.plot(local_traj[:,0]/grid_res, local_traj[:,1]/grid_res)\n",
    "    # plt.title(\"occupied\")\n",
    "    # plt.show()\n",
    "\n",
    "    for xl, yl, tl in local_traj:\n",
    "        rot = np.array([[np.sin(tl), -np.cos(tl)],[np.cos(tl), np.sin(tl)]])\n",
    "        for xc, yc, rc in circles:\n",
    "            xc_rot, yc_rot = rot @ np.array([xc, yc]) + np.array([xl, yl])\n",
    "            xc_pix, yc_pix = (xc_rot/grid_res), (yc_rot/ grid_res)\n",
    "            rc_pix = (rc/ grid_res)\n",
    "            inside_circle = ((X-xc_pix)**2 +(Y-yc_pix)**2 - rc_pix**2 < 0)\n",
    "\n",
    "            if np.sum(np.multiply( inside_circle, occupied_pt)):\n",
    "                # TO DEBUG\n",
    "                # plt.figure()\n",
    "                # plt.imshow(inside_circle)\n",
    "                # plt.plot(local_traj[:,0]/grid_res, local_traj[:,1]/grid_res)\n",
    "                # plt.show()\n",
    "                # plt.figure()\n",
    "                # plt.imshow(occupied_pt)\n",
    "                # plt.plot(local_traj[:,0]/grid_res, local_traj[:,1]/grid_res)\n",
    "                # plt.title(\"occupied\")\n",
    "                # plt.show()\n",
    "                return True, (xc_rot,yc_rot,rc) # Second value is useful to plot collision point\n",
    "    return False, None"
   ]
  },
  {
   "cell_type": "code",
   "execution_count": 7,
   "metadata": {
    "colab": {
     "base_uri": "https://localhost:8080/",
     "height": 391
    },
    "executionInfo": {
     "elapsed": 758,
     "status": "ok",
     "timestamp": 1625932690733,
     "user": {
      "displayName": "Naveen Arulselvan",
      "photoUrl": "",
      "userId": "04194286040197059483"
     },
     "user_tz": -330
    },
    "id": "b51cuQd55NI6",
    "outputId": "6e54251c-7b41-4c9b-aeb4-13a202dba568"
   },
   "outputs": [
    {
     "name": "stdout",
     "output_type": "stream",
     "text": [
      "(True, (-2.4492935982947065e-17, 1.4, 0.5))\n"
     ]
    },
    {
     "data": {
      "image/png": "[encoded data removed]",
      "text/plain": [
       "<Figure size 432x288 with 1 Axes>"
      ]
     },
     "metadata": {
      "needs_background": "light"
     },
     "output_type": "display_data"
    }
   ],
   "source": [
    "local_traj = np.array([[0, 0.25, np.pi/2], [0, 1.0, np.pi/2], [0, 1.5, np.pi/2]])\n",
    "grid = np.zeros([50, 50])\n",
    "grid[0:2,30:32] = 1.0\n",
    "\n",
    "print(circle_collision_check(grid, local_traj))\n",
    "\n",
    "plt.figure()\n",
    "plt.xlim(-1,3)\n",
    "\n",
    "plt.imshow(1 - grid.T, origin='lower',cmap = plt.cm.gray, extent = [0, 2.5, 0, 2.5])\n",
    "plt.scatter(local_traj[:,0],local_traj[:,1],linewidth=2)\n",
    "plt.show()"
   ]
  },
  {
   "cell_type": "markdown",
   "metadata": {
    "id": "ZERgulTTimy3"
   },
   "source": [
    "Let us move onto the more complicated swath collision checking\n",
    "\n",
    "Write a function to trace the footprint of the vehicle along the local path.\n",
    "\n",
    "Input: grid_size, local path\n",
    "Output: footprint\n",
    "\n",
    "Start with an empty grid of similar size\n",
    "\n",
    "1. Rotate the 4 vertices of the mule rectangle along the local path\n",
    "\n",
    "2. Collect all the vertices and calculate the convex hull. Remember to typecast them as float32 as cv2..convexHull() expects that\n",
    "\n",
    "3. Use fillConvexPoly() to fill up the hull"
   ]
  },
  {
   "cell_type": "code",
   "execution_count": 8,
   "metadata": {
    "colab": {
     "base_uri": "https://localhost:8080/",
     "height": 287
    },
    "executionInfo": {
     "elapsed": 408,
     "status": "ok",
     "timestamp": 1625912590331,
     "user": {
      "displayName": "Naveen Arulselvan",
      "photoUrl": "",
      "userId": "04194286040197059483"
     },
     "user_tz": -330
    },
    "id": "AP9nMvUQimy4",
    "outputId": "25a57514-f58f-4e0e-ae2d-759e1fe7f56e"
   },
   "outputs": [
    {
     "data": {
      "image/png": "[encoded data removed]",
      "text/plain": [
       "<Figure size 432x288 with 1 Axes>"
      ]
     },
     "metadata": {
      "needs_background": "light"
     },
     "output_type": "display_data"
    }
   ],
   "source": [
    "def swath_footprint(local_path,grid_size,grid_res=grid_res):\n",
    "    #initialize image\n",
    "    img = np.zeros(grid_size)\n",
    "    vertices = []\n",
    "    for xl,yl,tl in local_path:\n",
    "        rot = np.array([[np.sin(tl), -np.cos(tl)],[np.cos(tl), np.sin(tl)]])\n",
    "        for vertex in mule_extents:\n",
    "            rot_vertex = rot @ vertex + np.array([xl, yl])\n",
    "            vertices.append(rot_vertex)\n",
    "    vertices = np.array(vertices,dtype='float32')\n",
    "    hull_vertices = cv2.convexHull(vertices)\n",
    "    #change hull vertices to grid coords and typecast as int32\n",
    "    hull_vertices = (hull_vertices/grid_res).astype('int32')   \n",
    "    cv2.fillConvexPoly(img,hull_vertices,1)\n",
    "    return img.T == 1\n",
    "\n",
    "s, e = 10, 20\n",
    "footprint = swath_footprint(ref_path[s:e], grid_data.shape)\n",
    "\n",
    "plt.figure()\n",
    "plt.imshow(1 - footprint.T, origin='lower', cmap=plt.cm.gray, extent=[x1,x2,y1,y2])\n",
    "plt.plot(ref_path[:,0], ref_path[:,1],'b-')\n",
    "plt.plot(ref_path[s:e,0], ref_path[s:e,1],'r-')\n",
    "plt.xlim(0, 10)\n",
    "plt.ylim(0, 20)\n",
    "plt.show()"
   ]
  },
  {
   "cell_type": "code",
   "execution_count": 9,
   "metadata": {},
   "outputs": [],
   "source": [
    "def swath_collision_check(grid, local_traj,grid_res=0.05):\n",
    "    xmax, ymax = grid.shape\n",
    "    grid_size = grid.shape\n",
    "    all_x = np.arange(xmax)\n",
    "    all_y = np.arange(ymax)\n",
    "    X, Y = np.meshgrid(all_x, all_y)\n",
    "    \n",
    "    occupied_pt = grid[X,Y] == 1\n",
    "    \n",
    "    #initialize image\n",
    "    vertices = deque(maxlen=15) # Last 3 swatchs\n",
    "    img = np.zeros(occupied_pt.shape)\n",
    "    \n",
    "    for xl,yl,tl in local_traj:\n",
    "        rot = np.array([[np.sin(tl), -np.cos(tl)],[np.cos(tl), np.sin(tl)]])\n",
    "        for vertex in mule_extents:\n",
    "            rot_vertex = rot @ vertex + np.array([xl, yl])\n",
    "            vertices.append(rot_vertex)\n",
    "\n",
    "        hull_vertices = cv2.convexHull(np.array(vertices,dtype='float32'))\n",
    "        #change hull vertices to grid coords and typecast as int32\n",
    "        hull_vertices = (hull_vertices/grid_res).astype('int32')   \n",
    "        cv2.fillConvexPoly(img,hull_vertices,1)\n",
    "        if np.sum(np.multiply(img==1, occupied_pt)):\n",
    "            return True, (xl,yl),hull_vertices*grid_res\n",
    "    return False, None, None"
   ]
  },
  {
   "cell_type": "markdown",
   "metadata": {
    "id": "GzCFx6OVimy6"
   },
   "source": [
    "Once you know the footprint, it should be easy to see if the footprint coincides with any occupied cells in the original grid\n",
    "\n",
    "Try out some examples to unit test your code for both circle checking and swath checking\n",
    "\n",
    "In practice, you can write this as a CollisionChecking class where the mule dimensions are read from a config file and initialized. Global variables are best avoided in production code\n"
   ]
  },
  {
   "cell_type": "markdown",
   "metadata": {},
   "source": [
    "## Visualizing the test setup"
   ]
  },
  {
   "cell_type": "code",
   "execution_count": 10,
   "metadata": {
    "id": "irFlHd4simy7",
    "scrolled": true
   },
   "outputs": [
    {
     "data": {
      "image/png": "[encoded data removed]",
      "text/plain": [
       "<Figure size 432x288 with 1 Axes>"
      ]
     },
     "metadata": {
      "needs_background": "light"
     },
     "output_type": "display_data"
    }
   ],
   "source": [
    "\n",
    "grid_res = 0.05\n",
    "grid_data = np.asarray(image)[:,:,0]/255\n",
    "grid_data = np.flip(grid_data, 0)\n",
    "grid_data[grid_data < 0.8] = 0\n",
    "grid_data[grid_data >= 0.8] = 1\n",
    "grid_data = 1 - grid_data.T# To make compatible for collision checking\n",
    "grid_shape = np.array(grid_data.shape)\n",
    "x1, y1 = 0, 0\n",
    "x2, y2 =  grid_shape*grid_res\n",
    "\n",
    "route_hit = [(\"straight\", 7),(\"turn\", 90),(\"straight\", 10),(\"turn\", -90), (\"straight\", 5),(\"turn\",90),(\"straight\",2),(\"turn\",-90),(\"straight\",7)]\n",
    "traj_hit = traj(route_hit,(7,2,0),v_turn=0.1)\n",
    "traj_hit = np.hstack([np.array(axis).reshape(-1,1) for axis in traj_hit])\n",
    "\n",
    "route_miss = [(\"straight\", 8),(\"turn\", 90),(\"straight\", 15),(\"turn\", -90), (\"straight\", 15)]\n",
    "traj_miss = traj(route_miss,(7,3,0),v_turn=0.1)\n",
    "traj_miss = np.hstack([np.array(axis).reshape(-1,1) for axis in traj_miss])\n",
    "\n",
    "plt.figure()\n",
    "plt.imshow(1-grid_data.T, cmap = plt.cm.gray, origin=\"lower\", extent=[x1,x2,y1,y2])\n",
    "plt.plot(traj_hit[:,0],traj_hit[:,1],label=\"Traj Hit\")\n",
    "plt.plot(traj_miss[:,0],traj_miss[:,1],label=\"Traj Miss\")\n",
    "plt.legend()\n",
    "plt.show()"
   ]
  },
  {
   "cell_type": "markdown",
   "metadata": {},
   "source": [
    "## Collision checking with circle_collision_check"
   ]
  },
  {
   "cell_type": "code",
   "execution_count": 11,
   "metadata": {},
   "outputs": [
    {
     "name": "stdout",
     "output_type": "stream",
     "text": [
      "traj_hit collided an object on the circle (x,y,r) = (16.66970747726353, 12.603040810596863, 0.5)\n",
      "traj_miss didn't collide\n"
     ]
    },
    {
     "data": {
      "image/png": "[encoded data removed]",
      "text/plain": [
       "<Figure size 432x288 with 1 Axes>"
      ]
     },
     "metadata": {
      "needs_background": "light"
     },
     "output_type": "display_data"
    }
   ],
   "source": [
    "plt.figure()\n",
    "plt.imshow(1-grid_data.T, cmap = plt.cm.gray, origin=\"lower\", extent=[x1,x2,y1,y2])\n",
    "plt.plot(traj_hit[:,0],traj_hit[:,1],label=\"Traj Hit\")\n",
    "plt.plot(traj_miss[:,0],traj_miss[:,1],label=\"Traj Miss\")\n",
    "plt.legend()\n",
    "\n",
    "hit, position = circle_collision_check(grid_data,traj_hit,grid_res)\n",
    "\n",
    "if hit:\n",
    "    print(f\"traj_hit collided an object on the circle (x,y,r) = {position[0],position[1],position[2]}\")\n",
    "    x,y,rad = position\n",
    "    plt.gca().add_patch(plt.Circle((x,y), rad, fill=False))\n",
    "else:\n",
    "    print(\"traj_hit didn't collide\")\n",
    "    \n",
    "hit, position = circle_collision_check(grid_data,traj_miss,grid_res)\n",
    "\n",
    "if hit:\n",
    "    print(f\"traj_miss collided an object on the circle (x,y,r) = {position[0],position[1],position[2]}\")\n",
    "    x,y,rad = position\n",
    "    plt.gca().add_patch(plt.Circle((x,y), rad, fill=False))\n",
    "else:\n",
    "    print(\"traj_miss didn't collide\")\n",
    "    \n",
    "plt.show()"
   ]
  },
  {
   "cell_type": "markdown",
   "metadata": {},
   "source": [
    "## Collision checking with swath_collision_check"
   ]
  },
  {
   "cell_type": "code",
   "execution_count": 12,
   "metadata": {},
   "outputs": [
    {
     "name": "stdout",
     "output_type": "stream",
     "text": [
      "traj_hit collided an object at (x,y) = (16.26970747726353, 12.603040810596863)\n",
      "traj_miss didn't collide\n"
     ]
    },
    {
     "data": {
      "image/png": "[encoded data removed]",
      "text/plain": [
       "<Figure size 432x288 with 1 Axes>"
      ]
     },
     "metadata": {
      "needs_background": "light"
     },
     "output_type": "display_data"
    }
   ],
   "source": [
    "plt.figure()\n",
    "plt.imshow(1-grid_data.T, cmap = plt.cm.gray,origin=\"lower\", extent=[x1,x2,y1,y2])\n",
    "plt.plot(traj_hit[:,0],traj_hit[:,1],label=\"Traj Hit\")\n",
    "plt.plot(traj_miss[:,0],traj_miss[:,1],label=\"Traj Miss\")\n",
    "\n",
    "\n",
    "hit, position, hull = swath_collision_check(grid_data,traj_hit,grid_res)\n",
    "\n",
    "\n",
    "if hit:\n",
    "    hull = hull.reshape(-1,2)\n",
    "    hull = np.concatenate([hull, hull[None,0]])\n",
    "    print(f\"traj_hit collided an object at (x,y) = {position[0],position[1]}\")\n",
    "    x,y = position\n",
    "    plt.plot(hull[:,0],hull[:,1],label=\"swatch\")\n",
    "else:\n",
    "    print(\"traj_hit didn't collide\")\n",
    "    \n",
    "hit, position, hull = swath_collision_check(grid_data,traj_miss,grid_res)\n",
    "\n",
    "if hit:\n",
    "    hull = hull.reshape(-1,2)\n",
    "    hull = np.concatenate([hull, hull[None,0]])\n",
    "    print(f\"traj_miss collided an object at (x,y) = {position[0],position[1]}\")\n",
    "    x,y = position\n",
    "    plt.plot(hull[:,0],hull[:,1],label=\"swath\")\n",
    "else:\n",
    "    print(\"traj_miss didn't collide\")\n",
    "\n",
    "plt.legend()\n",
    "plt.show()"
   ]
  }
 ],
 "metadata": {
  "colab": {
   "name": "collision_checking.ipynb",
   "provenance": []
  },
  "kernelspec": {
   "display_name": "Python 3",
   "language": "python",
   "name": "python3"
  },
  "language_info": {
   "codemirror_mode": {
    "name": "ipython",
    "version": 3
   },
   "file_extension": ".py",
   "mimetype": "text/x-python",
   "name": "python",
   "nbconvert_exporter": "python",
   "pygments_lexer": "ipython3",
   "version": "3.7.10"
  },
  "varInspector": {
   "cols": {
    "lenName": 16,
    "lenType": 16,
    "lenVar": 40
   },
   "kernels_config": {
    "python": {
     "delete_cmd_postfix": "",
     "delete_cmd_prefix": "del ",
     "library": "var_list.py",
     "varRefreshCmd": "print(var_dic_list())"
    },
    "r": {
     "delete_cmd_postfix": ") ",
     "delete_cmd_prefix": "rm(",
     "library": "var_list.r",
     "varRefreshCmd": "cat(var_dic_list()) "
    }
   },
   "types_to_exclude": [
    "module",
    "function",
    "builtin_function_or_method",
    "instance",
    "_Feature"
   ],
   "window_display": true
  }
 },
 "nbformat": 4,
 "nbformat_minor": 1
}
