{
 "cells": [
  {
   "cell_type": "code",
   "execution_count": 76,
   "metadata": {},
   "outputs": [],
   "source": [
    "import numpy as np\n",
    "import networkx as nx\n",
    "import matplotlib.pyplot as plt\n",
    "from IPython.display import Image"
   ]
  },
  {
   "cell_type": "code",
   "execution_count": 77,
   "metadata": {},
   "outputs": [
    {
     "name": "stdout",
     "output_type": "stream",
     "text": [
      "[0, 2, 5, 10]\n",
      "4.75\n"
     ]
    }
   ],
   "source": [
    "#type in the edges and edgecost as a list of 3-tuples\n",
    "edges = [(0,1,2),(0,2, 1.5),(0,3, 2.5),(1,4, 1.5),(2,5, 0.5),(4,8, 1),\n",
    "         (2,6, 2.5),(3,7, 2),(7,9, 1.25),(5,10, 2.75),(6,10, 3.25),\n",
    "         (9,10, 1.5),(8,10, 3.5)]\n",
    "\n",
    "#Define an empty graph\n",
    "G =nx.Graph()\n",
    "\n",
    "#populate the edges and the cost in graph G\n",
    "G.add_weighted_edges_from(edges, weight='cost')   \n",
    "\n",
    "#Find the shortest path from Node 0 to Node 10\n",
    "print(nx.shortest_path(G, 0, 10, 'cost'))\n",
    "\n",
    "#Find the cost of the shortest path from Node 0 to Node 10\n",
    "print(nx.shortest_path_length(G, 0, 10, 'cost'))"
   ]
  },
  {
   "cell_type": "markdown",
   "metadata": {},
   "source": [
    "Let us now move onto a grid which represents the robot's operating environment. First convert the grid to a graph.  Then we will use Astar from networkX to find the shortest path"
   ]
  },
  {
   "cell_type": "code",
   "execution_count": 78,
   "metadata": {},
   "outputs": [],
   "source": [
    "# write the Euclidean function that takes in the\n",
    "# node x, y and compute the distance\n",
    "def euclidean(node1, node2):\n",
    "  x1, y1 = node1\n",
    "  x2, y2 = node2\n",
    "  return np.sqrt((x1-x2)**2 + (y1-y2)**2)"
   ]
  },
  {
   "cell_type": "code",
   "execution_count": 79,
   "metadata": {},
   "outputs": [
    {
     "name": "stdout",
     "output_type": "stream",
     "text": [
      "400\n"
     ]
    }
   ],
   "source": [
    "grid = np.load(\"astar_grid.npy\")\n",
    "\n",
    "\n",
    "print(grid.size)    "
   ]
  },
  {
   "cell_type": "code",
   "execution_count": 80,
   "metadata": {},
   "outputs": [
    {
     "data": {
      "image/png": "[encoded data removed]",
      "text/plain": [
       "<Figure size 864x864 with 1 Axes>"
      ]
     },
     "metadata": {
      "needs_background": "light"
     },
     "output_type": "display_data"
    }
   ],
   "source": [
    "# use np.load to load a grid of 1s and 0s\n",
    "# 1 - occupied 0- free\n",
    "grid = np.load(\"astar_grid.npy\")\n",
    "# you can define your own start/ end\n",
    "start = (0, 0)\n",
    "goal = (0, 19)\n",
    "\n",
    "# visualize the start/ end and the robot's environment\n",
    "fig, ax = plt.subplots(figsize=(12,12))\n",
    "ax.imshow(grid, cmap=plt.cm.Dark2)\n",
    "ax.scatter(start[1],start[0], marker = \"+\", color = \"yellow\", s = 200)\n",
    "ax.scatter(goal[1],goal[0], marker = \"+\", color = \"red\", s = 200)\n",
    "plt.show()"
   ]
  },
  {
   "cell_type": "markdown",
   "metadata": {},
   "source": [
    "Convert this grid array into a graph. You have to follow these steps\n",
    "1. Find the dimensions of grid. Use grid_2d_graph() to initialize a grid graph of corresponding dimensions\n",
    "2. Use remove_node() to remove nodes and edges of all cells that are occupied"
   ]
  },
  {
   "cell_type": "code",
   "execution_count": 81,
   "metadata": {},
   "outputs": [
    {
     "name": "stdout",
     "output_type": "stream",
     "text": [
      "removed 77 nodes\n",
      "number of occupied cells in grid 77\n"
     ]
    }
   ],
   "source": [
    "#initialize graph\n",
    "grid_size = grid.shape\n",
    "G = nx.grid_2d_graph(*grid_size)\n",
    "\n",
    "deleted_nodes = 0 # counter to keep track of deleted nodes\n",
    "#nested loop to remove nodes that are not connected\n",
    "#free cell => grid[i, j] = ?\n",
    "#occupied cell => grid[i, j] = ?\n",
    "num_nodes = 0\n",
    "for i in range(grid_size[0]):\n",
    "  for j in range(grid_size[1]):\n",
    "    if grid[i,j] == 1: \n",
    "      G.remove_node((i, j))\n",
    "      num_nodes += 1\n",
    "\n",
    "print(f\"removed {num_nodes} nodes\")\n",
    "print(f\"number of occupied cells in grid {np.sum(grid)}\")"
   ]
  },
  {
   "cell_type": "markdown",
   "metadata": {},
   "source": [
    "Visualize the resulting graph using nx.draw(). Note that pos argument for nx.draw() has been given below. The graph is too dense. Try changing the node_size and node_color. You can correlate this graph with the grid's occupied cells"
   ]
  },
  {
   "cell_type": "code",
   "execution_count": 82,
   "metadata": {},
   "outputs": [
    {
     "data": {
      "image/png": "[encoded data removed]",
      "text/plain": [
       "<Figure size 432x288 with 1 Axes>"
      ]
     },
     "metadata": {},
     "output_type": "display_data"
    }
   ],
   "source": [
    "pos = {(x,y):(y,-x) for x,y in G.nodes()}\n",
    "nx.draw(G, pos=pos, node_color='red', node_size=10)\n",
    "\n"
   ]
  },
  {
   "cell_type": "markdown",
   "metadata": {},
   "source": [
    "We are 2 more steps away from finding the path!\n",
    "1. Set edge attribute.  Use set_edge_attributes(). Remember we have to provide a dictionary input: Edge is the key and cost is the value. We can set every move to a neighbor to have unit cost.\n",
    "2. Use astar_path() to find the path. Set heuristic to be euclidean distance. weight to be the attribute you assigned in step 1"
   ]
  },
  {
   "cell_type": "code",
   "execution_count": 83,
   "metadata": {},
   "outputs": [],
   "source": [
    "nx.set_edge_attributes(G, {e: 1 for e in G.edges()}, \"cost\")\n",
    "astar_path = nx.astar_path(G, start, goal, heuristic=euclidean, weight=\"cost\")"
   ]
  },
  {
   "cell_type": "markdown",
   "metadata": {},
   "source": [
    "Visualize the path you have computed!"
   ]
  },
  {
   "cell_type": "code",
   "execution_count": 84,
   "metadata": {},
   "outputs": [
    {
     "data": {
      "image/png": "[encoded data removed]",
      "text/plain": [
       "<Figure size 864x864 with 1 Axes>"
      ]
     },
     "metadata": {
      "needs_background": "light"
     },
     "output_type": "display_data"
    }
   ],
   "source": [
    "fig, ax = plt.subplots(figsize=(12,12))\n",
    "ax.imshow(grid, cmap=plt.cm.Dark2)\n",
    "ax.scatter(start[1],start[0], marker = \"+\", color = \"yellow\", s = 200)\n",
    "ax.scatter(goal[1],goal[0], marker = \"+\", color = \"red\", s = 200)\n",
    "for s in astar_path[1:]:\n",
    "  ax.plot(s[1], s[0],'r+')"
   ]
  },
  {
   "cell_type": "code",
   "execution_count": 85,
   "metadata": {},
   "outputs": [
    {
     "name": "stdout",
     "output_type": "stream",
     "text": [
      "map was saved\n"
     ]
    }
   ],
   "source": [
    "from PIL import Image\n",
    "from numpy import asarray\n",
    "  \n",
    "  \n",
    "# load the image and convert into \n",
    "# numpy array\n",
    "img = Image.open('map.png')\n",
    "  \n",
    "# data\n",
    "data = np.array( img, dtype='uint8' )\n",
    "\n",
    "#Convert the new npy file to png\n",
    "filename = \"map\"\n",
    "\n",
    "np.save( filename + '.npy', data)\n",
    "print(filename + \" was saved\")"
   ]
  }
 ],
 "metadata": {
  "interpreter": {
   "hash": "916dbcbb3f70747c44a77c7bcd40155683ae19c65e1c03b4aa3499c5328201f1"
  },
  "kernelspec": {
   "display_name": "Python 3.8.5 64-bit",
   "name": "python3"
  },
  "language_info": {
   "codemirror_mode": {
    "name": "ipython",
    "version": 3
   },
   "file_extension": ".py",
   "mimetype": "text/x-python",
   "name": "python",
   "nbconvert_exporter": "python",
   "pygments_lexer": "ipython3",
   "version": "3.8.10"
  },
  "metadata": {
   "interpreter": {
    "hash": "916dbcbb3f70747c44a77c7bcd40155683ae19c65e1c03b4aa3499c5328201f1"
   }
  },
  "orig_nbformat": 2
 },
 "nbformat": 4,
 "nbformat_minor": 2
}