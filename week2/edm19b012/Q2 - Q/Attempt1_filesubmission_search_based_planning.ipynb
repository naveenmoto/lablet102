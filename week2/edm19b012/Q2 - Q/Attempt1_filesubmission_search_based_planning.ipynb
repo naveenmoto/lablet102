{
 "cells": [
  {
   "cell_type": "code",
   "execution_count": 8,
   "metadata": {},
   "outputs": [],
   "source": [
    "import numpy as np\n",
    "import matplotlib.pyplot as plt\n",
    "from IPython.display import Image\n",
    "%matplotlib inline"
   ]
  },
  {
   "cell_type": "code",
   "execution_count": 9,
   "metadata": {},
   "outputs": [],
   "source": [
    "class Graph(object):\n",
    "  def __init__(self, nodes, edges):\n",
    "    self.nodes = nodes\n",
    "    self.adjacency = -np.ones([nodes, nodes])\n",
    "    self.shortest_path_set = [False] * nodes\n",
    "    #populate the adjacency matrix from edges\n",
    "    # format of edges = (node1, node2, edge_cost)\n",
    "    for node1, node2, cost in edges:\n",
    "      self.adjacency[node1, node2] = cost\n",
    "\t\n",
    "  # dist = 1D array of all distances to source\n",
    "  # check if node is not already in the shortest path set\n",
    "  # output = closest node\n",
    "  # minimum entry in dist, corresponding entry in \n",
    "  # self.shortest_path_set must be False\n",
    "  def min_cost_index(self, dist):\n",
    "      return np.argmin(np.array(dist) + 1000*np.array(self.shortest_path_set))\n",
    "    \n",
    "  def dijkstra(self, src):\n",
    "    #initialize distance array\n",
    "    dist = [1000] * self.nodes\n",
    "    dist[src] = 0\n",
    "    \n",
    "    for i in range(self.nodes):\t\n",
    "      i = self.min_cost_index(dist)\n",
    "      # Store min distance vertex in shortest path tree\n",
    "      self.shortest_path_set[i] = True\n",
    "      # Update dist value of the neighbors of selected node \n",
    "      # Two conditions to check for each neighbor \n",
    "      # (a) not in shortest path tree (b) cost is now lowered\n",
    "      # first get neighbor list from adjacency matrix\n",
    "      \n",
    "      all_nodes = self.adjacency[i,:]\n",
    "\n",
    "      # loop over neighbor list to check for other 2 conditions\n",
    "      # if satisfied, change dist[j]\n",
    "      \n",
    "      for j, edge_cost in enumerate(all_nodes):\n",
    "        if edge_cost > 0 and not self.shortest_path_set[j]: # valid neighbor\n",
    "            if dist[i] + edge_cost < dist[j]:\n",
    "                dist[j] = dist[i] + edge_cost\n",
    "    return dist"
   ]
  },
  {
   "cell_type": "code",
   "execution_count": 10,
   "metadata": {},
   "outputs": [
    {
     "name": "stdout",
     "output_type": "stream",
     "text": [
      "Node 0 is at distance 0\n",
      "Node 1 is at distance 6.0\n",
      "Node 2 is at distance 5.0\n",
      "Node 3 is at distance 2.0\n",
      "Node 4 is at distance 8.0\n",
      "Node 5 is at distance 8.0\n",
      "Node 6 is at distance 9.0\n"
     ]
    }
   ],
   "source": [
    "nodes = 7\n",
    "# (node_A, node_B, edge_cost)\n",
    "edges = [(0, 1, 8), (0, 2, 5), (0, 3, 2), (1, 4, 2), (2,1,1), (2, 5, 3), \\\n",
    "\t\t      (3, 5, 8), (4, 5, 7), (5, 4, 7), (4, 6, 1), (6, 5, 4) ]\n",
    "\n",
    "g = Graph(nodes, edges)\n",
    "\n",
    "for node, dist in enumerate(g.dijkstra(0)):\n",
    "    print(f\"Node {node} is at distance {dist}\")"
   ]
  },
  {
   "cell_type": "markdown",
   "metadata": {},
   "source": [
    "## A*\n",
    "Let us now modify the graph to accept the 2D co-ordinates of the node. We will use Euclidean distance as the heuristic"
   ]
  },
  {
   "cell_type": "code",
   "execution_count": 11,
   "metadata": {},
   "outputs": [],
   "source": [
    "node_coords = [(0, 0),(2,2),(1,2),(1,0),(3,3),(3,2), (4,2)]"
   ]
  },
  {
   "cell_type": "code",
   "execution_count": 12,
   "metadata": {},
   "outputs": [],
   "source": [
    "# Function to calculate euclidean distance\n",
    "# (x1, y1), (x2, y2) given\n",
    "def euclidean(node1, node2):\n",
    "    x1, y1 = node1\n",
    "    x2, y2 = node2\n",
    "    return np.sqrt((x1-x2)**2+(y1-y2)**2)\n",
    "\n",
    "class Graph(object):\n",
    "  def __init__(self, nodes, edges, coords, weight=1.0, heuristic=euclidean):\n",
    "    self.nodes = nodes\n",
    "    self.adjacency = -np.ones([nodes, nodes])\n",
    "    self.shortest_path_set = [False] * nodes\n",
    "    self.heuristic = heuristic\n",
    "    self.coords = coords\n",
    "    self.weight = weight # weight of heuristic\n",
    "    #populate the adjacency matrix from edges\n",
    "    # edges = (node1, node2, edge_cost)\n",
    "    \n",
    "\t\n",
    "\n",
    "  # Input: 1-D distance array to source, destination (x, y)\n",
    "  # output: next node to be selected\n",
    "  # remember criteria is source_cost + weight * heuristic_destination\n",
    "  # node should not be in shortest_path_set\n",
    "  def min_astar_distance(self, dist, dest_coords):\n",
    "     heuristic_cost = np.array([self.heuristic(n, dest_coords) for n in self.coords])\n",
    "     src_cost = np.array(dist)\n",
    "     costs = src_cost + self.weight*heuristic_cost + 1000 *np.array(self.shortest_path_set)\n",
    "     return np.argmin(costs)\n",
    "\n",
    "  def astar(self, src, dest):\n",
    "    #initialize distance array\n",
    "    dist = [1000] * self.nodes\n",
    "    dist[src] = 0\n",
    "    #get the destination (x,y)\n",
    "    dest_coords = self.coords[dest]\n",
    "    for _ in range(self.nodes):\t\n",
    "      \n",
    "      i = self.min_astar_distance(dist, dest_coords)\n",
    "      # Store min distance vertex in shortest path tree\n",
    "      self.shortest_path_set[i] = True\n",
    "      \n",
    "      # Update dist value of the neighbors of selected node \n",
    "      # Two conditions to check for each neighbor \n",
    "      # (a) not in shortest path tree (b) cost is now lowered\n",
    "      # first get neighbor list from adjacency matrix\n",
    "      \n",
    "      all_nodes = self.adjacency[i,:]\n",
    "\n",
    "      # loop over neighbor list to check for other 2 conditions\n",
    "      # if satisfied, change dist[j]\n",
    "      \n",
    "      for j, edge_cost in enumerate(all_nodes):\n",
    "        if edge_cost > 0 and not self.shortest_path_set[j]: # valid neighbor\n",
    "            if dist[i] + edge_cost < dist[j]:\n",
    "                dist[j] = dist[i] + edge_cost\n",
    "\n",
    "    # find heuristic cost from all nodes to destination\n",
    "    # use list comprehension\n",
    "    heuristic_cost = [self.heuristic(n, dest_coords) for n in self.coords]\n",
    "        \n",
    "    return dist, heuristic_cost"
   ]
  },
  {
   "cell_type": "code",
   "execution_count": 13,
   "metadata": {},
   "outputs": [
    {
     "name": "stdout",
     "output_type": "stream",
     "text": [
      "Node 0 is at distance 0\n",
      "Node 0 heuristic is  4.47213595499958\n",
      "Node 1 is at distance 1000\n",
      "Node 1 heuristic is  2.0\n",
      "Node 2 is at distance 1000\n",
      "Node 2 heuristic is  3.0\n",
      "Node 3 is at distance 1000\n",
      "Node 3 heuristic is  3.605551275463989\n",
      "Node 4 is at distance 1000\n",
      "Node 4 heuristic is  1.4142135623730951\n",
      "Node 5 is at distance 1000\n",
      "Node 5 heuristic is  1.0\n",
      "Node 6 is at distance 1000\n",
      "Node 6 heuristic is  0.0\n"
     ]
    }
   ],
   "source": [
    "nodes = 7\n",
    "# (node_A, node_B, edge_cost)\n",
    "edges = [(0, 1, 8), (0, 2, 5), (0, 3, 2), (1, 4, 2), (2, 5, 3), \\\n",
    "\t\t     (3, 5, 8), (4, 5, 7), (5, 4, 7), (5, 6, 1), (6, 5, 4) ]\n",
    "node_coords = [(0, 0),(2,2),(1,2),(1,0),(3,3),(3,2),(4,2)]\n",
    "g = Graph(nodes, edges, node_coords)\n",
    "cost, heuristic = g.astar(0, 6)\n",
    "for node, (dist, heur) in enumerate(zip(cost, heuristic)):\n",
    "    print(f\"Node {node} is at distance {dist}\")\n",
    "    print(f\"Node {node} heuristic is  {heur}\")"
   ]
  }
 ],
 "metadata": {
  "kernelspec": {
   "display_name": "Python 3.8.5 64-bit",
   "name": "python385jvsc74a57bd0916dbcbb3f70747c44a77c7bcd40155683ae19c65e1c03b4aa3499c5328201f1"
  },
  "language_info": {
   "codemirror_mode": {
    "name": "ipython",
    "version": 3
   },
   "file_extension": ".py",
   "mimetype": "text/x-python",
   "name": "python",
   "nbconvert_exporter": "python",
   "pygments_lexer": "ipython3",
   "version": "3.8.5"
  },
  "metadata": {
   "interpreter": {
    "hash": "916dbcbb3f70747c44a77c7bcd40155683ae19c65e1c03b4aa3499c5328201f1"
   }
  },
  "orig_nbformat": 2
 },
 "nbformat": 4,
 "nbformat_minor": 2
}