{
  "nbformat": 4,
  "nbformat_minor": 0,
  "metadata": {
    "kernelspec": {
      "display_name": "Python 3",
      "language": "python",
      "name": "python3"
    },
    "language_info": {
      "codemirror_mode": {
        "name": "ipython",
        "version": 3
      },
      "file_extension": ".py",
      "mimetype": "text/x-python",
      "name": "python",
      "nbconvert_exporter": "python",
      "pygments_lexer": "ipython3",
      "version": "3.9.1"
    },
    "varInspector": {
      "cols": {
        "lenName": 16,
        "lenType": 16,
        "lenVar": 40
      },
      "kernels_config": {
        "python": {
          "delete_cmd_postfix": "",
          "delete_cmd_prefix": "del ",
          "library": "var_list.py",
          "varRefreshCmd": "print(var_dic_list())"
        },
        "r": {
          "delete_cmd_postfix": ") ",
          "delete_cmd_prefix": "rm(",
          "library": "var_list.r",
          "varRefreshCmd": "cat(var_dic_list()) "
        }
      },
      "position": {
        "height": "144px",
        "left": "1090px",
        "right": "20px",
        "top": "13px",
        "width": "350px"
      },
      "types_to_exclude": [
        "module",
        "function",
        "builtin_function_or_method",
        "instance",
        "_Feature"
      ],
      "window_display": true
    },
    "colab": {
      "name": "search_based_planning_scratch.ipynb",
      "provenance": [],
      "collapsed_sections": []
    }
  },
  "cells": [
    {
      "cell_type": "code",
      "metadata": {
        "id": "gpGPl3rxD5bt"
      },
      "source": [
        "import numpy as np\n",
        "import matplotlib.pyplot as plt\n",
        "from IPython.display import Image\n",
        "from numpy import linalg as LA\n",
        "%matplotlib inline"
      ],
      "execution_count": 8,
      "outputs": []
    },
    {
      "cell_type": "code",
      "metadata": {
        "colab": {
          "base_uri": "https://localhost:8080/",
          "height": 35
        },
        "id": "CMmNelT6-rAq",
        "outputId": "b5a0b5e4-97b9-4a95-a078-c9d289bf6b55"
      },
      "source": [
        "Image('djikstra.png')"
      ],
      "execution_count": null,
      "outputs": [
        {
          "output_type": "execute_result",
          "data": {
            "image/png": "djikstra.png",
            "text/plain": [
              "<IPython.core.display.Image object>"
            ]
          },
          "metadata": {
            "tags": []
          },
          "execution_count": 4
        }
      ]
    },
    {
      "cell_type": "markdown",
      "metadata": {
        "id": "xjRRn2qs-hse"
      },
      "source": [
        "Consider the example problem we discussed in the theory session (easy to verify!). We will implement from scratch Djikstra  algorithm to find the cost of traversal from a source node to all other nodes in a given connected graph. Note that we are not finding the shortest path itself. But that will follow"
      ]
    },
    {
      "cell_type": "code",
      "metadata": {
        "id": "rkAm7KZ5D5by"
      },
      "source": [
        "class Graph(object):\n",
        "  def __init__(self, nodes, edges):\n",
        "    self.nodes = nodes\n",
        "    self.adjacency = -np.ones([nodes, nodes])\n",
        "    self.shortest_path_set = [False] * nodes\n",
        "    #populate the adjacency matrix from edges\n",
        "    # format of edges = (node1, node2, edge_cost)\n",
        "    for a,b,cost in edges:\n",
        "      self.adjacency[a][b] = cost \n",
        "\t\n",
        "  # dist = 1D array of all distances to source\n",
        "  # output = closest node\n",
        "  def min_distance(self, dist):\n",
        "      return np.argmin(np.array(dist)+1000*np.array(self.shortest_path_set))\n",
        "    \n",
        "  def dijkstra(self, src):\n",
        "    #initialize distance array\n",
        "    dist = [1000] * self.nodes\n",
        "    dist[src] = 0\n",
        "    \n",
        "    for _ in range(self.nodes):\t\n",
        "      i = self.min_distance(dist)\n",
        "      # Store min distance vertex in shortest path tree\n",
        "      self.shortest_path_set[i] = True\n",
        "      \n",
        "      # Update dist value of the neighbors of selected node \n",
        "      # Two conditions to check for each neighbor \n",
        "      # (a) not in shortest path tree (b) cost is now lowered\n",
        "      # first get neighbor list from adjacency matrix\n",
        "      \n",
        "      all_nodes = self.adjacency[i,:]\n",
        "\n",
        "      # loop over neighbor list to check for other 2 conditions\n",
        "      # if satisfied, change dist[j]\n",
        "      \n",
        "      for j, nbr_cost in enumerate(all_nodes):\n",
        "        if nbr_cost > 0 and not self.shortest_path_set[j]:\n",
        "          if dist[i] + nbr_cost < dist[j]: \n",
        "            dist[j] = dist[i] + nbr_cost\n",
        "        \n",
        "    return dist"
      ],
      "execution_count": 2,
      "outputs": []
    },
    {
      "cell_type": "code",
      "metadata": {
        "id": "QFtApVYQJ9oQ",
        "colab": {
          "base_uri": "https://localhost:8080/"
        },
        "outputId": "5f78447e-6076-455f-e848-1f6bc8f8e037"
      },
      "source": [
        "nodes = 7\n",
        "# (node_A, node_B, edge_cost)\n",
        "edges = [(0, 1, 8), (0, 2, 5), (0, 3, 2), (1, 4, 2), (2, 1, 1), (2, 5, 3), \\\n",
        "\t\t      (3, 5, 8), (4, 5, 7), (5, 4, 7), (5, 6, 1), (6, 5, 4) ]\n",
        "\n",
        "g = Graph(nodes, edges)\n",
        "\n",
        "for node, dist in enumerate(g.dijkstra(0)[1:]):\n",
        "    print(f\"Node {node+1} is at distance {dist}\")"
      ],
      "execution_count": 4,
      "outputs": [
        {
          "output_type": "stream",
          "text": [
            "Node 1 is at distance 6.0\n",
            "Node 2 is at distance 5.0\n",
            "Node 3 is at distance 2.0\n",
            "Node 4 is at distance 8.0\n",
            "Node 5 is at distance 8.0\n",
            "Node 6 is at distance 9.0\n"
          ],
          "name": "stdout"
        }
      ]
    },
    {
      "cell_type": "code",
      "metadata": {
        "colab": {
          "base_uri": "https://localhost:8080/",
          "height": 41
        },
        "id": "MsUN5o6N_nUI",
        "outputId": "85df87a4-c1f3-4af2-fe8d-b9ce31ad9522"
      },
      "source": [
        "Image('astar.png')"
      ],
      "execution_count": 5,
      "outputs": [
        {
          "output_type": "execute_result",
          "data": {
            "image/png": "astar.png",
            "text/plain": [
              "<IPython.core.display.Image object>"
            ]
          },
          "metadata": {
            "tags": []
          },
          "execution_count": 5
        }
      ]
    },
    {
      "cell_type": "markdown",
      "metadata": {
        "id": "UDxJrADc3qoP"
      },
      "source": [
        "## A*\n",
        "Let us now modify the graph to accept the 2D co-ordinates of the node. We will use Euclidean distance as the heuristic"
      ]
    },
    {
      "cell_type": "code",
      "metadata": {
        "id": "EvoT3Ah0NB1Z"
      },
      "source": [
        "node_coords = [(0, 0),(2,2),(1,2),\n",
        "               (1,0),(3,3),(3,2),\n",
        "               (4,2)]"
      ],
      "execution_count": 5,
      "outputs": []
    },
    {
      "cell_type": "code",
      "metadata": {
        "id": "75PNiEgOSzQz"
      },
      "source": [
        "# Function to calculate euclidean distance\n",
        "# (x1, y1), (x2, y2) given\n",
        "def euclidean(node1, node2):\n",
        "    x1, y1 = node1\n",
        "    x2, y2 = node2\n",
        "    return np.sqrt((x1-x2)**2 + (y1-y2)**2)\n",
        "\n",
        "class Graph(object):\n",
        "  def __init__(self, nodes, edges, coords, weight=1.0, heuristic=euclidean):\n",
        "    self.nodes = nodes\n",
        "    self.adjacency = np.zeros([nodes, nodes])\n",
        "    self.shortest_path_set = [False] * nodes\n",
        "    self.heuristic = heuristic\n",
        "    self.coords = coords\n",
        "    self.weight = weight # weight of heuristic\n",
        "    #populate the adjacency matrix from edges\n",
        "    # edges = (node1, node2, edge_cost)\n",
        "    for a,b,cost in edges:\n",
        "      self.adjacency[a][b] = cost \n",
        "\t\n",
        "\n",
        "  # Input: 1-D distance array to source, destination (x, y)\n",
        "  # output: next node to be selected\n",
        "  # remember criteria is source_cost + weight * heuristic_destination\n",
        "  def min_astar_distance(self, dist, dest_coords):\n",
        "    heuristic_cost = np.array([self.heuristic(n, dest_coords) for n in self.coords])\n",
        "    src_cost = np.array(dist)\n",
        "    costs = src_cost + self.weight*heuristic_cost + 1000*np.array(self.shortest_path_set)\n",
        "    return np.argmin(costs)\n",
        "\n",
        "\n",
        "  def astar(self, src, dest):\n",
        "    #initialize distance array\n",
        "    dist = [1000] * self.nodes\n",
        "    dist[src] = 0\n",
        "    #get the destination (x,y)\n",
        "    dest_coords = self.coords[dest]\n",
        "    for _ in range(self.nodes):\t\n",
        "      \n",
        "      i = self.min_astar_distance(dist, dest_coords)\n",
        "      # Store min distance vertex in shortest path tree\n",
        "      self.shortest_path_set[i] = True\n",
        "      \n",
        "      # Update dist value of the neighbors of selected node \n",
        "      # Two conditions to check for each neighbor \n",
        "      # (a) not in shortest path tree (b) cost is now lowered\n",
        "      # first get neighbor list from adjacency matrix\n",
        "      \n",
        "      neighbors = self.adjacency[i,:]\n",
        "\n",
        "      # loop over neighbor list to check for other 2 conditions\n",
        "      # if satisfied, change dist[j]\n",
        "      \n",
        "      for j, nbr_cost in enumerate(neighbors):\n",
        "        if nbr_cost > 0 and not self.shortest_path_set[j]:\n",
        "          if dist[i] + nbr_cost < dist[j]: \n",
        "            dist[j] = dist[i] + nbr_cost\n",
        "\n",
        "    # find heuristic cost from all nodes to destination\n",
        "    # use list comprehension\n",
        "    heuristic_cost = np.array([self.heuristic(n, dest_coords) for n in self.coords])\n",
        "        \n",
        "    return dist, heuristic_cost"
      ],
      "execution_count": 6,
      "outputs": []
    },
    {
      "cell_type": "code",
      "metadata": {
        "colab": {
          "base_uri": "https://localhost:8080/"
        },
        "id": "kBzF2BKHCQi4",
        "outputId": "7b5f13d8-b44d-4be1-a627-3b2534ebc8c6"
      },
      "source": [
        "nodes = 7\n",
        "# (node_A, node_B, edge_cost)\n",
        "edges = [(0, 1, 8), (0, 2, 5), (0, 3, 2), (1, 4, 2), (2, 5, 3), \\\n",
        "\t\t     (3, 5, 8), (4, 5, 7), (5, 4, 7), (5, 6, 1), (6, 5, 4) ]\n",
        "node_coords = [(0, 0),(2,2),(1,2),(1,0),(3,3),(3,2),(4,2)]\n",
        "g = Graph(nodes, edges, node_coords)\n",
        "cost, heuristic = g.astar(0, 6)\n",
        "for node, (dist, heur) in enumerate(zip(cost, heuristic)):\n",
        "    print(f\"Node {node} is at distance {dist}\")\n",
        "    print(f\"Node {node} heuristic is  {heur}\")"
      ],
      "execution_count": 7,
      "outputs": [
        {
          "output_type": "stream",
          "text": [
            "Node 0 is at distance 0\n",
            "Node 0 heuristic is  4.47213595499958\n",
            "Node 1 is at distance 8.0\n",
            "Node 1 heuristic is  2.0\n",
            "Node 2 is at distance 5.0\n",
            "Node 2 heuristic is  3.0\n",
            "Node 3 is at distance 2.0\n",
            "Node 3 heuristic is  3.605551275463989\n",
            "Node 4 is at distance 10.0\n",
            "Node 4 heuristic is  1.4142135623730951\n",
            "Node 5 is at distance 8.0\n",
            "Node 5 heuristic is  1.0\n",
            "Node 6 is at distance 9.0\n",
            "Node 6 heuristic is  0.0\n"
          ],
          "name": "stdout"
        }
      ]
    },
    {
      "cell_type": "markdown",
      "metadata": {
        "id": "Fy-u1lwa75pt"
      },
      "source": [
        "Notice that this is a very simple implementation to get the costs of all nodes to the source node. We can make 2 changes \n",
        "\n",
        "1. We did not get the predecessors of each node. \n",
        "Predecessors list is what will help us determine the path. Can you change the code to print out the predecessors as well?\n",
        "2.   In general we have to calculate only the path to the destination (not all nodes) as it is computationally expensive. What do you think should be the convergence criteria? Use it to find the shortest path to Node 5 instead of Node \n",
        "\n",
        "Feel free to experiment with other heuristics like (a) L-1 norm (b) number of edges\n",
        "\n"
      ]
    },
    {
      "cell_type": "code",
      "metadata": {
        "id": "SKSHmljmI5Ln"
      },
      "source": [
        ""
      ],
      "execution_count": null,
      "outputs": []
    }
  ]
}