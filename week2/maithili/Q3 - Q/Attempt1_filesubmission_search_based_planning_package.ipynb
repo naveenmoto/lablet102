{
  "nbformat": 4,
  "nbformat_minor": 0,
  "metadata": {
    "kernelspec": {
      "display_name": "Python 3",
      "language": "python",
      "name": "python3"
    },
    "language_info": {
      "codemirror_mode": {
        "name": "ipython",
        "version": 3
      },
      "file_extension": ".py",
      "mimetype": "text/x-python",
      "name": "python",
      "nbconvert_exporter": "python",
      "pygments_lexer": "ipython3",
      "version": "3.9.1"
    },
    "varInspector": {
      "cols": {
        "lenName": 16,
        "lenType": 16,
        "lenVar": 40
      },
      "kernels_config": {
        "python": {
          "delete_cmd_postfix": "",
          "delete_cmd_prefix": "del ",
          "library": "var_list.py",
          "varRefreshCmd": "print(var_dic_list())"
        },
        "r": {
          "delete_cmd_postfix": ") ",
          "delete_cmd_prefix": "rm(",
          "library": "var_list.r",
          "varRefreshCmd": "cat(var_dic_list()) "
        }
      },
      "position": {
        "height": "144.444px",
        "left": "1307px",
        "right": "20px",
        "top": "76px",
        "width": "350px"
      },
      "types_to_exclude": [
        "module",
        "function",
        "builtin_function_or_method",
        "instance",
        "_Feature"
      ],
      "window_display": true
    },
    "colab": {
      "name": "search_based_planning_package.ipynb",
      "provenance": [],
      "collapsed_sections": []
    }
  },
  "cells": [
    {
      "cell_type": "code",
      "metadata": {
        "id": "z85-XBJe8fwX"
      },
      "source": [
        "import numpy as np\n",
        "import networkx as nx\n",
        "import matplotlib.pyplot as plt\n",
        "import PIL.Image\n",
        "\n",
        "from IPython.display import Image"
      ],
      "execution_count": 26,
      "outputs": []
    },
    {
      "cell_type": "code",
      "metadata": {
        "colab": {
          "base_uri": "https://localhost:8080/"
        },
        "id": "Lzk_AMI-1USy",
        "outputId": "7a8809f3-80b5-46af-be7e-1d6ca203ad14"
      },
      "source": [
        "from google.colab import drive\n",
        "drive.mount('/content/drive')"
      ],
      "execution_count": 2,
      "outputs": [
        {
          "output_type": "stream",
          "text": [
            "Mounted at /content/drive\n"
          ],
          "name": "stdout"
        }
      ]
    },
    {
      "cell_type": "code",
      "metadata": {
        "id": "iRNLuKNm8fwh",
        "colab": {
          "base_uri": "https://localhost:8080/",
          "height": 41
        },
        "outputId": "8a1d6e8e-4f7a-47ec-c38d-2aa263ac4ee8"
      },
      "source": [
        "Image('graph.png')"
      ],
      "execution_count": 3,
      "outputs": [
        {
          "output_type": "execute_result",
          "data": {
            "image/png": "graph.png",
            "text/plain": [
              "<IPython.core.display.Image object>"
            ]
          },
          "metadata": {
            "tags": []
          },
          "execution_count": 3
        }
      ]
    },
    {
      "cell_type": "markdown",
      "metadata": {
        "id": "XfIn3hQlbsX-"
      },
      "source": [
        "We are going to use networkx package to construct the graph and find the shortest paths. Refer to the [NetworkX documentation](https://networkx.github.io/documentation/stable/)."
      ]
    },
    {
      "cell_type": "code",
      "metadata": {
        "id": "Zf70Jff6bWYI",
        "colab": {
          "base_uri": "https://localhost:8080/"
        },
        "outputId": "607d0b71-4ba0-45b3-9478-91a661913f5e"
      },
      "source": [
        "#type in the edges and edgecost as a list of 3-tuples\n",
        "edges = [(0,1,2),(0,2, 1.5),(0,3, 2.5),(1,4, 1.5),(2,5, 0.5),(4,8, 1),\n",
        "         (2,6, 2.5),(3,7, 2),(7,9, 1.25),(5,10, 2.75),(6,10, 3.25),\n",
        "         (9,10, 1.5),(8,10, 3.5)]\n",
        "\n",
        "#Define an empty graph\n",
        "#Graph\n",
        "G = nx.Graph()\n",
        "\n",
        "#populate the edges and the cost in graph G\n",
        "G.add_weighted_edges_from(edges)\n",
        "#add_edge()\n",
        "\n",
        "#Find the shortest path from Node 0 to Node 10\n",
        "print(nx.shortest_path(G, 0, 10, 'weight'))\n",
        "#shortest_path() 4.75\n",
        "\n",
        "#Find the cost of the shortest path from Node 0 to Node 10\n",
        "print(nx.shortest_path_length(G, 0, 10, 'weight')) "
      ],
      "execution_count": 5,
      "outputs": [
        {
          "output_type": "stream",
          "text": [
            "[0, 2, 5, 10]\n",
            "4.75\n"
          ],
          "name": "stdout"
        }
      ]
    },
    {
      "cell_type": "markdown",
      "metadata": {
        "id": "S0ceeptfi9Zs"
      },
      "source": [
        "Let us now move onto a grid which represents the robot's operating environment. First convert the grid to a graph.  Then we will use Astar from networkX to find the shortest path"
      ]
    },
    {
      "cell_type": "code",
      "metadata": {
        "id": "JP5UumQad3EG"
      },
      "source": [
        "# write the Euclidean function that takes in the\n",
        "# node x, y and compute the distance\n",
        "def euclidean(node1, node2):\n",
        "    x1, y1 = node1\n",
        "    x2, y2 = node2\n",
        "    return np.sqrt((x1-x2)**2 + (y1-y2)**2)"
      ],
      "execution_count": 6,
      "outputs": []
    },
    {
      "cell_type": "code",
      "metadata": {
        "colab": {
          "base_uri": "https://localhost:8080/",
          "height": 700
        },
        "id": "N-uQvXAOtauO",
        "outputId": "ecf6892b-b300-4854-ec0f-f1b8f502430b"
      },
      "source": [
        "# use np.load to load a grid of 1s and 0s\n",
        "# 1 - occupied 0- free\n",
        "grid = np.load(\"/content/drive/MyDrive/Assignment LABLET AP102/Week 2/data/astar_grid.npy\")\n",
        "# you can define your own start/ end\n",
        "start = (0, 0)\n",
        "goal = (0, 19)\n",
        "\n",
        "# visualize the start/ end and the robot's environment\n",
        "fig, ax = plt.subplots(figsize=(12,12))\n",
        "ax.imshow(grid, cmap=plt.cm.Dark2)\n",
        "ax.scatter(start[1],start[0], marker = \"+\", color = \"yellow\", s = 200)\n",
        "ax.scatter(goal[1],goal[0], marker = \"+\", color = \"red\", s = 200)\n",
        "plt.show()"
      ],
      "execution_count": 7,
      "outputs": [
        {
          "output_type": "display_data",
          "data": {
            "image/png": "[encoded data removed]",
            "text/plain": [
              "<Figure size 864x864 with 1 Axes>"
            ]
          },
          "metadata": {
            "tags": [],
            "needs_background": "light"
          }
        }
      ]
    },
    {
      "cell_type": "markdown",
      "metadata": {
        "id": "h5ISh41o086P"
      },
      "source": [
        "Convert this grid array into a graph. You have to follow these steps\n",
        "1. Find the dimensions of grid. Use grid_2d_graph() to initialize a grid graph of corresponding dimensions\n",
        "2. Use remove_node() to remove nodes and edges of all cells that are occupied"
      ]
    },
    {
      "cell_type": "code",
      "metadata": {
        "colab": {
          "base_uri": "https://localhost:8080/"
        },
        "id": "AuKatVcuchIa",
        "outputId": "ded1d4a8-7692-409f-9ab5-9c07829ec107"
      },
      "source": [
        "#initialize graph\n",
        "grid_size = grid.shape\n",
        "G = nx.grid_2d_graph(*grid_size)\n",
        "num_nodes = 0 # counter to keep track of deleted nodes\n",
        "#loop to remove nodes\n",
        "for i in range(20): \n",
        "  for j in range(20):\n",
        "    if grid[i, j] == 1:\n",
        "      G.remove_node((i, j))\n",
        "      num_nodes +=1\n",
        "print(f\"removed {num_nodes} nodes\")\n",
        "print(f\"number of occupied cells in grid {np.sum(grid)}\")"
      ],
      "execution_count": 8,
      "outputs": [
        {
          "output_type": "stream",
          "text": [
            "removed 77 nodes\n",
            "number of occupied cells in grid 77\n"
          ],
          "name": "stdout"
        }
      ]
    },
    {
      "cell_type": "markdown",
      "metadata": {
        "id": "lvnzFEsm15_G"
      },
      "source": [
        "Visualize the resulting graph using nx.draw(). Note that pos argument for nx.draw() has been given below. The graph is too dense. Try changing the node_size and node_color. You can correlate this graph with the grid's occupied cells"
      ]
    },
    {
      "cell_type": "code",
      "metadata": {
        "colab": {
          "base_uri": "https://localhost:8080/",
          "height": 319
        },
        "id": "vv5TZNPRzzzO",
        "outputId": "27cc76b4-8765-4ff1-f4a3-9a54e59b9b6b"
      },
      "source": [
        "pos = {(x,y):(y,-x) for x,y in G.nodes()}\n",
        "nx.draw(G, pos=pos, node_color='red', node_size=10) "
      ],
      "execution_count": 9,
      "outputs": [
        {
          "output_type": "display_data",
          "data": {
            "image/png": "[encoded data removed]",
            "text/plain": [
              "<Figure size 432x288 with 1 Axes>"
            ]
          },
          "metadata": {
            "tags": []
          }
        }
      ]
    },
    {
      "cell_type": "markdown",
      "metadata": {
        "id": "OUgJK3f22c3A"
      },
      "source": [
        "We are 2 more steps away from finding the path!\n",
        "1. Set edge attribute.  Use set_edge_attributes(). Remember we have to provide a dictionary input: Edge is the key and cost is the value. We can set every move to a neighbor to have unit cost.\n",
        "2. Use astar_path() to find the path. Set heuristic to be euclidean distance. weight to be the attribute you assigned in step 1"
      ]
    },
    {
      "cell_type": "code",
      "metadata": {
        "colab": {
          "base_uri": "https://localhost:8080/"
        },
        "id": "Q0xSzGY-9fX2",
        "outputId": "0ac4b13a-d33e-42bf-a266-d2ac49411570"
      },
      "source": [
        "G.edges"
      ],
      "execution_count": 10,
      "outputs": [
        {
          "output_type": "execute_result",
          "data": {
            "text/plain": [
              "EdgeView([((0, 0), (1, 0)), ((0, 0), (0, 1)), ((0, 1), (1, 1)), ((0, 1), (0, 2)), ((0, 2), (1, 2)), ((0, 2), (0, 3)), ((0, 3), (1, 3)), ((0, 3), (0, 4)), ((0, 4), (1, 4)), ((0, 4), (0, 5)), ((0, 5), (1, 5)), ((0, 9), (1, 9)), ((0, 9), (0, 10)), ((0, 10), (1, 10)), ((0, 10), (0, 11)), ((0, 11), (1, 11)), ((0, 11), (0, 12)), ((0, 12), (1, 12)), ((0, 12), (0, 13)), ((0, 13), (1, 13)), ((0, 13), (0, 14)), ((0, 14), (1, 14)), ((0, 14), (0, 15)), ((0, 15), (1, 15)), ((0, 15), (0, 16)), ((0, 16), (1, 16)), ((0, 16), (0, 17)), ((0, 17), (1, 17)), ((0, 17), (0, 18)), ((0, 18), (1, 18)), ((0, 18), (0, 19)), ((0, 19), (1, 19)), ((1, 0), (2, 0)), ((1, 0), (1, 1)), ((1, 1), (2, 1)), ((1, 1), (1, 2)), ((1, 2), (2, 2)), ((1, 2), (1, 3)), ((1, 3), (2, 3)), ((1, 3), (1, 4)), ((1, 4), (2, 4)), ((1, 4), (1, 5)), ((1, 5), (2, 5)), ((1, 9), (2, 9)), ((1, 9), (1, 10)), ((1, 10), (2, 10)), ((1, 10), (1, 11)), ((1, 11), (2, 11)), ((1, 11), (1, 12)), ((1, 12), (2, 12)), ((1, 12), (1, 13)), ((1, 13), (2, 13)), ((1, 13), (1, 14)), ((1, 14), (2, 14)), ((1, 14), (1, 15)), ((1, 15), (2, 15)), ((1, 15), (1, 16)), ((1, 16), (2, 16)), ((1, 16), (1, 17)), ((1, 17), (2, 17)), ((1, 17), (1, 18)), ((1, 18), (2, 18)), ((1, 18), (1, 19)), ((1, 19), (2, 19)), ((2, 0), (3, 0)), ((2, 0), (2, 1)), ((2, 1), (3, 1)), ((2, 1), (2, 2)), ((2, 2), (3, 2)), ((2, 2), (2, 3)), ((2, 3), (3, 3)), ((2, 3), (2, 4)), ((2, 4), (3, 4)), ((2, 4), (2, 5)), ((2, 5), (3, 5)), ((2, 7), (3, 7)), ((2, 9), (3, 9)), ((2, 9), (2, 10)), ((2, 10), (3, 10)), ((2, 10), (2, 11)), ((2, 11), (3, 11)), ((2, 11), (2, 12)), ((2, 12), (3, 12)), ((2, 12), (2, 13)), ((2, 13), (3, 13)), ((2, 13), (2, 14)), ((2, 14), (3, 14)), ((2, 14), (2, 15)), ((2, 15), (3, 15)), ((2, 15), (2, 16)), ((2, 16), (3, 16)), ((2, 16), (2, 17)), ((2, 17), (3, 17)), ((2, 17), (2, 18)), ((2, 18), (3, 18)), ((2, 18), (2, 19)), ((2, 19), (3, 19)), ((3, 0), (4, 0)), ((3, 0), (3, 1)), ((3, 1), (4, 1)), ((3, 1), (3, 2)), ((3, 2), (4, 2)), ((3, 2), (3, 3)), ((3, 3), (4, 3)), ((3, 3), (3, 4)), ((3, 4), (4, 4)), ((3, 4), (3, 5)), ((3, 5), (4, 5)), ((3, 5), (3, 6)), ((3, 6), (4, 6)), ((3, 6), (3, 7)), ((3, 7), (4, 7)), ((3, 9), (4, 9)), ((3, 9), (3, 10)), ((3, 10), (4, 10)), ((3, 10), (3, 11)), ((3, 11), (4, 11)), ((3, 11), (3, 12)), ((3, 12), (4, 12)), ((3, 12), (3, 13)), ((3, 13), (4, 13)), ((3, 13), (3, 14)), ((3, 14), (4, 14)), ((3, 14), (3, 15)), ((3, 15), (4, 15)), ((3, 15), (3, 16)), ((3, 16), (4, 16)), ((3, 16), (3, 17)), ((3, 17), (4, 17)), ((3, 17), (3, 18)), ((3, 18), (4, 18)), ((3, 18), (3, 19)), ((3, 19), (4, 19)), ((4, 0), (5, 0)), ((4, 0), (4, 1)), ((4, 1), (5, 1)), ((4, 1), (4, 2)), ((4, 2), (5, 2)), ((4, 2), (4, 3)), ((4, 3), (4, 4)), ((4, 4), (4, 5)), ((4, 5), (4, 6)), ((4, 6), (5, 6)), ((4, 6), (4, 7)), ((4, 7), (5, 7)), ((4, 9), (5, 9)), ((4, 9), (4, 10)), ((4, 10), (5, 10)), ((4, 10), (4, 11)), ((4, 11), (5, 11)), ((4, 11), (4, 12)), ((4, 12), (5, 12)), ((4, 12), (4, 13)), ((4, 13), (5, 13)), ((4, 13), (4, 14)), ((4, 14), (5, 14)), ((4, 14), (4, 15)), ((4, 15), (5, 15)), ((4, 15), (4, 16)), ((4, 16), (5, 16)), ((4, 16), (4, 17)), ((4, 17), (5, 17)), ((4, 17), (4, 18)), ((4, 18), (5, 18)), ((4, 18), (4, 19)), ((4, 19), (5, 19)), ((5, 0), (6, 0)), ((5, 0), (5, 1)), ((5, 1), (6, 1)), ((5, 1), (5, 2)), ((5, 2), (6, 2)), ((5, 6), (6, 6)), ((5, 6), (5, 7)), ((5, 7), (6, 7)), ((5, 9), (6, 9)), ((5, 9), (5, 10)), ((5, 10), (6, 10)), ((5, 10), (5, 11)), ((5, 11), (6, 11)), ((5, 11), (5, 12)), ((5, 12), (6, 12)), ((5, 12), (5, 13)), ((5, 13), (5, 14)), ((5, 14), (5, 15)), ((5, 15), (5, 16)), ((5, 16), (5, 17)), ((5, 17), (5, 18)), ((5, 18), (6, 18)), ((5, 18), (5, 19)), ((6, 0), (7, 0)), ((6, 0), (6, 1)), ((6, 1), (7, 1)), ((6, 1), (6, 2)), ((6, 2), (7, 2)), ((6, 2), (6, 3)), ((6, 3), (7, 3)), ((6, 3), (6, 4)), ((6, 4), (7, 4)), ((6, 4), (6, 5)), ((6, 5), (7, 5)), ((6, 5), (6, 6)), ((6, 6), (7, 6)), ((6, 6), (6, 7)), ((6, 7), (7, 7)), ((6, 9), (7, 9)), ((6, 9), (6, 10)), ((6, 10), (7, 10)), ((6, 10), (6, 11)), ((6, 11), (7, 11)), ((6, 11), (6, 12)), ((6, 12), (7, 12)), ((6, 18), (7, 18)), ((7, 0), (8, 0)), ((7, 0), (7, 1)), ((7, 1), (8, 1)), ((7, 1), (7, 2)), ((7, 2), (8, 2)), ((7, 2), (7, 3)), ((7, 3), (8, 3)), ((7, 3), (7, 4)), ((7, 4), (8, 4)), ((7, 4), (7, 5)), ((7, 5), (8, 5)), ((7, 5), (7, 6)), ((7, 6), (8, 6)), ((7, 6), (7, 7)), ((7, 7), (8, 7)), ((7, 9), (8, 9)), ((7, 9), (7, 10)), ((7, 10), (8, 10)), ((7, 10), (7, 11)), ((7, 11), (8, 11)), ((7, 11), (7, 12)), ((7, 12), (8, 12)), ((7, 16), (8, 16)), ((7, 16), (7, 17)), ((7, 17), (8, 17)), ((7, 17), (7, 18)), ((7, 18), (8, 18)), ((7, 18), (7, 19)), ((7, 19), (8, 19)), ((8, 0), (9, 0)), ((8, 0), (8, 1)), ((8, 1), (9, 1)), ((8, 1), (8, 2)), ((8, 2), (9, 2)), ((8, 2), (8, 3)), ((8, 3), (9, 3)), ((8, 3), (8, 4)), ((8, 4), (9, 4)), ((8, 4), (8, 5)), ((8, 5), (9, 5)), ((8, 5), (8, 6)), ((8, 6), (9, 6)), ((8, 6), (8, 7)), ((8, 7), (9, 7)), ((8, 9), (8, 10)), ((8, 10), (8, 11)), ((8, 11), (8, 12)), ((8, 16), (9, 16)), ((8, 16), (8, 17)), ((8, 17), (9, 17)), ((8, 17), (8, 18)), ((8, 18), (9, 18)), ((8, 18), (8, 19)), ((8, 19), (9, 19)), ((9, 0), (10, 0)), ((9, 0), (9, 1)), ((9, 1), (10, 1)), ((9, 1), (9, 2)), ((9, 2), (10, 2)), ((9, 2), (9, 3)), ((9, 3), (10, 3)), ((9, 3), (9, 4)), ((9, 4), (10, 4)), ((9, 4), (9, 5)), ((9, 5), (10, 5)), ((9, 5), (9, 6)), ((9, 6), (10, 6)), ((9, 6), (9, 7)), ((9, 7), (10, 7)), ((9, 14), (10, 14)), ((9, 14), (9, 15)), ((9, 15), (10, 15)), ((9, 15), (9, 16)), ((9, 16), (10, 16)), ((9, 16), (9, 17)), ((9, 17), (10, 17)), ((9, 17), (9, 18)), ((9, 18), (10, 18)), ((9, 18), (9, 19)), ((9, 19), (10, 19)), ((10, 0), (10, 1)), ((10, 1), (10, 2)), ((10, 2), (10, 3)), ((10, 3), (10, 4)), ((10, 4), (10, 5)), ((10, 5), (11, 5)), ((10, 5), (10, 6)), ((10, 6), (11, 6)), ((10, 6), (10, 7)), ((10, 7), (11, 7)), ((10, 9), (11, 9)), ((10, 9), (10, 10)), ((10, 10), (11, 10)), ((10, 10), (10, 11)), ((10, 11), (11, 11)), ((10, 11), (10, 12)), ((10, 12), (11, 12)), ((10, 12), (10, 13)), ((10, 13), (11, 13)), ((10, 13), (10, 14)), ((10, 14), (11, 14)), ((10, 14), (10, 15)), ((10, 15), (11, 15)), ((10, 15), (10, 16)), ((10, 16), (10, 17)), ((10, 17), (10, 18)), ((10, 18), (10, 19)), ((11, 5), (12, 5)), ((11, 5), (11, 6)), ((11, 6), (12, 6)), ((11, 6), (11, 7)), ((11, 7), (12, 7)), ((11, 9), (12, 9)), ((11, 9), (11, 10)), ((11, 10), (12, 10)), ((11, 10), (11, 11)), ((11, 11), (11, 12)), ((11, 12), (11, 13)), ((11, 13), (11, 14)), ((11, 14), (11, 15)), ((12, 0), (13, 0)), ((12, 0), (12, 1)), ((12, 1), (13, 1)), ((12, 1), (12, 2)), ((12, 2), (13, 2)), ((12, 2), (12, 3)), ((12, 3), (13, 3)), ((12, 3), (12, 4)), ((12, 4), (13, 4)), ((12, 4), (12, 5)), ((12, 5), (13, 5)), ((12, 5), (12, 6)), ((12, 6), (13, 6)), ((12, 6), (12, 7)), ((12, 7), (13, 7)), ((12, 9), (13, 9)), ((12, 9), (12, 10)), ((12, 10), (13, 10)), ((12, 19), (13, 19)), ((13, 0), (14, 0)), ((13, 0), (13, 1)), ((13, 1), (14, 1)), ((13, 1), (13, 2)), ((13, 2), (14, 2)), ((13, 2), (13, 3)), ((13, 3), (14, 3)), ((13, 3), (13, 4)), ((13, 4), (14, 4)), ((13, 4), (13, 5)), ((13, 5), (14, 5)), ((13, 5), (13, 6)), ((13, 6), (14, 6)), ((13, 6), (13, 7)), ((13, 7), (14, 7)), ((13, 9), (13, 10)), ((13, 10), (13, 11)), ((13, 11), (13, 12)), ((13, 12), (13, 13)), ((13, 13), (13, 14)), ((13, 14), (14, 14)), ((13, 14), (13, 15)), ((13, 15), (13, 16)), ((13, 16), (13, 17)), ((13, 17), (13, 18)), ((13, 18), (14, 18)), ((13, 18), (13, 19)), ((13, 19), (14, 19)), ((14, 0), (15, 0)), ((14, 0), (14, 1)), ((14, 1), (15, 1)), ((14, 1), (14, 2)), ((14, 2), (14, 3)), ((14, 3), (14, 4)), ((14, 4), (14, 5)), ((14, 5), (14, 6)), ((14, 6), (14, 7)), ((14, 14), (15, 14)), ((14, 18), (15, 18)), ((14, 18), (14, 19)), ((14, 19), (15, 19)), ((15, 0), (16, 0)), ((15, 0), (15, 1)), ((15, 1), (16, 1)), ((15, 9), (16, 9)), ((15, 9), (15, 10)), ((15, 10), (16, 10)), ((15, 10), (15, 11)), ((15, 11), (16, 11)), ((15, 11), (15, 12)), ((15, 12), (16, 12)), ((15, 14), (16, 14)), ((15, 14), (15, 15)), ((15, 15), (16, 15)), ((15, 15), (15, 16)), ((15, 16), (16, 16)), ((15, 16), (15, 17)), ((15, 17), (16, 17)), ((15, 17), (15, 18)), ((15, 18), (16, 18)), ((15, 18), (15, 19)), ((15, 19), (16, 19)), ((16, 0), (17, 0)), ((16, 0), (16, 1)), ((16, 1), (17, 1)), ((16, 3), (17, 3)), ((16, 3), (16, 4)), ((16, 4), (17, 4)), ((16, 4), (16, 5)), ((16, 5), (17, 5)), ((16, 5), (16, 6)), ((16, 6), (17, 6)), ((16, 6), (16, 7)), ((16, 7), (17, 7)), ((16, 7), (16, 8)), ((16, 8), (17, 8)), ((16, 8), (16, 9)), ((16, 9), (17, 9)), ((16, 9), (16, 10)), ((16, 10), (17, 10)), ((16, 10), (16, 11)), ((16, 11), (17, 11)), ((16, 11), (16, 12)), ((16, 12), (17, 12)), ((16, 14), (17, 14)), ((16, 14), (16, 15)), ((16, 15), (17, 15)), ((16, 15), (16, 16)), ((16, 16), (17, 16)), ((16, 16), (16, 17)), ((16, 17), (17, 17)), ((16, 17), (16, 18)), ((16, 18), (17, 18)), ((16, 18), (16, 19)), ((16, 19), (17, 19)), ((17, 0), (18, 0)), ((17, 0), (17, 1)), ((17, 1), (18, 1)), ((17, 3), (18, 3)), ((17, 3), (17, 4)), ((17, 4), (18, 4)), ((17, 4), (17, 5)), ((17, 5), (18, 5)), ((17, 5), (17, 6)), ((17, 6), (18, 6)), ((17, 6), (17, 7)), ((17, 7), (18, 7)), ((17, 7), (17, 8)), ((17, 8), (18, 8)), ((17, 8), (17, 9)), ((17, 9), (18, 9)), ((17, 9), (17, 10)), ((17, 10), (18, 10)), ((17, 10), (17, 11)), ((17, 11), (18, 11)), ((17, 11), (17, 12)), ((17, 12), (18, 12)), ((17, 12), (17, 13)), ((17, 13), (17, 14)), ((17, 14), (18, 14)), ((17, 14), (17, 15)), ((17, 15), (18, 15)), ((17, 15), (17, 16)), ((17, 16), (18, 16)), ((17, 16), (17, 17)), ((17, 17), (18, 17)), ((17, 17), (17, 18)), ((17, 18), (18, 18)), ((17, 18), (17, 19)), ((17, 19), (18, 19)), ((18, 0), (19, 0)), ((18, 0), (18, 1)), ((18, 1), (19, 1)), ((18, 1), (18, 2)), ((18, 2), (19, 2)), ((18, 2), (18, 3)), ((18, 3), (19, 3)), ((18, 3), (18, 4)), ((18, 4), (19, 4)), ((18, 4), (18, 5)), ((18, 5), (19, 5)), ((18, 5), (18, 6)), ((18, 6), (19, 6)), ((18, 6), (18, 7)), ((18, 7), (19, 7)), ((18, 7), (18, 8)), ((18, 8), (19, 8)), ((18, 8), (18, 9)), ((18, 9), (19, 9)), ((18, 9), (18, 10)), ((18, 10), (19, 10)), ((18, 10), (18, 11)), ((18, 11), (19, 11)), ((18, 11), (18, 12)), ((18, 12), (19, 12)), ((18, 14), (19, 14)), ((18, 14), (18, 15)), ((18, 15), (19, 15)), ((18, 15), (18, 16)), ((18, 16), (19, 16)), ((18, 16), (18, 17)), ((18, 17), (19, 17)), ((18, 17), (18, 18)), ((18, 18), (19, 18)), ((18, 18), (18, 19)), ((18, 19), (19, 19)), ((19, 0), (19, 1)), ((19, 1), (19, 2)), ((19, 2), (19, 3)), ((19, 3), (19, 4)), ((19, 4), (19, 5)), ((19, 5), (19, 6)), ((19, 6), (19, 7)), ((19, 7), (19, 8)), ((19, 8), (19, 9)), ((19, 9), (19, 10)), ((19, 10), (19, 11)), ((19, 11), (19, 12)), ((19, 12), (19, 13)), ((19, 13), (19, 14)), ((19, 14), (19, 15)), ((19, 15), (19, 16)), ((19, 16), (19, 17)), ((19, 17), (19, 18)), ((19, 18), (19, 19))])"
            ]
          },
          "metadata": {
            "tags": []
          },
          "execution_count": 10
        }
      ]
    },
    {
      "cell_type": "code",
      "metadata": {
        "id": "K2cZ_VcL2aJr"
      },
      "source": [
        "#ost = np.ones(grid_size)\n",
        "nx.set_edge_attributes(G,{e:1 for e in G.edges()}, \"cost\")\n",
        "astar_path = nx.astar_path(G, start, goal, heuristic=euclidean, weight='cost')"
      ],
      "execution_count": 11,
      "outputs": []
    },
    {
      "cell_type": "markdown",
      "metadata": {
        "id": "K-243tW63Q8z"
      },
      "source": [
        "Visualize the path you have computed!"
      ]
    },
    {
      "cell_type": "code",
      "metadata": {
        "colab": {
          "base_uri": "https://localhost:8080/",
          "height": 700
        },
        "id": "3fEEGhpOgwq9",
        "outputId": "fc1c2008-1000-46e3-df68-65167f95350a"
      },
      "source": [
        "fig, ax = plt.subplots(figsize=(12,12))\n",
        "ax.imshow(grid, cmap=plt.cm.Dark2)\n",
        "ax.scatter(start[1],start[0], marker = \"+\", color = \"yellow\", s = 200)\n",
        "ax.scatter(goal[1],goal[0], marker = \"+\", color = \"red\", s = 200)\n",
        "for s in astar_path[1:]:\n",
        "  ax.plot(s[1], s[0],'r+')"
      ],
      "execution_count": 12,
      "outputs": [
        {
          "output_type": "display_data",
          "data": {
            "image/png": "[encoded data removed]",
            "text/plain": [
              "<Figure size 864x864 with 1 Axes>"
            ]
          },
          "metadata": {
            "tags": [],
            "needs_background": "light"
          }
        }
      ]
    },
    {
      "cell_type": "markdown",
      "metadata": {
        "id": "fLaAnQtG3ZVu"
      },
      "source": [
        "Cool! Now you can read arbitrary evironments and find the shortest path between 2 robot positions. Pick a game environment from here and repeat: {https://www.movingai.com/benchmarks/dao/index.html}"
      ]
    },
    {
      "cell_type": "code",
      "metadata": {
        "id": "wFtbNy1z39CH",
        "colab": {
          "base_uri": "https://localhost:8080/",
          "height": 1000
        },
        "outputId": "4804ba25-9542-4edf-cac3-12917225f403"
      },
      "source": [
        "# use np.load to load a grid of 1s and 0s\n",
        "# 1 - occupied 0- free\n",
        "filename = \"/content/drive/MyDrive/Assignment LABLET AP102/Week 2/data/arena\" \n",
        "img = PIL.Image.open(filename+\".png\")\n",
        "data = np.array( img, dtype='uint8')\n",
        "np.save(filename + '.npy', data)\n",
        "grid = np.load(filename+'.npy')\n",
        "print(data)\n",
        "# you can define your own start/ end\n",
        "start = (50, 100)\n",
        "goal = (1000, 800)\n",
        "\n",
        "# visualize the start/ end and the robot's environment\n",
        "fig, ax = plt.subplots(figsize=(12,12))\n",
        "ax.imshow(grid, cmap=plt.cm.Dark2)\n",
        "ax.scatter(start[1],start[0], marker = \"+\", color = \"yellow\", s = 200)\n",
        "ax.scatter(goal[1],goal[0], marker = \"+\", color = \"red\", s = 200)\n",
        "plt.show()"
      ],
      "execution_count": 60,
      "outputs": [
        {
          "output_type": "stream",
          "text": [
            "[[[  0   0   0   0]\n",
            "  [  0   0   0   0]\n",
            "  [  0   0   0   0]\n",
            "  ...\n",
            "  [  0   0   0   0]\n",
            "  [  0   0   0   0]\n",
            "  [  0   0   0   0]]\n",
            "\n",
            " [[  0   0   0   0]\n",
            "  [  0   0   0   0]\n",
            "  [  0   0   0   0]\n",
            "  ...\n",
            "  [  0   0   0   0]\n",
            "  [  0   0   0   0]\n",
            "  [  0   0   0   0]]\n",
            "\n",
            " [[  0   0   0   0]\n",
            "  [  0   0   0   0]\n",
            "  [  0 127   0 255]\n",
            "  ...\n",
            "  [  0 127   0 255]\n",
            "  [  0   0   0   0]\n",
            "  [  0   0   0   0]]\n",
            "\n",
            " ...\n",
            "\n",
            " [[  0   0   0   0]\n",
            "  [  0   0   0   0]\n",
            "  [  0 127   0 255]\n",
            "  ...\n",
            "  [  0 127   0 255]\n",
            "  [  0   0   0   0]\n",
            "  [  0   0   0   0]]\n",
            "\n",
            " [[  0   0   0   0]\n",
            "  [  0   0   0   0]\n",
            "  [  0   0   0   0]\n",
            "  ...\n",
            "  [  0   0   0   0]\n",
            "  [  0   0   0   0]\n",
            "  [  0   0   0   0]]\n",
            "\n",
            " [[  0   0   0   0]\n",
            "  [  0   0   0   0]\n",
            "  [  0   0   0   0]\n",
            "  ...\n",
            "  [  0   0   0   0]\n",
            "  [  0   0   0   0]\n",
            "  [  0   0   0   0]]]\n"
          ],
          "name": "stdout"
        },
        {
          "output_type": "display_data",
          "data": {
            "image/png": "[encoded data removed]",
            "text/plain": [
              "<Figure size 864x864 with 1 Axes>"
            ]
          },
          "metadata": {
            "tags": [],
            "needs_background": "light"
          }
        }
      ]
    },
    {
      "cell_type": "code",
      "metadata": {
        "colab": {
          "base_uri": "https://localhost:8080/"
        },
        "id": "579M2iBSwt-P",
        "outputId": "f68d13ff-3c23-4b81-8600-343f1683a8ed"
      },
      "source": [
        "#initialize graph\n",
        "grid_size = grid.shape\n",
        "print(grid_size)\n",
        "G = nx.grid_2d_graph(*grid_size)\n",
        "nx.set_edge_attributes(G,{e:1 for e in G.edges()}, \"cost\")\n",
        "astar_path = nx.astar_path(G, start, goal, heuristic=euclidean, weight='cost')"
      ],
      "execution_count": 65,
      "outputs": [
        {
          "output_type": "stream",
          "text": [
            "(1073, 1073, 4)\n"
          ],
          "name": "stdout"
        }
      ]
    },
    {
      "cell_type": "code",
      "metadata": {
        "colab": {
          "base_uri": "https://localhost:8080/",
          "height": 704
        },
        "id": "MnVLAhomxHVF",
        "outputId": "456f87ad-4fef-49cf-b9be-60d549fc4389"
      },
      "source": [
        "fig, ax = plt.subplots(figsize=(12,12))\n",
        "ax.imshow(grid, cmap=plt.cm.Dark2)\n",
        "ax.scatter(start[1],start[0], marker = \"+\", color = \"yellow\", s = 200)\n",
        "ax.scatter(goal[1],goal[0], marker = \"+\", color = \"red\", s = 200)\n",
        "for s in astar_path[1:]:\n",
        "  ax.plot(s[1], s[0],'r+')"
      ],
      "execution_count": 52,
      "outputs": [
        {
          "output_type": "display_data",
          "data": {
            "image/png": "[encoded data removed]",
            "text/plain": [
              "<Figure size 864x864 with 1 Axes>"
            ]
          },
          "metadata": {
            "tags": [],
            "needs_background": "light"
          }
        }
      ]
    }
  ]
}