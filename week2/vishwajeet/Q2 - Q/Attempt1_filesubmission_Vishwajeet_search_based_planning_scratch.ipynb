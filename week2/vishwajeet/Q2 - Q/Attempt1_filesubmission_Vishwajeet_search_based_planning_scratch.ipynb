{
  "nbformat": 4,
  "nbformat_minor": 0,
  "metadata": {
    "kernelspec": {
      "display_name": "Python 3",
      "language": "python",
      "name": "python3"
    },
    "language_info": {
      "codemirror_mode": {
        "name": "ipython",
        "version": 3
      },
      "file_extension": ".py",
      "mimetype": "text/x-python",
      "name": "python",
      "nbconvert_exporter": "python",
      "pygments_lexer": "ipython3",
      "version": "3.9.1"
    },
    "varInspector": {
      "cols": {
        "lenName": 16,
        "lenType": 16,
        "lenVar": 40
      },
      "kernels_config": {
        "python": {
          "delete_cmd_postfix": "",
          "delete_cmd_prefix": "del ",
          "library": "var_list.py",
          "varRefreshCmd": "print(var_dic_list())"
        },
        "r": {
          "delete_cmd_postfix": ") ",
          "delete_cmd_prefix": "rm(",
          "library": "var_list.r",
          "varRefreshCmd": "cat(var_dic_list()) "
        }
      },
      "position": {
        "height": "144px",
        "left": "1090px",
        "right": "20px",
        "top": "13px",
        "width": "350px"
      },
      "types_to_exclude": [
        "module",
        "function",
        "builtin_function_or_method",
        "instance",
        "_Feature"
      ],
      "window_display": true
    },
    "colab": {
      "name": "Vishwajeet_search_based_planning_scratch.ipynb",
      "provenance": [],
      "collapsed_sections": []
    }
  },
  "cells": [
    {
      "cell_type": "code",
      "metadata": {
        "id": "gpGPl3rxD5bt"
      },
      "source": [
        "import numpy as np\n",
        "import matplotlib.pyplot as plt\n",
        "from IPython.display import Image\n",
        "%matplotlib inline"
      ],
      "execution_count": 1,
      "outputs": []
    },
    {
      "cell_type": "code",
      "metadata": {
        "colab": {
          "base_uri": "https://localhost:8080/",
          "height": 34
        },
        "id": "CMmNelT6-rAq",
        "outputId": "c81daff0-28f9-41e4-f3c5-a263de21cf68"
      },
      "source": [
        "Image('djikstra.png')"
      ],
      "execution_count": 2,
      "outputs": [
        {
          "output_type": "execute_result",
          "data": {
            "image/png": "djikstra.png",
            "text/plain": [
              "<IPython.core.display.Image object>"
            ]
          },
          "metadata": {
            "tags": []
          },
          "execution_count": 2
        }
      ]
    },
    {
      "cell_type": "markdown",
      "metadata": {
        "id": "xjRRn2qs-hse"
      },
      "source": [
        "Consider the example problem we discussed in the theory session (easy to verify!). We will implement from scratch Djikstra  algorithm to find the cost of traversal from a source node to all other nodes in a given connected graph. Note that we are not finding the shortest path itself. But that will follow"
      ]
    },
    {
      "cell_type": "code",
      "metadata": {
        "id": "rkAm7KZ5D5by"
      },
      "source": [
        "class Graph(object):\n",
        "  def __init__(self, nodes, edges):\n",
        "    self.nodes = nodes\n",
        "    self.adjacency = -np.ones([nodes, nodes])\n",
        "    self.shortest_path_set = [False] * nodes\n",
        "    #populate the adjacency matrix from edges\n",
        "    # format of edges = (node1, node2, edge_cost)\n",
        "    for node1, node2, cost in edges:\n",
        "      self.adjacency[node1, node2] = cost\n",
        "\t\n",
        "  # dist = 1D array of all distances to source\n",
        "  # check if node is not already in the shortest path set\n",
        "  # output = closest node\n",
        "  # minimum entry in dist, corresponding entry in \n",
        "  # self.shortest_path_set must be False\n",
        "  def min_cost_index(self, dist):\n",
        "      return np.argmin(np.array(dist) + 1000*np.array(self.shortest_path_set))\n",
        "    \n",
        "  def dijkstra(self, src):\n",
        "    #initialize distance array\n",
        "    dist = [1000] * self.nodes\n",
        "    dist[src] = 0\n",
        "    for _ in range(self.nodes):\t\n",
        "      i = self.min_cost_index(dist)\n",
        "  \n",
        "      # Store min distance vertex in shortest path tree\n",
        "      self.shortest_path_set[i] = True\n",
        "      # Update dist value of the neighbors of selected node \n",
        "      # Two conditions to check for each neighbor \n",
        "      # (a) not in shortest path tree (b) cost is now lowered\n",
        "      # first get neighbor list from adjacency matrix\n",
        "      \n",
        "      all_nodes = self.adjacency[i,:]\n",
        "\n",
        "      # loop over neighbor list to check for other 2 conditions\n",
        "      # if satisfied, change dist[j]\n",
        "      \n",
        "      for j, edge_cost in enumerate(all_nodes):\n",
        "        if edge_cost > 0 and not self.shortest_path_set[j]: # valid neighbor\n",
        "            if dist[i] + edge_cost < dist[j]:\n",
        "                dist[j] = dist[i] + edge_cost\n",
        "                \n",
        " \n",
        "    return dist\n"
      ],
      "execution_count": 3,
      "outputs": []
    },
    {
      "cell_type": "code",
      "metadata": {
        "id": "QFtApVYQJ9oQ",
        "colab": {
          "base_uri": "https://localhost:8080/"
        },
        "outputId": "18f6bb9e-bccd-4d58-9e21-c036868ee705"
      },
      "source": [
        "nodes = 7\n",
        "# (node_A, node_B, edge_cost)\n",
        "edges = [(0, 1, 8), (0, 2, 5), (0, 3, 2), (1, 4, 2), (2,1,1), (2, 5, 3), \\\n",
        "\t\t      (3, 5, 8), (4, 5, 7), (5, 4, 7), (4, 6, 1), (6, 5, 4) ]\n",
        "\n",
        "g = Graph(nodes, edges)\n",
        "for node, dist in enumerate(g.dijkstra(0)):\n",
        "    print(f\"Node {node} is at distance {dist}\")"
      ],
      "execution_count": 4,
      "outputs": [
        {
          "output_type": "stream",
          "text": [
            "Node 0 is at distance 0\n",
            "Node 1 is at distance 6.0\n",
            "Node 2 is at distance 5.0\n",
            "Node 3 is at distance 2.0\n",
            "Node 4 is at distance 8.0\n",
            "Node 5 is at distance 8.0\n",
            "Node 6 is at distance 9.0\n"
          ],
          "name": "stdout"
        }
      ]
    },
    {
      "cell_type": "code",
      "metadata": {
        "colab": {
          "base_uri": "https://localhost:8080/",
          "height": 34
        },
        "id": "MsUN5o6N_nUI",
        "outputId": "bead299d-38a8-4da9-a45a-4b6d21d07522"
      },
      "source": [
        "Image('astar.png')"
      ],
      "execution_count": 5,
      "outputs": [
        {
          "output_type": "execute_result",
          "data": {
            "image/png": "astar.png",
            "text/plain": [
              "<IPython.core.display.Image object>"
            ]
          },
          "metadata": {
            "tags": []
          },
          "execution_count": 5
        }
      ]
    },
    {
      "cell_type": "markdown",
      "metadata": {
        "id": "UDxJrADc3qoP"
      },
      "source": [
        "## A*\n",
        "Let us now modify the graph to accept the 2D co-ordinates of the node. We will use Euclidean distance as the heuristic"
      ]
    },
    {
      "cell_type": "code",
      "metadata": {
        "id": "EvoT3Ah0NB1Z"
      },
      "source": [
        "node_coords = [(0, 0),(2,2),(1,2),(1,0),(3,3),(3,2), (4,2)]"
      ],
      "execution_count": 6,
      "outputs": []
    },
    {
      "cell_type": "code",
      "metadata": {
        "id": "75PNiEgOSzQz"
      },
      "source": [
        "# Function to calculate euclidean distance\n",
        "# (x1, y1), (x2, y2) given\n",
        "def euclidean(node1, node2):\n",
        "    x1, y1 = node1\n",
        "    x2, y2 = node2\n",
        "    return np.sqrt((x1-x2)**2+(y1-y2)**2)\n",
        "\n",
        "class Graph(object):\n",
        "  def __init__(self, nodes, edges, coords, weight=1.0, heuristic=euclidean):\n",
        "    self.nodes = nodes\n",
        "    self.adjacency = np.zeros([nodes, nodes])\n",
        "    self.shortest_path_set = [False] * nodes\n",
        "    self.heuristic = heuristic\n",
        "    self.coords = coords\n",
        "    self.weight = weight # weight of heuristic\n",
        "    #populate the adjacency matrix from edges\n",
        "    # edges = (node1, node2, edge_cost)\n",
        "    for node1, node2, cost in edges:\n",
        "      self.adjacency[node1, node2] = cost\n",
        "\t\n",
        "\n",
        "  # Input: 1-D distance array to source, destination (x, y)\n",
        "  # output: next node to be selected\n",
        "  # remember criteria is source_cost + weight * heuristic_destination\n",
        "  # node should not be in shortest_path_set\n",
        "  def min_astar_distance(self, dist, dest_coords):\n",
        "     heuristic_cost = np.array([self.heuristic(n, dest_coords) for n in self.coords])\n",
        "     src_cost = np.array(dist)\n",
        "     costs = src_cost + self.weight*heuristic_cost + 1000 *np.array(self.shortest_path_set)\n",
        "     return np.argmin(costs)\n",
        "\n",
        "  def astar(self, src, dest):\n",
        "    #initialize distance array\n",
        "    dist = [1000] * self.nodes\n",
        "    dist[src] = 0\n",
        "    #get the destination (x,y)\n",
        "    dest_coords = self.coords[dest]\n",
        "    for _ in range(self.nodes):\t\n",
        "      \n",
        "      i = self.min_astar_distance(dist, dest_coords)\n",
        "      # Store min distance vertex in shortest path tree\n",
        "      self.shortest_path_set[i] = True\n",
        "      \n",
        "      # Update dist value of the neighbors of selected node \n",
        "      # Two conditions to check for each neighbor \n",
        "      # (a) not in shortest path tree (b) cost is now lowered\n",
        "      # first get neighbor list from adjacency matrix\n",
        "      \n",
        "      neighbors = self.adjacency[i,:]\n",
        "\n",
        "      # loop over neighbor list to check for other 2 conditions\n",
        "      # if satisfied, change dist[j]\n",
        "      \n",
        "      #for j, nbr_cost in enumerate(neighbors):\n",
        "      \n",
        "      for j, edge_cost in enumerate(neighbors):\n",
        "        if edge_cost > 0 and not self.shortest_path_set[j]: # valid neighbor\n",
        "            if dist[i] + edge_cost < dist[j]:\n",
        "                dist[j] = dist[i] + edge_cost\n",
        "\n",
        "    # find heuristic cost from all nodes to destination\n",
        "    # use list comprehension\n",
        "    heuristic_cost = np.array([self.heuristic(n, dest_coords) for n in self.coords]) \n",
        "        \n",
        "    return dist, heuristic_cost"
      ],
      "execution_count": 7,
      "outputs": []
    },
    {
      "cell_type": "code",
      "metadata": {
        "colab": {
          "base_uri": "https://localhost:8080/"
        },
        "id": "kBzF2BKHCQi4",
        "outputId": "6b119cbf-4dd1-4e6a-908b-888e098b50c5"
      },
      "source": [
        "nodes = 7\n",
        "# (node_A, node_B, edge_cost)\n",
        "edges = [(0, 1, 8), (0, 2, 5), (0, 3, 2), (1, 4, 2), (2, 5, 3), \\\n",
        "\t\t     (3, 5, 8), (4, 5, 7), (5, 4, 7), (5, 6, 1), (6, 5, 4) ]\n",
        "node_coords = [(0, 0),(2,2),(1,2),(1,0),(3,3),(3,2),(4,2)]\n",
        "g = Graph(nodes, edges, node_coords)\n",
        "cost, heuristic = g.astar(0, 6)\n",
        "for node, (dist, heur) in enumerate(zip(cost, heuristic)):\n",
        "    print(f\"Node {node} is at distance {dist}\")\n",
        "    print(f\"Node {node} heuristic is  {heur}\")"
      ],
      "execution_count": 8,
      "outputs": [
        {
          "output_type": "stream",
          "text": [
            "Node 0 is at distance 0\n",
            "Node 0 heuristic is  4.47213595499958\n",
            "Node 1 is at distance 8.0\n",
            "Node 1 heuristic is  2.0\n",
            "Node 2 is at distance 5.0\n",
            "Node 2 heuristic is  3.0\n",
            "Node 3 is at distance 2.0\n",
            "Node 3 heuristic is  3.605551275463989\n",
            "Node 4 is at distance 10.0\n",
            "Node 4 heuristic is  1.4142135623730951\n",
            "Node 5 is at distance 8.0\n",
            "Node 5 heuristic is  1.0\n",
            "Node 6 is at distance 9.0\n",
            "Node 6 heuristic is  0.0\n"
          ],
          "name": "stdout"
        }
      ]
    },
    {
      "cell_type": "markdown",
      "metadata": {
        "id": "fC57LD-EvJqW"
      },
      "source": [
        ""
      ]
    },
    {
      "cell_type": "markdown",
      "metadata": {
        "id": "Fy-u1lwa75pt"
      },
      "source": [
        "Notice that this is a very simple implementation to get the costs of all nodes to the source node. We can make 2 changes \n",
        "\n",
        "1. We did not get the predecessors of each node. \n",
        "Predecessors list is what will help us determine the path. Can you change the code to print out the predecessors as well?\n",
        "2.   In general we have to calculate only the path to the destination (not all nodes) as it is computationally expensive. What do you think should be the convergence criteria? Use it to find the shortest path to Node 5 instead of Node 6\n",
        "\n",
        "Feel free to experiment with other heuristics like (a) L-1 norm (b) number of edges\n",
        "\n"
      ]
    },
    {
      "cell_type": "code",
      "metadata": {
        "id": "WMkNo6GZB8mY"
      },
      "source": [
        "class Graph(object):\n",
        "  def __init__(self, nodes, edges):\n",
        "    self.nodes = nodes\n",
        "    self.adjacency = -np.ones([nodes, nodes])\n",
        "    self.shortest_path_set = [False] * nodes\n",
        "    #populate the adjacency matrix from edges\n",
        "    # format of edges = (node1, node2, edge_cost)\n",
        "    for node1, node2, cost in edges:\n",
        "      self.adjacency[node1, node2] = cost\n",
        "\t\n",
        "  # dist = 1D array of all distances to source\n",
        "  # check if node is not already in the shortest path set\n",
        "  # output = closest node\n",
        "  # minimum entry in dist, corresponding entry in \n",
        "  # self.shortest_path_set must be False\n",
        "  def min_cost_index(self, dist):\n",
        "      return np.argmin(np.array(dist) + 1000*np.array(self.shortest_path_set))\n",
        "    \n",
        "  def dijkstra(self, src):\n",
        "    #initialize distance array\n",
        "    dist = [1000] * self.nodes\n",
        "    dist[src] = 0\n",
        "    predecessor=np.zeros(self.nodes)\n",
        "    for _ in range(self.nodes):\t\n",
        "      i = self.min_cost_index(dist)\n",
        "  \n",
        "      # Store min distance vertex in shortest path tree\n",
        "      self.shortest_path_set[i] = True\n",
        "      # Update dist value of the neighbors of selected node \n",
        "      # Two conditions to check for each neighbor \n",
        "      # (a) not in shortest path tree (b) cost is now lowered\n",
        "      # first get neighbor list from adjacency matrix\n",
        "      \n",
        "      all_nodes = self.adjacency[i,:]\n",
        "\n",
        "      # loop over neighbor list to check for other 2 conditions\n",
        "      # if satisfied, change dist[j]\n",
        "      \n",
        "      for j, edge_cost in enumerate(all_nodes):\n",
        "        if edge_cost > 0 and not self.shortest_path_set[j]: # valid neighbor\n",
        "            if dist[i] + edge_cost < dist[j]:\n",
        "                dist[j] = dist[i] + edge_cost\n",
        "                predecessor[j]=i\n",
        "    \n",
        "    print(f\"Predecessor array(index represent the node):{predecessor}\")\n",
        "    return dist\n"
      ],
      "execution_count": 9,
      "outputs": []
    },
    {
      "cell_type": "code",
      "metadata": {
        "colab": {
          "base_uri": "https://localhost:8080/"
        },
        "id": "hUJpl_v-CBU4",
        "outputId": "a670eddb-146c-46c1-f1ef-d00c5aa776b1"
      },
      "source": [
        "nodes = 7\n",
        "# (node_A, node_B, edge_cost)\n",
        "edges = [(0, 1, 8), (0, 2, 5), (0, 3, 2), (1, 4, 2), (2,1,1), (2, 5, 3), \\\n",
        "\t\t      (3, 5, 8), (4, 5, 7), (5, 4, 7), (4, 6, 1), (6, 5, 4) ]\n",
        "\n",
        "g = Graph(nodes, edges)\n",
        "for node, dist in enumerate(g.dijkstra(0)):\n",
        "    print(f\"Node {node} is at distance {dist}\")"
      ],
      "execution_count": 10,
      "outputs": [
        {
          "output_type": "stream",
          "text": [
            "Predecessor array(index represent the node):[0. 2. 0. 0. 1. 2. 4.]\n",
            "Node 0 is at distance 0\n",
            "Node 1 is at distance 6.0\n",
            "Node 2 is at distance 5.0\n",
            "Node 3 is at distance 2.0\n",
            "Node 4 is at distance 8.0\n",
            "Node 5 is at distance 8.0\n",
            "Node 6 is at distance 9.0\n"
          ],
          "name": "stdout"
        }
      ]
    }
  ]
}
