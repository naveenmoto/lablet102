{
  "nbformat": 4,
  "nbformat_minor": 0,
  "metadata": {
    "kernelspec": {
      "display_name": "Python 3",
      "language": "python",
      "name": "python3"
    },
    "language_info": {
      "codemirror_mode": {
        "name": "ipython",
        "version": 3
      },
      "file_extension": ".py",
      "mimetype": "text/x-python",
      "name": "python",
      "nbconvert_exporter": "python",
      "pygments_lexer": "ipython3",
      "version": "3.9.1"
    },
    "varInspector": {
      "cols": {
        "lenName": 16,
        "lenType": 16,
        "lenVar": 40
      },
      "kernels_config": {
        "python": {
          "delete_cmd_postfix": "",
          "delete_cmd_prefix": "del ",
          "library": "var_list.py",
          "varRefreshCmd": "print(var_dic_list())"
        },
        "r": {
          "delete_cmd_postfix": ") ",
          "delete_cmd_prefix": "rm(",
          "library": "var_list.r",
          "varRefreshCmd": "cat(var_dic_list()) "
        }
      },
      "position": {
        "height": "144.444px",
        "left": "1307px",
        "right": "20px",
        "top": "76px",
        "width": "350px"
      },
      "types_to_exclude": [
        "module",
        "function",
        "builtin_function_or_method",
        "instance",
        "_Feature"
      ],
      "window_display": true
    },
    "colab": {
      "name": "search_based_planning_package.ipynb",
      "provenance": [],
      "collapsed_sections": []
    }
  },
  "cells": [
    {
      "cell_type": "code",
      "metadata": {
        "id": "z85-XBJe8fwX"
      },
      "source": [
        "import numpy as np\n",
        "import networkx as nx\n",
        "import matplotlib.pyplot as plt\n",
        "from IPython.display import Image"
      ],
      "execution_count": 1,
      "outputs": []
    },
    {
      "cell_type": "code",
      "metadata": {
        "id": "iRNLuKNm8fwh",
        "colab": {
          "base_uri": "https://localhost:8080/",
          "height": 41
        },
        "outputId": "ee6b37fd-d7bb-4718-f8e0-0730273fd367"
      },
      "source": [
        "Image('graph.png')"
      ],
      "execution_count": 2,
      "outputs": [
        {
          "output_type": "execute_result",
          "data": {
            "image/png": "graph.png",
            "text/plain": [
              "<IPython.core.display.Image object>"
            ]
          },
          "metadata": {
            "tags": []
          },
          "execution_count": 2
        }
      ]
    },
    {
      "cell_type": "markdown",
      "metadata": {
        "id": "XfIn3hQlbsX-"
      },
      "source": [
        "We are going to use networkx package to construct the graph and find the shortest paths. Refer to the [NetworkX documentation](https://networkx.github.io/documentation/stable/)."
      ]
    },
    {
      "cell_type": "code",
      "metadata": {
        "id": "Zf70Jff6bWYI",
        "colab": {
          "base_uri": "https://localhost:8080/"
        },
        "outputId": "0644c084-1983-44c3-af8d-b51cb236912e"
      },
      "source": [
        "#type in the edges and edgecost as a list of 3-tuples\n",
        "edges = [(0,1,2),(0,2, 1.5),(0,3, 2.5),(1,4, 1.5),(2,5, 0.5),(4,8, 1),\n",
        "         (2,6, 2.5),(3,7, 2),(7,9, 1.25),(5,10, 2.75),(6,10, 3.25),\n",
        "         (9,10, 1.5),(8,10, 3.5)]\n",
        "\n",
        "#Define an empty graph\n",
        "G = nx.DiGraph()\n",
        "G.add_nodes_from(range(11))\n",
        "\n",
        "#populate the edges and the cost in graph G\n",
        "\n",
        "G.add_weighted_edges_from(edges)\n",
        "#Find the shortest path from Node 0 to Node 10\n",
        "nx.shortest_path(G, 0, 10)\n",
        "#Find the cost of the shortest path from Node 0 to Node 10\n"
      ],
      "execution_count": 3,
      "outputs": [
        {
          "output_type": "execute_result",
          "data": {
            "text/plain": [
              "[0, 2, 5, 10]"
            ]
          },
          "metadata": {
            "tags": []
          },
          "execution_count": 3
        }
      ]
    },
    {
      "cell_type": "markdown",
      "metadata": {
        "id": "S0ceeptfi9Zs"
      },
      "source": [
        "Let us now move onto a grid which represents the robot's operating environment. First convert the grid to a graph.  Then we will use Astar from networkX to find the shortest path"
      ]
    },
    {
      "cell_type": "code",
      "metadata": {
        "id": "JP5UumQad3EG"
      },
      "source": [
        "# write the Euclidean function that takes in the\n",
        "# node x, y and compute the distance\n",
        "def euclidean(node1, node2):\n",
        "    #write code here\n",
        "    x1,y1 = node1\n",
        "    x2,y2 = node2\n",
        "    return np.sqrt((x1-x2)**2 + (y1-y2)**2)"
      ],
      "execution_count": 4,
      "outputs": []
    },
    {
      "cell_type": "code",
      "metadata": {
        "colab": {
          "base_uri": "https://localhost:8080/",
          "height": 1000
        },
        "id": "N-uQvXAOtauO",
        "outputId": "5838ea0d-682f-495a-8de8-95eaf8ca80e4"
      },
      "source": [
        "# use np.load to load a grid of 1s and 0s\n",
        "# 1 - occupied 0- free\n",
        "grid = np.load(\"astar_grid.npy\")\n",
        "nodes = grid.shape\n",
        "print(grid)\n",
        "# you can define your own start/ end\n",
        "start = (0, 0)\n",
        "goal = (0, 19)\n",
        "\n",
        "# visualize the start/ end and the robot's environment\n",
        "fig, ax = plt.subplots(figsize=(12,12))\n",
        "ax.imshow(grid, cmap=plt.cm.Dark2)\n",
        "ax.scatter(start[1],start[0], marker = \"+\", color = \"yellow\", s = 200)\n",
        "ax.scatter(goal[1],goal[0], marker = \"+\", color = \"red\", s = 200)\n",
        "plt.show()"
      ],
      "execution_count": 5,
      "outputs": [
        {
          "output_type": "stream",
          "text": [
            "[[0 0 0 0 0 0 1 1 1 0 0 0 0 0 0 0 0 0 0 0]\n",
            " [0 0 0 0 0 0 1 1 1 0 0 0 0 0 0 0 0 0 0 0]\n",
            " [0 0 0 0 0 0 1 0 1 0 0 0 0 0 0 0 0 0 0 0]\n",
            " [0 0 0 0 0 0 0 0 1 0 0 0 0 0 0 0 0 0 0 0]\n",
            " [0 0 0 0 0 0 0 0 1 0 0 0 0 0 0 0 0 0 0 0]\n",
            " [0 0 0 1 1 1 0 0 1 0 0 0 0 0 0 0 0 0 0 0]\n",
            " [0 0 0 0 0 0 0 0 1 0 0 0 0 1 1 1 1 1 0 1]\n",
            " [0 0 0 0 0 0 0 0 1 0 0 0 0 1 1 1 0 0 0 0]\n",
            " [0 0 0 0 0 0 0 0 1 0 0 0 0 1 1 1 0 0 0 0]\n",
            " [0 0 0 0 0 0 0 0 1 1 1 1 1 1 0 0 0 0 0 0]\n",
            " [0 0 0 0 0 0 0 0 1 0 0 0 0 0 0 0 0 0 0 0]\n",
            " [1 1 1 1 1 0 0 0 1 0 0 0 0 0 0 0 1 1 1 1]\n",
            " [0 0 0 0 0 0 0 0 1 0 0 1 1 1 1 1 1 1 1 0]\n",
            " [0 0 0 0 0 0 0 0 1 0 0 0 0 0 0 0 0 0 0 0]\n",
            " [0 0 0 0 0 0 0 0 1 1 1 1 1 1 0 1 1 1 0 0]\n",
            " [0 0 1 1 1 1 1 1 1 0 0 0 0 1 0 0 0 0 0 0]\n",
            " [0 0 1 0 0 0 0 0 0 0 0 0 0 1 0 0 0 0 0 0]\n",
            " [0 0 1 0 0 0 0 0 0 0 0 0 0 0 0 0 0 0 0 0]\n",
            " [0 0 0 0 0 0 0 0 0 0 0 0 0 1 0 0 0 0 0 0]\n",
            " [0 0 0 0 0 0 0 0 0 0 0 0 0 0 0 0 0 0 0 0]]\n"
          ],
          "name": "stdout"
        },
        {
          "output_type": "display_data",
          "data": {
            "image/png": "[encoded data removed]",
            "text/plain": [
              "<Figure size 864x864 with 1 Axes>"
            ]
          },
          "metadata": {
            "tags": [],
            "needs_background": "light"
          }
        }
      ]
    },
    {
      "cell_type": "markdown",
      "metadata": {
        "id": "h5ISh41o086P"
      },
      "source": [
        "Convert this grid array into a graph. You have to follow these steps\n",
        "1. Find the dimensions of grid. Use grid_2d_graph() to initialize a grid graph of corresponding dimensions\n",
        "2. Use remove_node() to remove nodes and edges of all cells that are occupied"
      ]
    },
    {
      "cell_type": "code",
      "metadata": {
        "id": "AuKatVcuchIa",
        "colab": {
          "base_uri": "https://localhost:8080/"
        },
        "outputId": "f28c81a0-aec7-402c-9192-6e833f96dd38"
      },
      "source": [
        "#initialize graph\n",
        "G = nx.grid_2d_graph(nodes[0],nodes[1])\n",
        "\n",
        "deleted_nodes = 0 # counter to keep track of deleted nodes\n",
        "#loop to remove nodes\n",
        "for i in range(nodes[0]):\n",
        "    for j in range(nodes[1]):\n",
        "        if grid[i,j]==1:\n",
        "            G.remove_node((i,j))\n",
        "            deleted_nodes+=1\n",
        "print(f\"removed {deleted_nodes} nodes\")\n",
        "print(f\"number of occupied cells in grid {np.sum(grid)}\")"
      ],
      "execution_count": 6,
      "outputs": [
        {
          "output_type": "stream",
          "text": [
            "removed 77 nodes\n",
            "number of occupied cells in grid 77\n"
          ],
          "name": "stdout"
        }
      ]
    },
    {
      "cell_type": "markdown",
      "metadata": {
        "id": "lvnzFEsm15_G"
      },
      "source": [
        "Visualize the resulting graph using nx.draw(). Note that pos argument for nx.draw() has been given below. The graph is too dense. Try changing the node_size and node_color. You can correlate this graph with the grid's occupied cells"
      ]
    },
    {
      "cell_type": "code",
      "metadata": {
        "id": "vv5TZNPRzzzO",
        "colab": {
          "base_uri": "https://localhost:8080/",
          "height": 1000
        },
        "outputId": "f70977a8-13ef-42ed-d8ca-58175bae60c8"
      },
      "source": [
        "pos = {(x,y):(y,-x) for x,y in G.nodes()}\n",
        "nx.draw(G, pos=pos, node_color='lightgreen', node_size=2)\n",
        "fig, ax = plt.subplots(figsize=(12,12))\n",
        "ax.imshow(grid, cmap=plt.cm.Dark2)\n",
        "ax.scatter(start[1],start[0], marker = \"+\", color = \"yellow\", s = 200)\n",
        "ax.scatter(goal[1],goal[0], marker = \"+\", color = \"red\", s = 200)\n",
        "plt.show()"
      ],
      "execution_count": 7,
      "outputs": [
        {
          "output_type": "display_data",
          "data": {
            "image/png": "[encoded data removed]",
            "text/plain": [
              "<Figure size 432x288 with 1 Axes>"
            ]
          },
          "metadata": {
            "tags": []
          }
        },
        {
          "output_type": "display_data",
          "data": {
            "image/png": "[encoded data removed]",
            "text/plain": [
              "<Figure size 864x864 with 1 Axes>"
            ]
          },
          "metadata": {
            "tags": [],
            "needs_background": "light"
          }
        }
      ]
    },
    {
      "cell_type": "markdown",
      "metadata": {
        "id": "OUgJK3f22c3A"
      },
      "source": [
        "We are 2 more steps away from finding the path!\n",
        "1. Set edge attribute.  Use set_edge_attributes(). Remember we have to provide a dictionary input: Edge is the key and cost is the value. We can set every move to a neighbor to have unit cost.\n",
        "2. Use astar_path() to find the path. Set heuristic to be euclidean distance. weight to be the attribute you assigned in step 1"
      ]
    },
    {
      "cell_type": "code",
      "metadata": {
        "id": "K2cZ_VcL2aJr"
      },
      "source": [
        "nx.set_edge_attributes(G,1,name='cost')\n",
        "astar_path = nx.astar_path(G,start,goal,heuristic=euclidean,weight='cost')\n",
        "# print(astar_path)"
      ],
      "execution_count": 8,
      "outputs": []
    },
    {
      "cell_type": "markdown",
      "metadata": {
        "id": "K-243tW63Q8z"
      },
      "source": [
        "Visualize the path you have computed!"
      ]
    },
    {
      "cell_type": "code",
      "metadata": {
        "id": "3fEEGhpOgwq9",
        "colab": {
          "base_uri": "https://localhost:8080/",
          "height": 700
        },
        "outputId": "102ae38b-f6ce-4988-df83-1083b70faea9"
      },
      "source": [
        "fig, ax = plt.subplots(figsize=(12,12))\n",
        "ax.imshow(grid, cmap=plt.cm.Dark2)\n",
        "ax.scatter(start[1],start[0], marker = \"+\", color = \"yellow\", s = 200)\n",
        "ax.scatter(goal[1],goal[0], marker = \"+\", color = \"red\", s = 200)\n",
        "for s in astar_path[1:]:\n",
        "  ax.plot(s[1], s[0],'r+')\n",
        "#   s = e"
      ],
      "execution_count": 9,
      "outputs": [
        {
          "output_type": "display_data",
          "data": {
            "image/png": "[encoded data removed]",
            "text/plain": [
              "<Figure size 864x864 with 1 Axes>"
            ]
          },
          "metadata": {
            "tags": [],
            "needs_background": "light"
          }
        }
      ]
    },
    {
      "cell_type": "markdown",
      "metadata": {
        "id": "fLaAnQtG3ZVu"
      },
      "source": [
        "Cool! Now you can read arbitrary evironments and find the shortest path between 2 robot positions. Pick a game environment from here and repeat: {https://www.movingai.com/benchmarks/dao/index.html}"
      ]
    },
    {
      "cell_type": "markdown",
      "metadata": {
        "id": "AdhxkIQyI37G"
      },
      "source": [
        "###Thinice Map - https://movingai.com/benchmarks/sc1/index.html\n",
        "(downoad from - https://drive.google.com/file/d/1y466NWSfCFIHJQNMTSqZueqXCu5p-DM-/view?usp=sharing)"
      ]
    },
    {
      "cell_type": "code",
      "metadata": {
        "id": "wFtbNy1z39CH",
        "colab": {
          "base_uri": "https://localhost:8080/",
          "height": 330
        },
        "outputId": "0f56c550-ef9a-4802-c935-9fb14720697c"
      },
      "source": [
        "grid = np.loadtxt(\"ThinIce.txt\")\n",
        "# print(arr)"
      ],
      "execution_count": 10,
      "outputs": [
        {
          "output_type": "error",
          "ename": "OSError",
          "evalue": "ignored",
          "traceback": [
            "\u001b[0;31m---------------------------------------------------------------------------\u001b[0m",
            "\u001b[0;31mOSError\u001b[0m                                   Traceback (most recent call last)",
            "\u001b[0;32m<ipython-input-10-ceb7ac0f49a8>\u001b[0m in \u001b[0;36m<module>\u001b[0;34m()\u001b[0m\n\u001b[0;32m----> 1\u001b[0;31m \u001b[0mgrid\u001b[0m \u001b[0;34m=\u001b[0m \u001b[0mnp\u001b[0m\u001b[0;34m.\u001b[0m\u001b[0mloadtxt\u001b[0m\u001b[0;34m(\u001b[0m\u001b[0;34m\"ThinIce.txt\"\u001b[0m\u001b[0;34m)\u001b[0m\u001b[0;34m\u001b[0m\u001b[0;34m\u001b[0m\u001b[0m\n\u001b[0m\u001b[1;32m      2\u001b[0m \u001b[0;31m# print(arr)\u001b[0m\u001b[0;34m\u001b[0m\u001b[0;34m\u001b[0m\u001b[0;34m\u001b[0m\u001b[0m\n",
            "\u001b[0;32m/usr/local/lib/python3.7/dist-packages/numpy/lib/npyio.py\u001b[0m in \u001b[0;36mloadtxt\u001b[0;34m(fname, dtype, comments, delimiter, converters, skiprows, usecols, unpack, ndmin, encoding, max_rows)\u001b[0m\n\u001b[1;32m    959\u001b[0m             \u001b[0mfname\u001b[0m \u001b[0;34m=\u001b[0m \u001b[0mos_fspath\u001b[0m\u001b[0;34m(\u001b[0m\u001b[0mfname\u001b[0m\u001b[0;34m)\u001b[0m\u001b[0;34m\u001b[0m\u001b[0;34m\u001b[0m\u001b[0m\n\u001b[1;32m    960\u001b[0m         \u001b[0;32mif\u001b[0m \u001b[0m_is_string_like\u001b[0m\u001b[0;34m(\u001b[0m\u001b[0mfname\u001b[0m\u001b[0;34m)\u001b[0m\u001b[0;34m:\u001b[0m\u001b[0;34m\u001b[0m\u001b[0;34m\u001b[0m\u001b[0m\n\u001b[0;32m--> 961\u001b[0;31m             \u001b[0mfh\u001b[0m \u001b[0;34m=\u001b[0m \u001b[0mnp\u001b[0m\u001b[0;34m.\u001b[0m\u001b[0mlib\u001b[0m\u001b[0;34m.\u001b[0m\u001b[0m_datasource\u001b[0m\u001b[0;34m.\u001b[0m\u001b[0mopen\u001b[0m\u001b[0;34m(\u001b[0m\u001b[0mfname\u001b[0m\u001b[0;34m,\u001b[0m \u001b[0;34m'rt'\u001b[0m\u001b[0;34m,\u001b[0m \u001b[0mencoding\u001b[0m\u001b[0;34m=\u001b[0m\u001b[0mencoding\u001b[0m\u001b[0;34m)\u001b[0m\u001b[0;34m\u001b[0m\u001b[0;34m\u001b[0m\u001b[0m\n\u001b[0m\u001b[1;32m    962\u001b[0m             \u001b[0mfencoding\u001b[0m \u001b[0;34m=\u001b[0m \u001b[0mgetattr\u001b[0m\u001b[0;34m(\u001b[0m\u001b[0mfh\u001b[0m\u001b[0;34m,\u001b[0m \u001b[0;34m'encoding'\u001b[0m\u001b[0;34m,\u001b[0m \u001b[0;34m'latin1'\u001b[0m\u001b[0;34m)\u001b[0m\u001b[0;34m\u001b[0m\u001b[0;34m\u001b[0m\u001b[0m\n\u001b[1;32m    963\u001b[0m             \u001b[0mfh\u001b[0m \u001b[0;34m=\u001b[0m \u001b[0miter\u001b[0m\u001b[0;34m(\u001b[0m\u001b[0mfh\u001b[0m\u001b[0;34m)\u001b[0m\u001b[0;34m\u001b[0m\u001b[0;34m\u001b[0m\u001b[0m\n",
            "\u001b[0;32m/usr/local/lib/python3.7/dist-packages/numpy/lib/_datasource.py\u001b[0m in \u001b[0;36mopen\u001b[0;34m(path, mode, destpath, encoding, newline)\u001b[0m\n\u001b[1;32m    193\u001b[0m \u001b[0;34m\u001b[0m\u001b[0m\n\u001b[1;32m    194\u001b[0m     \u001b[0mds\u001b[0m \u001b[0;34m=\u001b[0m \u001b[0mDataSource\u001b[0m\u001b[0;34m(\u001b[0m\u001b[0mdestpath\u001b[0m\u001b[0;34m)\u001b[0m\u001b[0;34m\u001b[0m\u001b[0;34m\u001b[0m\u001b[0m\n\u001b[0;32m--> 195\u001b[0;31m     \u001b[0;32mreturn\u001b[0m \u001b[0mds\u001b[0m\u001b[0;34m.\u001b[0m\u001b[0mopen\u001b[0m\u001b[0;34m(\u001b[0m\u001b[0mpath\u001b[0m\u001b[0;34m,\u001b[0m \u001b[0mmode\u001b[0m\u001b[0;34m,\u001b[0m \u001b[0mencoding\u001b[0m\u001b[0;34m=\u001b[0m\u001b[0mencoding\u001b[0m\u001b[0;34m,\u001b[0m \u001b[0mnewline\u001b[0m\u001b[0;34m=\u001b[0m\u001b[0mnewline\u001b[0m\u001b[0;34m)\u001b[0m\u001b[0;34m\u001b[0m\u001b[0;34m\u001b[0m\u001b[0m\n\u001b[0m\u001b[1;32m    196\u001b[0m \u001b[0;34m\u001b[0m\u001b[0m\n\u001b[1;32m    197\u001b[0m \u001b[0;34m\u001b[0m\u001b[0m\n",
            "\u001b[0;32m/usr/local/lib/python3.7/dist-packages/numpy/lib/_datasource.py\u001b[0m in \u001b[0;36mopen\u001b[0;34m(self, path, mode, encoding, newline)\u001b[0m\n\u001b[1;32m    533\u001b[0m                                       encoding=encoding, newline=newline)\n\u001b[1;32m    534\u001b[0m         \u001b[0;32melse\u001b[0m\u001b[0;34m:\u001b[0m\u001b[0;34m\u001b[0m\u001b[0;34m\u001b[0m\u001b[0m\n\u001b[0;32m--> 535\u001b[0;31m             \u001b[0;32mraise\u001b[0m \u001b[0mIOError\u001b[0m\u001b[0;34m(\u001b[0m\u001b[0;34m\"%s not found.\"\u001b[0m \u001b[0;34m%\u001b[0m \u001b[0mpath\u001b[0m\u001b[0;34m)\u001b[0m\u001b[0;34m\u001b[0m\u001b[0;34m\u001b[0m\u001b[0m\n\u001b[0m\u001b[1;32m    536\u001b[0m \u001b[0;34m\u001b[0m\u001b[0m\n\u001b[1;32m    537\u001b[0m \u001b[0;34m\u001b[0m\u001b[0m\n",
            "\u001b[0;31mOSError\u001b[0m: ThinIce.txt not found."
          ]
        }
      ]
    },
    {
      "cell_type": "code",
      "metadata": {
        "id": "wKLRCLLNETbA"
      },
      "source": [
        "# use np.load to load a grid of 1s and 0s\n",
        "# 1 - occupied 0- free\n",
        "# grid = np.load(\"astar_grid.npy\")\n",
        "nodes = grid.shape\n",
        "# print(nodes)\n",
        "# you can define your own start/ end\n",
        "start = (0, 50)\n",
        "goal = (500, 700)\n",
        "# print(grid[start[0],start[1]])\n",
        "# print(grid[goal[0],goal[1]])\n",
        "# visualize the start/ end and the robot's environment\n",
        "# fig, ax = plt.subplots(figsize=(12,12))\n",
        "# ax.imshow(grid, cmap=plt.cm.Dark2)\n",
        "# ax.scatter(start[1],start[0], marker = \"+\", color = \"yellow\", s = 200)\n",
        "# ax.scatter(goal[1],goal[0], marker = \"+\", color = \"red\", s = 200)\n",
        "# plt.show()"
      ],
      "execution_count": null,
      "outputs": []
    },
    {
      "cell_type": "code",
      "metadata": {
        "id": "vegvRrcLETbX"
      },
      "source": [
        "#initialize graph\n",
        "G = nx.grid_2d_graph(nodes[0],nodes[1])\n",
        "\n",
        "deleted_nodes = 0 # counter to keep track of deleted nodes\n",
        "#loop to remove nodes\n",
        "for i in range(nodes[0]):\n",
        "    for j in range(nodes[1]):\n",
        "        if grid[i,j]==1:\n",
        "            G.remove_node((i,j))\n",
        "            deleted_nodes+=1\n",
        "print(f\"removed {deleted_nodes} nodes\")\n",
        "print(f\"number of occupied cells in grid {np.sum(grid)}\")"
      ],
      "execution_count": null,
      "outputs": []
    },
    {
      "cell_type": "code",
      "metadata": {
        "id": "asW06wxtETbY"
      },
      "source": [
        "pos = {(x,y):(y,-x) for x,y in G.nodes()}\n",
        "nx.draw(G, pos=pos, node_color='lightgreen', node_size=2)\n",
        "fig, ax = plt.subplots(figsize=(12,12))\n",
        "ax.imshow(grid, cmap=plt.cm.Dark2)\n",
        "ax.scatter(start[1],start[0], marker = \"+\", color = \"yellow\", s = 200)\n",
        "ax.scatter(goal[1],goal[0], marker = \"+\", color = \"red\", s = 200)\n",
        "plt.show()"
      ],
      "execution_count": null,
      "outputs": []
    },
    {
      "cell_type": "code",
      "metadata": {
        "id": "lJ4DBdmOETbb"
      },
      "source": [
        "nx.set_edge_attributes(G,1,name='cost')\n",
        "astar_path = nx.astar_path(G,start,goal,heuristic=euclidean,weight='cost')\n",
        "# print(astar_path)"
      ],
      "execution_count": null,
      "outputs": []
    },
    {
      "cell_type": "code",
      "metadata": {
        "id": "__krQ0eXETbc"
      },
      "source": [
        "fig, ax = plt.subplots(figsize=(12,12))\n",
        "ax.imshow(grid, cmap=plt.cm.Dark2)\n",
        "ax.scatter(start[1],start[0], marker = \"+\", color = \"yellow\", s = 200)\n",
        "ax.scatter(goal[1],goal[0], marker = \"+\", color = \"red\", s = 200)\n",
        "for s in astar_path[1:]:\n",
        "  ax.plot(s[1], s[0],'r+')\n",
        "#   s = e"
      ],
      "execution_count": null,
      "outputs": []
    }
  ]
}