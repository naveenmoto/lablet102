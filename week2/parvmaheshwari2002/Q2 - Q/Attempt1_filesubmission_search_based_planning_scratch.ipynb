{
  "nbformat": 4,
  "nbformat_minor": 0,
  "metadata": {
    "kernelspec": {
      "display_name": "Python 3",
      "language": "python",
      "name": "python3"
    },
    "language_info": {
      "codemirror_mode": {
        "name": "ipython",
        "version": 3
      },
      "file_extension": ".py",
      "mimetype": "text/x-python",
      "name": "python",
      "nbconvert_exporter": "python",
      "pygments_lexer": "ipython3",
      "version": "3.9.1"
    },
    "varInspector": {
      "cols": {
        "lenName": 16,
        "lenType": 16,
        "lenVar": 40
      },
      "kernels_config": {
        "python": {
          "delete_cmd_postfix": "",
          "delete_cmd_prefix": "del ",
          "library": "var_list.py",
          "varRefreshCmd": "print(var_dic_list())"
        },
        "r": {
          "delete_cmd_postfix": ") ",
          "delete_cmd_prefix": "rm(",
          "library": "var_list.r",
          "varRefreshCmd": "cat(var_dic_list()) "
        }
      },
      "position": {
        "height": "144px",
        "left": "1090px",
        "right": "20px",
        "top": "13px",
        "width": "350px"
      },
      "types_to_exclude": [
        "module",
        "function",
        "builtin_function_or_method",
        "instance",
        "_Feature"
      ],
      "window_display": true
    },
    "colab": {
      "name": "search_based_planning_scratch.ipynb",
      "provenance": [],
      "collapsed_sections": []
    }
  },
  "cells": [
    {
      "cell_type": "code",
      "metadata": {
        "id": "gpGPl3rxD5bt"
      },
      "source": [
        "import numpy as np\n",
        "import matplotlib.pyplot as plt\n",
        "from IPython.display import Image\n",
        "%matplotlib inline"
      ],
      "execution_count": 1,
      "outputs": []
    },
    {
      "cell_type": "code",
      "metadata": {
        "colab": {
          "base_uri": "https://localhost:8080/",
          "height": 41
        },
        "id": "CMmNelT6-rAq",
        "outputId": "1de47877-41fd-43ae-8b10-a26d40d59a30"
      },
      "source": [
        "Image('djikstra.png')"
      ],
      "execution_count": 2,
      "outputs": [
        {
          "output_type": "execute_result",
          "data": {
            "image/png": "djikstra.png",
            "text/plain": [
              "<IPython.core.display.Image object>"
            ]
          },
          "metadata": {
            "tags": []
          },
          "execution_count": 2
        }
      ]
    },
    {
      "cell_type": "markdown",
      "metadata": {
        "id": "xjRRn2qs-hse"
      },
      "source": [
        "Consider the example problem we discussed in the theory session (easy to verify!). We will implement from scratch Djikstra  algorithm to find the cost of traversal from a source node to all other nodes in a given connected graph. Note that we are not finding the shortest path itself. But that will follow"
      ]
    },
    {
      "cell_type": "code",
      "metadata": {
        "id": "rkAm7KZ5D5by"
      },
      "source": [
        "class Graph(object):\n",
        "    def __init__(self, nodes, edges):\n",
        "        self.nodes = nodes\n",
        "        self.adjacency = -np.ones([nodes, nodes])\n",
        "        self.shortest_path_set = [False] * nodes\n",
        "        #populate the adjacency matrix from edges\n",
        "        # format of edges = (node1, node2, edge_cost)\n",
        "        for x,y,z in edges:\n",
        "            self.adjacency[x,y] = z\n",
        "        \n",
        "    def min_distance(self, dist):\n",
        "        # dist = 1D array of all distances to source\n",
        "        # check if node is not already in the shortest path set\n",
        "        # output = closest node\n",
        "        min = float('inf')\n",
        "        closest_node = -1\n",
        "        for i in range(self.nodes):\n",
        "            if self.shortest_path_set[i] == False:\n",
        "                # print(i)\n",
        "                if dist[i]<min:\n",
        "                    # print(\"hii\")\n",
        "                    min = dist[i]\n",
        "                    closest_node = i\n",
        "        # print(f'next node is {closest_node}')\n",
        "        return closest_node\n",
        "\n",
        "    def dijkstra(self, src):\n",
        "        #initialize distance array\n",
        "        dist = [float('inf')] * self.nodes\n",
        "        dist[src] = 0\n",
        "        for _ in range(self.nodes):\t\n",
        "            i = self.min_distance(dist)\n",
        "            # Store min distance vertex in shortest path tree\n",
        "            self.shortest_path_set[i] = True\n",
        "            # for j in range(self.nodes):\n",
        "            #     if self.adjacency[i,j]!=-1 and self.shortest_path_set[i] == False and dist[j]>=dist[i]+self.adjacency[i,j]:\n",
        "            #         dist[j] = dist[i]+self.adjacency[i,j]\n",
        "            # Update dist value of the neighbors of selected node \n",
        "            # Two conditions to check for each neighbor \n",
        "            # (a) not in shortest path tree (b) cost is now lowered\n",
        "            # first get neighbor list from adjacency matrix\n",
        "            neighbors = self.adjacency[i,:]\n",
        "\n",
        "            # loop over neighbor list to check for other 2 conditions\n",
        "            # if satisfied, change dist[j]\n",
        "      \n",
        "            for j, nbr_cost in enumerate(neighbors):\n",
        "                if nbr_cost!=-1 and self.shortest_path_set[j] == False and dist[j]>=dist[i]+nbr_cost:\n",
        "                    dist[j] = dist[i]+nbr_cost\n",
        "        \n",
        "        return dist"
      ],
      "execution_count": 3,
      "outputs": []
    },
    {
      "cell_type": "code",
      "metadata": {
        "id": "QFtApVYQJ9oQ",
        "colab": {
          "base_uri": "https://localhost:8080/"
        },
        "outputId": "ee58d132-333c-4de3-8f93-59203e5b31a1"
      },
      "source": [
        "nodes = 7\n",
        "# (node_A, node_B, edge_cost)\n",
        "edges = [(0, 1, 8), (0, 2, 5), (0, 3, 2), (1, 4, 2), (2,1,1), (2, 5, 3), \\\n",
        "\t\t      (3, 5, 8), (4, 5, 7), (5, 4, 7), (4, 6, 1), (6, 5, 4) ]\n",
        "\n",
        "g = Graph(nodes, edges)\n",
        "\n",
        "for node, dist in enumerate(g.dijkstra(0)[:]):\n",
        "    print(f\"Node {node} is at distance {dist}\")"
      ],
      "execution_count": 4,
      "outputs": [
        {
          "output_type": "stream",
          "text": [
            "Node 0 is at distance 0\n",
            "Node 1 is at distance 6.0\n",
            "Node 2 is at distance 5.0\n",
            "Node 3 is at distance 2.0\n",
            "Node 4 is at distance 8.0\n",
            "Node 5 is at distance 8.0\n",
            "Node 6 is at distance 9.0\n"
          ],
          "name": "stdout"
        }
      ]
    },
    {
      "cell_type": "code",
      "metadata": {
        "colab": {
          "base_uri": "https://localhost:8080/",
          "height": 41
        },
        "id": "MsUN5o6N_nUI",
        "outputId": "65ae361c-285d-4464-84d1-8bd04bbbea7c"
      },
      "source": [
        "Image('astar.png')"
      ],
      "execution_count": 5,
      "outputs": [
        {
          "output_type": "execute_result",
          "data": {
            "image/png": "astar.png",
            "text/plain": [
              "<IPython.core.display.Image object>"
            ]
          },
          "metadata": {
            "tags": []
          },
          "execution_count": 5
        }
      ]
    },
    {
      "cell_type": "markdown",
      "metadata": {
        "id": "UDxJrADc3qoP"
      },
      "source": [
        "## A*\n",
        "Let us now modify the graph to accept the 2D co-ordinates of the node. We will use Euclidean distance as the heuristic"
      ]
    },
    {
      "cell_type": "code",
      "metadata": {
        "id": "EvoT3Ah0NB1Z"
      },
      "source": [
        "node_coords = [(0, 0),(2,2),(1,2),\n",
        "               (1,0),(3,3),(3,2),\n",
        "               (4,2)]"
      ],
      "execution_count": 6,
      "outputs": []
    },
    {
      "cell_type": "code",
      "metadata": {
        "id": "75PNiEgOSzQz"
      },
      "source": [
        "# Function to calculate euclidean distance\n",
        "# (x1, y1), (x2, y2) given\n",
        "def euclidean(node1, node2):\n",
        "    #write code here\n",
        "    x1,y1 = node1\n",
        "    x2,y2 = node2\n",
        "    return np.sqrt((x1-x2)**2 + (y1-y2)**2)\n",
        "    # pass\n",
        "\n",
        "class Graph(object):\n",
        "    def __init__(self, nodes, edges, coords, weight=1.0, heuristic='euclidean'):\n",
        "        self.nodes = nodes\n",
        "        self.adjacency = -np.ones([nodes, nodes])\n",
        "        self.shortest_path_set = [False] * nodes\n",
        "        self.heuristic = heuristic\n",
        "        self.coords = coords\n",
        "        self.weight = weight # weight of heuristic\n",
        "        #populate the adjacency matrix from edges\n",
        "        # edges = (node1, node2, edge_cost)\n",
        "        for x,y,z in edges:\n",
        "            self.adjacency[x,y] = z\n",
        "\n",
        "    # Input: 1-D distance array to source, destination (x, y)\n",
        "    # output: next node to be selected\n",
        "    # remember criteria is source_cost + weight * heuristic_destination\n",
        "    def min_astar_distance(self, dist, dest_coords):\n",
        "        #  pass\n",
        "        min = float('inf')\n",
        "        closest_node = -1\n",
        "        for i in range(self.nodes):\n",
        "            if self.shortest_path_set[i] == False:\n",
        "                # print(i)\n",
        "                cost = dist[i] + self.weight * euclidean(self.coords[i],dest_coords)\n",
        "                if cost<min:\n",
        "                    min = cost\n",
        "                    closest_node = i\n",
        "        print(f'next node is {closest_node}')\n",
        "        return closest_node\n",
        "\n",
        "    def astar(self, src, dest):\n",
        "        #initialize distance array\n",
        "        dist = [float('inf')] * self.nodes\n",
        "        dist[src] = 0\n",
        "        #get the destination (x,y)\n",
        "        dest_coords = self.coords[dest]\n",
        "        for _ in range(self.nodes):\t\n",
        "            i = self.min_astar_distance(dist, dest_coords)\n",
        "            # Store min distance vertex in shortest path tree\n",
        "            self.shortest_path_set[i] = True\n",
        "            \n",
        "            # for j in range(self.nodes):\n",
        "            #     if self.adjacency[i,j]!=-1 and self.shortest_path_set[i] == False and dist[j]>=dist[i]+self.adjacency[i,j]:\n",
        "            #         dist[j] = dist[i]+self.adjacency[i,j]\n",
        "            # Update dist value of the neighbors of selected node \n",
        "            # Two conditions to check for each neighbor \n",
        "            # (a) not in shortest path tree (b) cost is now lowered\n",
        "            # first get neighbor list from adjacency matrix\n",
        "            neighbors = self.adjacency[i,:]\n",
        "\n",
        "            # loop over neighbor list to check for other 2 conditions\n",
        "            # if satisfied, change dist[j]\n",
        "      \n",
        "            for j, nbr_cost in enumerate(neighbors):\n",
        "                if nbr_cost!=-1 and self.shortest_path_set[j] == False and dist[j]>=dist[i]+nbr_cost:\n",
        "                    dist[j] = dist[i]+nbr_cost\n",
        "            # find heuristic cost from all nodes to destination\n",
        "            # use list comprehension\n",
        "        heuristic_cost = [euclidean(node1,dest_coords) for node1 in self.coords]\n",
        "                \n",
        "        return dist, heuristic_cost"
      ],
      "execution_count": 7,
      "outputs": []
    },
    {
      "cell_type": "code",
      "metadata": {
        "colab": {
          "base_uri": "https://localhost:8080/"
        },
        "id": "kBzF2BKHCQi4",
        "outputId": "ff448a62-1097-4ce2-c855-9258d1aa936d"
      },
      "source": [
        "nodes = 7\n",
        "# (node_A, node_B, edge_cost)\n",
        "edges = [(0, 1, 8), (0, 2, 5), (0, 3, 2), (1, 4, 2), (2, 5, 3), \\\n",
        "\t\t     (3, 5, 8), (4, 5, 7), (5, 4, 7), (5, 6, 1), (6, 5, 4) ]\n",
        "node_coords = [(0, 0),(2,2),(1,2),(1,0),(3,3),(3,2),(4,2)]\n",
        "g = Graph(nodes, edges, node_coords)\n",
        "cost, heuristic = g.astar(0, 6)\n",
        "for node, (dist, heur) in enumerate(zip(cost, heuristic)):\n",
        "    print(f\"Node {node} is at distance {dist}\")\n",
        "    print(f\"Node {node} heuristic is  {heur}\")"
      ],
      "execution_count": 8,
      "outputs": [
        {
          "output_type": "stream",
          "text": [
            "next node is 0\n",
            "next node is 3\n",
            "next node is 2\n",
            "next node is 5\n",
            "next node is 6\n",
            "next node is 1\n",
            "next node is 4\n",
            "Node 0 is at distance 0\n",
            "Node 0 heuristic is  4.47213595499958\n",
            "Node 1 is at distance 8.0\n",
            "Node 1 heuristic is  2.0\n",
            "Node 2 is at distance 5.0\n",
            "Node 2 heuristic is  3.0\n",
            "Node 3 is at distance 2.0\n",
            "Node 3 heuristic is  3.605551275463989\n",
            "Node 4 is at distance 10.0\n",
            "Node 4 heuristic is  1.4142135623730951\n",
            "Node 5 is at distance 8.0\n",
            "Node 5 heuristic is  1.0\n",
            "Node 6 is at distance 9.0\n",
            "Node 6 heuristic is  0.0\n"
          ],
          "name": "stdout"
        }
      ]
    },
    {
      "cell_type": "markdown",
      "metadata": {
        "id": "Fy-u1lwa75pt"
      },
      "source": [
        "Notice that this is a very simple implementation to get the costs of all nodes to the source node. We can make 2 changes \n",
        "\n",
        "1. We did not get the predecessors of each node. \n",
        "Predecessors list is what will help us determine the path. Can you change the code to print out the predecessors as well?\n",
        "2.   In general we have to calculate only the path to the destination (not all nodes) as it is computationally expensive. What do you think should be the convergence criteria? Use it to find the shortest path to Node 5 instead of Node \n",
        "\n",
        "Feel free to experiment with other heuristics like (a) L-1 norm (b) number of edges\n",
        "\n"
      ]
    },
    {
      "cell_type": "markdown",
      "metadata": {
        "id": "AkTOyWOn5fX_"
      },
      "source": [
        "####Predecessors are also Calculated + Early Stopping Enabled"
      ]
    },
    {
      "cell_type": "code",
      "metadata": {
        "id": "ADXZFCXq5w5E"
      },
      "source": [
        "node_coords = [(0, 0),(2,2),(1,2),\n",
        "               (1,0),(3,3),(3,2),\n",
        "               (4,2)]"
      ],
      "execution_count": 9,
      "outputs": []
    },
    {
      "cell_type": "code",
      "metadata": {
        "id": "EZzXi4as5w5J"
      },
      "source": [
        "# Function to calculate euclidean distance\n",
        "# (x1, y1), (x2, y2) given\n",
        "def euclidean(node1, node2):\n",
        "    #write code here\n",
        "    x1,y1 = node1\n",
        "    x2,y2 = node2\n",
        "    return np.sqrt((x1-x2)**2 + (y1-y2)**2)\n",
        "    # pass\n",
        "\n",
        "class Graph(object):\n",
        "    def __init__(self, nodes, edges, coords, weight=1.0, heuristic='euclidean'):\n",
        "        self.nodes = nodes\n",
        "        self.adjacency = -np.ones([nodes, nodes])\n",
        "        self.shortest_path_set = [False] * nodes\n",
        "        self.heuristic = heuristic\n",
        "        self.coords = coords\n",
        "        self.weight = weight # weight of heuristic\n",
        "        #populate the adjacency matrix from edges\n",
        "        # edges = (node1, node2, edge_cost)\n",
        "        for x,y,z in edges:\n",
        "            self.adjacency[x,y] = z\n",
        "\n",
        "    # Input: 1-D distance array to source, destination (x, y)\n",
        "    # output: next node to be selected\n",
        "    # remember criteria is source_cost + weight * heuristic_destination\n",
        "    def min_astar_distance(self, dist, dest_coords):\n",
        "        #  pass\n",
        "        min = float('inf')\n",
        "        closest_node = -1\n",
        "        for i in range(self.nodes):\n",
        "            if self.shortest_path_set[i] == False:\n",
        "                # print(i)\n",
        "                cost = dist[i] + self.weight * euclidean(self.coords[i],dest_coords)\n",
        "                if cost<min:\n",
        "                    min = cost\n",
        "                    closest_node = i\n",
        "        print(f'next node is {closest_node}')\n",
        "        return closest_node\n",
        "\n",
        "    def astar(self, src, dest):\n",
        "        #initialize distance array\n",
        "        dist = [float('inf')] * self.nodes\n",
        "        pred = [-1] * self.nodes\n",
        "        dist[src] = 0\n",
        "        #get the destination (x,y)\n",
        "        dest_coords = self.coords[dest]\n",
        "        for _ in range(self.nodes):\t\n",
        "            i = self.min_astar_distance(dist, dest_coords)\n",
        "            if i == dest:\n",
        "                break\n",
        "            # Store min distance vertex in shortest path tree\n",
        "            self.shortest_path_set[i] = True\n",
        "            \n",
        "            # for j in range(self.nodes):\n",
        "            #     if self.adjacency[i,j]!=-1 and self.shortest_path_set[i] == False and dist[j]>=dist[i]+self.adjacency[i,j]:\n",
        "            #         dist[j] = dist[i]+self.adjacency[i,j]\n",
        "            # Update dist value of the neighbors of selected node \n",
        "            # Two conditions to check for each neighbor \n",
        "            # (a) not in shortest path tree (b) cost is now lowered\n",
        "            # first get neighbor list from adjacency matrix\n",
        "            neighbors = self.adjacency[i,:]\n",
        "\n",
        "            # loop over neighbor list to check for other 2 conditions\n",
        "            # if satisfied, change dist[j]\n",
        "      \n",
        "            for j, nbr_cost in enumerate(neighbors):\n",
        "                if nbr_cost!=-1 and self.shortest_path_set[j] == False and dist[j]>=dist[i]+nbr_cost:\n",
        "                    dist[j] = dist[i]+nbr_cost\n",
        "                    pred[j] = i\n",
        "            # find heuristic cost from all nodes to destination\n",
        "            # use list comprehension\n",
        "        heuristic_cost = [euclidean(node1,dest_coords) for node1 in self.coords]\n",
        "                \n",
        "        return dist, heuristic_cost , pred"
      ],
      "execution_count": 10,
      "outputs": []
    },
    {
      "cell_type": "code",
      "metadata": {
        "colab": {
          "base_uri": "https://localhost:8080/"
        },
        "id": "B99ZjtnF5w5P",
        "outputId": "4bf213aa-0094-42af-938e-4c322fcd56e0"
      },
      "source": [
        "nodes = 7\n",
        "# (node_A, node_B, edge_cost)\n",
        "edges = [(0, 1, 8), (0, 2, 5), (0, 3, 2), (1, 4, 2), (2, 5, 3), \\\n",
        "\t\t     (3, 5, 8), (4, 5, 7), (5, 4, 7), (5, 6, 1), (6, 5, 4) ]\n",
        "node_coords = [(0, 0),(2,2),(1,2),(1,0),(3,3),(3,2),(4,2)]\n",
        "g = Graph(nodes, edges, node_coords)\n",
        "cost, heuristic, pred = g.astar(0, 5)\n",
        "for node, (dist, heur) in enumerate(zip(cost, heuristic)):\n",
        "    print(f\"Node {node} is at distance {dist}\")\n",
        "    print(f\"Node {node} heuristic is  {heur}\")\n",
        "    print(f\"predecessors Node of Node {node} is Node {pred[node]}\\n\")"
      ],
      "execution_count": 11,
      "outputs": [
        {
          "output_type": "stream",
          "text": [
            "next node is 0\n",
            "next node is 3\n",
            "next node is 2\n",
            "next node is 5\n",
            "Node 0 is at distance 0\n",
            "Node 0 heuristic is  3.605551275463989\n",
            "predecessors Node of Node 0 is Node -1\n",
            "\n",
            "Node 1 is at distance 8.0\n",
            "Node 1 heuristic is  1.0\n",
            "predecessors Node of Node 1 is Node 0\n",
            "\n",
            "Node 2 is at distance 5.0\n",
            "Node 2 heuristic is  2.0\n",
            "predecessors Node of Node 2 is Node 0\n",
            "\n",
            "Node 3 is at distance 2.0\n",
            "Node 3 heuristic is  2.8284271247461903\n",
            "predecessors Node of Node 3 is Node 0\n",
            "\n",
            "Node 4 is at distance inf\n",
            "Node 4 heuristic is  1.0\n",
            "predecessors Node of Node 4 is Node -1\n",
            "\n",
            "Node 5 is at distance 8.0\n",
            "Node 5 heuristic is  0.0\n",
            "predecessors Node of Node 5 is Node 2\n",
            "\n",
            "Node 6 is at distance inf\n",
            "Node 6 heuristic is  1.0\n",
            "predecessors Node of Node 6 is Node -1\n",
            "\n"
          ],
          "name": "stdout"
        }
      ]
    },
    {
      "cell_type": "code",
      "metadata": {
        "id": "s3_Vu3fw5exe"
      },
      "source": [
        ""
      ],
      "execution_count": 11,
      "outputs": []
    }
  ]
}