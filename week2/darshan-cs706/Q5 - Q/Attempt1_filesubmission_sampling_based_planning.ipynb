{
  "nbformat": 4,
  "nbformat_minor": 0,
  "metadata": {
    "kernelspec": {
      "display_name": "Python 3",
      "language": "python",
      "name": "python3"
    },
    "language_info": {
      "codemirror_mode": {
        "name": "ipython",
        "version": 3
      },
      "file_extension": ".py",
      "mimetype": "text/x-python",
      "name": "python",
      "nbconvert_exporter": "python",
      "pygments_lexer": "ipython3",
      "version": "3.9.1"
    },
    "varInspector": {
      "cols": {
        "lenName": 16,
        "lenType": 16,
        "lenVar": 40
      },
      "kernels_config": {
        "python": {
          "delete_cmd_postfix": "",
          "delete_cmd_prefix": "del ",
          "library": "var_list.py",
          "varRefreshCmd": "print(var_dic_list())"
        },
        "r": {
          "delete_cmd_postfix": ") ",
          "delete_cmd_prefix": "rm(",
          "library": "var_list.r",
          "varRefreshCmd": "cat(var_dic_list()) "
        }
      },
      "position": {
        "height": "144.444px",
        "left": "1307px",
        "right": "20px",
        "top": "76px",
        "width": "350px"
      },
      "types_to_exclude": [
        "module",
        "function",
        "builtin_function_or_method",
        "instance",
        "_Feature"
      ],
      "window_display": true
    },
    "colab": {
      "name": "sampling_based_planning.ipynb",
      "provenance": [],
      "collapsed_sections": []
    }
  },
  "cells": [
    {
      "cell_type": "code",
      "metadata": {
        "id": "z85-XBJe8fwX"
      },
      "source": [
        "import numpy as np\n",
        "import matplotlib.pyplot as plt\n",
        "from IPython.display import Image"
      ],
      "execution_count": null,
      "outputs": []
    },
    {
      "cell_type": "markdown",
      "metadata": {
        "id": "S0ceeptfi9Zs"
      },
      "source": [
        "Use the same grid as in Astar problem. Assume there is no graph available. Use RRT/ RRT* to sample paths, build a graph and find the shortest path\n",
        "\n",
        "Make a gif of the path evolution\n",
        "\n",
        "\n"
      ]
    },
    {
      "cell_type": "code",
      "metadata": {
        "id": "JP5UumQad3EG"
      },
      "source": [
        "# write the Euclidean function that takes in the\n",
        "# node x, y and compute the distance\n",
        "def euclidean(node1, node2):\n",
        "  pass"
      ],
      "execution_count": null,
      "outputs": []
    },
    {
      "cell_type": "code",
      "metadata": {
        "colab": {
          "base_uri": "https://localhost:8080/",
          "height": 700
        },
        "id": "N-uQvXAOtauO",
        "outputId": "e471e40b-ae29-4ee8-a5eb-51bc276680a1"
      },
      "source": [
        "# use np.load to load a grid of 1s and 0s\n",
        "# 1 - occupied 0- free\n",
        "grid = np.load(\"astar_grid.npy\")\n",
        "# you can define your own start/ end\n",
        "start = (0, 0)\n",
        "goal = (0, 19)\n",
        "\n",
        "# visualize the start/ end and the robot's environment\n",
        "fig, ax = plt.subplots(figsize=(12,12))\n",
        "ax.imshow(grid, cmap=plt.cm.Dark2)\n",
        "ax.scatter(start[1],start[0], marker = \"+\", color = \"yellow\", s = 200)\n",
        "ax.scatter(goal[1],goal[0], marker = \"+\", color = \"red\", s = 200)\n",
        "plt.show()"
      ],
      "execution_count": null,
      "outputs": [
        {
          "output_type": "display_data",
          "data": {
            "image/png": "[encoded data removed]",
            "text/plain": [
              "<Figure size 864x864 with 1 Axes>"
            ]
          },
          "metadata": {
            "tags": [],
            "needs_background": "light"
          }
        }
      ]
    },
    {
      "cell_type": "code",
      "metadata": {
        "id": "wFtbNy1z39CH"
      },
      "source": [
        ""
      ],
      "execution_count": null,
      "outputs": []
    }
  ]
}