{
  "nbformat": 4,
  "nbformat_minor": 0,
  "metadata": {
    "kernelspec": {
      "display_name": "Python 3",
      "language": "python",
      "name": "python3"
    },
    "language_info": {
      "codemirror_mode": {
        "name": "ipython",
        "version": 3
      },
      "file_extension": ".py",
      "mimetype": "text/x-python",
      "name": "python",
      "nbconvert_exporter": "python",
      "pygments_lexer": "ipython3",
      "version": "3.9.1"
    },
    "varInspector": {
      "cols": {
        "lenName": 16,
        "lenType": 16,
        "lenVar": 40
      },
      "kernels_config": {
        "python": {
          "delete_cmd_postfix": "",
          "delete_cmd_prefix": "del ",
          "library": "var_list.py",
          "varRefreshCmd": "print(var_dic_list())"
        },
        "r": {
          "delete_cmd_postfix": ") ",
          "delete_cmd_prefix": "rm(",
          "library": "var_list.r",
          "varRefreshCmd": "cat(var_dic_list()) "
        }
      },
      "types_to_exclude": [
        "module",
        "function",
        "builtin_function_or_method",
        "instance",
        "_Feature"
      ],
      "window_display": true
    },
    "colab": {
      "name": "smooth_planning_spirals.ipynb",
      "provenance": [],
      "collapsed_sections": []
    }
  },
  "cells": [
    {
      "cell_type": "code",
      "metadata": {
        "id": "uAVuwjwIvgAH"
      },
      "source": [
        "import numpy as np\n",
        "import matplotlib.pyplot as plt\n",
        "import networkx as nx"
      ],
      "execution_count": 1,
      "outputs": []
    },
    {
      "cell_type": "markdown",
      "metadata": {
        "id": "2b0es7VLvgAM"
      },
      "source": [
        "Remember that in week 1 we had generated open-loop commands for a set of manoeuvres such as\n",
        "$[(\"straight\", 5), (\"right\", 90), (\"straight\", 6), (\"left\", 90)]$\n",
        "\n",
        "Let us do repeat, but with a change. Instead of left/ right, simply use turn and a signed angle.\n",
        "$[(\"straight\", 5), (\"turn\", -90), (\"straight\", 6), (\"turn\", 90)]$\n",
        "\n",
        "You can use cubic_spiral() from previous notebook"
      ]
    },
    {
      "cell_type": "code",
      "metadata": {
        "id": "bhkPFx35vgAO"
      },
      "source": [
        "#v = 2\n",
        "v = 1.8\n",
        "dt = 0.01\n",
        "num_st_pts = int(v/dt)\n",
        "num_pts = 50\n",
        "\n",
        "def cubic_spiral(theta_i, theta_f, n=10):\n",
        "    x = np.linspace(0, 1, num=n)\n",
        "    #-2*x**3 + 3*x**2\n",
        "    return (theta_f-theta_i)*(-2*x**3 + 3*x**2) + theta_i\n",
        "    \n",
        "def straight(dist, curr_pose, n=num_st_pts):\n",
        "    # the straight-line may be along x or y axis\n",
        "    #curr_theta will determine the orientation\n",
        "    x0, y0, t0 = curr_pose\n",
        "    xf, yf = x0 + dist*np.cos(t0), y0 + dist*np.sin(t0)\n",
        "    x = (xf - x0) * np.linspace(0, 1, n) + x0\n",
        "    y = (yf - y0) * np.linspace(0, 1, n) + y0\n",
        "    return x, y, t0*np.ones_like(x)\n",
        "\n",
        "def turn(change, curr_pose, n=num_pts):\n",
        "    # adjust scaling constant for desired turn radius\n",
        "     x0, y0, t0 = curr_pose\n",
        "     theta = cubic_spiral(t0, t0 + np.deg2rad(change), n)\n",
        "     x= x0 + np.cumsum(v*np.cos(theta)*dt)\n",
        "     y= y0 + np.cumsum(v*np.sin(theta)*dt)\n",
        "     return x, y, theta\n",
        "\n",
        "def generate_trajectory(route, init_pose = (0, 0,np.pi/2)):\n",
        "    curr_pose = init_pose\n",
        "    func = {'straight': straight, 'turn': turn}\n",
        "    x, y, t = np.array([]), np.array([]),np.array([])\n",
        "    for manoeuvre, command in route:\n",
        "        px, py, pt = func[manoeuvre](command, curr_pose)\n",
        "        curr_pose = px[-1],py[-1],pt[-1]\n",
        "        x = np.concatenate([x, px])\n",
        "        y = np.concatenate([y, py])\n",
        "        t = np.concatenate([t, pt])\n",
        "        \n",
        "    return x, y, t"
      ],
      "execution_count": 58,
      "outputs": []
    },
    {
      "cell_type": "markdown",
      "metadata": {
        "id": "re-EN4-IvgAP"
      },
      "source": [
        "### Plot the trajectory\n",
        "plot the trajectory and the change in orientation in separate plots"
      ]
    },
    {
      "cell_type": "code",
      "metadata": {
        "colab": {
          "base_uri": "https://localhost:8080/",
          "height": 265
        },
        "id": "jnhR2RXmvgAP",
        "outputId": "3b48331e-eb96-493a-c729-97c2ea0a3601"
      },
      "source": [
        "route = [(\"straight\", 5),(\"turn\", -90),(\"straight\", 6),(\"turn\", 90)]\n",
        "x, y, _ = generate_trajectory(route)\n",
        "plt.figure()\n",
        "plt.plot(x, y)\n",
        "plt.grid()"
      ],
      "execution_count": 59,
      "outputs": [
        {
          "output_type": "display_data",
          "data": {
            "image/png": "[encoded data removed]",
            "text/plain": [
              "<Figure size 432x288 with 1 Axes>"
            ]
          },
          "metadata": {
            "tags": [],
            "needs_background": "light"
          }
        }
      ]
    },
    {
      "cell_type": "markdown",
      "metadata": {
        "id": "th3IYgg-vgAP"
      },
      "source": [
        "## Convert \n",
        "\n",
        "A* or Djikstra gives a sequence of $\\{(x_i, y_i)\\}$. We need to convert it to a sequence of {\"straight\", \"turn\"} if we are use generate_trajectory()\n",
        "\n",
        "Let us look at a simple method. Assume that the successive line segments are orthogonal (reasonable in the grid world). If we find the corner point, we can demarcate. \n",
        "\n",
        "For 3 consecutive points $(x_1,y_1), (x_2, y_2), (x_3, y_3)$ if \n",
        "$(x_1 - x_2)(y_3-y2) - (x_3-x_2)(y_2-y_1) \\neq 0$, then $(x_2, y_2)$ is a corner point\n",
        "\n",
        "Think about what is happening if\n",
        "\n",
        "1. $(x_1 - x_2)(y_3-y2) - (x_3-x_2)(y_2-y_1) > 0$\n",
        "\n",
        "2. $(x_1 - x_2)(y_3-y2) - (x_3-x_2)(y_2-y_1) < 0$"
      ]
    },
    {
      "cell_type": "code",
      "metadata": {
        "colab": {
          "base_uri": "https://localhost:8080/",
          "height": 513
        },
        "id": "q4MEijvIvgAQ",
        "outputId": "ff33d01b-e9a2-404a-8168-a4c60ade543c"
      },
      "source": [
        "# here is a code to generate 2 orthogonal \n",
        "# line segments of lengths 6\n",
        "\n",
        "s1, s2 = 6, 6\n",
        "y1 = list(range(s1))\n",
        "x1 = [0]*s1\n",
        "\n",
        "x2 = list(range(s2))\n",
        "y2 = [y1[-1]]*s2\n",
        "\n",
        "x, y = x1[:-1]+x2, y1[:-1]+y2\n",
        "plt.figure()\n",
        "plt.plot(x, y)\n",
        "plt.grid()\n",
        "\n",
        "#find the corner point and plot it\n",
        "corners = []\n",
        "for x1,x2,x3, y1,y2,y3 in zip(x[:-2],x[1:-1],x[2:],y[:-2],y[1:-1],y[2:]):\n",
        "  slope = (x2-x1)*(y3-y2) - (x3-x2)*(y2-y1)\n",
        "  if np.abs(slope) > 0.0:\n",
        "    corners.append([x2, y2])\n",
        "\n",
        "# Fix a turn radius r\n",
        "# Shorten the straight segments by r\n",
        "# convert this into {(\"straight\", s1), (\"turn\", +/- 90), (\"straight\", s2)}\n",
        "r = 1\n",
        "s1, s2 = s1 -r, s2 - r\n",
        "\n",
        "# use generate_trajectory() and plot the smooth path\n",
        "route = [(\"straight\", s1),(\"turn\", -90),(\"straight\", s2)]\n",
        "x, y, _ = generate_trajectory(route)\n",
        "plt.figure()\n",
        "plt.plot(x, y)\n",
        "plt.grid()"
      ],
      "execution_count": 60,
      "outputs": [
        {
          "output_type": "display_data",
          "data": {
            "image/png": "[encoded data removed]",
            "text/plain": [
              "<Figure size 432x288 with 1 Axes>"
            ]
          },
          "metadata": {
            "tags": [],
            "needs_background": "light"
          }
        },
        {
          "output_type": "display_data",
          "data": {
            "image/png": "[encoded data removed]",
            "text/plain": [
              "<Figure size 432x288 with 1 Axes>"
            ]
          },
          "metadata": {
            "tags": [],
            "needs_background": "light"
          }
        }
      ]
    },
    {
      "cell_type": "markdown",
      "metadata": {
        "id": "taT38XfcvgAU"
      },
      "source": [
        "# More complex example\n",
        "Borrow the Grid world code from week 2 notebook. Get the A* path and smoothen it using the routine from above"
      ]
    },
    {
      "cell_type": "code",
      "metadata": {
        "id": "4s1VvNw-vgAV",
        "colab": {
          "base_uri": "https://localhost:8080/",
          "height": 700
        },
        "outputId": "3c354381-f016-4b58-c879-bdd7c8c40ea7"
      },
      "source": [
        "# use np.load to load a grid of 1s and 0s\n",
        "# 1 - occupied 0- free\n",
        "grid = np.load(\"/content/drive/MyDrive/Assignment LABLET AP102/Week 2/data/astar_grid.npy\")\n",
        "# you can define your own start/ end\n",
        "start = (0, 0)\n",
        "goal = (0, 19)\n",
        "\n",
        "# visualize the start/ end and the robot's environment\n",
        "fig, ax = plt.subplots(figsize=(12,12))\n",
        "ax.imshow(grid, cmap=plt.cm.Dark2)\n",
        "ax.scatter(start[1],start[0], marker = \"+\", color = \"yellow\", s = 200)\n",
        "ax.scatter(goal[1],goal[0], marker = \"+\", color = \"red\", s = 200)\n",
        "plt.show()"
      ],
      "execution_count": 61,
      "outputs": [
        {
          "output_type": "display_data",
          "data": {
            "image/png": "[encoded data removed]",
            "text/plain": [
              "<Figure size 864x864 with 1 Axes>"
            ]
          },
          "metadata": {
            "tags": [],
            "needs_background": "light"
          }
        }
      ]
    },
    {
      "cell_type": "code",
      "metadata": {
        "colab": {
          "base_uri": "https://localhost:8080/"
        },
        "id": "2NJaH8hvpSry",
        "outputId": "30d9ea26-df40-4f37-f6d8-58dfafcaad1a"
      },
      "source": [
        "#initialize graph\n",
        "grid_size = grid.shape\n",
        "G = nx.grid_2d_graph(*grid_size)\n",
        "num_nodes = 0 # counter to keep track of deleted nodes\n",
        "#loop to remove nodes\n",
        "for i in range(20): \n",
        "  for j in range(20):\n",
        "    if grid[i, j] == 1:\n",
        "      G.remove_node((i, j))\n",
        "      num_nodes +=1\n",
        "print(f\"removed {num_nodes} nodes\")\n",
        "print(f\"number of occupied cells in grid {np.sum(grid)}\")"
      ],
      "execution_count": 45,
      "outputs": [
        {
          "output_type": "stream",
          "text": [
            "removed 77 nodes\n",
            "number of occupied cells in grid 77\n"
          ],
          "name": "stdout"
        }
      ]
    },
    {
      "cell_type": "code",
      "metadata": {
        "colab": {
          "base_uri": "https://localhost:8080/",
          "height": 319
        },
        "id": "20BBGKqepzhC",
        "outputId": "c30bf559-8bf2-49b1-f2f0-2aaa7046f286"
      },
      "source": [
        "pos = {(x,y):(y,-x) for x,y in G.nodes()}\n",
        "nx.draw(G, pos=pos, node_color='red', node_size=10) "
      ],
      "execution_count": 46,
      "outputs": [
        {
          "output_type": "display_data",
          "data": {
            "image/png": "[encoded data removed]",
            "text/plain": [
              "<Figure size 432x288 with 1 Axes>"
            ]
          },
          "metadata": {
            "tags": []
          }
        }
      ]
    },
    {
      "cell_type": "code",
      "metadata": {
        "id": "7eRoE5DOp8xy"
      },
      "source": [
        "# write the Euclidean function that takes in the\n",
        "# node x, y and compute the distance\n",
        "def euclidean(node1, node2):\n",
        "    x1, y1 = node1\n",
        "    x2, y2 = node2\n",
        "    return np.sqrt((x1-x2)**2 + (y1-y2)**2)"
      ],
      "execution_count": 47,
      "outputs": []
    },
    {
      "cell_type": "code",
      "metadata": {
        "colab": {
          "base_uri": "https://localhost:8080/"
        },
        "id": "LVaAU-MTp1W1",
        "outputId": "9d6a7b54-f971-429f-de64-45b24f1549b5"
      },
      "source": [
        "#ost = np.ones(grid_size)\n",
        "nx.set_edge_attributes(G,{e:1 for e in G.edges()}, \"cost\")\n",
        "astar_path = nx.astar_path(G, start, goal, heuristic=euclidean, weight='cost')\n",
        "print(astar_path)"
      ],
      "execution_count": 48,
      "outputs": [
        {
          "output_type": "stream",
          "text": [
            "[(0, 0), (0, 1), (0, 2), (1, 2), (2, 2), (3, 2), (4, 2), (5, 2), (6, 2), (6, 3), (6, 4), (6, 5), (7, 5), (8, 5), (9, 5), (10, 5), (11, 5), (12, 5), (13, 5), (14, 5), (14, 4), (14, 3), (14, 2), (14, 1), (15, 1), (16, 1), (17, 1), (18, 1), (18, 2), (18, 3), (17, 3), (17, 4), (17, 5), (17, 6), (17, 7), (17, 8), (17, 9), (17, 10), (17, 11), (17, 12), (17, 13), (17, 14), (16, 14), (15, 14), (14, 14), (13, 14), (13, 13), (13, 12), (13, 11), (13, 10), (12, 10), (11, 10), (10, 10), (10, 11), (10, 12), (10, 13), (10, 14), (9, 14), (9, 15), (9, 16), (8, 16), (7, 16), (7, 17), (7, 18), (6, 18), (5, 18), (4, 18), (3, 18), (2, 18), (1, 18), (0, 18), (0, 19)]\n"
          ],
          "name": "stdout"
        }
      ]
    },
    {
      "cell_type": "code",
      "metadata": {
        "colab": {
          "base_uri": "https://localhost:8080/"
        },
        "id": "GNfYRjJdqgdo",
        "outputId": "4a906c52-084c-49c9-db16-6befdf2d08ce"
      },
      "source": [
        "corners = []\n",
        "commands = []\n",
        "k = 0\n",
        "for i in range(0,len(astar_path)-2):\n",
        "  x1, y1 = astar_path[i]\n",
        "  x2, y2 = astar_path[i+1]\n",
        "  x3, y3 = astar_path[i+2]\n",
        "  slope = (x2-x1)*(y3-y2) - (x3-x2)*(y2-y1)\n",
        "  if slope>0.0:\n",
        "    commands.append(('turn', 90))\n",
        "  elif slope<0.0:\n",
        "    commands.append(('turn', -90))\n",
        "  else:\n",
        "    commands.append(('straight', (euclidean((x1, y1), (x2, y2)))))\n",
        "  if np.abs(slope) > 0.0:\n",
        "    corners.append([x2, y2])\n",
        "print(commands)\n",
        "print(corners)"
      ],
      "execution_count": 62,
      "outputs": [
        {
          "output_type": "stream",
          "text": [
            "[('straight', 1.0), ('turn', -90), ('straight', 1.0), ('straight', 1.0), ('straight', 1.0), ('straight', 1.0), ('straight', 1.0), ('turn', 90), ('straight', 1.0), ('straight', 1.0), ('turn', -90), ('straight', 1.0), ('straight', 1.0), ('straight', 1.0), ('straight', 1.0), ('straight', 1.0), ('straight', 1.0), ('straight', 1.0), ('turn', -90), ('straight', 1.0), ('straight', 1.0), ('straight', 1.0), ('turn', 90), ('straight', 1.0), ('straight', 1.0), ('straight', 1.0), ('turn', 90), ('straight', 1.0), ('turn', 90), ('turn', -90), ('straight', 1.0), ('straight', 1.0), ('straight', 1.0), ('straight', 1.0), ('straight', 1.0), ('straight', 1.0), ('straight', 1.0), ('straight', 1.0), ('straight', 1.0), ('straight', 1.0), ('turn', 90), ('straight', 1.0), ('straight', 1.0), ('straight', 1.0), ('turn', 90), ('straight', 1.0), ('straight', 1.0), ('straight', 1.0), ('turn', -90), ('straight', 1.0), ('straight', 1.0), ('turn', -90), ('straight', 1.0), ('straight', 1.0), ('straight', 1.0), ('turn', 90), ('turn', -90), ('straight', 1.0), ('turn', 90), ('straight', 1.0), ('turn', -90), ('straight', 1.0), ('turn', 90), ('straight', 1.0), ('straight', 1.0), ('straight', 1.0), ('straight', 1.0), ('straight', 1.0), ('straight', 1.0), ('turn', -90)]\n",
            "[[0, 2], [6, 2], [6, 5], [14, 5], [14, 1], [18, 1], [18, 3], [17, 3], [17, 14], [13, 14], [13, 10], [10, 10], [10, 14], [9, 14], [9, 16], [7, 16], [7, 18], [0, 18]]\n"
          ],
          "name": "stdout"
        }
      ]
    },
    {
      "cell_type": "code",
      "metadata": {
        "colab": {
          "base_uri": "https://localhost:8080/",
          "height": 787
        },
        "id": "I2xN0Kvxth1w",
        "outputId": "9c85e3a8-fa93-45f7-b5b0-ec4a864fa532"
      },
      "source": [
        "x, y, _ = generate_trajectory(commands)\n",
        "print(x)\n",
        "print(y)\n",
        "fig, ax = plt.subplots(figsize=(12,12))\n",
        "ax.imshow(grid, cmap=plt.cm.Dark2)\n",
        "ax.scatter(start[1],start[0], marker = \"+\", color = \"yellow\", s = 200)\n",
        "ax.scatter(goal[1],goal[0], marker = \"+\", color = \"red\", s = 200)\n",
        "q = generate_trajectory(commands)\n",
        "ax.plot(y, x,'r+')\n"
      ],
      "execution_count": 63,
      "outputs": [
        {
          "output_type": "stream",
          "text": [
            "[ 0.00000000e+00  3.42080111e-19  6.84160223e-19 ... -2.56385530e-01\n",
            " -2.56420377e-01 -2.56420377e-01]\n",
            "[0.00000000e+00 5.58659218e-03 1.11731844e-02 ... 1.83913673e+01\n",
            " 1.84093673e+01 1.84273673e+01]\n"
          ],
          "name": "stdout"
        },
        {
          "output_type": "execute_result",
          "data": {
            "text/plain": [
              "[<matplotlib.lines.Line2D at 0x7fcadcb97290>]"
            ]
          },
          "metadata": {
            "tags": []
          },
          "execution_count": 63
        },
        {
          "output_type": "display_data",
          "data": {
            "image/png": "[encoded data removed]",
            "text/plain": [
              "<Figure size 864x864 with 1 Axes>"
            ]
          },
          "metadata": {
            "tags": [],
            "needs_background": "light"
          }
        }
      ]
    },
    {
      "cell_type": "code",
      "metadata": {
        "colab": {
          "base_uri": "https://localhost:8080/"
        },
        "id": "JbG8ZCQYpI6w",
        "outputId": "e906381d-6f9b-478b-aa88-c94099ca5d74"
      },
      "source": [
        "from google.colab import drive\n",
        "drive.mount('/content/drive')"
      ],
      "execution_count": 6,
      "outputs": [
        {
          "output_type": "stream",
          "text": [
            "Mounted at /content/drive\n"
          ],
          "name": "stdout"
        }
      ]
    },
    {
      "cell_type": "markdown",
      "metadata": {
        "id": "biZObANsvgAV"
      },
      "source": [
        "This approach of path planning with 90 deg turns juxtaposed between straight segments works well in structured environments.\n",
        "\n",
        "In the general case, where $A^*$/ $RRT^*$ path is a sequence of piecewise linear segments, we will perform a path optimization routine directly. "
      ]
    },
    {
      "cell_type": "markdown",
      "metadata": {
        "id": "9fRQo6TOvgAV"
      },
      "source": [
        "There are 3 more advanced manouevres that you may need\n",
        "\n",
        "1. Lane-change: Robot has to move laterally but without change to the orientation\n",
        "\n",
        "2. Inplace: Robot has to turn around itself\n",
        "    \n",
        "3. Reverse: Straights or turns in reverse\n",
        "\n",
        "Lane-change has to be applied as a combination of 2 cubic spirals (90 to 0 and 0 to 90). Inplace and Reverse are situational constructs"
      ]
    },
    {
      "cell_type": "code",
      "metadata": {
        "id": "Ujw-WlgpvgAW"
      },
      "source": [
        ""
      ],
      "execution_count": null,
      "outputs": []
    }
  ]
}