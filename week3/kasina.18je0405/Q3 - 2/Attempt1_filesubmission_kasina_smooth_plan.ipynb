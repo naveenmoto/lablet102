{
  "nbformat": 4,
  "nbformat_minor": 0,
  "metadata": {
    "kernelspec": {
      "display_name": "Python 3",
      "language": "python",
      "name": "python3"
    },
    "language_info": {
      "codemirror_mode": {
        "name": "ipython",
        "version": 3
      },
      "file_extension": ".py",
      "mimetype": "text/x-python",
      "name": "python",
      "nbconvert_exporter": "python",
      "pygments_lexer": "ipython3",
      "version": "3.9.1"
    },
    "varInspector": {
      "cols": {
        "lenName": 16,
        "lenType": 16,
        "lenVar": 40
      },
      "kernels_config": {
        "python": {
          "delete_cmd_postfix": "",
          "delete_cmd_prefix": "del ",
          "library": "var_list.py",
          "varRefreshCmd": "print(var_dic_list())"
        },
        "r": {
          "delete_cmd_postfix": ") ",
          "delete_cmd_prefix": "rm(",
          "library": "var_list.r",
          "varRefreshCmd": "cat(var_dic_list()) "
        }
      },
      "types_to_exclude": [
        "module",
        "function",
        "builtin_function_or_method",
        "instance",
        "_Feature"
      ],
      "window_display": true
    },
    "colab": {
      "name": "smooth-planning-spirals.ipynb",
      "provenance": [],
      "collapsed_sections": []
    }
  },
  "cells": [
    {
      "cell_type": "code",
      "metadata": {
        "id": "uAVuwjwIvgAH"
      },
      "source": [
        "import numpy as np\n",
        "import matplotlib.pyplot as plt"
      ],
      "execution_count": 1,
      "outputs": []
    },
    {
      "cell_type": "markdown",
      "metadata": {
        "id": "2b0es7VLvgAM"
      },
      "source": [
        "Remember that in week 1 we had generated open-loop commands for a set of manoeuvres such as\n",
        "$[(\"straight\", 5), (\"right\", 90), (\"straight\", 6), (\"left\", 90)]$\n",
        "\n",
        "Let us do repeat, but with a change. Instead of left/ right, simply use turn and a signed angle.\n",
        "$[(\"straight\", 5), (\"turn\", -90), (\"straight\", 6), (\"turn\", 90)]$\n",
        "\n",
        "You can use cubic_spiral() from previous notebook"
      ]
    },
    {
      "cell_type": "code",
      "metadata": {
        "id": "bhkPFx35vgAO"
      },
      "source": [
        "v = 1\n",
        "dt = 0.1\n",
        "num_st_pts = int(v/dt)\n",
        "num_pts = 50\n",
        "\n",
        "def cubic_spiral(theta_i, theta_f, n=10):\n",
        "    x = np.linspace(0, 1, num=n)\n",
        "    #-2*x**3 + 3*x**2\n",
        "    return (theta_f-theta_i)*(-2*x**3 + 3*x**2) + theta_i\n",
        "    \n",
        "def straight(dist, curr_pose, n=num_st_pts):\n",
        "    # the straight-line may be along x or y axis\n",
        "    #curr_theta will determine the orientation\n",
        "    x0, y0, t0 = curr_pose\n",
        "    xf, yf = x0 + dist*np.cos(t0), y0 + dist*np.sin(t0)\n",
        "    x = (xf - x0) * np.linspace(0, 1, n) + x0\n",
        "    y = (yf - y0) * np.linspace(0, 1, n) + y0\n",
        "    return x, y, t0*np.ones_like(x)\n",
        "\n",
        "def turn(change, curr_pose, n=num_pts):\n",
        "    # adjust scaling constant for desired turn radius\n",
        "     x0, y0, t0 = curr_pose\n",
        "     theta = cubic_spiral(t0, t0 + np.deg2rad(change), n)\n",
        "     x= x0 + np.cumsum(v*np.cos(theta)*dt)\n",
        "     y= y0 + np.cumsum(v*np.sin(theta)*dt)\n",
        "     return x, y, theta\n",
        "\n",
        "def generate_trajectory(route, init_pose = (0, 0,np.pi/2)):\n",
        "    curr_pose = init_pose\n",
        "    func = {'straight': straight, 'turn': turn}\n",
        "    x, y, t = np.array([]), np.array([]),np.array([])\n",
        "    for manoeuvre, command in route:\n",
        "        px, py, pt = func[manoeuvre](command, curr_pose)\n",
        "        curr_pose = px[-1],py[-1],pt[-1]\n",
        "        x = np.concatenate([x, px])\n",
        "        y = np.concatenate([y, py])\n",
        "        t = np.concatenate([t, pt])\n",
        "        \n",
        "    return x, y, t"
      ],
      "execution_count": 2,
      "outputs": []
    },
    {
      "cell_type": "markdown",
      "metadata": {
        "id": "re-EN4-IvgAP"
      },
      "source": [
        "### Plot the trajectory\n",
        "plot the trajectory and the change in orientation in separate plots"
      ]
    },
    {
      "cell_type": "code",
      "metadata": {
        "colab": {
          "base_uri": "https://localhost:8080/",
          "height": 265
        },
        "id": "jnhR2RXmvgAP",
        "outputId": "eb2e7d9d-bb4b-4e55-ebc8-bde220973dc1"
      },
      "source": [
        "route = [(\"straight\", 5),(\"turn\", -90),(\"straight\", 6),(\"turn\", 90)]\n",
        "x, y, _ = generate_trajectory(route)\n",
        "plt.figure()\n",
        "plt.plot(x, y)\n",
        "plt.grid()"
      ],
      "execution_count": 3,
      "outputs": [
        {
          "output_type": "display_data",
          "data": {
            "image/png": "[encoded data removed]",
            "text/plain": [
              "<Figure size 432x288 with 1 Axes>"
            ]
          },
          "metadata": {
            "tags": [],
            "needs_background": "light"
          }
        }
      ]
    },
    {
      "cell_type": "markdown",
      "metadata": {
        "id": "th3IYgg-vgAP"
      },
      "source": [
        "## Convert \n",
        "\n",
        "A* or Djikstra gives a sequence of $\\{(x_i, y_i)\\}$. We need to convert it to a sequence of {\"straight\", \"turn\"} if we are use generate_trajectory()\n",
        "\n",
        "Let us look at a simple method. Assume that the successive line segments are orthogonal (reasonable in the grid world). If we find the corner point, we can demarcate. \n",
        "\n",
        "For 3 consecutive points $(x_1,y_1), (x_2, y_2), (x_3, y_3)$ if \n",
        "$(x_1 - x_2)(y_3-y2) - (x_3-x_2)(y_2-y_1) \\neq 0$, then $(x_2, y_2)$ is a corner point\n",
        "\n",
        "Think about what is happening if\n",
        "\n",
        "1. $(x_1 - x_2)(y_3-y2) - (x_3-x_2)(y_2-y_1) > 0$\n",
        "\n",
        "2. $(x_1 - x_2)(y_3-y2) - (x_3-x_2)(y_2-y_1) < 0$"
      ]
    },
    {
      "cell_type": "code",
      "metadata": {
        "colab": {
          "base_uri": "https://localhost:8080/",
          "height": 265
        },
        "id": "q4MEijvIvgAQ",
        "outputId": "8a7a0253-bf11-40e8-ac1a-4da95cd6e59b"
      },
      "source": [
        "# here is a code to generate 2 orthogonal \n",
        "# line segments of lengths 6\n",
        "\n",
        "s1, s2 = 6, 6\n",
        "y1 = list(range(s1))\n",
        "x1 = [0]*s1\n",
        "\n",
        "x2 = list(range(s2))\n",
        "y2 = [y1[-1]]*s2\n",
        "\n",
        "x, y = x1[:-1]+x2, y1[:-1]+y2\n",
        "plt.figure()\n",
        "plt.plot(x, y)\n",
        "plt.grid()\n",
        "\n",
        "#find the corner point and plot it\n",
        "corners = []\n",
        "for x1,x2,x3, y1,y2,y3 in zip(x[:-2],x[1:-1],x[2:],y[:-2],y[1:-1],y[2:]):\n",
        "  slope = (x2-x1)*(y3-y2) - (x3-x2)*(y2-y1)\n",
        "  if np.abs(slope) > 0.0:\n",
        "    corners.append([x2, y2])\n",
        "\n",
        "# Fix a turn radius r\n",
        "# Shorten the straight segments by r\n",
        "# convert this into {(\"straight\", s1), (\"turn\", +/- 90), (\"straight\", s2)}\n",
        "\n",
        "\n",
        "# use generate_trajectory() and plot the smooth path"
      ],
      "execution_count": 4,
      "outputs": [
        {
          "output_type": "display_data",
          "data": {
            "image/png": "[encoded data removed]",
            "text/plain": [
              "<Figure size 432x288 with 1 Axes>"
            ]
          },
          "metadata": {
            "tags": [],
            "needs_background": "light"
          }
        }
      ]
    },
    {
      "cell_type": "markdown",
      "metadata": {
        "id": "taT38XfcvgAU"
      },
      "source": [
        "# More complex example\n",
        "Borrow the Grid world code from week 2 notebook. Get the A* path and smoothen it using the routine from above"
      ]
    },
    {
      "cell_type": "code",
      "metadata": {
        "id": "4s1VvNw-vgAV"
      },
      "source": [
        ""
      ],
      "execution_count": null,
      "outputs": []
    },
    {
      "cell_type": "markdown",
      "metadata": {
        "id": "biZObANsvgAV"
      },
      "source": [
        "This approach of path planning with 90 deg turns juxtaposed between straight segments works well in structured environments.\n",
        "\n",
        "In the general case, where $A^*$/ $RRT^*$ path is a sequence of piecewise linear segments, we will perform a path optimization routine directly. "
      ]
    },
    {
      "cell_type": "markdown",
      "metadata": {
        "id": "9fRQo6TOvgAV"
      },
      "source": [
        "There are 3 more advanced manouevres that you may need\n",
        "\n",
        "1. Lane-change: Robot has to move laterally but without change to the orientation\n",
        "\n",
        "2. Inplace: Robot has to turn around itself\n",
        "    \n",
        "3. Reverse: Straights or turns in reverse\n",
        "\n",
        "Lane-change has to be applied as a combination of 2 cubic spirals (90 to 0 and 0 to 90). Inplace and Reverse are situational constructs"
      ]
    },
    {
      "cell_type": "code",
      "metadata": {
        "id": "Ujw-WlgpvgAW"
      },
      "source": [
        ""
      ],
      "execution_count": null,
      "outputs": []
    }
  ]
}