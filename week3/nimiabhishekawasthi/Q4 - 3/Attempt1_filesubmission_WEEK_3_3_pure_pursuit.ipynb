{
  "nbformat": 4,
  "nbformat_minor": 0,
  "metadata": {
    "kernelspec": {
      "display_name": "Python 3",
      "language": "python",
      "name": "python3"
    },
    "language_info": {
      "codemirror_mode": {
        "name": "ipython",
        "version": 3
      },
      "file_extension": ".py",
      "mimetype": "text/x-python",
      "name": "python",
      "nbconvert_exporter": "python",
      "pygments_lexer": "ipython3",
      "version": "3.9.1"
    },
    "varInspector": {
      "cols": {
        "lenName": 16,
        "lenType": 16,
        "lenVar": 40
      },
      "kernels_config": {
        "python": {
          "delete_cmd_postfix": "",
          "delete_cmd_prefix": "del ",
          "library": "var_list.py",
          "varRefreshCmd": "print(var_dic_list())"
        },
        "r": {
          "delete_cmd_postfix": ") ",
          "delete_cmd_prefix": "rm(",
          "library": "var_list.r",
          "varRefreshCmd": "cat(var_dic_list()) "
        }
      },
      "types_to_exclude": [
        "module",
        "function",
        "builtin_function_or_method",
        "instance",
        "_Feature"
      ],
      "window_display": false
    },
    "colab": {
      "name": "WEEK_3_3_pure_pursuit.ipynb",
      "provenance": [],
      "collapsed_sections": []
    }
  },
  "cells": [
    {
      "cell_type": "code",
      "metadata": {
        "id": "ERkiDH6e_eBw"
      },
      "source": [
        "import numpy as np\n",
        "import matplotlib.pyplot as plt\n",
        "%matplotlib inline"
      ],
      "execution_count": 1,
      "outputs": []
    },
    {
      "cell_type": "markdown",
      "metadata": {
        "id": "Ape2N37c_eB5"
      },
      "source": [
        "#Configurable parameters for pure pursuit\n",
        "+ How fast do you want the robot to move? It is fixed at $v_{max}$ in this exercise\n",
        "+ When can we declare the goal has been reached?\n",
        "+ What is the lookahead distance? Determines the next position on the reference path that we want the vehicle to catch up to"
      ]
    },
    {
      "cell_type": "code",
      "metadata": {
        "id": "8hdNqaq5_eB6"
      },
      "source": [
        "vmax = 0.75\n",
        "goal_threshold = 0.05\n",
        "lookahead = 3.0"
      ],
      "execution_count": 2,
      "outputs": []
    },
    {
      "cell_type": "code",
      "metadata": {
        "id": "1_c-3UrQ_eB7"
      },
      "source": [
        "#You know what to do!\n",
        "def simulate_unicycle(pose, v,w, dt=0.1):\n",
        "    x, y, t = pose\n",
        "    return x + v*np.cos(t)*dt, y + v*np.sin(t)*dt, t+w*dt"
      ],
      "execution_count": 3,
      "outputs": []
    },
    {
      "cell_type": "code",
      "metadata": {
        "id": "9KcX7hvy_eB_"
      },
      "source": [
        "class PurePursuitTracker(object):\n",
        "    def __init__(self, x, y, v, lookahead = 3.0):\n",
        "        \"\"\"\n",
        "        Tracks the path defined by x, y at velocity v\n",
        "        x and y must be numpy arrays\n",
        "        v and lookahead are floats \n",
        "        \"\"\"\n",
        "        self.length = len(x)\n",
        "        self.ref_idx = 0 #index on the path that tracker is to track\n",
        "        self.lookahead = lookahead\n",
        "        self.x, self.y = x, y\n",
        "        self.v, self.w = v, 0\n",
        "\n",
        "    def update(self, xc, yc, theta):\n",
        "        \"\"\"\n",
        "        Input: xc, yc, theta - current pose of the robot\n",
        "        Update v, w based on current pose\n",
        "        Returns True if trajectory is over.\n",
        "        \"\"\"\n",
        "        \n",
        "        #Calculate ref_x, ref_y using current ref_idx\n",
        "        #Check if we reached the end of path, then return TRUE\n",
        "        #Two conditions must satisfy\n",
        "        #1. ref_idx exceeds length of traj\n",
        "        #2. ref_x, ref_y must be within goal_threshold\n",
        "        # Write your code to check end condition\n",
        "        ref_x, ref_y = self.x[self.ref_idx], self.y[self.ref_idx]\n",
        "        goal_x, goal_y = self.x[-1], self.y[-1]\n",
        "        if (self.ref_idx < self.length) and (np.linalg.norm([ref_x-goal_x, ref_y-goal_y])) < goal_threshold:\n",
        "          return True\n",
        "        \n",
        "        #End of path has not been reached\n",
        "        #update ref_idx using np.hypot([ref_x-xc, ref_y-yc]) < lookahead\n",
        "        if ref_x-xc < lookahead and ref_y-yc < lookahead :\n",
        "          self.ref_idx +=1\n",
        "\n",
        "        #Find the anchor point\n",
        "        # this is the line we drew between (0, 0) and (x, y)\n",
        "        anchor = np.asarray([ref_x - xc, ref_y - yc])\n",
        "        #Remember right now this is drawn from current robot pose\n",
        "        #we have to rotate the anchor to (0, 0, pi/2)\n",
        "        #code is given below for this\n",
        "        theta = np.pi/2 - theta\n",
        "        rot = np.asarray([[np.cos(theta), -np.sin(theta)], [np.sin(theta), np.cos(theta)]])\n",
        "        anchor = np.dot(rot, anchor)\n",
        "        \n",
        "        L = (anchor[0] ** 2 + anchor[1] **2) # dist to reference path\n",
        "        L=np.sqrt(L)\n",
        "        X = anchor[0] #cross-track error\n",
        "        #from the derivation in notes, plug in the formula for omega\n",
        "        self.w =-(2 * vmax / (L ** 2) * X)\n",
        "        \n",
        "        return False"
      ],
      "execution_count": 12,
      "outputs": []
    },
    {
      "cell_type": "markdown",
      "metadata": {
        "id": "FVrXDc0P_eCG"
      },
      "source": [
        "## Visualize given trajectory"
      ]
    },
    {
      "cell_type": "code",
      "metadata": {
        "id": "C25clGoP_eCH"
      },
      "source": [
        "x = np.arange(0, 50, 0.5)\n",
        "y = [np.sin(idx / 5.0) * idx / 2.0 for idx in x]\n",
        "\n",
        "#write code here\n"
      ],
      "execution_count": 5,
      "outputs": []
    },
    {
      "cell_type": "markdown",
      "metadata": {
        "id": "RhQp2T_5_eCO"
      },
      "source": [
        "## Run the tracker simulation\n",
        "\n",
        "1. Instantiate the tracker class\n",
        "2. Initialize some starting pose\n",
        "3. Simulate robot motion 1 step at a time - get $v$, $\\omega$ from tracker, predict new pose using $v$, $\\omega$, current pose in simulate_unicycle()\n",
        "4. Stop simulation if tracker declares that end-of-path is reached\n",
        "5. Record all parameters"
      ]
    },
    {
      "cell_type": "code",
      "metadata": {
        "scrolled": true,
        "id": "Y8zYqHoN_eCR",
        "colab": {
          "base_uri": "https://localhost:8080/"
        },
        "outputId": "ee0efcf7-1637-4b4d-9e0f-e3068f328d8b"
      },
      "source": [
        "#write code to instantiate the tracker class\n",
        "tracker = PurePursuitTracker(x,y,vmax) \n",
        "pose = -1, 0, np.pi/2 #arbitrary initial pose\n",
        "x0,y0,t0 = pose # record it for plotting\n",
        "traj =[]\n",
        "while True:\n",
        "    #write the usual code to obtain successive poses\n",
        "    pose = simulate_unicycle(pose, tracker.v, tracker.w)\n",
        "    if tracker.update(*pose):\n",
        "      print(\"ARRIVED!!\")    \n",
        "      break\n",
        "    traj.append([*pose, tracker.w, tracker.ref_idx])"
      ],
      "execution_count": 13,
      "outputs": [
        {
          "output_type": "stream",
          "text": [
            "ARRIVED!!\n"
          ],
          "name": "stdout"
        }
      ]
    },
    {
      "cell_type": "code",
      "metadata": {
        "id": "W_EqSwFA_eCT",
        "colab": {
          "base_uri": "https://localhost:8080/",
          "height": 281
        },
        "outputId": "ed75aabc-d15b-422f-9eed-3af61e14c660"
      },
      "source": [
        "xs,ys,ts,ws,ids = zip(*traj)\n",
        "plt.figure()\n",
        "plt.plot(x,y,label='Reference')\n",
        "plt.quiver(x0,y0, np.cos(t0), np.sin(t0),scale=12)\n",
        "plt.plot(xs,ys,label='Tracked')\n",
        "x0,y0,t0 = pose\n",
        "plt.quiver(x0,y0, np.cos(t0), np.sin(t0),scale=12)\n",
        "plt.title('Pure Pursuit trajectory')\n",
        "plt.legend()\n",
        "plt.grid()"
      ],
      "execution_count": 8,
      "outputs": [
        {
          "output_type": "display_data",
          "data": {
            "image/png": "[encoded data removed]",
            "text/plain": [
              "<Figure size 432x288 with 1 Axes>"
            ]
          },
          "metadata": {
            "tags": [],
            "needs_background": "light"
          }
        }
      ]
    },
    {
      "cell_type": "markdown",
      "metadata": {
        "id": "83EpTQ8__eCU"
      },
      "source": [
        "# Visualize curvature"
      ]
    },
    {
      "cell_type": "code",
      "metadata": {
        "id": "Aq_XlJb0_eCU",
        "colab": {
          "base_uri": "https://localhost:8080/",
          "height": 281
        },
        "outputId": "55c9ab51-bf0f-47ca-be32-b3e844d9a493"
      },
      "source": [
        "plt.figure()\n",
        "plt.title('Curvature')\n",
        "plt.plot(np.abs(ws))\n",
        "plt.grid()\n"
      ],
      "execution_count": 9,
      "outputs": [
        {
          "output_type": "display_data",
          "data": {
            "image/png": "[encoded data removed]",
            "text/plain": [
              "<Figure size 432x288 with 1 Axes>"
            ]
          },
          "metadata": {
            "tags": [],
            "needs_background": "light"
          }
        }
      ]
    },
    {
      "cell_type": "markdown",
      "metadata": {
        "id": "jSyGQqis_eCi"
      },
      "source": [
        "## Animate\n",
        "\n",
        "Make a video to plot the current pose of the robot and reference pose it is trying to track. You can use funcAnimation in matplotlib"
      ]
    },
    {
      "cell_type": "code",
      "metadata": {
        "id": "-fipXxl9_eCz"
      },
      "source": [
        ""
      ],
      "execution_count": null,
      "outputs": []
    },
    {
      "cell_type": "markdown",
      "metadata": {
        "id": "ZbAL4kgD_eCz"
      },
      "source": [
        "## Effect of noise in simulations\n",
        "\n",
        "What happens if you add a bit of Gaussian noise to the simulate_unicycle() output? Is the tracker still robust?\n",
        "\n",
        "The noise signifies that $v$, $\\omega$ commands did not get realized exactly\n"
      ]
    },
    {
      "cell_type": "code",
      "metadata": {
        "id": "55nw7s1r_eC0"
      },
      "source": [
        ""
      ],
      "execution_count": null,
      "outputs": []
    }
  ]
}